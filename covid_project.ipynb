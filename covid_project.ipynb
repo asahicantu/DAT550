{
 "cells": [
  {
   "cell_type": "markdown",
   "metadata": {},
   "source": [
    "# 1.- Package installation"
   ]
  },
  {
   "cell_type": "code",
   "execution_count": null,
   "metadata": {},
   "outputs": [
    {
     "name": "stdout",
     "output_type": "stream",
     "text": [
      "Requirement already satisfied: pyarrow in c:\\python\\382\\lib\\site-packages (0.16.0)\n",
      "Requirement already satisfied: numpy>=1.14 in c:\\python\\382\\lib\\site-packages (from pyarrow) (1.18.1)\n",
      "Requirement already satisfied: six>=1.0.0 in c:\\python\\382\\lib\\site-packages (from pyarrow) (1.12.0)\n",
      "Requirement already satisfied: numpy in c:\\python\\382\\lib\\site-packages (1.18.1)\n",
      "Requirement already satisfied: pandas in c:\\python\\382\\lib\\site-packages (1.0.1)\n",
      "Requirement already satisfied: numpy>=1.13.3 in c:\\python\\382\\lib\\site-packages (from pandas) (1.18.1)\n",
      "Requirement already satisfied: pytz>=2017.2 in c:\\python\\382\\lib\\site-packages (from pandas) (2019.3)\n",
      "Requirement already satisfied: python-dateutil>=2.6.1 in c:\\python\\382\\lib\\site-packages (from pandas) (2.8.1)\n",
      "Requirement already satisfied: six>=1.5 in c:\\python\\382\\lib\\site-packages (from python-dateutil>=2.6.1->pandas) (1.12.0)\n"
     ]
    }
   ],
   "source": [
    "!pip install pyarrow\n",
    "!pip install numpy\n",
    "!pip install pandas\n",
    "!pip install json\n",
    "!pip install tqdm"
   ]
  },
  {
   "cell_type": "code",
   "execution_count": 448,
   "metadata": {},
   "outputs": [
    {
     "name": "stderr",
     "output_type": "stream",
     "text": [
      "c:\\python\\382\\lib\\site-packages\\tqdm\\std.py:658: FutureWarning:\n",
      "\n",
      "The Panel class is removed from pandas. Accessing it from the top-level namespace will also be removed in the next version\n",
      "\n"
     ]
    }
   ],
   "source": [
    "import numpy as np\n",
    "import pandas as pd\n",
    "import json \n",
    "import multiprocessing as mp\n",
    "from tqdm.notebook import tqdm\n",
    "import matplotlib.pyplot as plt\n",
    "import os\n",
    "import pickle\n",
    "import re\n",
    "tqdm.pandas()\n",
    "# Input data files are available in the \"../input/\" directory.\n",
    "# For example, running this (by clicking run or pressing Shift+Enter) will list all files under the input directory\n",
    "\n",
    "\n",
    "#for dirname, _, filenames in os.walk('/kaggle/input'):\n",
    "#    for filename in filenames:\n",
    "#        print(os.path.join(dirname, filename))\n",
    "\n",
    "# Any results you write to the current directory are saved as output.\n",
    "\n"
   ]
  },
  {
   "cell_type": "code",
   "execution_count": 3,
   "metadata": {},
   "outputs": [],
   "source": [
    "from IPython.core.interactiveshell import InteractiveShell\n",
    "InteractiveShell.ast_node_interactivity = \"all\""
   ]
  },
  {
   "cell_type": "code",
   "execution_count": 4,
   "metadata": {},
   "outputs": [],
   "source": [
    "class Stats:\n",
    "    def __init__(self,elapsed_time=0, items=0):\n",
    "        self.elapsed_time = elapsed_time\n",
    "        self.items= items\n",
    "        \n",
    "    def add(self,stats):\n",
    "        self.elapsed_time += stats.elapsed_time\n",
    "        self.items= +stats.items\n",
    "        \n",
    "    def to_string(self):\n",
    "        return f'Elapsed time: {self.elapsed_time} - Items:{self.items}'\n",
    "    \n",
    "    def __str__(self):\n",
    "        return self.to_string()\n",
    "        \n",
    "    def __repr__(self):\n",
    "         return self.to_string()\n",
    "            \n",
    "    def __add__(self, o): \n",
    "        et = self.elapsed_time + o.elapsed_time\n",
    "        it = self.items + o.items\n",
    "        return Stats(et,it) \n",
    "    \n",
    "    def __iadd__(self, o): \n",
    "        self.elapsed_time += o.elapsed_time\n",
    "        self.items += o.items\n",
    "        return self\n",
    "    \n",
    "        \n",
    "def load_json_files(documents,directory_name):\n",
    "    articles = {}\n",
    "    \n",
    "    articlenames = os.listdir(directory_name)\n",
    "    pbar = tqdm(articlenames)\n",
    "    pbar.set_description(f'Loading files from {directory_name}')\n",
    "    for articlename in pbar:\n",
    "        article_path = os.path.join(directory_name,articlename)\n",
    "        if os.path.isdir(article_path):\n",
    "            load_json_files(documents,article_path)\n",
    "            continue\n",
    "            \n",
    "        filename = os.path.basename(articlename)\n",
    "        filename = os.path.splitext(filename)[0]\n",
    "        if filename not in documents:\n",
    "            continue\n",
    "            \n",
    "        article = json.load(open(article_path, 'rb'))\n",
    "        articles[filename] = article\n",
    "        \n",
    "    elapsed_time = pbar.format_dict['elapsed']\n",
    "    items = pbar.format_dict['total']\n",
    "    stats = Stats(elapsed_time,items)\n",
    "    return stats, articles\n",
    "\n",
    "def try_get_val(dictionary,dict_key):\n",
    "    if dict_key in dictionary:\n",
    "        return dictionary[dict_key]\n",
    "    return None\n",
    "\n",
    "def parse_collection(val):\n",
    "    if val is not None:\n",
    "        t_val = type(val)\n",
    "        if t_val == tuple or  t_val == list:\n",
    "            return ' '.join(val)\n",
    "    return val\n",
    "\n",
    "def load_json_article(article):\n",
    "    paper_id = try_get_val(article,'paper_id')\n",
    "    metadata = try_get_val(article,'metadata')\n",
    "    title = try_get_val(article,'title')\n",
    "    #source = article[\"source\"]\n",
    "    \n",
    "    authors = []\n",
    "    art_metadata = article['metadata']\n",
    "    if 'authors' in art_metadata:\n",
    "        for author in art_metadata['authors']:\n",
    "            auth = {\n",
    "            'paper_id' : paper_id,\n",
    "            'full_name': '',\n",
    "            'first' : author['first'],\n",
    "            'middle': ' '.join(author['middle']),\n",
    "            'last' : author['last'],\n",
    "            'email' : author ['email'],\n",
    "            'laboratory' : None,\n",
    "            'institution' : None,\n",
    "            'settlement' : None,\n",
    "            'region' : None,\n",
    "            'country' : None,\n",
    "            'postCode' : None,\n",
    "            }\n",
    "            \n",
    "            if 'affiliation' in author:\n",
    "                afiliation = author['affiliation']\n",
    "                auth['laboratory'] =  try_get_val(afiliation,'laboratory')\n",
    "                auth['institution'] =  try_get_val(afiliation,'institution')\n",
    "                if 'location' in  afiliation:\n",
    "                    location = afiliation['location']\n",
    "                    auth['settlement'] =  try_get_val(location,'settlement')\n",
    "                    auth['region'] = try_get_val(location,'region')\n",
    "                    auth['country'] = try_get_val(location,'country')\n",
    "                    auth['postCode'] = try_get_val(location,'postCode')\n",
    "            auth['full_name'] = auth['first'] + ' ' + auth['middle'] + ' ' + auth['last']\n",
    "            \n",
    "            authors.append(auth)\n",
    "\n",
    "    body = []\n",
    "    abstracts = []\n",
    "    if 'body_text' in article:\n",
    "        for bod in article[\"body_text\"]:\n",
    "            body.append(bod[\"text\"])\n",
    "\n",
    "    if 'abstract' in article:\n",
    "        abstracts = [a['text'] for a in article[\"abstract\"]]\n",
    "\n",
    "    #\"source\" : source,\n",
    "    art = {\n",
    "        \"paper_id\" : paper_id,\n",
    "        \"title\" : title,\n",
    "        \"abstract\" : ' '.join(abstracts) ,\n",
    "        \"body\" : ' '.join(body)\n",
    "        \n",
    "    }\n",
    "    return art, authors \n",
    "    \n",
    "\n",
    "def write_pickle(obj,file_name):\n",
    "    file = open(file_name,'wb')\n",
    "    pickle.dump(obj,file)\n",
    "    file.close()\n",
    "    \n",
    "def read_pickle(file_name):\n",
    "    obj = None\n",
    "    if os.path.isfile(file_name):\n",
    "        file = open(file_name,'rb')\n",
    "        obj = pickle.load(file)\n",
    "        file.close()\n",
    "    return obj"
   ]
  },
  {
   "cell_type": "code",
   "execution_count": 5,
   "metadata": {},
   "outputs": [],
   "source": [
    "path = '..\\\\CORD-19-research-challenge'\n",
    "data_dirs = [\n",
    "    'biorxiv_medrxiv\\\\biorxiv_medrxiv'\n",
    "    ,'comm_use_subset\\\\comm_use_subset'\n",
    "    ,'custom_license\\\\custom_license'\n",
    "    ,'noncomm_use_subset\\\\noncomm_use_subset'\n",
    "]\n",
    "metadata_file = 'metadata.csv'"
   ]
  },
  {
   "cell_type": "code",
   "execution_count": 6,
   "metadata": {},
   "outputs": [],
   "source": [
    "meta_df = pd.read_csv(os.path.join(path,metadata_file), dtype={\n",
    "    'pubmed_id': str,\n",
    "    'Microsoft Academic Paper ID': str, \n",
    "    'doi': str\n",
    "})\n",
    "\n",
    "meta_df = meta_df[meta_df['sha'].notna()]"
   ]
  },
  {
   "cell_type": "code",
   "execution_count": 7,
   "metadata": {},
   "outputs": [
    {
     "data": {
      "text/html": [
       "<div>\n",
       "<style scoped>\n",
       "    .dataframe tbody tr th:only-of-type {\n",
       "        vertical-align: middle;\n",
       "    }\n",
       "\n",
       "    .dataframe tbody tr th {\n",
       "        vertical-align: top;\n",
       "    }\n",
       "\n",
       "    .dataframe thead th {\n",
       "        text-align: right;\n",
       "    }\n",
       "</style>\n",
       "<table border=\"1\" class=\"dataframe\">\n",
       "  <thead>\n",
       "    <tr style=\"text-align: right;\">\n",
       "      <th></th>\n",
       "      <th>cord_uid</th>\n",
       "      <th>sha</th>\n",
       "      <th>source_x</th>\n",
       "      <th>title</th>\n",
       "      <th>doi</th>\n",
       "      <th>pmcid</th>\n",
       "      <th>pubmed_id</th>\n",
       "      <th>license</th>\n",
       "      <th>abstract</th>\n",
       "      <th>publish_time</th>\n",
       "      <th>authors</th>\n",
       "      <th>journal</th>\n",
       "      <th>Microsoft Academic Paper ID</th>\n",
       "      <th>WHO #Covidence</th>\n",
       "      <th>has_full_text</th>\n",
       "      <th>full_text_file</th>\n",
       "      <th>url</th>\n",
       "    </tr>\n",
       "  </thead>\n",
       "  <tbody>\n",
       "    <tr>\n",
       "      <th>count</th>\n",
       "      <td>31753</td>\n",
       "      <td>31753</td>\n",
       "      <td>31753</td>\n",
       "      <td>31718</td>\n",
       "      <td>31445</td>\n",
       "      <td>16637</td>\n",
       "      <td>24743</td>\n",
       "      <td>31753</td>\n",
       "      <td>27916</td>\n",
       "      <td>31753</td>\n",
       "      <td>31198</td>\n",
       "      <td>30632</td>\n",
       "      <td>357</td>\n",
       "      <td>491</td>\n",
       "      <td>31753</td>\n",
       "      <td>31753</td>\n",
       "      <td>31750</td>\n",
       "    </tr>\n",
       "    <tr>\n",
       "      <th>unique</th>\n",
       "      <td>31752</td>\n",
       "      <td>31744</td>\n",
       "      <td>5</td>\n",
       "      <td>31479</td>\n",
       "      <td>31444</td>\n",
       "      <td>16637</td>\n",
       "      <td>24743</td>\n",
       "      <td>13</td>\n",
       "      <td>27832</td>\n",
       "      <td>5376</td>\n",
       "      <td>30310</td>\n",
       "      <td>4089</td>\n",
       "      <td>302</td>\n",
       "      <td>491</td>\n",
       "      <td>1</td>\n",
       "      <td>4</td>\n",
       "      <td>31749</td>\n",
       "    </tr>\n",
       "    <tr>\n",
       "      <th>top</th>\n",
       "      <td>c4u0gxp5</td>\n",
       "      <td>4644c32551fb23aa873a7738ecc8d777bd49877e</td>\n",
       "      <td>Elsevier</td>\n",
       "      <td>Commentary</td>\n",
       "      <td>10.1097/jcma.0000000000000270</td>\n",
       "      <td>PMC6710369</td>\n",
       "      <td>17706258</td>\n",
       "      <td>els-covid</td>\n",
       "      <td>Unknown</td>\n",
       "      <td>2016-12-31</td>\n",
       "      <td>Domingo, Esteban</td>\n",
       "      <td>PLoS One</td>\n",
       "      <td>3006645647</td>\n",
       "      <td>#7235</td>\n",
       "      <td>True</td>\n",
       "      <td>custom_license</td>\n",
       "      <td>https://doi.org/10.1097/jcma.0000000000000270</td>\n",
       "    </tr>\n",
       "    <tr>\n",
       "      <th>freq</th>\n",
       "      <td>2</td>\n",
       "      <td>4</td>\n",
       "      <td>15517</td>\n",
       "      <td>6</td>\n",
       "      <td>2</td>\n",
       "      <td>1</td>\n",
       "      <td>1</td>\n",
       "      <td>15517</td>\n",
       "      <td>60</td>\n",
       "      <td>261</td>\n",
       "      <td>14</td>\n",
       "      <td>1561</td>\n",
       "      <td>9</td>\n",
       "      <td>1</td>\n",
       "      <td>31753</td>\n",
       "      <td>19816</td>\n",
       "      <td>2</td>\n",
       "    </tr>\n",
       "  </tbody>\n",
       "</table>\n",
       "</div>"
      ],
      "text/plain": [
       "        cord_uid                                       sha  source_x  \\\n",
       "count      31753                                     31753     31753   \n",
       "unique     31752                                     31744         5   \n",
       "top     c4u0gxp5  4644c32551fb23aa873a7738ecc8d777bd49877e  Elsevier   \n",
       "freq           2                                         4     15517   \n",
       "\n",
       "             title                            doi       pmcid pubmed_id  \\\n",
       "count        31718                          31445       16637     24743   \n",
       "unique       31479                          31444       16637     24743   \n",
       "top     Commentary  10.1097/jcma.0000000000000270  PMC6710369  17706258   \n",
       "freq             6                              2           1         1   \n",
       "\n",
       "          license abstract publish_time           authors   journal  \\\n",
       "count       31753    27916        31753             31198     30632   \n",
       "unique         13    27832         5376             30310      4089   \n",
       "top     els-covid  Unknown   2016-12-31  Domingo, Esteban  PLoS One   \n",
       "freq        15517       60          261                14      1561   \n",
       "\n",
       "       Microsoft Academic Paper ID WHO #Covidence has_full_text  \\\n",
       "count                          357            491         31753   \n",
       "unique                         302            491             1   \n",
       "top                     3006645647          #7235          True   \n",
       "freq                             9              1         31753   \n",
       "\n",
       "        full_text_file                                            url  \n",
       "count            31753                                          31750  \n",
       "unique               4                                          31749  \n",
       "top     custom_license  https://doi.org/10.1097/jcma.0000000000000270  \n",
       "freq             19816                                              2  "
      ]
     },
     "execution_count": 7,
     "metadata": {},
     "output_type": "execute_result"
    }
   ],
   "source": [
    "meta_df.describe()"
   ]
  },
  {
   "cell_type": "code",
   "execution_count": 8,
   "metadata": {},
   "outputs": [
    {
     "name": "stdout",
     "output_type": "stream",
     "text": [
      "<class 'pandas.core.frame.DataFrame'>\n",
      "Int64Index: 31753 entries, 0 to 45773\n",
      "Data columns (total 17 columns):\n",
      " #   Column                       Non-Null Count  Dtype \n",
      "---  ------                       --------------  ----- \n",
      " 0   cord_uid                     31753 non-null  object\n",
      " 1   sha                          31753 non-null  object\n",
      " 2   source_x                     31753 non-null  object\n",
      " 3   title                        31718 non-null  object\n",
      " 4   doi                          31445 non-null  object\n",
      " 5   pmcid                        16637 non-null  object\n",
      " 6   pubmed_id                    24743 non-null  object\n",
      " 7   license                      31753 non-null  object\n",
      " 8   abstract                     27916 non-null  object\n",
      " 9   publish_time                 31753 non-null  object\n",
      " 10  authors                      31198 non-null  object\n",
      " 11  journal                      30632 non-null  object\n",
      " 12  Microsoft Academic Paper ID  357 non-null    object\n",
      " 13  WHO #Covidence               491 non-null    object\n",
      " 14  has_full_text                31753 non-null  bool  \n",
      " 15  full_text_file               31753 non-null  object\n",
      " 16  url                          31750 non-null  object\n",
      "dtypes: bool(1), object(16)\n",
      "memory usage: 4.1+ MB\n"
     ]
    }
   ],
   "source": [
    "meta_df.info()"
   ]
  },
  {
   "cell_type": "code",
   "execution_count": 9,
   "metadata": {},
   "outputs": [
    {
     "data": {
      "text/plain": [
       "count       27857\n",
       "unique      27832\n",
       "top       Unknown\n",
       "freq           20\n",
       "Name: abstract, dtype: object"
      ]
     },
     "execution_count": 9,
     "metadata": {},
     "output_type": "execute_result"
    }
   ],
   "source": [
    "meta_df.drop_duplicates(['abstract','authors'], inplace=True)\n",
    "meta_df['abstract'].describe(include='all')"
   ]
  },
  {
   "cell_type": "code",
   "execution_count": 10,
   "metadata": {},
   "outputs": [
    {
     "data": {
      "text/html": [
       "<div>\n",
       "<style scoped>\n",
       "    .dataframe tbody tr th:only-of-type {\n",
       "        vertical-align: middle;\n",
       "    }\n",
       "\n",
       "    .dataframe tbody tr th {\n",
       "        vertical-align: top;\n",
       "    }\n",
       "\n",
       "    .dataframe thead th {\n",
       "        text-align: right;\n",
       "    }\n",
       "</style>\n",
       "<table border=\"1\" class=\"dataframe\">\n",
       "  <thead>\n",
       "    <tr style=\"text-align: right;\">\n",
       "      <th></th>\n",
       "      <th>cord_uid</th>\n",
       "      <th>sha</th>\n",
       "      <th>source_x</th>\n",
       "      <th>title</th>\n",
       "      <th>doi</th>\n",
       "      <th>pmcid</th>\n",
       "      <th>pubmed_id</th>\n",
       "      <th>license</th>\n",
       "      <th>abstract</th>\n",
       "      <th>publish_time</th>\n",
       "      <th>authors</th>\n",
       "      <th>journal</th>\n",
       "      <th>Microsoft Academic Paper ID</th>\n",
       "      <th>WHO #Covidence</th>\n",
       "      <th>has_full_text</th>\n",
       "      <th>full_text_file</th>\n",
       "      <th>url</th>\n",
       "    </tr>\n",
       "  </thead>\n",
       "  <tbody>\n",
       "    <tr>\n",
       "      <th>count</th>\n",
       "      <td>31065</td>\n",
       "      <td>31065</td>\n",
       "      <td>31065</td>\n",
       "      <td>31063</td>\n",
       "      <td>30767</td>\n",
       "      <td>16548</td>\n",
       "      <td>24591</td>\n",
       "      <td>31065</td>\n",
       "      <td>27857</td>\n",
       "      <td>31065</td>\n",
       "      <td>30925</td>\n",
       "      <td>29945</td>\n",
       "      <td>351</td>\n",
       "      <td>483</td>\n",
       "      <td>31065</td>\n",
       "      <td>31065</td>\n",
       "      <td>31062</td>\n",
       "    </tr>\n",
       "    <tr>\n",
       "      <th>unique</th>\n",
       "      <td>31064</td>\n",
       "      <td>31057</td>\n",
       "      <td>5</td>\n",
       "      <td>30896</td>\n",
       "      <td>30766</td>\n",
       "      <td>16548</td>\n",
       "      <td>24591</td>\n",
       "      <td>13</td>\n",
       "      <td>27832</td>\n",
       "      <td>5356</td>\n",
       "      <td>30310</td>\n",
       "      <td>4035</td>\n",
       "      <td>297</td>\n",
       "      <td>483</td>\n",
       "      <td>1</td>\n",
       "      <td>4</td>\n",
       "      <td>31061</td>\n",
       "    </tr>\n",
       "    <tr>\n",
       "      <th>top</th>\n",
       "      <td>c4u0gxp5</td>\n",
       "      <td>4644c32551fb23aa873a7738ecc8d777bd49877e</td>\n",
       "      <td>PMC</td>\n",
       "      <td>Commentary</td>\n",
       "      <td>10.1097/jcma.0000000000000270</td>\n",
       "      <td>PMC6710369</td>\n",
       "      <td>17706258</td>\n",
       "      <td>els-covid</td>\n",
       "      <td>Unknown</td>\n",
       "      <td>2016-12-31</td>\n",
       "      <td>Domingo, Esteban</td>\n",
       "      <td>PLoS One</td>\n",
       "      <td>3006645647</td>\n",
       "      <td>#7235</td>\n",
       "      <td>True</td>\n",
       "      <td>custom_license</td>\n",
       "      <td>https://doi.org/10.1097/jcma.0000000000000270</td>\n",
       "    </tr>\n",
       "    <tr>\n",
       "      <th>freq</th>\n",
       "      <td>2</td>\n",
       "      <td>4</td>\n",
       "      <td>14958</td>\n",
       "      <td>6</td>\n",
       "      <td>2</td>\n",
       "      <td>1</td>\n",
       "      <td>1</td>\n",
       "      <td>14904</td>\n",
       "      <td>20</td>\n",
       "      <td>244</td>\n",
       "      <td>14</td>\n",
       "      <td>1561</td>\n",
       "      <td>9</td>\n",
       "      <td>1</td>\n",
       "      <td>31065</td>\n",
       "      <td>19170</td>\n",
       "      <td>2</td>\n",
       "    </tr>\n",
       "  </tbody>\n",
       "</table>\n",
       "</div>"
      ],
      "text/plain": [
       "        cord_uid                                       sha source_x  \\\n",
       "count      31065                                     31065    31065   \n",
       "unique     31064                                     31057        5   \n",
       "top     c4u0gxp5  4644c32551fb23aa873a7738ecc8d777bd49877e      PMC   \n",
       "freq           2                                         4    14958   \n",
       "\n",
       "             title                            doi       pmcid pubmed_id  \\\n",
       "count        31063                          30767       16548     24591   \n",
       "unique       30896                          30766       16548     24591   \n",
       "top     Commentary  10.1097/jcma.0000000000000270  PMC6710369  17706258   \n",
       "freq             6                              2           1         1   \n",
       "\n",
       "          license abstract publish_time           authors   journal  \\\n",
       "count       31065    27857        31065             30925     29945   \n",
       "unique         13    27832         5356             30310      4035   \n",
       "top     els-covid  Unknown   2016-12-31  Domingo, Esteban  PLoS One   \n",
       "freq        14904       20          244                14      1561   \n",
       "\n",
       "       Microsoft Academic Paper ID WHO #Covidence has_full_text  \\\n",
       "count                          351            483         31065   \n",
       "unique                         297            483             1   \n",
       "top                     3006645647          #7235          True   \n",
       "freq                             9              1         31065   \n",
       "\n",
       "        full_text_file                                            url  \n",
       "count            31065                                          31062  \n",
       "unique               4                                          31061  \n",
       "top     custom_license  https://doi.org/10.1097/jcma.0000000000000270  \n",
       "freq             19170                                              2  "
      ]
     },
     "execution_count": 10,
     "metadata": {},
     "output_type": "execute_result"
    }
   ],
   "source": [
    "meta_df.describe()"
   ]
  },
  {
   "cell_type": "code",
   "execution_count": 11,
   "metadata": {},
   "outputs": [
    {
     "data": {
      "text/html": [
       "<div>\n",
       "<style scoped>\n",
       "    .dataframe tbody tr th:only-of-type {\n",
       "        vertical-align: middle;\n",
       "    }\n",
       "\n",
       "    .dataframe tbody tr th {\n",
       "        vertical-align: top;\n",
       "    }\n",
       "\n",
       "    .dataframe thead th {\n",
       "        text-align: right;\n",
       "    }\n",
       "</style>\n",
       "<table border=\"1\" class=\"dataframe\">\n",
       "  <thead>\n",
       "    <tr style=\"text-align: right;\">\n",
       "      <th></th>\n",
       "      <th>cord_uid</th>\n",
       "      <th>sha</th>\n",
       "      <th>source_x</th>\n",
       "      <th>title</th>\n",
       "      <th>doi</th>\n",
       "      <th>pmcid</th>\n",
       "      <th>pubmed_id</th>\n",
       "      <th>license</th>\n",
       "      <th>abstract</th>\n",
       "      <th>publish_time</th>\n",
       "      <th>authors</th>\n",
       "      <th>journal</th>\n",
       "      <th>Microsoft Academic Paper ID</th>\n",
       "      <th>WHO #Covidence</th>\n",
       "      <th>has_full_text</th>\n",
       "      <th>full_text_file</th>\n",
       "      <th>url</th>\n",
       "    </tr>\n",
       "  </thead>\n",
       "  <tbody>\n",
       "    <tr>\n",
       "      <th>0</th>\n",
       "      <td>vho70jcx</td>\n",
       "      <td>f056da9c64fbf00a4645ae326e8a4339d015d155</td>\n",
       "      <td>biorxiv</td>\n",
       "      <td>SIANN: Strain Identification by Alignment to N...</td>\n",
       "      <td>10.1101/001727</td>\n",
       "      <td>NaN</td>\n",
       "      <td>NaN</td>\n",
       "      <td>biorxiv</td>\n",
       "      <td>Next-generation sequencing is increasingly bei...</td>\n",
       "      <td>2014-01-10</td>\n",
       "      <td>Samuel Minot; Stephen D Turner; Krista L Ternu...</td>\n",
       "      <td>NaN</td>\n",
       "      <td>NaN</td>\n",
       "      <td>NaN</td>\n",
       "      <td>True</td>\n",
       "      <td>biorxiv_medrxiv</td>\n",
       "      <td>https://doi.org/10.1101/001727</td>\n",
       "    </tr>\n",
       "    <tr>\n",
       "      <th>1</th>\n",
       "      <td>i9tbix2v</td>\n",
       "      <td>daf32e013d325a6feb80e83d15aabc64a48fae33</td>\n",
       "      <td>biorxiv</td>\n",
       "      <td>Spatial epidemiology of networked metapopulati...</td>\n",
       "      <td>10.1101/003889</td>\n",
       "      <td>NaN</td>\n",
       "      <td>NaN</td>\n",
       "      <td>biorxiv</td>\n",
       "      <td>An emerging disease is one infectious epidemic...</td>\n",
       "      <td>2014-06-04</td>\n",
       "      <td>Lin WANG; Xiang Li</td>\n",
       "      <td>NaN</td>\n",
       "      <td>NaN</td>\n",
       "      <td>NaN</td>\n",
       "      <td>True</td>\n",
       "      <td>biorxiv_medrxiv</td>\n",
       "      <td>https://doi.org/10.1101/003889</td>\n",
       "    </tr>\n",
       "    <tr>\n",
       "      <th>2</th>\n",
       "      <td>62gfisc6</td>\n",
       "      <td>f33c6d94b0efaa198f8f3f20e644625fa3fe10d2</td>\n",
       "      <td>biorxiv</td>\n",
       "      <td>Sequencing of the human IG light chain loci fr...</td>\n",
       "      <td>10.1101/006866</td>\n",
       "      <td>NaN</td>\n",
       "      <td>NaN</td>\n",
       "      <td>biorxiv</td>\n",
       "      <td>Germline variation at immunoglobulin gene (IG)...</td>\n",
       "      <td>2014-07-03</td>\n",
       "      <td>Corey T Watson; Karyn Meltz Steinberg; Tina A ...</td>\n",
       "      <td>NaN</td>\n",
       "      <td>NaN</td>\n",
       "      <td>NaN</td>\n",
       "      <td>True</td>\n",
       "      <td>biorxiv_medrxiv</td>\n",
       "      <td>https://doi.org/10.1101/006866</td>\n",
       "    </tr>\n",
       "    <tr>\n",
       "      <th>3</th>\n",
       "      <td>058r9486</td>\n",
       "      <td>4da8a87e614373d56070ed272487451266dce919</td>\n",
       "      <td>biorxiv</td>\n",
       "      <td>Bayesian mixture analysis for metagenomic comm...</td>\n",
       "      <td>10.1101/007476</td>\n",
       "      <td>NaN</td>\n",
       "      <td>NaN</td>\n",
       "      <td>biorxiv</td>\n",
       "      <td>Deep sequencing of clinical samples is now an ...</td>\n",
       "      <td>2014-07-25</td>\n",
       "      <td>Sofia Morfopoulou; Vincent Plagnol</td>\n",
       "      <td>NaN</td>\n",
       "      <td>NaN</td>\n",
       "      <td>NaN</td>\n",
       "      <td>True</td>\n",
       "      <td>biorxiv_medrxiv</td>\n",
       "      <td>https://doi.org/10.1101/007476</td>\n",
       "    </tr>\n",
       "    <tr>\n",
       "      <th>4</th>\n",
       "      <td>wich35l7</td>\n",
       "      <td>eccef80cfbe078235df22398f195d5db462d8000</td>\n",
       "      <td>biorxiv</td>\n",
       "      <td>Mapping a viral phylogeny onto outbreak trees ...</td>\n",
       "      <td>10.1101/010389</td>\n",
       "      <td>NaN</td>\n",
       "      <td>NaN</td>\n",
       "      <td>biorxiv</td>\n",
       "      <td>Developing methods to reconstruct transmission...</td>\n",
       "      <td>2014-11-11</td>\n",
       "      <td>Stephen P Velsko; Jonathan E Allen</td>\n",
       "      <td>NaN</td>\n",
       "      <td>NaN</td>\n",
       "      <td>NaN</td>\n",
       "      <td>True</td>\n",
       "      <td>biorxiv_medrxiv</td>\n",
       "      <td>https://doi.org/10.1101/010389</td>\n",
       "    </tr>\n",
       "    <tr>\n",
       "      <th>...</th>\n",
       "      <td>...</td>\n",
       "      <td>...</td>\n",
       "      <td>...</td>\n",
       "      <td>...</td>\n",
       "      <td>...</td>\n",
       "      <td>...</td>\n",
       "      <td>...</td>\n",
       "      <td>...</td>\n",
       "      <td>...</td>\n",
       "      <td>...</td>\n",
       "      <td>...</td>\n",
       "      <td>...</td>\n",
       "      <td>...</td>\n",
       "      <td>...</td>\n",
       "      <td>...</td>\n",
       "      <td>...</td>\n",
       "      <td>...</td>\n",
       "    </tr>\n",
       "    <tr>\n",
       "      <th>45767</th>\n",
       "      <td>b7e9grj0</td>\n",
       "      <td>889ba9338ea71cd42c3bc675db30a1928d487f43; d38e...</td>\n",
       "      <td>Elsevier</td>\n",
       "      <td>Relative immunogenicity and protection potenti...</td>\n",
       "      <td>10.1016/j.vaccine.2008.01.024</td>\n",
       "      <td>PMC2288748</td>\n",
       "      <td>18291562</td>\n",
       "      <td>els-covid</td>\n",
       "      <td>Summary Yersinia Pestis outer proteins, plasmi...</td>\n",
       "      <td>2008-03-20</td>\n",
       "      <td>Wang, Shixia; Joshi, Swati; Mboudjeka, Innocen...</td>\n",
       "      <td>Vaccine</td>\n",
       "      <td>NaN</td>\n",
       "      <td>NaN</td>\n",
       "      <td>True</td>\n",
       "      <td>custom_license</td>\n",
       "      <td>https://doi.org/10.1016/j.vaccine.2008.01.024</td>\n",
       "    </tr>\n",
       "    <tr>\n",
       "      <th>45768</th>\n",
       "      <td>6b1y7yxg</td>\n",
       "      <td>f81692543d3e35858911cea48c298bfa23b20bc6</td>\n",
       "      <td>Elsevier</td>\n",
       "      <td>Quality of life and psychological status in su...</td>\n",
       "      <td>10.1016/j.jpsychores.2005.08.020</td>\n",
       "      <td>PMC7094294</td>\n",
       "      <td>16650592</td>\n",
       "      <td>els-covid</td>\n",
       "      <td>Abstract Background Little is known about the ...</td>\n",
       "      <td>2006-05-31</td>\n",
       "      <td>Kwek, Seow-Khee; Chew, Wuen-Ming; Ong, Kian-Ch...</td>\n",
       "      <td>Journal of Psychosomatic Research</td>\n",
       "      <td>NaN</td>\n",
       "      <td>NaN</td>\n",
       "      <td>True</td>\n",
       "      <td>custom_license</td>\n",
       "      <td>https://doi.org/10.1016/j.jpsychores.2005.08.020</td>\n",
       "    </tr>\n",
       "    <tr>\n",
       "      <th>45769</th>\n",
       "      <td>4360s2yu</td>\n",
       "      <td>289deae0b2050aa259a05ba84565a4df82fa099a</td>\n",
       "      <td>Elsevier</td>\n",
       "      <td>Personal Protective Equipment: Protecting Heal...</td>\n",
       "      <td>10.1016/j.clinthera.2015.07.007</td>\n",
       "      <td>PMC4661082</td>\n",
       "      <td>26452427</td>\n",
       "      <td>els-covid</td>\n",
       "      <td>Abstract Purpose The recent Ebola epidemic tha...</td>\n",
       "      <td>2015-11-01</td>\n",
       "      <td>Fischer, William A.; Weber, David J.; Wohl, Da...</td>\n",
       "      <td>Clinical Therapeutics</td>\n",
       "      <td>NaN</td>\n",
       "      <td>NaN</td>\n",
       "      <td>True</td>\n",
       "      <td>custom_license</td>\n",
       "      <td>https://doi.org/10.1016/j.clinthera.2015.07.007</td>\n",
       "    </tr>\n",
       "    <tr>\n",
       "      <th>45770</th>\n",
       "      <td>66jumbir</td>\n",
       "      <td>21a4369f83891bf6975dd916c0aa495d5df8709e</td>\n",
       "      <td>Elsevier</td>\n",
       "      <td>Viruses and asthma</td>\n",
       "      <td>10.1016/j.bbagen.2011.01.012</td>\n",
       "      <td>PMC3130828</td>\n",
       "      <td>21291960</td>\n",
       "      <td>els-covid</td>\n",
       "      <td>Abstract Background Viral respiratory infectio...</td>\n",
       "      <td>2011-11-30</td>\n",
       "      <td>Dulek, Daniel E.; Peebles, R. Stokes</td>\n",
       "      <td>Biochimica et Biophysica Acta (BBA) - General ...</td>\n",
       "      <td>NaN</td>\n",
       "      <td>NaN</td>\n",
       "      <td>True</td>\n",
       "      <td>custom_license</td>\n",
       "      <td>https://doi.org/10.1016/j.bbagen.2011.01.012</td>\n",
       "    </tr>\n",
       "    <tr>\n",
       "      <th>45773</th>\n",
       "      <td>28vx9w58</td>\n",
       "      <td>3369a14e1d116943f48b3a33597796c9802de279; f523...</td>\n",
       "      <td>PMC</td>\n",
       "      <td>Searching for animal models and potential targ...</td>\n",
       "      <td>10.1016/j.onehlt.2017.03.001</td>\n",
       "      <td>PMC5454147</td>\n",
       "      <td>28616501</td>\n",
       "      <td>cc-by-nc-nd</td>\n",
       "      <td>Emerging and re-emerging pathogens represent a...</td>\n",
       "      <td>2017-03-03</td>\n",
       "      <td>Vergara-Alert, Júlia; Vidal, Enric; Bensaid, A...</td>\n",
       "      <td>One Health</td>\n",
       "      <td>NaN</td>\n",
       "      <td>NaN</td>\n",
       "      <td>True</td>\n",
       "      <td>noncomm_use_subset</td>\n",
       "      <td>https://www.ncbi.nlm.nih.gov/pmc/articles/PMC5...</td>\n",
       "    </tr>\n",
       "  </tbody>\n",
       "</table>\n",
       "<p>31065 rows × 17 columns</p>\n",
       "</div>"
      ],
      "text/plain": [
       "       cord_uid                                                sha  source_x  \\\n",
       "0      vho70jcx           f056da9c64fbf00a4645ae326e8a4339d015d155   biorxiv   \n",
       "1      i9tbix2v           daf32e013d325a6feb80e83d15aabc64a48fae33   biorxiv   \n",
       "2      62gfisc6           f33c6d94b0efaa198f8f3f20e644625fa3fe10d2   biorxiv   \n",
       "3      058r9486           4da8a87e614373d56070ed272487451266dce919   biorxiv   \n",
       "4      wich35l7           eccef80cfbe078235df22398f195d5db462d8000   biorxiv   \n",
       "...         ...                                                ...       ...   \n",
       "45767  b7e9grj0  889ba9338ea71cd42c3bc675db30a1928d487f43; d38e...  Elsevier   \n",
       "45768  6b1y7yxg           f81692543d3e35858911cea48c298bfa23b20bc6  Elsevier   \n",
       "45769  4360s2yu           289deae0b2050aa259a05ba84565a4df82fa099a  Elsevier   \n",
       "45770  66jumbir           21a4369f83891bf6975dd916c0aa495d5df8709e  Elsevier   \n",
       "45773  28vx9w58  3369a14e1d116943f48b3a33597796c9802de279; f523...       PMC   \n",
       "\n",
       "                                                   title  \\\n",
       "0      SIANN: Strain Identification by Alignment to N...   \n",
       "1      Spatial epidemiology of networked metapopulati...   \n",
       "2      Sequencing of the human IG light chain loci fr...   \n",
       "3      Bayesian mixture analysis for metagenomic comm...   \n",
       "4      Mapping a viral phylogeny onto outbreak trees ...   \n",
       "...                                                  ...   \n",
       "45767  Relative immunogenicity and protection potenti...   \n",
       "45768  Quality of life and psychological status in su...   \n",
       "45769  Personal Protective Equipment: Protecting Heal...   \n",
       "45770                                 Viruses and asthma   \n",
       "45773  Searching for animal models and potential targ...   \n",
       "\n",
       "                                    doi       pmcid pubmed_id      license  \\\n",
       "0                        10.1101/001727         NaN       NaN      biorxiv   \n",
       "1                        10.1101/003889         NaN       NaN      biorxiv   \n",
       "2                        10.1101/006866         NaN       NaN      biorxiv   \n",
       "3                        10.1101/007476         NaN       NaN      biorxiv   \n",
       "4                        10.1101/010389         NaN       NaN      biorxiv   \n",
       "...                                 ...         ...       ...          ...   \n",
       "45767     10.1016/j.vaccine.2008.01.024  PMC2288748  18291562    els-covid   \n",
       "45768  10.1016/j.jpsychores.2005.08.020  PMC7094294  16650592    els-covid   \n",
       "45769   10.1016/j.clinthera.2015.07.007  PMC4661082  26452427    els-covid   \n",
       "45770      10.1016/j.bbagen.2011.01.012  PMC3130828  21291960    els-covid   \n",
       "45773      10.1016/j.onehlt.2017.03.001  PMC5454147  28616501  cc-by-nc-nd   \n",
       "\n",
       "                                                abstract publish_time  \\\n",
       "0      Next-generation sequencing is increasingly bei...   2014-01-10   \n",
       "1      An emerging disease is one infectious epidemic...   2014-06-04   \n",
       "2      Germline variation at immunoglobulin gene (IG)...   2014-07-03   \n",
       "3      Deep sequencing of clinical samples is now an ...   2014-07-25   \n",
       "4      Developing methods to reconstruct transmission...   2014-11-11   \n",
       "...                                                  ...          ...   \n",
       "45767  Summary Yersinia Pestis outer proteins, plasmi...   2008-03-20   \n",
       "45768  Abstract Background Little is known about the ...   2006-05-31   \n",
       "45769  Abstract Purpose The recent Ebola epidemic tha...   2015-11-01   \n",
       "45770  Abstract Background Viral respiratory infectio...   2011-11-30   \n",
       "45773  Emerging and re-emerging pathogens represent a...   2017-03-03   \n",
       "\n",
       "                                                 authors  \\\n",
       "0      Samuel Minot; Stephen D Turner; Krista L Ternu...   \n",
       "1                                     Lin WANG; Xiang Li   \n",
       "2      Corey T Watson; Karyn Meltz Steinberg; Tina A ...   \n",
       "3                     Sofia Morfopoulou; Vincent Plagnol   \n",
       "4                     Stephen P Velsko; Jonathan E Allen   \n",
       "...                                                  ...   \n",
       "45767  Wang, Shixia; Joshi, Swati; Mboudjeka, Innocen...   \n",
       "45768  Kwek, Seow-Khee; Chew, Wuen-Ming; Ong, Kian-Ch...   \n",
       "45769  Fischer, William A.; Weber, David J.; Wohl, Da...   \n",
       "45770               Dulek, Daniel E.; Peebles, R. Stokes   \n",
       "45773  Vergara-Alert, Júlia; Vidal, Enric; Bensaid, A...   \n",
       "\n",
       "                                                 journal  \\\n",
       "0                                                    NaN   \n",
       "1                                                    NaN   \n",
       "2                                                    NaN   \n",
       "3                                                    NaN   \n",
       "4                                                    NaN   \n",
       "...                                                  ...   \n",
       "45767                                            Vaccine   \n",
       "45768                  Journal of Psychosomatic Research   \n",
       "45769                              Clinical Therapeutics   \n",
       "45770  Biochimica et Biophysica Acta (BBA) - General ...   \n",
       "45773                                         One Health   \n",
       "\n",
       "      Microsoft Academic Paper ID WHO #Covidence  has_full_text  \\\n",
       "0                             NaN            NaN           True   \n",
       "1                             NaN            NaN           True   \n",
       "2                             NaN            NaN           True   \n",
       "3                             NaN            NaN           True   \n",
       "4                             NaN            NaN           True   \n",
       "...                           ...            ...            ...   \n",
       "45767                         NaN            NaN           True   \n",
       "45768                         NaN            NaN           True   \n",
       "45769                         NaN            NaN           True   \n",
       "45770                         NaN            NaN           True   \n",
       "45773                         NaN            NaN           True   \n",
       "\n",
       "           full_text_file                                                url  \n",
       "0         biorxiv_medrxiv                     https://doi.org/10.1101/001727  \n",
       "1         biorxiv_medrxiv                     https://doi.org/10.1101/003889  \n",
       "2         biorxiv_medrxiv                     https://doi.org/10.1101/006866  \n",
       "3         biorxiv_medrxiv                     https://doi.org/10.1101/007476  \n",
       "4         biorxiv_medrxiv                     https://doi.org/10.1101/010389  \n",
       "...                   ...                                                ...  \n",
       "45767      custom_license      https://doi.org/10.1016/j.vaccine.2008.01.024  \n",
       "45768      custom_license   https://doi.org/10.1016/j.jpsychores.2005.08.020  \n",
       "45769      custom_license    https://doi.org/10.1016/j.clinthera.2015.07.007  \n",
       "45770      custom_license       https://doi.org/10.1016/j.bbagen.2011.01.012  \n",
       "45773  noncomm_use_subset  https://www.ncbi.nlm.nih.gov/pmc/articles/PMC5...  \n",
       "\n",
       "[31065 rows x 17 columns]"
      ]
     },
     "execution_count": 11,
     "metadata": {},
     "output_type": "execute_result"
    }
   ],
   "source": [
    "meta_df"
   ]
  },
  {
   "cell_type": "code",
   "execution_count": 12,
   "metadata": {},
   "outputs": [],
   "source": [
    "documents = meta_df.sha.to_list()\n",
    "docs = []\n",
    "for doc in documents:\n",
    "    splits = doc.split(';')\n",
    "    for split in splits:\n",
    "        docs.append(split.strip())"
   ]
  },
  {
   "cell_type": "code",
   "execution_count": 13,
   "metadata": {
    "scrolled": false
   },
   "outputs": [],
   "source": [
    "pickle_file_name = 'json_data.pickle'\n",
    "articles_set = read_pickle(pickle_file_name)\n",
    "#articles_set = None\n",
    "if articles_set is None:\n",
    "    articles_set = {}\n",
    "    stats = Stats()\n",
    "    documents = meta_df.sha.to_list()\n",
    "    for data_dir in data_dirs:\n",
    "        st , articles = load_json_files(docs,os.path.join(path,data_dir))\n",
    "        articles_set.update(articles) \n",
    "        stats += st\n",
    "    print('Writing Pickle....')\n",
    "    write_pickle(articles_set, pickle_file_name)\n"
   ]
  },
  {
   "cell_type": "markdown",
   "metadata": {},
   "source": [
    "### Try read parquet data for processed articles and authors, if not available will re-run the parsing process"
   ]
  },
  {
   "cell_type": "code",
   "execution_count": 14,
   "metadata": {
    "scrolled": false
   },
   "outputs": [],
   "source": [
    "def try_read_parquet(file_name):\n",
    "    if os.path.isfile(file_name):\n",
    "        return pd.read_parquet(file_name)\n",
    "    return None\n",
    "    \n",
    "authors_file = 'authors.parquet'\n",
    "articles_file = 'articles.parquet'\n",
    "\n",
    "authors = try_read_parquet(authors_file)\n",
    "articles = try_read_parquet(articles_file)\n",
    "if authors is None or articles is None:\n",
    "    authors = pd.DataFrame()\n",
    "    articles = pd.DataFrame()\n",
    "    for key in tqdm(articles_set):\n",
    "        article, auths = load_json_article(articles_set[key])\n",
    "        articles = articles.append(article,ignore_index=True)\n",
    "        authors= authors.append(pd.DataFrame(auths),ignore_index=True)\n",
    "    authors.to_parquet(authors_file)\n",
    "    articles.to_parquet(articles_file)\n",
    "        \n",
    "    "
   ]
  },
  {
   "cell_type": "markdown",
   "metadata": {},
   "source": [
    "#### Now process the authors so we habe better insights where the paper publications are comming from"
   ]
  },
  {
   "cell_type": "code",
   "execution_count": 75,
   "metadata": {},
   "outputs": [],
   "source": [
    "non_countries = {\n",
    "    'alabama':'US',\n",
    "    'belgique':'US',\n",
    "    'brasil':'BR',\n",
    "    'britis': 'GB',\n",
    "    'bosnia':'BA',\n",
    "    'britain':'GB',\n",
    "    'california':'US',\n",
    "    'cameroun':'CM',\n",
    "    'carolina':'US',\n",
    "    'czech':'CZ',\n",
    "    'china':'CN',\n",
    "    'england':'GB',\n",
    "    'espagne':'ES',\n",
    "    'f r g':'DE',\n",
    "    'frg': 'DE',\n",
    "    'german research':'DE',\n",
    "    'hawaii':'US',\n",
    "    'king saud':'SA',\n",
    "    'korea':'KR',\n",
    "    'ital':'IT',\n",
    "    'iowa':'US',\n",
    "    'espana':'ES',\n",
    "    'iran':'IR',\n",
    "    'iran article info':'IR',\n",
    "    'iran iran':'IR',\n",
    "    'kelantan':'MY',\n",
    "    'ljsa':'GB',\n",
    "    'macedonia':'MK',\n",
    "    'maryland':'US',\n",
    "    'missouri':'US',\n",
    "    'nether':'NL',\n",
    "    'oregon':'US',\n",
    "    'palestine':'PS',\n",
    "    'pennsylvania':'US',  \n",
    "    'pereda':'ES',\n",
    "    'pok':'PK',\n",
    "    'prc':'CN',\n",
    "    'roc': 'TW',\n",
    "    'rsa': 'ZA',\n",
    "    'reunion island':'FR',\n",
    "    'syria':'SY',\n",
    "    'scotland':'GB',\n",
    "    'slovak': 'SK',\n",
    "    'south dustralia':'AU',\n",
    "    'tehran iran':'IR',\n",
    "    'tunis':'TN',\n",
    "    'tx':'US',\n",
    "    'u k':'GB',\n",
    "    'u s a':'US',\n",
    "    'uae':'AE',\n",
    "    'uk':'GB',\n",
    "    'ulsan':'KR',\n",
    "    'united':'US',\n",
    "    'united  states':'US',\n",
    "    'united arab':'AE',\n",
    "    'united arab uae':'AE',\n",
    "    'unites states':'US',\n",
    "    'universitd debordeaux il':'FR',\n",
    "    'ucblecnrs':'FR',\n",
    "    'usa':'US',\n",
    "    'us':'US',\n",
    "    'ussr':'RU',\n",
    "    'umr':'US', #University of Minnesota\n",
    "    'ut':'US',\n",
    "    'utah':'US',\n",
    "    'wales uk':'GB',\n",
    "    'wpg uk': 'GB',\n",
    "    'xinjiang uyghur':'CN',\n",
    "    'aland islands':'FI'}"
   ]
  },
  {
   "cell_type": "code",
   "execution_count": 186,
   "metadata": {},
   "outputs": [],
   "source": [
    "import pycountry as pc\n",
    "countries  = list(pc.countries) # Get list of oficcial countries\n",
    "countries_dict = {c.alpha_2: c.common_name if hasattr(c,'common_name') else c.name for c in pc.countries }\n",
    "def  parse_countries(country, official_ctries,non_countries):\n",
    "    if country != None :\n",
    "        country = country.strip().lower()\n",
    "        country = pc.remove_accents(country) # Remove accesnts by finding the closest ASCII equivalent\n",
    "        country = re.sub(r'[0-9]+|\\.|;|\\(|\\)|\\+|\\?|,', '', country)\n",
    "        country = re.sub(r'\\s\\s+', ' ', country)\n",
    "        for cty in non_countries:\n",
    "            if cty in country:\n",
    "                a2 = non_countries[cty]\n",
    "                a3 = pc.countries.get(alpha_2=a2).alpha_3\n",
    "                return (a2,a3)\n",
    "        for oc in official_ctries:\n",
    "            oc_name = oc.name.lower()\n",
    "            oc_common_name = oc_name\n",
    "            if hasattr(oc,'common_name'):\n",
    "                oc_common_name =  oc.common_name.lower()\n",
    "            #country = country.capitalize().replace('.','')\n",
    "            if oc.name in country or \\\n",
    "                oc_common_name in country:\n",
    "                return (oc.alpha_2, oc.alpha_3)\n",
    "    return (country,None)"
   ]
  },
  {
   "cell_type": "code",
   "execution_count": 190,
   "metadata": {},
   "outputs": [],
   "source": [
    "authors_papers = authors[['paper_id','full_name']]\n",
    "authors_unique = authors.drop(columns=['paper_id'])\n",
    "authors_unique =  authors_unique.drop_duplicates()\n",
    "unique_countries = authors_unique.country.unique()\n",
    "\n",
    "unique_countries_dict = {x:parse_countries(x,countries,non_countries) for x in unique_countries }\n",
    "authors_unique['country_code_alpha2'] = authors_unique.country.progress_apply(lambda x: unique_countries_dict[x][0] if x != None else 'Unknown' )\n",
    "authors_unique['country_code_alpha3'] = authors_unique.country.progress_apply(lambda x: unique_countries_dict[x][1] if x != None else 'Unknown' )\n",
    "authors_unique['country'] = authors_unique['country_code_alpha2'].progress_apply(lambda x: countries_dict[x] if x in countries_dict  else x)\n",
    "unique_countries = authors_unique.country.unique()\n",
    "unique_countries.sort()"
   ]
  },
  {
   "cell_type": "code",
   "execution_count": 259,
   "metadata": {},
   "outputs": [],
   "source": [
    "by_country = authors_unique[['country','country_code_alpha3','country_code_alpha2','full_name']].groupby(['country','country_code_alpha3','country_code_alpha2'])\n",
    "by_country = by_country.count().reset_index()\n",
    "bc = by_country.sort_values('full_name', ascending=False)\n",
    "bc=bc.rename(columns={'full_name':'total_publications'})\n",
    "total_publications = bc.total_publications.sum()\n",
    "bc = bc[ (bc.country != 'Unknown')]\n",
    "pubs_by_country = bc.total_publications.sum()"
   ]
  },
  {
   "cell_type": "code",
   "execution_count": 229,
   "metadata": {},
   "outputs": [
    {
     "data": {
      "application/vnd.plotly.v1+json": {
       "config": {
        "plotlyServerURL": "https://plot.ly"
       },
       "data": [
        {
         "geo": "geo",
         "hovertemplate": "<b>%{hovertext}</b><br><br>country=United States<br>total_publications=%{marker.size}<br>country_code_alpha3=%{location}<extra></extra>",
         "hovertext": [
          "United States"
         ],
         "legendgroup": "United States",
         "locations": [
          "USA"
         ],
         "marker": {
          "color": "#636efa",
          "size": [
           26604
          ],
          "sizemode": "area",
          "sizeref": 66.51
         },
         "name": "United States",
         "showlegend": true,
         "type": "scattergeo"
        },
        {
         "geo": "geo",
         "hovertemplate": "<b>%{hovertext}</b><br><br>country=China<br>total_publications=%{marker.size}<br>country_code_alpha3=%{location}<extra></extra>",
         "hovertext": [
          "China"
         ],
         "legendgroup": "China",
         "locations": [
          "CHN"
         ],
         "marker": {
          "color": "#EF553B",
          "size": [
           21800
          ],
          "sizemode": "area",
          "sizeref": 66.51
         },
         "name": "China",
         "showlegend": true,
         "type": "scattergeo"
        },
        {
         "geo": "geo",
         "hovertemplate": "<b>%{hovertext}</b><br><br>country=France<br>total_publications=%{marker.size}<br>country_code_alpha3=%{location}<extra></extra>",
         "hovertext": [
          "France"
         ],
         "legendgroup": "France",
         "locations": [
          "FRA"
         ],
         "marker": {
          "color": "#00cc96",
          "size": [
           3777
          ],
          "sizemode": "area",
          "sizeref": 66.51
         },
         "name": "France",
         "showlegend": true,
         "type": "scattergeo"
        },
        {
         "geo": "geo",
         "hovertemplate": "<b>%{hovertext}</b><br><br>country=Japan<br>total_publications=%{marker.size}<br>country_code_alpha3=%{location}<extra></extra>",
         "hovertext": [
          "Japan"
         ],
         "legendgroup": "Japan",
         "locations": [
          "JPN"
         ],
         "marker": {
          "color": "#ab63fa",
          "size": [
           3709
          ],
          "sizemode": "area",
          "sizeref": 66.51
         },
         "name": "Japan",
         "showlegend": true,
         "type": "scattergeo"
        },
        {
         "geo": "geo",
         "hovertemplate": "<b>%{hovertext}</b><br><br>country=Canada<br>total_publications=%{marker.size}<br>country_code_alpha3=%{location}<extra></extra>",
         "hovertext": [
          "Canada"
         ],
         "legendgroup": "Canada",
         "locations": [
          "CAN"
         ],
         "marker": {
          "color": "#FFA15A",
          "size": [
           3690
          ],
          "sizemode": "area",
          "sizeref": 66.51
         },
         "name": "Canada",
         "showlegend": true,
         "type": "scattergeo"
        },
        {
         "geo": "geo",
         "hovertemplate": "<b>%{hovertext}</b><br><br>country=United Kingdom<br>total_publications=%{marker.size}<br>country_code_alpha3=%{location}<extra></extra>",
         "hovertext": [
          "United Kingdom"
         ],
         "legendgroup": "United Kingdom",
         "locations": [
          "GBR"
         ],
         "marker": {
          "color": "#19d3f3",
          "size": [
           3645
          ],
          "sizemode": "area",
          "sizeref": 66.51
         },
         "name": "United Kingdom",
         "showlegend": true,
         "type": "scattergeo"
        },
        {
         "geo": "geo",
         "hovertemplate": "<b>%{hovertext}</b><br><br>country=Korea, Republic of<br>total_publications=%{marker.size}<br>country_code_alpha3=%{location}<extra></extra>",
         "hovertext": [
          "Korea, Republic of"
         ],
         "legendgroup": "Korea, Republic of",
         "locations": [
          "KOR"
         ],
         "marker": {
          "color": "#FF6692",
          "size": [
           3254
          ],
          "sizemode": "area",
          "sizeref": 66.51
         },
         "name": "Korea, Republic of",
         "showlegend": true,
         "type": "scattergeo"
        },
        {
         "geo": "geo",
         "hovertemplate": "<b>%{hovertext}</b><br><br>country=Germany<br>total_publications=%{marker.size}<br>country_code_alpha3=%{location}<extra></extra>",
         "hovertext": [
          "Germany"
         ],
         "legendgroup": "Germany",
         "locations": [
          "DEU"
         ],
         "marker": {
          "color": "#B6E880",
          "size": [
           3208
          ],
          "sizemode": "area",
          "sizeref": 66.51
         },
         "name": "Germany",
         "showlegend": true,
         "type": "scattergeo"
        },
        {
         "geo": "geo",
         "hovertemplate": "<b>%{hovertext}</b><br><br>country=Taiwan<br>total_publications=%{marker.size}<br>country_code_alpha3=%{location}<extra></extra>",
         "hovertext": [
          "Taiwan"
         ],
         "legendgroup": "Taiwan",
         "locations": [
          "TWN"
         ],
         "marker": {
          "color": "#FF97FF",
          "size": [
           2727
          ],
          "sizemode": "area",
          "sizeref": 66.51
         },
         "name": "Taiwan",
         "showlegend": true,
         "type": "scattergeo"
        },
        {
         "geo": "geo",
         "hovertemplate": "<b>%{hovertext}</b><br><br>country=Italy<br>total_publications=%{marker.size}<br>country_code_alpha3=%{location}<extra></extra>",
         "hovertext": [
          "Italy"
         ],
         "legendgroup": "Italy",
         "locations": [
          "ITA"
         ],
         "marker": {
          "color": "#FECB52",
          "size": [
           2689
          ],
          "sizemode": "area",
          "sizeref": 66.51
         },
         "name": "Italy",
         "showlegend": true,
         "type": "scattergeo"
        },
        {
         "geo": "geo",
         "hovertemplate": "<b>%{hovertext}</b><br><br>country=Spain<br>total_publications=%{marker.size}<br>country_code_alpha3=%{location}<extra></extra>",
         "hovertext": [
          "Spain"
         ],
         "legendgroup": "Spain",
         "locations": [
          "ESP"
         ],
         "marker": {
          "color": "#636efa",
          "size": [
           2441
          ],
          "sizemode": "area",
          "sizeref": 66.51
         },
         "name": "Spain",
         "showlegend": true,
         "type": "scattergeo"
        },
        {
         "geo": "geo",
         "hovertemplate": "<b>%{hovertext}</b><br><br>country=Netherlands<br>total_publications=%{marker.size}<br>country_code_alpha3=%{location}<extra></extra>",
         "hovertext": [
          "Netherlands"
         ],
         "legendgroup": "Netherlands",
         "locations": [
          "NLD"
         ],
         "marker": {
          "color": "#EF553B",
          "size": [
           2372
          ],
          "sizemode": "area",
          "sizeref": 66.51
         },
         "name": "Netherlands",
         "showlegend": true,
         "type": "scattergeo"
        },
        {
         "geo": "geo",
         "hovertemplate": "<b>%{hovertext}</b><br><br>country=Brazil<br>total_publications=%{marker.size}<br>country_code_alpha3=%{location}<extra></extra>",
         "hovertext": [
          "Brazil"
         ],
         "legendgroup": "Brazil",
         "locations": [
          "BRA"
         ],
         "marker": {
          "color": "#00cc96",
          "size": [
           1690
          ],
          "sizemode": "area",
          "sizeref": 66.51
         },
         "name": "Brazil",
         "showlegend": true,
         "type": "scattergeo"
        },
        {
         "geo": "geo",
         "hovertemplate": "<b>%{hovertext}</b><br><br>country=India<br>total_publications=%{marker.size}<br>country_code_alpha3=%{location}<extra></extra>",
         "hovertext": [
          "India"
         ],
         "legendgroup": "India",
         "locations": [
          "IND"
         ],
         "marker": {
          "color": "#ab63fa",
          "size": [
           1324
          ],
          "sizemode": "area",
          "sizeref": 66.51
         },
         "name": "India",
         "showlegend": true,
         "type": "scattergeo"
        },
        {
         "geo": "geo",
         "hovertemplate": "<b>%{hovertext}</b><br><br>country=Switzerland<br>total_publications=%{marker.size}<br>country_code_alpha3=%{location}<extra></extra>",
         "hovertext": [
          "Switzerland"
         ],
         "legendgroup": "Switzerland",
         "locations": [
          "CHE"
         ],
         "marker": {
          "color": "#FFA15A",
          "size": [
           1181
          ],
          "sizemode": "area",
          "sizeref": 66.51
         },
         "name": "Switzerland",
         "showlegend": true,
         "type": "scattergeo"
        },
        {
         "geo": "geo",
         "hovertemplate": "<b>%{hovertext}</b><br><br>country=Belgium<br>total_publications=%{marker.size}<br>country_code_alpha3=%{location}<extra></extra>",
         "hovertext": [
          "Belgium"
         ],
         "legendgroup": "Belgium",
         "locations": [
          "BEL"
         ],
         "marker": {
          "color": "#19d3f3",
          "size": [
           1005
          ],
          "sizemode": "area",
          "sizeref": 66.51
         },
         "name": "Belgium",
         "showlegend": true,
         "type": "scattergeo"
        },
        {
         "geo": "geo",
         "hovertemplate": "<b>%{hovertext}</b><br><br>country=Singapore<br>total_publications=%{marker.size}<br>country_code_alpha3=%{location}<extra></extra>",
         "hovertext": [
          "Singapore"
         ],
         "legendgroup": "Singapore",
         "locations": [
          "SGP"
         ],
         "marker": {
          "color": "#FF6692",
          "size": [
           970
          ],
          "sizemode": "area",
          "sizeref": 66.51
         },
         "name": "Singapore",
         "showlegend": true,
         "type": "scattergeo"
        },
        {
         "geo": "geo",
         "hovertemplate": "<b>%{hovertext}</b><br><br>country=Sweden<br>total_publications=%{marker.size}<br>country_code_alpha3=%{location}<extra></extra>",
         "hovertext": [
          "Sweden"
         ],
         "legendgroup": "Sweden",
         "locations": [
          "SWE"
         ],
         "marker": {
          "color": "#B6E880",
          "size": [
           806
          ],
          "sizemode": "area",
          "sizeref": 66.51
         },
         "name": "Sweden",
         "showlegend": true,
         "type": "scattergeo"
        },
        {
         "geo": "geo",
         "hovertemplate": "<b>%{hovertext}</b><br><br>country=Saudi Arabia<br>total_publications=%{marker.size}<br>country_code_alpha3=%{location}<extra></extra>",
         "hovertext": [
          "Saudi Arabia"
         ],
         "legendgroup": "Saudi Arabia",
         "locations": [
          "SAU"
         ],
         "marker": {
          "color": "#FF97FF",
          "size": [
           655
          ],
          "sizemode": "area",
          "sizeref": 66.51
         },
         "name": "Saudi Arabia",
         "showlegend": true,
         "type": "scattergeo"
        },
        {
         "geo": "geo",
         "hovertemplate": "<b>%{hovertext}</b><br><br>country=Denmark<br>total_publications=%{marker.size}<br>country_code_alpha3=%{location}<extra></extra>",
         "hovertext": [
          "Denmark"
         ],
         "legendgroup": "Denmark",
         "locations": [
          "DNK"
         ],
         "marker": {
          "color": "#FECB52",
          "size": [
           564
          ],
          "sizemode": "area",
          "sizeref": 66.51
         },
         "name": "Denmark",
         "showlegend": true,
         "type": "scattergeo"
        },
        {
         "geo": "geo",
         "hovertemplate": "<b>%{hovertext}</b><br><br>country=Iran, Islamic Republic of<br>total_publications=%{marker.size}<br>country_code_alpha3=%{location}<extra></extra>",
         "hovertext": [
          "Iran, Islamic Republic of"
         ],
         "legendgroup": "Iran, Islamic Republic of",
         "locations": [
          "IRN"
         ],
         "marker": {
          "color": "#636efa",
          "size": [
           491
          ],
          "sizemode": "area",
          "sizeref": 66.51
         },
         "name": "Iran, Islamic Republic of",
         "showlegend": true,
         "type": "scattergeo"
        },
        {
         "geo": "geo",
         "hovertemplate": "<b>%{hovertext}</b><br><br>country=Finland<br>total_publications=%{marker.size}<br>country_code_alpha3=%{location}<extra></extra>",
         "hovertext": [
          "Finland"
         ],
         "legendgroup": "Finland",
         "locations": [
          "FIN"
         ],
         "marker": {
          "color": "#EF553B",
          "size": [
           464
          ],
          "sizemode": "area",
          "sizeref": 66.51
         },
         "name": "Finland",
         "showlegend": true,
         "type": "scattergeo"
        },
        {
         "geo": "geo",
         "hovertemplate": "<b>%{hovertext}</b><br><br>country=Thailand<br>total_publications=%{marker.size}<br>country_code_alpha3=%{location}<extra></extra>",
         "hovertext": [
          "Thailand"
         ],
         "legendgroup": "Thailand",
         "locations": [
          "THA"
         ],
         "marker": {
          "color": "#00cc96",
          "size": [
           436
          ],
          "sizemode": "area",
          "sizeref": 66.51
         },
         "name": "Thailand",
         "showlegend": true,
         "type": "scattergeo"
        },
        {
         "geo": "geo",
         "hovertemplate": "<b>%{hovertext}</b><br><br>country=Poland<br>total_publications=%{marker.size}<br>country_code_alpha3=%{location}<extra></extra>",
         "hovertext": [
          "Poland"
         ],
         "legendgroup": "Poland",
         "locations": [
          "POL"
         ],
         "marker": {
          "color": "#ab63fa",
          "size": [
           411
          ],
          "sizemode": "area",
          "sizeref": 66.51
         },
         "name": "Poland",
         "showlegend": true,
         "type": "scattergeo"
        },
        {
         "geo": "geo",
         "hovertemplate": "<b>%{hovertext}</b><br><br>country=Israel<br>total_publications=%{marker.size}<br>country_code_alpha3=%{location}<extra></extra>",
         "hovertext": [
          "Israel"
         ],
         "legendgroup": "Israel",
         "locations": [
          "ISR"
         ],
         "marker": {
          "color": "#FFA15A",
          "size": [
           373
          ],
          "sizemode": "area",
          "sizeref": 66.51
         },
         "name": "Israel",
         "showlegend": true,
         "type": "scattergeo"
        },
        {
         "geo": "geo",
         "hovertemplate": "<b>%{hovertext}</b><br><br>country=Malaysia<br>total_publications=%{marker.size}<br>country_code_alpha3=%{location}<extra></extra>",
         "hovertext": [
          "Malaysia"
         ],
         "legendgroup": "Malaysia",
         "locations": [
          "MYS"
         ],
         "marker": {
          "color": "#19d3f3",
          "size": [
           353
          ],
          "sizemode": "area",
          "sizeref": 66.51
         },
         "name": "Malaysia",
         "showlegend": true,
         "type": "scattergeo"
        },
        {
         "geo": "geo",
         "hovertemplate": "<b>%{hovertext}</b><br><br>country=Mexico<br>total_publications=%{marker.size}<br>country_code_alpha3=%{location}<extra></extra>",
         "hovertext": [
          "Mexico"
         ],
         "legendgroup": "Mexico",
         "locations": [
          "MEX"
         ],
         "marker": {
          "color": "#FF6692",
          "size": [
           336
          ],
          "sizemode": "area",
          "sizeref": 66.51
         },
         "name": "Mexico",
         "showlegend": true,
         "type": "scattergeo"
        },
        {
         "geo": "geo",
         "hovertemplate": "<b>%{hovertext}</b><br><br>country=Greece<br>total_publications=%{marker.size}<br>country_code_alpha3=%{location}<extra></extra>",
         "hovertext": [
          "Greece"
         ],
         "legendgroup": "Greece",
         "locations": [
          "GRC"
         ],
         "marker": {
          "color": "#B6E880",
          "size": [
           329
          ],
          "sizemode": "area",
          "sizeref": 66.51
         },
         "name": "Greece",
         "showlegend": true,
         "type": "scattergeo"
        },
        {
         "geo": "geo",
         "hovertemplate": "<b>%{hovertext}</b><br><br>country=Vietnam<br>total_publications=%{marker.size}<br>country_code_alpha3=%{location}<extra></extra>",
         "hovertext": [
          "Vietnam"
         ],
         "legendgroup": "Vietnam",
         "locations": [
          "VNM"
         ],
         "marker": {
          "color": "#FF97FF",
          "size": [
           315
          ],
          "sizemode": "area",
          "sizeref": 66.51
         },
         "name": "Vietnam",
         "showlegend": true,
         "type": "scattergeo"
        },
        {
         "geo": "geo",
         "hovertemplate": "<b>%{hovertext}</b><br><br>country=Argentina<br>total_publications=%{marker.size}<br>country_code_alpha3=%{location}<extra></extra>",
         "hovertext": [
          "Argentina"
         ],
         "legendgroup": "Argentina",
         "locations": [
          "ARG"
         ],
         "marker": {
          "color": "#FECB52",
          "size": [
           300
          ],
          "sizemode": "area",
          "sizeref": 66.51
         },
         "name": "Argentina",
         "showlegend": true,
         "type": "scattergeo"
        },
        {
         "geo": "geo",
         "hovertemplate": "<b>%{hovertext}</b><br><br>country=Turkey<br>total_publications=%{marker.size}<br>country_code_alpha3=%{location}<extra></extra>",
         "hovertext": [
          "Turkey"
         ],
         "legendgroup": "Turkey",
         "locations": [
          "TUR"
         ],
         "marker": {
          "color": "#636efa",
          "size": [
           296
          ],
          "sizemode": "area",
          "sizeref": 66.51
         },
         "name": "Turkey",
         "showlegend": true,
         "type": "scattergeo"
        },
        {
         "geo": "geo",
         "hovertemplate": "<b>%{hovertext}</b><br><br>country=Portugal<br>total_publications=%{marker.size}<br>country_code_alpha3=%{location}<extra></extra>",
         "hovertext": [
          "Portugal"
         ],
         "legendgroup": "Portugal",
         "locations": [
          "PRT"
         ],
         "marker": {
          "color": "#EF553B",
          "size": [
           295
          ],
          "sizemode": "area",
          "sizeref": 66.51
         },
         "name": "Portugal",
         "showlegend": true,
         "type": "scattergeo"
        },
        {
         "geo": "geo",
         "hovertemplate": "<b>%{hovertext}</b><br><br>country=Egypt<br>total_publications=%{marker.size}<br>country_code_alpha3=%{location}<extra></extra>",
         "hovertext": [
          "Egypt"
         ],
         "legendgroup": "Egypt",
         "locations": [
          "EGY"
         ],
         "marker": {
          "color": "#00cc96",
          "size": [
           266
          ],
          "sizemode": "area",
          "sizeref": 66.51
         },
         "name": "Egypt",
         "showlegend": true,
         "type": "scattergeo"
        },
        {
         "geo": "geo",
         "hovertemplate": "<b>%{hovertext}</b><br><br>country=Norway<br>total_publications=%{marker.size}<br>country_code_alpha3=%{location}<extra></extra>",
         "hovertext": [
          "Norway"
         ],
         "legendgroup": "Norway",
         "locations": [
          "NOR"
         ],
         "marker": {
          "color": "#ab63fa",
          "size": [
           237
          ],
          "sizemode": "area",
          "sizeref": 66.51
         },
         "name": "Norway",
         "showlegend": true,
         "type": "scattergeo"
        },
        {
         "geo": "geo",
         "hovertemplate": "<b>%{hovertext}</b><br><br>country=Ireland<br>total_publications=%{marker.size}<br>country_code_alpha3=%{location}<extra></extra>",
         "hovertext": [
          "Ireland"
         ],
         "legendgroup": "Ireland",
         "locations": [
          "IRL"
         ],
         "marker": {
          "color": "#FFA15A",
          "size": [
           200
          ],
          "sizemode": "area",
          "sizeref": 66.51
         },
         "name": "Ireland",
         "showlegend": true,
         "type": "scattergeo"
        },
        {
         "geo": "geo",
         "hovertemplate": "<b>%{hovertext}</b><br><br>country=New Zealand<br>total_publications=%{marker.size}<br>country_code_alpha3=%{location}<extra></extra>",
         "hovertext": [
          "New Zealand"
         ],
         "legendgroup": "New Zealand",
         "locations": [
          "NZL"
         ],
         "marker": {
          "color": "#19d3f3",
          "size": [
           191
          ],
          "sizemode": "area",
          "sizeref": 66.51
         },
         "name": "New Zealand",
         "showlegend": true,
         "type": "scattergeo"
        },
        {
         "geo": "geo",
         "hovertemplate": "<b>%{hovertext}</b><br><br>country=Hungary<br>total_publications=%{marker.size}<br>country_code_alpha3=%{location}<extra></extra>",
         "hovertext": [
          "Hungary"
         ],
         "legendgroup": "Hungary",
         "locations": [
          "HUN"
         ],
         "marker": {
          "color": "#FF6692",
          "size": [
           186
          ],
          "sizemode": "area",
          "sizeref": 66.51
         },
         "name": "Hungary",
         "showlegend": true,
         "type": "scattergeo"
        },
        {
         "geo": "geo",
         "hovertemplate": "<b>%{hovertext}</b><br><br>country=Georgia<br>total_publications=%{marker.size}<br>country_code_alpha3=%{location}<extra></extra>",
         "hovertext": [
          "Georgia"
         ],
         "legendgroup": "Georgia",
         "locations": [
          "GEO"
         ],
         "marker": {
          "color": "#B6E880",
          "size": [
           169
          ],
          "sizemode": "area",
          "sizeref": 66.51
         },
         "name": "Georgia",
         "showlegend": true,
         "type": "scattergeo"
        },
        {
         "geo": "geo",
         "hovertemplate": "<b>%{hovertext}</b><br><br>country=Chile<br>total_publications=%{marker.size}<br>country_code_alpha3=%{location}<extra></extra>",
         "hovertext": [
          "Chile"
         ],
         "legendgroup": "Chile",
         "locations": [
          "CHL"
         ],
         "marker": {
          "color": "#FF97FF",
          "size": [
           153
          ],
          "sizemode": "area",
          "sizeref": 66.51
         },
         "name": "Chile",
         "showlegend": true,
         "type": "scattergeo"
        },
        {
         "geo": "geo",
         "hovertemplate": "<b>%{hovertext}</b><br><br>country=Kenya<br>total_publications=%{marker.size}<br>country_code_alpha3=%{location}<extra></extra>",
         "hovertext": [
          "Kenya"
         ],
         "legendgroup": "Kenya",
         "locations": [
          "KEN"
         ],
         "marker": {
          "color": "#FECB52",
          "size": [
           145
          ],
          "sizemode": "area",
          "sizeref": 66.51
         },
         "name": "Kenya",
         "showlegend": true,
         "type": "scattergeo"
        },
        {
         "geo": "geo",
         "hovertemplate": "<b>%{hovertext}</b><br><br>country=Czechia<br>total_publications=%{marker.size}<br>country_code_alpha3=%{location}<extra></extra>",
         "hovertext": [
          "Czechia"
         ],
         "legendgroup": "Czechia",
         "locations": [
          "CZE"
         ],
         "marker": {
          "color": "#636efa",
          "size": [
           141
          ],
          "sizemode": "area",
          "sizeref": 66.51
         },
         "name": "Czechia",
         "showlegend": true,
         "type": "scattergeo"
        },
        {
         "geo": "geo",
         "hovertemplate": "<b>%{hovertext}</b><br><br>country=Oman<br>total_publications=%{marker.size}<br>country_code_alpha3=%{location}<extra></extra>",
         "hovertext": [
          "Oman"
         ],
         "legendgroup": "Oman",
         "locations": [
          "OMN"
         ],
         "marker": {
          "color": "#EF553B",
          "size": [
           121
          ],
          "sizemode": "area",
          "sizeref": 66.51
         },
         "name": "Oman",
         "showlegend": true,
         "type": "scattergeo"
        },
        {
         "geo": "geo",
         "hovertemplate": "<b>%{hovertext}</b><br><br>country=Colombia<br>total_publications=%{marker.size}<br>country_code_alpha3=%{location}<extra></extra>",
         "hovertext": [
          "Colombia"
         ],
         "legendgroup": "Colombia",
         "locations": [
          "COL"
         ],
         "marker": {
          "color": "#00cc96",
          "size": [
           116
          ],
          "sizemode": "area",
          "sizeref": 66.51
         },
         "name": "Colombia",
         "showlegend": true,
         "type": "scattergeo"
        },
        {
         "geo": "geo",
         "hovertemplate": "<b>%{hovertext}</b><br><br>country=Pakistan<br>total_publications=%{marker.size}<br>country_code_alpha3=%{location}<extra></extra>",
         "hovertext": [
          "Pakistan"
         ],
         "legendgroup": "Pakistan",
         "locations": [
          "PAK"
         ],
         "marker": {
          "color": "#ab63fa",
          "size": [
           111
          ],
          "sizemode": "area",
          "sizeref": 66.51
         },
         "name": "Pakistan",
         "showlegend": true,
         "type": "scattergeo"
        },
        {
         "geo": "geo",
         "hovertemplate": "<b>%{hovertext}</b><br><br>country=Ghana<br>total_publications=%{marker.size}<br>country_code_alpha3=%{location}<extra></extra>",
         "hovertext": [
          "Ghana"
         ],
         "legendgroup": "Ghana",
         "locations": [
          "GHA"
         ],
         "marker": {
          "color": "#FFA15A",
          "size": [
           110
          ],
          "sizemode": "area",
          "sizeref": 66.51
         },
         "name": "Ghana",
         "showlegend": true,
         "type": "scattergeo"
        },
        {
         "geo": "geo",
         "hovertemplate": "<b>%{hovertext}</b><br><br>country=Bangladesh<br>total_publications=%{marker.size}<br>country_code_alpha3=%{location}<extra></extra>",
         "hovertext": [
          "Bangladesh"
         ],
         "legendgroup": "Bangladesh",
         "locations": [
          "BGD"
         ],
         "marker": {
          "color": "#19d3f3",
          "size": [
           109
          ],
          "sizemode": "area",
          "sizeref": 66.51
         },
         "name": "Bangladesh",
         "showlegend": true,
         "type": "scattergeo"
        },
        {
         "geo": "geo",
         "hovertemplate": "<b>%{hovertext}</b><br><br>country=Niger<br>total_publications=%{marker.size}<br>country_code_alpha3=%{location}<extra></extra>",
         "hovertext": [
          "Niger"
         ],
         "legendgroup": "Niger",
         "locations": [
          "NER"
         ],
         "marker": {
          "color": "#FF6692",
          "size": [
           101
          ],
          "sizemode": "area",
          "sizeref": 66.51
         },
         "name": "Niger",
         "showlegend": true,
         "type": "scattergeo"
        },
        {
         "geo": "geo",
         "hovertemplate": "<b>%{hovertext}</b><br><br>country=Croatia<br>total_publications=%{marker.size}<br>country_code_alpha3=%{location}<extra></extra>",
         "hovertext": [
          "Croatia"
         ],
         "legendgroup": "Croatia",
         "locations": [
          "HRV"
         ],
         "marker": {
          "color": "#B6E880",
          "size": [
           88
          ],
          "sizemode": "area",
          "sizeref": 66.51
         },
         "name": "Croatia",
         "showlegend": true,
         "type": "scattergeo"
        },
        {
         "geo": "geo",
         "hovertemplate": "<b>%{hovertext}</b><br><br>country=Tunisia<br>total_publications=%{marker.size}<br>country_code_alpha3=%{location}<extra></extra>",
         "hovertext": [
          "Tunisia"
         ],
         "legendgroup": "Tunisia",
         "locations": [
          "TUN"
         ],
         "marker": {
          "color": "#FF97FF",
          "size": [
           84
          ],
          "sizemode": "area",
          "sizeref": 66.51
         },
         "name": "Tunisia",
         "showlegend": true,
         "type": "scattergeo"
        },
        {
         "geo": "geo",
         "hovertemplate": "<b>%{hovertext}</b><br><br>country=Slovenia<br>total_publications=%{marker.size}<br>country_code_alpha3=%{location}<extra></extra>",
         "hovertext": [
          "Slovenia"
         ],
         "legendgroup": "Slovenia",
         "locations": [
          "SVN"
         ],
         "marker": {
          "color": "#FECB52",
          "size": [
           80
          ],
          "sizemode": "area",
          "sizeref": 66.51
         },
         "name": "Slovenia",
         "showlegend": true,
         "type": "scattergeo"
        },
        {
         "geo": "geo",
         "hovertemplate": "<b>%{hovertext}</b><br><br>country=Cambodia<br>total_publications=%{marker.size}<br>country_code_alpha3=%{location}<extra></extra>",
         "hovertext": [
          "Cambodia"
         ],
         "legendgroup": "Cambodia",
         "locations": [
          "KHM"
         ],
         "marker": {
          "color": "#636efa",
          "size": [
           72
          ],
          "sizemode": "area",
          "sizeref": 66.51
         },
         "name": "Cambodia",
         "showlegend": true,
         "type": "scattergeo"
        },
        {
         "geo": "geo",
         "hovertemplate": "<b>%{hovertext}</b><br><br>country=Indonesia<br>total_publications=%{marker.size}<br>country_code_alpha3=%{location}<extra></extra>",
         "hovertext": [
          "Indonesia"
         ],
         "legendgroup": "Indonesia",
         "locations": [
          "IDN"
         ],
         "marker": {
          "color": "#EF553B",
          "size": [
           72
          ],
          "sizemode": "area",
          "sizeref": 66.51
         },
         "name": "Indonesia",
         "showlegend": true,
         "type": "scattergeo"
        },
        {
         "geo": "geo",
         "hovertemplate": "<b>%{hovertext}</b><br><br>country=Qatar<br>total_publications=%{marker.size}<br>country_code_alpha3=%{location}<extra></extra>",
         "hovertext": [
          "Qatar"
         ],
         "legendgroup": "Qatar",
         "locations": [
          "QAT"
         ],
         "marker": {
          "color": "#00cc96",
          "size": [
           71
          ],
          "sizemode": "area",
          "sizeref": 66.51
         },
         "name": "Qatar",
         "showlegend": true,
         "type": "scattergeo"
        },
        {
         "geo": "geo",
         "hovertemplate": "<b>%{hovertext}</b><br><br>country=Senegal<br>total_publications=%{marker.size}<br>country_code_alpha3=%{location}<extra></extra>",
         "hovertext": [
          "Senegal"
         ],
         "legendgroup": "Senegal",
         "locations": [
          "SEN"
         ],
         "marker": {
          "color": "#ab63fa",
          "size": [
           69
          ],
          "sizemode": "area",
          "sizeref": 66.51
         },
         "name": "Senegal",
         "showlegend": true,
         "type": "scattergeo"
        },
        {
         "geo": "geo",
         "hovertemplate": "<b>%{hovertext}</b><br><br>country=Uganda<br>total_publications=%{marker.size}<br>country_code_alpha3=%{location}<extra></extra>",
         "hovertext": [
          "Uganda"
         ],
         "legendgroup": "Uganda",
         "locations": [
          "UGA"
         ],
         "marker": {
          "color": "#FFA15A",
          "size": [
           59
          ],
          "sizemode": "area",
          "sizeref": 66.51
         },
         "name": "Uganda",
         "showlegend": true,
         "type": "scattergeo"
        },
        {
         "geo": "geo",
         "hovertemplate": "<b>%{hovertext}</b><br><br>country=Jordan<br>total_publications=%{marker.size}<br>country_code_alpha3=%{location}<extra></extra>",
         "hovertext": [
          "Jordan"
         ],
         "legendgroup": "Jordan",
         "locations": [
          "JOR"
         ],
         "marker": {
          "color": "#19d3f3",
          "size": [
           58
          ],
          "sizemode": "area",
          "sizeref": 66.51
         },
         "name": "Jordan",
         "showlegend": true,
         "type": "scattergeo"
        },
        {
         "geo": "geo",
         "hovertemplate": "<b>%{hovertext}</b><br><br>country=Gabon<br>total_publications=%{marker.size}<br>country_code_alpha3=%{location}<extra></extra>",
         "hovertext": [
          "Gabon"
         ],
         "legendgroup": "Gabon",
         "locations": [
          "GAB"
         ],
         "marker": {
          "color": "#FF6692",
          "size": [
           53
          ],
          "sizemode": "area",
          "sizeref": 66.51
         },
         "name": "Gabon",
         "showlegend": true,
         "type": "scattergeo"
        },
        {
         "geo": "geo",
         "hovertemplate": "<b>%{hovertext}</b><br><br>country=Peru<br>total_publications=%{marker.size}<br>country_code_alpha3=%{location}<extra></extra>",
         "hovertext": [
          "Peru"
         ],
         "legendgroup": "Peru",
         "locations": [
          "PER"
         ],
         "marker": {
          "color": "#B6E880",
          "size": [
           47
          ],
          "sizemode": "area",
          "sizeref": 66.51
         },
         "name": "Peru",
         "showlegend": true,
         "type": "scattergeo"
        },
        {
         "geo": "geo",
         "hovertemplate": "<b>%{hovertext}</b><br><br>country=Cameroon<br>total_publications=%{marker.size}<br>country_code_alpha3=%{location}<extra></extra>",
         "hovertext": [
          "Cameroon"
         ],
         "legendgroup": "Cameroon",
         "locations": [
          "CMR"
         ],
         "marker": {
          "color": "#FF97FF",
          "size": [
           47
          ],
          "sizemode": "area",
          "sizeref": 66.51
         },
         "name": "Cameroon",
         "showlegend": true,
         "type": "scattergeo"
        },
        {
         "geo": "geo",
         "hovertemplate": "<b>%{hovertext}</b><br><br>country=Madagascar<br>total_publications=%{marker.size}<br>country_code_alpha3=%{location}<extra></extra>",
         "hovertext": [
          "Madagascar"
         ],
         "legendgroup": "Madagascar",
         "locations": [
          "MDG"
         ],
         "marker": {
          "color": "#FECB52",
          "size": [
           46
          ],
          "sizemode": "area",
          "sizeref": 66.51
         },
         "name": "Madagascar",
         "showlegend": true,
         "type": "scattergeo"
        },
        {
         "geo": "geo",
         "hovertemplate": "<b>%{hovertext}</b><br><br>country=Venezuela<br>total_publications=%{marker.size}<br>country_code_alpha3=%{location}<extra></extra>",
         "hovertext": [
          "Venezuela"
         ],
         "legendgroup": "Venezuela",
         "locations": [
          "VEN"
         ],
         "marker": {
          "color": "#636efa",
          "size": [
           44
          ],
          "sizemode": "area",
          "sizeref": 66.51
         },
         "name": "Venezuela",
         "showlegend": true,
         "type": "scattergeo"
        },
        {
         "geo": "geo",
         "hovertemplate": "<b>%{hovertext}</b><br><br>country=Uruguay<br>total_publications=%{marker.size}<br>country_code_alpha3=%{location}<extra></extra>",
         "hovertext": [
          "Uruguay"
         ],
         "legendgroup": "Uruguay",
         "locations": [
          "URY"
         ],
         "marker": {
          "color": "#EF553B",
          "size": [
           43
          ],
          "sizemode": "area",
          "sizeref": 66.51
         },
         "name": "Uruguay",
         "showlegend": true,
         "type": "scattergeo"
        },
        {
         "geo": "geo",
         "hovertemplate": "<b>%{hovertext}</b><br><br>country=Estonia<br>total_publications=%{marker.size}<br>country_code_alpha3=%{location}<extra></extra>",
         "hovertext": [
          "Estonia"
         ],
         "legendgroup": "Estonia",
         "locations": [
          "EST"
         ],
         "marker": {
          "color": "#00cc96",
          "size": [
           43
          ],
          "sizemode": "area",
          "sizeref": 66.51
         },
         "name": "Estonia",
         "showlegend": true,
         "type": "scattergeo"
        },
        {
         "geo": "geo",
         "hovertemplate": "<b>%{hovertext}</b><br><br>country=Serbia<br>total_publications=%{marker.size}<br>country_code_alpha3=%{location}<extra></extra>",
         "hovertext": [
          "Serbia"
         ],
         "legendgroup": "Serbia",
         "locations": [
          "SRB"
         ],
         "marker": {
          "color": "#ab63fa",
          "size": [
           41
          ],
          "sizemode": "area",
          "sizeref": 66.51
         },
         "name": "Serbia",
         "showlegend": true,
         "type": "scattergeo"
        },
        {
         "geo": "geo",
         "hovertemplate": "<b>%{hovertext}</b><br><br>country=Tanzania<br>total_publications=%{marker.size}<br>country_code_alpha3=%{location}<extra></extra>",
         "hovertext": [
          "Tanzania"
         ],
         "legendgroup": "Tanzania",
         "locations": [
          "TZA"
         ],
         "marker": {
          "color": "#FFA15A",
          "size": [
           37
          ],
          "sizemode": "area",
          "sizeref": 66.51
         },
         "name": "Tanzania",
         "showlegend": true,
         "type": "scattergeo"
        },
        {
         "geo": "geo",
         "hovertemplate": "<b>%{hovertext}</b><br><br>country=Congo<br>total_publications=%{marker.size}<br>country_code_alpha3=%{location}<extra></extra>",
         "hovertext": [
          "Congo"
         ],
         "legendgroup": "Congo",
         "locations": [
          "COG"
         ],
         "marker": {
          "color": "#19d3f3",
          "size": [
           37
          ],
          "sizemode": "area",
          "sizeref": 66.51
         },
         "name": "Congo",
         "showlegend": true,
         "type": "scattergeo"
        },
        {
         "geo": "geo",
         "hovertemplate": "<b>%{hovertext}</b><br><br>country=Guinea<br>total_publications=%{marker.size}<br>country_code_alpha3=%{location}<extra></extra>",
         "hovertext": [
          "Guinea"
         ],
         "legendgroup": "Guinea",
         "locations": [
          "GIN"
         ],
         "marker": {
          "color": "#FF6692",
          "size": [
           33
          ],
          "sizemode": "area",
          "sizeref": 66.51
         },
         "name": "Guinea",
         "showlegend": true,
         "type": "scattergeo"
        },
        {
         "geo": "geo",
         "hovertemplate": "<b>%{hovertext}</b><br><br>country=Nepal<br>total_publications=%{marker.size}<br>country_code_alpha3=%{location}<extra></extra>",
         "hovertext": [
          "Nepal"
         ],
         "legendgroup": "Nepal",
         "locations": [
          "NPL"
         ],
         "marker": {
          "color": "#B6E880",
          "size": [
           33
          ],
          "sizemode": "area",
          "sizeref": 66.51
         },
         "name": "Nepal",
         "showlegend": true,
         "type": "scattergeo"
        },
        {
         "geo": "geo",
         "hovertemplate": "<b>%{hovertext}</b><br><br>country=Slovakia<br>total_publications=%{marker.size}<br>country_code_alpha3=%{location}<extra></extra>",
         "hovertext": [
          "Slovakia"
         ],
         "legendgroup": "Slovakia",
         "locations": [
          "SVK"
         ],
         "marker": {
          "color": "#FF97FF",
          "size": [
           31
          ],
          "sizemode": "area",
          "sizeref": 66.51
         },
         "name": "Slovakia",
         "showlegend": true,
         "type": "scattergeo"
        },
        {
         "geo": "geo",
         "hovertemplate": "<b>%{hovertext}</b><br><br>country=Algeria<br>total_publications=%{marker.size}<br>country_code_alpha3=%{location}<extra></extra>",
         "hovertext": [
          "Algeria"
         ],
         "legendgroup": "Algeria",
         "locations": [
          "DZA"
         ],
         "marker": {
          "color": "#FECB52",
          "size": [
           28
          ],
          "sizemode": "area",
          "sizeref": 66.51
         },
         "name": "Algeria",
         "showlegend": true,
         "type": "scattergeo"
        },
        {
         "geo": "geo",
         "hovertemplate": "<b>%{hovertext}</b><br><br>country=Philippines<br>total_publications=%{marker.size}<br>country_code_alpha3=%{location}<extra></extra>",
         "hovertext": [
          "Philippines"
         ],
         "legendgroup": "Philippines",
         "locations": [
          "PHL"
         ],
         "marker": {
          "color": "#636efa",
          "size": [
           27
          ],
          "sizemode": "area",
          "sizeref": 66.51
         },
         "name": "Philippines",
         "showlegend": true,
         "type": "scattergeo"
        },
        {
         "geo": "geo",
         "hovertemplate": "<b>%{hovertext}</b><br><br>country=Kuwait<br>total_publications=%{marker.size}<br>country_code_alpha3=%{location}<extra></extra>",
         "hovertext": [
          "Kuwait"
         ],
         "legendgroup": "Kuwait",
         "locations": [
          "KWT"
         ],
         "marker": {
          "color": "#EF553B",
          "size": [
           25
          ],
          "sizemode": "area",
          "sizeref": 66.51
         },
         "name": "Kuwait",
         "showlegend": true,
         "type": "scattergeo"
        },
        {
         "geo": "geo",
         "hovertemplate": "<b>%{hovertext}</b><br><br>country=Ecuador<br>total_publications=%{marker.size}<br>country_code_alpha3=%{location}<extra></extra>",
         "hovertext": [
          "Ecuador"
         ],
         "legendgroup": "Ecuador",
         "locations": [
          "ECU"
         ],
         "marker": {
          "color": "#00cc96",
          "size": [
           22
          ],
          "sizemode": "area",
          "sizeref": 66.51
         },
         "name": "Ecuador",
         "showlegend": true,
         "type": "scattergeo"
        },
        {
         "geo": "geo",
         "hovertemplate": "<b>%{hovertext}</b><br><br>country=Ethiopia<br>total_publications=%{marker.size}<br>country_code_alpha3=%{location}<extra></extra>",
         "hovertext": [
          "Ethiopia"
         ],
         "legendgroup": "Ethiopia",
         "locations": [
          "ETH"
         ],
         "marker": {
          "color": "#ab63fa",
          "size": [
           22
          ],
          "sizemode": "area",
          "sizeref": 66.51
         },
         "name": "Ethiopia",
         "showlegend": true,
         "type": "scattergeo"
        },
        {
         "geo": "geo",
         "hovertemplate": "<b>%{hovertext}</b><br><br>country=Lebanon<br>total_publications=%{marker.size}<br>country_code_alpha3=%{location}<extra></extra>",
         "hovertext": [
          "Lebanon"
         ],
         "legendgroup": "Lebanon",
         "locations": [
          "LBN"
         ],
         "marker": {
          "color": "#FFA15A",
          "size": [
           22
          ],
          "sizemode": "area",
          "sizeref": 66.51
         },
         "name": "Lebanon",
         "showlegend": true,
         "type": "scattergeo"
        },
        {
         "geo": "geo",
         "hovertemplate": "<b>%{hovertext}</b><br><br>country=Cuba<br>total_publications=%{marker.size}<br>country_code_alpha3=%{location}<extra></extra>",
         "hovertext": [
          "Cuba"
         ],
         "legendgroup": "Cuba",
         "locations": [
          "CUB"
         ],
         "marker": {
          "color": "#19d3f3",
          "size": [
           22
          ],
          "sizemode": "area",
          "sizeref": 66.51
         },
         "name": "Cuba",
         "showlegend": true,
         "type": "scattergeo"
        },
        {
         "geo": "geo",
         "hovertemplate": "<b>%{hovertext}</b><br><br>country=Sudan<br>total_publications=%{marker.size}<br>country_code_alpha3=%{location}<extra></extra>",
         "hovertext": [
          "Sudan"
         ],
         "legendgroup": "Sudan",
         "locations": [
          "SDN"
         ],
         "marker": {
          "color": "#FF6692",
          "size": [
           21
          ],
          "sizemode": "area",
          "sizeref": 66.51
         },
         "name": "Sudan",
         "showlegend": true,
         "type": "scattergeo"
        },
        {
         "geo": "geo",
         "hovertemplate": "<b>%{hovertext}</b><br><br>country=Gambia<br>total_publications=%{marker.size}<br>country_code_alpha3=%{location}<extra></extra>",
         "hovertext": [
          "Gambia"
         ],
         "legendgroup": "Gambia",
         "locations": [
          "GMB"
         ],
         "marker": {
          "color": "#B6E880",
          "size": [
           21
          ],
          "sizemode": "area",
          "sizeref": 66.51
         },
         "name": "Gambia",
         "showlegend": true,
         "type": "scattergeo"
        },
        {
         "geo": "geo",
         "hovertemplate": "<b>%{hovertext}</b><br><br>country=Lithuania<br>total_publications=%{marker.size}<br>country_code_alpha3=%{location}<extra></extra>",
         "hovertext": [
          "Lithuania"
         ],
         "legendgroup": "Lithuania",
         "locations": [
          "LTU"
         ],
         "marker": {
          "color": "#FF97FF",
          "size": [
           21
          ],
          "sizemode": "area",
          "sizeref": 66.51
         },
         "name": "Lithuania",
         "showlegend": true,
         "type": "scattergeo"
        },
        {
         "geo": "geo",
         "hovertemplate": "<b>%{hovertext}</b><br><br>country=Jersey<br>total_publications=%{marker.size}<br>country_code_alpha3=%{location}<extra></extra>",
         "hovertext": [
          "Jersey"
         ],
         "legendgroup": "Jersey",
         "locations": [
          "JEY"
         ],
         "marker": {
          "color": "#FECB52",
          "size": [
           19
          ],
          "sizemode": "area",
          "sizeref": 66.51
         },
         "name": "Jersey",
         "showlegend": true,
         "type": "scattergeo"
        },
        {
         "geo": "geo",
         "hovertemplate": "<b>%{hovertext}</b><br><br>country=Bulgaria<br>total_publications=%{marker.size}<br>country_code_alpha3=%{location}<extra></extra>",
         "hovertext": [
          "Bulgaria"
         ],
         "legendgroup": "Bulgaria",
         "locations": [
          "BGR"
         ],
         "marker": {
          "color": "#636efa",
          "size": [
           19
          ],
          "sizemode": "area",
          "sizeref": 66.51
         },
         "name": "Bulgaria",
         "showlegend": true,
         "type": "scattergeo"
        },
        {
         "geo": "geo",
         "hovertemplate": "<b>%{hovertext}</b><br><br>country=Malawi<br>total_publications=%{marker.size}<br>country_code_alpha3=%{location}<extra></extra>",
         "hovertext": [
          "Malawi"
         ],
         "legendgroup": "Malawi",
         "locations": [
          "MWI"
         ],
         "marker": {
          "color": "#EF553B",
          "size": [
           17
          ],
          "sizemode": "area",
          "sizeref": 66.51
         },
         "name": "Malawi",
         "showlegend": true,
         "type": "scattergeo"
        },
        {
         "geo": "geo",
         "hovertemplate": "<b>%{hovertext}</b><br><br>country=Namibia<br>total_publications=%{marker.size}<br>country_code_alpha3=%{location}<extra></extra>",
         "hovertext": [
          "Namibia"
         ],
         "legendgroup": "Namibia",
         "locations": [
          "NAM"
         ],
         "marker": {
          "color": "#00cc96",
          "size": [
           17
          ],
          "sizemode": "area",
          "sizeref": 66.51
         },
         "name": "Namibia",
         "showlegend": true,
         "type": "scattergeo"
        },
        {
         "geo": "geo",
         "hovertemplate": "<b>%{hovertext}</b><br><br>country=Kazakhstan<br>total_publications=%{marker.size}<br>country_code_alpha3=%{location}<extra></extra>",
         "hovertext": [
          "Kazakhstan"
         ],
         "legendgroup": "Kazakhstan",
         "locations": [
          "KAZ"
         ],
         "marker": {
          "color": "#ab63fa",
          "size": [
           16
          ],
          "sizemode": "area",
          "sizeref": 66.51
         },
         "name": "Kazakhstan",
         "showlegend": true,
         "type": "scattergeo"
        },
        {
         "geo": "geo",
         "hovertemplate": "<b>%{hovertext}</b><br><br>country=Iraq<br>total_publications=%{marker.size}<br>country_code_alpha3=%{location}<extra></extra>",
         "hovertext": [
          "Iraq"
         ],
         "legendgroup": "Iraq",
         "locations": [
          "IRQ"
         ],
         "marker": {
          "color": "#FFA15A",
          "size": [
           15
          ],
          "sizemode": "area",
          "sizeref": 66.51
         },
         "name": "Iraq",
         "showlegend": true,
         "type": "scattergeo"
        },
        {
         "geo": "geo",
         "hovertemplate": "<b>%{hovertext}</b><br><br>country=Zambia<br>total_publications=%{marker.size}<br>country_code_alpha3=%{location}<extra></extra>",
         "hovertext": [
          "Zambia"
         ],
         "legendgroup": "Zambia",
         "locations": [
          "ZMB"
         ],
         "marker": {
          "color": "#19d3f3",
          "size": [
           15
          ],
          "sizemode": "area",
          "sizeref": 66.51
         },
         "name": "Zambia",
         "showlegend": true,
         "type": "scattergeo"
        },
        {
         "geo": "geo",
         "hovertemplate": "<b>%{hovertext}</b><br><br>country=Palestine, State of<br>total_publications=%{marker.size}<br>country_code_alpha3=%{location}<extra></extra>",
         "hovertext": [
          "Palestine, State of"
         ],
         "legendgroup": "Palestine, State of",
         "locations": [
          "PSE"
         ],
         "marker": {
          "color": "#FF6692",
          "size": [
           15
          ],
          "sizemode": "area",
          "sizeref": 66.51
         },
         "name": "Palestine, State of",
         "showlegend": true,
         "type": "scattergeo"
        },
        {
         "geo": "geo",
         "hovertemplate": "<b>%{hovertext}</b><br><br>country=Mali<br>total_publications=%{marker.size}<br>country_code_alpha3=%{location}<extra></extra>",
         "hovertext": [
          "Mali"
         ],
         "legendgroup": "Mali",
         "locations": [
          "MLI"
         ],
         "marker": {
          "color": "#B6E880",
          "size": [
           14
          ],
          "sizemode": "area",
          "sizeref": 66.51
         },
         "name": "Mali",
         "showlegend": true,
         "type": "scattergeo"
        },
        {
         "geo": "geo",
         "hovertemplate": "<b>%{hovertext}</b><br><br>country=Mozambique<br>total_publications=%{marker.size}<br>country_code_alpha3=%{location}<extra></extra>",
         "hovertext": [
          "Mozambique"
         ],
         "legendgroup": "Mozambique",
         "locations": [
          "MOZ"
         ],
         "marker": {
          "color": "#FF97FF",
          "size": [
           13
          ],
          "sizemode": "area",
          "sizeref": 66.51
         },
         "name": "Mozambique",
         "showlegend": true,
         "type": "scattergeo"
        },
        {
         "geo": "geo",
         "hovertemplate": "<b>%{hovertext}</b><br><br>country=Honduras<br>total_publications=%{marker.size}<br>country_code_alpha3=%{location}<extra></extra>",
         "hovertext": [
          "Honduras"
         ],
         "legendgroup": "Honduras",
         "locations": [
          "HND"
         ],
         "marker": {
          "color": "#FECB52",
          "size": [
           12
          ],
          "sizemode": "area",
          "sizeref": 66.51
         },
         "name": "Honduras",
         "showlegend": true,
         "type": "scattergeo"
        },
        {
         "geo": "geo",
         "hovertemplate": "<b>%{hovertext}</b><br><br>country=Benin<br>total_publications=%{marker.size}<br>country_code_alpha3=%{location}<extra></extra>",
         "hovertext": [
          "Benin"
         ],
         "legendgroup": "Benin",
         "locations": [
          "BEN"
         ],
         "marker": {
          "color": "#636efa",
          "size": [
           10
          ],
          "sizemode": "area",
          "sizeref": 66.51
         },
         "name": "Benin",
         "showlegend": true,
         "type": "scattergeo"
        },
        {
         "geo": "geo",
         "hovertemplate": "<b>%{hovertext}</b><br><br>country=Liberia<br>total_publications=%{marker.size}<br>country_code_alpha3=%{location}<extra></extra>",
         "hovertext": [
          "Liberia"
         ],
         "legendgroup": "Liberia",
         "locations": [
          "LBR"
         ],
         "marker": {
          "color": "#EF553B",
          "size": [
           10
          ],
          "sizemode": "area",
          "sizeref": 66.51
         },
         "name": "Liberia",
         "showlegend": true,
         "type": "scattergeo"
        },
        {
         "geo": "geo",
         "hovertemplate": "<b>%{hovertext}</b><br><br>country=Botswana<br>total_publications=%{marker.size}<br>country_code_alpha3=%{location}<extra></extra>",
         "hovertext": [
          "Botswana"
         ],
         "legendgroup": "Botswana",
         "locations": [
          "BWA"
         ],
         "marker": {
          "color": "#00cc96",
          "size": [
           9
          ],
          "sizemode": "area",
          "sizeref": 66.51
         },
         "name": "Botswana",
         "showlegend": true,
         "type": "scattergeo"
        },
        {
         "geo": "geo",
         "hovertemplate": "<b>%{hovertext}</b><br><br>country=Jamaica<br>total_publications=%{marker.size}<br>country_code_alpha3=%{location}<extra></extra>",
         "hovertext": [
          "Jamaica"
         ],
         "legendgroup": "Jamaica",
         "locations": [
          "JAM"
         ],
         "marker": {
          "color": "#ab63fa",
          "size": [
           8
          ],
          "sizemode": "area",
          "sizeref": 66.51
         },
         "name": "Jamaica",
         "showlegend": true,
         "type": "scattergeo"
        },
        {
         "geo": "geo",
         "hovertemplate": "<b>%{hovertext}</b><br><br>country=Luxembourg<br>total_publications=%{marker.size}<br>country_code_alpha3=%{location}<extra></extra>",
         "hovertext": [
          "Luxembourg"
         ],
         "legendgroup": "Luxembourg",
         "locations": [
          "LUX"
         ],
         "marker": {
          "color": "#FFA15A",
          "size": [
           8
          ],
          "sizemode": "area",
          "sizeref": 66.51
         },
         "name": "Luxembourg",
         "showlegend": true,
         "type": "scattergeo"
        },
        {
         "geo": "geo",
         "hovertemplate": "<b>%{hovertext}</b><br><br>country=Bahrain<br>total_publications=%{marker.size}<br>country_code_alpha3=%{location}<extra></extra>",
         "hovertext": [
          "Bahrain"
         ],
         "legendgroup": "Bahrain",
         "locations": [
          "BHR"
         ],
         "marker": {
          "color": "#19d3f3",
          "size": [
           7
          ],
          "sizemode": "area",
          "sizeref": 66.51
         },
         "name": "Bahrain",
         "showlegend": true,
         "type": "scattergeo"
        },
        {
         "geo": "geo",
         "hovertemplate": "<b>%{hovertext}</b><br><br>country=United Arab Emirates<br>total_publications=%{marker.size}<br>country_code_alpha3=%{location}<extra></extra>",
         "hovertext": [
          "United Arab Emirates"
         ],
         "legendgroup": "United Arab Emirates",
         "locations": [
          "ARE"
         ],
         "marker": {
          "color": "#FF6692",
          "size": [
           7
          ],
          "sizemode": "area",
          "sizeref": 66.51
         },
         "name": "United Arab Emirates",
         "showlegend": true,
         "type": "scattergeo"
        },
        {
         "geo": "geo",
         "hovertemplate": "<b>%{hovertext}</b><br><br>country=Paraguay<br>total_publications=%{marker.size}<br>country_code_alpha3=%{location}<extra></extra>",
         "hovertext": [
          "Paraguay"
         ],
         "legendgroup": "Paraguay",
         "locations": [
          "PRY"
         ],
         "marker": {
          "color": "#B6E880",
          "size": [
           6
          ],
          "sizemode": "area",
          "sizeref": 66.51
         },
         "name": "Paraguay",
         "showlegend": true,
         "type": "scattergeo"
        },
        {
         "geo": "geo",
         "hovertemplate": "<b>%{hovertext}</b><br><br>country=Nicaragua<br>total_publications=%{marker.size}<br>country_code_alpha3=%{location}<extra></extra>",
         "hovertext": [
          "Nicaragua"
         ],
         "legendgroup": "Nicaragua",
         "locations": [
          "NIC"
         ],
         "marker": {
          "color": "#FF97FF",
          "size": [
           6
          ],
          "sizemode": "area",
          "sizeref": 66.51
         },
         "name": "Nicaragua",
         "showlegend": true,
         "type": "scattergeo"
        },
        {
         "geo": "geo",
         "hovertemplate": "<b>%{hovertext}</b><br><br>country=Haiti<br>total_publications=%{marker.size}<br>country_code_alpha3=%{location}<extra></extra>",
         "hovertext": [
          "Haiti"
         ],
         "legendgroup": "Haiti",
         "locations": [
          "HTI"
         ],
         "marker": {
          "color": "#FECB52",
          "size": [
           6
          ],
          "sizemode": "area",
          "sizeref": 66.51
         },
         "name": "Haiti",
         "showlegend": true,
         "type": "scattergeo"
        },
        {
         "geo": "geo",
         "hovertemplate": "<b>%{hovertext}</b><br><br>country=Sri Lanka<br>total_publications=%{marker.size}<br>country_code_alpha3=%{location}<extra></extra>",
         "hovertext": [
          "Sri Lanka"
         ],
         "legendgroup": "Sri Lanka",
         "locations": [
          "LKA"
         ],
         "marker": {
          "color": "#636efa",
          "size": [
           6
          ],
          "sizemode": "area",
          "sizeref": 66.51
         },
         "name": "Sri Lanka",
         "showlegend": true,
         "type": "scattergeo"
        },
        {
         "geo": "geo",
         "hovertemplate": "<b>%{hovertext}</b><br><br>country=Mongolia<br>total_publications=%{marker.size}<br>country_code_alpha3=%{location}<extra></extra>",
         "hovertext": [
          "Mongolia"
         ],
         "legendgroup": "Mongolia",
         "locations": [
          "MNG"
         ],
         "marker": {
          "color": "#EF553B",
          "size": [
           6
          ],
          "sizemode": "area",
          "sizeref": 66.51
         },
         "name": "Mongolia",
         "showlegend": true,
         "type": "scattergeo"
        },
        {
         "geo": "geo",
         "hovertemplate": "<b>%{hovertext}</b><br><br>country=North Macedonia<br>total_publications=%{marker.size}<br>country_code_alpha3=%{location}<extra></extra>",
         "hovertext": [
          "North Macedonia"
         ],
         "legendgroup": "North Macedonia",
         "locations": [
          "MKD"
         ],
         "marker": {
          "color": "#00cc96",
          "size": [
           6
          ],
          "sizemode": "area",
          "sizeref": 66.51
         },
         "name": "North Macedonia",
         "showlegend": true,
         "type": "scattergeo"
        },
        {
         "geo": "geo",
         "hovertemplate": "<b>%{hovertext}</b><br><br>country=South Africa<br>total_publications=%{marker.size}<br>country_code_alpha3=%{location}<extra></extra>",
         "hovertext": [
          "South Africa"
         ],
         "legendgroup": "South Africa",
         "locations": [
          "ZAF"
         ],
         "marker": {
          "color": "#ab63fa",
          "size": [
           5
          ],
          "sizemode": "area",
          "sizeref": 66.51
         },
         "name": "South Africa",
         "showlegend": true,
         "type": "scattergeo"
        },
        {
         "geo": "geo",
         "hovertemplate": "<b>%{hovertext}</b><br><br>country=Macao<br>total_publications=%{marker.size}<br>country_code_alpha3=%{location}<extra></extra>",
         "hovertext": [
          "Macao"
         ],
         "legendgroup": "Macao",
         "locations": [
          "MAC"
         ],
         "marker": {
          "color": "#FFA15A",
          "size": [
           5
          ],
          "sizemode": "area",
          "sizeref": 66.51
         },
         "name": "Macao",
         "showlegend": true,
         "type": "scattergeo"
        },
        {
         "geo": "geo",
         "hovertemplate": "<b>%{hovertext}</b><br><br>country=Armenia<br>total_publications=%{marker.size}<br>country_code_alpha3=%{location}<extra></extra>",
         "hovertext": [
          "Armenia"
         ],
         "legendgroup": "Armenia",
         "locations": [
          "ARM"
         ],
         "marker": {
          "color": "#19d3f3",
          "size": [
           5
          ],
          "sizemode": "area",
          "sizeref": 66.51
         },
         "name": "Armenia",
         "showlegend": true,
         "type": "scattergeo"
        },
        {
         "geo": "geo",
         "hovertemplate": "<b>%{hovertext}</b><br><br>country=Grenada<br>total_publications=%{marker.size}<br>country_code_alpha3=%{location}<extra></extra>",
         "hovertext": [
          "Grenada"
         ],
         "legendgroup": "Grenada",
         "locations": [
          "GRD"
         ],
         "marker": {
          "color": "#FF6692",
          "size": [
           4
          ],
          "sizemode": "area",
          "sizeref": 66.51
         },
         "name": "Grenada",
         "showlegend": true,
         "type": "scattergeo"
        },
        {
         "geo": "geo",
         "hovertemplate": "<b>%{hovertext}</b><br><br>country=Guatemala<br>total_publications=%{marker.size}<br>country_code_alpha3=%{location}<extra></extra>",
         "hovertext": [
          "Guatemala"
         ],
         "legendgroup": "Guatemala",
         "locations": [
          "GTM"
         ],
         "marker": {
          "color": "#B6E880",
          "size": [
           4
          ],
          "sizemode": "area",
          "sizeref": 66.51
         },
         "name": "Guatemala",
         "showlegend": true,
         "type": "scattergeo"
        },
        {
         "geo": "geo",
         "hovertemplate": "<b>%{hovertext}</b><br><br>country=Iceland<br>total_publications=%{marker.size}<br>country_code_alpha3=%{location}<extra></extra>",
         "hovertext": [
          "Iceland"
         ],
         "legendgroup": "Iceland",
         "locations": [
          "ISL"
         ],
         "marker": {
          "color": "#FF97FF",
          "size": [
           4
          ],
          "sizemode": "area",
          "sizeref": 66.51
         },
         "name": "Iceland",
         "showlegend": true,
         "type": "scattergeo"
        },
        {
         "geo": "geo",
         "hovertemplate": "<b>%{hovertext}</b><br><br>country=Latvia<br>total_publications=%{marker.size}<br>country_code_alpha3=%{location}<extra></extra>",
         "hovertext": [
          "Latvia"
         ],
         "legendgroup": "Latvia",
         "locations": [
          "LVA"
         ],
         "marker": {
          "color": "#FECB52",
          "size": [
           4
          ],
          "sizemode": "area",
          "sizeref": 66.51
         },
         "name": "Latvia",
         "showlegend": true,
         "type": "scattergeo"
        },
        {
         "geo": "geo",
         "hovertemplate": "<b>%{hovertext}</b><br><br>country=Montenegro<br>total_publications=%{marker.size}<br>country_code_alpha3=%{location}<extra></extra>",
         "hovertext": [
          "Montenegro"
         ],
         "legendgroup": "Montenegro",
         "locations": [
          "MNE"
         ],
         "marker": {
          "color": "#636efa",
          "size": [
           4
          ],
          "sizemode": "area",
          "sizeref": 66.51
         },
         "name": "Montenegro",
         "showlegend": true,
         "type": "scattergeo"
        },
        {
         "geo": "geo",
         "hovertemplate": "<b>%{hovertext}</b><br><br>country=Zimbabwe<br>total_publications=%{marker.size}<br>country_code_alpha3=%{location}<extra></extra>",
         "hovertext": [
          "Zimbabwe"
         ],
         "legendgroup": "Zimbabwe",
         "locations": [
          "ZWE"
         ],
         "marker": {
          "color": "#EF553B",
          "size": [
           4
          ],
          "sizemode": "area",
          "sizeref": 66.51
         },
         "name": "Zimbabwe",
         "showlegend": true,
         "type": "scattergeo"
        },
        {
         "geo": "geo",
         "hovertemplate": "<b>%{hovertext}</b><br><br>country=Afghanistan<br>total_publications=%{marker.size}<br>country_code_alpha3=%{location}<extra></extra>",
         "hovertext": [
          "Afghanistan"
         ],
         "legendgroup": "Afghanistan",
         "locations": [
          "AFG"
         ],
         "marker": {
          "color": "#00cc96",
          "size": [
           3
          ],
          "sizemode": "area",
          "sizeref": 66.51
         },
         "name": "Afghanistan",
         "showlegend": true,
         "type": "scattergeo"
        },
        {
         "geo": "geo",
         "hovertemplate": "<b>%{hovertext}</b><br><br>country=Australia<br>total_publications=%{marker.size}<br>country_code_alpha3=%{location}<extra></extra>",
         "hovertext": [
          "Australia"
         ],
         "legendgroup": "Australia",
         "locations": [
          "AUS"
         ],
         "marker": {
          "color": "#ab63fa",
          "size": [
           3
          ],
          "sizemode": "area",
          "sizeref": 66.51
         },
         "name": "Australia",
         "showlegend": true,
         "type": "scattergeo"
        },
        {
         "geo": "geo",
         "hovertemplate": "<b>%{hovertext}</b><br><br>country=Syrian Arab Republic<br>total_publications=%{marker.size}<br>country_code_alpha3=%{location}<extra></extra>",
         "hovertext": [
          "Syrian Arab Republic"
         ],
         "legendgroup": "Syrian Arab Republic",
         "locations": [
          "SYR"
         ],
         "marker": {
          "color": "#FFA15A",
          "size": [
           2
          ],
          "sizemode": "area",
          "sizeref": 66.51
         },
         "name": "Syrian Arab Republic",
         "showlegend": true,
         "type": "scattergeo"
        },
        {
         "geo": "geo",
         "hovertemplate": "<b>%{hovertext}</b><br><br>country=Panama<br>total_publications=%{marker.size}<br>country_code_alpha3=%{location}<extra></extra>",
         "hovertext": [
          "Panama"
         ],
         "legendgroup": "Panama",
         "locations": [
          "PAN"
         ],
         "marker": {
          "color": "#19d3f3",
          "size": [
           2
          ],
          "sizemode": "area",
          "sizeref": 66.51
         },
         "name": "Panama",
         "showlegend": true,
         "type": "scattergeo"
        },
        {
         "geo": "geo",
         "hovertemplate": "<b>%{hovertext}</b><br><br>country=Malta<br>total_publications=%{marker.size}<br>country_code_alpha3=%{location}<extra></extra>",
         "hovertext": [
          "Malta"
         ],
         "legendgroup": "Malta",
         "locations": [
          "MLT"
         ],
         "marker": {
          "color": "#FF6692",
          "size": [
           2
          ],
          "sizemode": "area",
          "sizeref": 66.51
         },
         "name": "Malta",
         "showlegend": true,
         "type": "scattergeo"
        },
        {
         "geo": "geo",
         "hovertemplate": "<b>%{hovertext}</b><br><br>country=Bosnia and Herzegovina<br>total_publications=%{marker.size}<br>country_code_alpha3=%{location}<extra></extra>",
         "hovertext": [
          "Bosnia and Herzegovina"
         ],
         "legendgroup": "Bosnia and Herzegovina",
         "locations": [
          "BIH"
         ],
         "marker": {
          "color": "#B6E880",
          "size": [
           2
          ],
          "sizemode": "area",
          "sizeref": 66.51
         },
         "name": "Bosnia and Herzegovina",
         "showlegend": true,
         "type": "scattergeo"
        },
        {
         "geo": "geo",
         "hovertemplate": "<b>%{hovertext}</b><br><br>country=Rwanda<br>total_publications=%{marker.size}<br>country_code_alpha3=%{location}<extra></extra>",
         "hovertext": [
          "Rwanda"
         ],
         "legendgroup": "Rwanda",
         "locations": [
          "RWA"
         ],
         "marker": {
          "color": "#FF97FF",
          "size": [
           1
          ],
          "sizemode": "area",
          "sizeref": 66.51
         },
         "name": "Rwanda",
         "showlegend": true,
         "type": "scattergeo"
        },
        {
         "geo": "geo",
         "hovertemplate": "<b>%{hovertext}</b><br><br>country=New Caledonia<br>total_publications=%{marker.size}<br>country_code_alpha3=%{location}<extra></extra>",
         "hovertext": [
          "New Caledonia"
         ],
         "legendgroup": "New Caledonia",
         "locations": [
          "NCL"
         ],
         "marker": {
          "color": "#FECB52",
          "size": [
           1
          ],
          "sizemode": "area",
          "sizeref": 66.51
         },
         "name": "New Caledonia",
         "showlegend": true,
         "type": "scattergeo"
        },
        {
         "geo": "geo",
         "hovertemplate": "<b>%{hovertext}</b><br><br>country=Myanmar<br>total_publications=%{marker.size}<br>country_code_alpha3=%{location}<extra></extra>",
         "hovertext": [
          "Myanmar"
         ],
         "legendgroup": "Myanmar",
         "locations": [
          "MMR"
         ],
         "marker": {
          "color": "#636efa",
          "size": [
           1
          ],
          "sizemode": "area",
          "sizeref": 66.51
         },
         "name": "Myanmar",
         "showlegend": true,
         "type": "scattergeo"
        },
        {
         "geo": "geo",
         "hovertemplate": "<b>%{hovertext}</b><br><br>country=Kiribati<br>total_publications=%{marker.size}<br>country_code_alpha3=%{location}<extra></extra>",
         "hovertext": [
          "Kiribati"
         ],
         "legendgroup": "Kiribati",
         "locations": [
          "KIR"
         ],
         "marker": {
          "color": "#EF553B",
          "size": [
           1
          ],
          "sizemode": "area",
          "sizeref": 66.51
         },
         "name": "Kiribati",
         "showlegend": true,
         "type": "scattergeo"
        },
        {
         "geo": "geo",
         "hovertemplate": "<b>%{hovertext}</b><br><br>country=Guyana<br>total_publications=%{marker.size}<br>country_code_alpha3=%{location}<extra></extra>",
         "hovertext": [
          "Guyana"
         ],
         "legendgroup": "Guyana",
         "locations": [
          "GUY"
         ],
         "marker": {
          "color": "#00cc96",
          "size": [
           1
          ],
          "sizemode": "area",
          "sizeref": 66.51
         },
         "name": "Guyana",
         "showlegend": true,
         "type": "scattergeo"
        },
        {
         "geo": "geo",
         "hovertemplate": "<b>%{hovertext}</b><br><br>country=Guadeloupe<br>total_publications=%{marker.size}<br>country_code_alpha3=%{location}<extra></extra>",
         "hovertext": [
          "Guadeloupe"
         ],
         "legendgroup": "Guadeloupe",
         "locations": [
          "GLP"
         ],
         "marker": {
          "color": "#ab63fa",
          "size": [
           1
          ],
          "sizemode": "area",
          "sizeref": 66.51
         },
         "name": "Guadeloupe",
         "showlegend": true,
         "type": "scattergeo"
        },
        {
         "geo": "geo",
         "hovertemplate": "<b>%{hovertext}</b><br><br>country=Central African Republic<br>total_publications=%{marker.size}<br>country_code_alpha3=%{location}<extra></extra>",
         "hovertext": [
          "Central African Republic"
         ],
         "legendgroup": "Central African Republic",
         "locations": [
          "CAF"
         ],
         "marker": {
          "color": "#FFA15A",
          "size": [
           1
          ],
          "sizemode": "area",
          "sizeref": 66.51
         },
         "name": "Central African Republic",
         "showlegend": true,
         "type": "scattergeo"
        },
        {
         "geo": "geo",
         "hovertemplate": "<b>%{hovertext}</b><br><br>country=Burkina Faso<br>total_publications=%{marker.size}<br>country_code_alpha3=%{location}<extra></extra>",
         "hovertext": [
          "Burkina Faso"
         ],
         "legendgroup": "Burkina Faso",
         "locations": [
          "BFA"
         ],
         "marker": {
          "color": "#19d3f3",
          "size": [
           1
          ],
          "sizemode": "area",
          "sizeref": 66.51
         },
         "name": "Burkina Faso",
         "showlegend": true,
         "type": "scattergeo"
        },
        {
         "geo": "geo",
         "hovertemplate": "<b>%{hovertext}</b><br><br>country=Bahamas<br>total_publications=%{marker.size}<br>country_code_alpha3=%{location}<extra></extra>",
         "hovertext": [
          "Bahamas"
         ],
         "legendgroup": "Bahamas",
         "locations": [
          "BHS"
         ],
         "marker": {
          "color": "#FF6692",
          "size": [
           1
          ],
          "sizemode": "area",
          "sizeref": 66.51
         },
         "name": "Bahamas",
         "showlegend": true,
         "type": "scattergeo"
        },
        {
         "geo": "geo",
         "hovertemplate": "<b>%{hovertext}</b><br><br>country=Kyrgyzstan<br>total_publications=%{marker.size}<br>country_code_alpha3=%{location}<extra></extra>",
         "hovertext": [
          "Kyrgyzstan"
         ],
         "legendgroup": "Kyrgyzstan",
         "locations": [
          "KGZ"
         ],
         "marker": {
          "color": "#B6E880",
          "size": [
           1
          ],
          "sizemode": "area",
          "sizeref": 66.51
         },
         "name": "Kyrgyzstan",
         "showlegend": true,
         "type": "scattergeo"
        }
       ],
       "layout": {
        "geo": {
         "center": {},
         "domain": {
          "x": [
           0,
           1
          ],
          "y": [
           0,
           1
          ]
         },
         "projection": {
          "type": "natural earth"
         }
        },
        "legend": {
         "itemsizing": "constant",
         "title": {
          "text": "country"
         },
         "tracegroupgap": 0
        },
        "template": {
         "data": {
          "bar": [
           {
            "error_x": {
             "color": "#2a3f5f"
            },
            "error_y": {
             "color": "#2a3f5f"
            },
            "marker": {
             "line": {
              "color": "#E5ECF6",
              "width": 0.5
             }
            },
            "type": "bar"
           }
          ],
          "barpolar": [
           {
            "marker": {
             "line": {
              "color": "#E5ECF6",
              "width": 0.5
             }
            },
            "type": "barpolar"
           }
          ],
          "carpet": [
           {
            "aaxis": {
             "endlinecolor": "#2a3f5f",
             "gridcolor": "white",
             "linecolor": "white",
             "minorgridcolor": "white",
             "startlinecolor": "#2a3f5f"
            },
            "baxis": {
             "endlinecolor": "#2a3f5f",
             "gridcolor": "white",
             "linecolor": "white",
             "minorgridcolor": "white",
             "startlinecolor": "#2a3f5f"
            },
            "type": "carpet"
           }
          ],
          "choropleth": [
           {
            "colorbar": {
             "outlinewidth": 0,
             "ticks": ""
            },
            "type": "choropleth"
           }
          ],
          "contour": [
           {
            "colorbar": {
             "outlinewidth": 0,
             "ticks": ""
            },
            "colorscale": [
             [
              0,
              "#0d0887"
             ],
             [
              0.1111111111111111,
              "#46039f"
             ],
             [
              0.2222222222222222,
              "#7201a8"
             ],
             [
              0.3333333333333333,
              "#9c179e"
             ],
             [
              0.4444444444444444,
              "#bd3786"
             ],
             [
              0.5555555555555556,
              "#d8576b"
             ],
             [
              0.6666666666666666,
              "#ed7953"
             ],
             [
              0.7777777777777778,
              "#fb9f3a"
             ],
             [
              0.8888888888888888,
              "#fdca26"
             ],
             [
              1,
              "#f0f921"
             ]
            ],
            "type": "contour"
           }
          ],
          "contourcarpet": [
           {
            "colorbar": {
             "outlinewidth": 0,
             "ticks": ""
            },
            "type": "contourcarpet"
           }
          ],
          "heatmap": [
           {
            "colorbar": {
             "outlinewidth": 0,
             "ticks": ""
            },
            "colorscale": [
             [
              0,
              "#0d0887"
             ],
             [
              0.1111111111111111,
              "#46039f"
             ],
             [
              0.2222222222222222,
              "#7201a8"
             ],
             [
              0.3333333333333333,
              "#9c179e"
             ],
             [
              0.4444444444444444,
              "#bd3786"
             ],
             [
              0.5555555555555556,
              "#d8576b"
             ],
             [
              0.6666666666666666,
              "#ed7953"
             ],
             [
              0.7777777777777778,
              "#fb9f3a"
             ],
             [
              0.8888888888888888,
              "#fdca26"
             ],
             [
              1,
              "#f0f921"
             ]
            ],
            "type": "heatmap"
           }
          ],
          "heatmapgl": [
           {
            "colorbar": {
             "outlinewidth": 0,
             "ticks": ""
            },
            "colorscale": [
             [
              0,
              "#0d0887"
             ],
             [
              0.1111111111111111,
              "#46039f"
             ],
             [
              0.2222222222222222,
              "#7201a8"
             ],
             [
              0.3333333333333333,
              "#9c179e"
             ],
             [
              0.4444444444444444,
              "#bd3786"
             ],
             [
              0.5555555555555556,
              "#d8576b"
             ],
             [
              0.6666666666666666,
              "#ed7953"
             ],
             [
              0.7777777777777778,
              "#fb9f3a"
             ],
             [
              0.8888888888888888,
              "#fdca26"
             ],
             [
              1,
              "#f0f921"
             ]
            ],
            "type": "heatmapgl"
           }
          ],
          "histogram": [
           {
            "marker": {
             "colorbar": {
              "outlinewidth": 0,
              "ticks": ""
             }
            },
            "type": "histogram"
           }
          ],
          "histogram2d": [
           {
            "colorbar": {
             "outlinewidth": 0,
             "ticks": ""
            },
            "colorscale": [
             [
              0,
              "#0d0887"
             ],
             [
              0.1111111111111111,
              "#46039f"
             ],
             [
              0.2222222222222222,
              "#7201a8"
             ],
             [
              0.3333333333333333,
              "#9c179e"
             ],
             [
              0.4444444444444444,
              "#bd3786"
             ],
             [
              0.5555555555555556,
              "#d8576b"
             ],
             [
              0.6666666666666666,
              "#ed7953"
             ],
             [
              0.7777777777777778,
              "#fb9f3a"
             ],
             [
              0.8888888888888888,
              "#fdca26"
             ],
             [
              1,
              "#f0f921"
             ]
            ],
            "type": "histogram2d"
           }
          ],
          "histogram2dcontour": [
           {
            "colorbar": {
             "outlinewidth": 0,
             "ticks": ""
            },
            "colorscale": [
             [
              0,
              "#0d0887"
             ],
             [
              0.1111111111111111,
              "#46039f"
             ],
             [
              0.2222222222222222,
              "#7201a8"
             ],
             [
              0.3333333333333333,
              "#9c179e"
             ],
             [
              0.4444444444444444,
              "#bd3786"
             ],
             [
              0.5555555555555556,
              "#d8576b"
             ],
             [
              0.6666666666666666,
              "#ed7953"
             ],
             [
              0.7777777777777778,
              "#fb9f3a"
             ],
             [
              0.8888888888888888,
              "#fdca26"
             ],
             [
              1,
              "#f0f921"
             ]
            ],
            "type": "histogram2dcontour"
           }
          ],
          "mesh3d": [
           {
            "colorbar": {
             "outlinewidth": 0,
             "ticks": ""
            },
            "type": "mesh3d"
           }
          ],
          "parcoords": [
           {
            "line": {
             "colorbar": {
              "outlinewidth": 0,
              "ticks": ""
             }
            },
            "type": "parcoords"
           }
          ],
          "pie": [
           {
            "automargin": true,
            "type": "pie"
           }
          ],
          "scatter": [
           {
            "marker": {
             "colorbar": {
              "outlinewidth": 0,
              "ticks": ""
             }
            },
            "type": "scatter"
           }
          ],
          "scatter3d": [
           {
            "line": {
             "colorbar": {
              "outlinewidth": 0,
              "ticks": ""
             }
            },
            "marker": {
             "colorbar": {
              "outlinewidth": 0,
              "ticks": ""
             }
            },
            "type": "scatter3d"
           }
          ],
          "scattercarpet": [
           {
            "marker": {
             "colorbar": {
              "outlinewidth": 0,
              "ticks": ""
             }
            },
            "type": "scattercarpet"
           }
          ],
          "scattergeo": [
           {
            "marker": {
             "colorbar": {
              "outlinewidth": 0,
              "ticks": ""
             }
            },
            "type": "scattergeo"
           }
          ],
          "scattergl": [
           {
            "marker": {
             "colorbar": {
              "outlinewidth": 0,
              "ticks": ""
             }
            },
            "type": "scattergl"
           }
          ],
          "scattermapbox": [
           {
            "marker": {
             "colorbar": {
              "outlinewidth": 0,
              "ticks": ""
             }
            },
            "type": "scattermapbox"
           }
          ],
          "scatterpolar": [
           {
            "marker": {
             "colorbar": {
              "outlinewidth": 0,
              "ticks": ""
             }
            },
            "type": "scatterpolar"
           }
          ],
          "scatterpolargl": [
           {
            "marker": {
             "colorbar": {
              "outlinewidth": 0,
              "ticks": ""
             }
            },
            "type": "scatterpolargl"
           }
          ],
          "scatterternary": [
           {
            "marker": {
             "colorbar": {
              "outlinewidth": 0,
              "ticks": ""
             }
            },
            "type": "scatterternary"
           }
          ],
          "surface": [
           {
            "colorbar": {
             "outlinewidth": 0,
             "ticks": ""
            },
            "colorscale": [
             [
              0,
              "#0d0887"
             ],
             [
              0.1111111111111111,
              "#46039f"
             ],
             [
              0.2222222222222222,
              "#7201a8"
             ],
             [
              0.3333333333333333,
              "#9c179e"
             ],
             [
              0.4444444444444444,
              "#bd3786"
             ],
             [
              0.5555555555555556,
              "#d8576b"
             ],
             [
              0.6666666666666666,
              "#ed7953"
             ],
             [
              0.7777777777777778,
              "#fb9f3a"
             ],
             [
              0.8888888888888888,
              "#fdca26"
             ],
             [
              1,
              "#f0f921"
             ]
            ],
            "type": "surface"
           }
          ],
          "table": [
           {
            "cells": {
             "fill": {
              "color": "#EBF0F8"
             },
             "line": {
              "color": "white"
             }
            },
            "header": {
             "fill": {
              "color": "#C8D4E3"
             },
             "line": {
              "color": "white"
             }
            },
            "type": "table"
           }
          ]
         },
         "layout": {
          "annotationdefaults": {
           "arrowcolor": "#2a3f5f",
           "arrowhead": 0,
           "arrowwidth": 1
          },
          "coloraxis": {
           "colorbar": {
            "outlinewidth": 0,
            "ticks": ""
           }
          },
          "colorscale": {
           "diverging": [
            [
             0,
             "#8e0152"
            ],
            [
             0.1,
             "#c51b7d"
            ],
            [
             0.2,
             "#de77ae"
            ],
            [
             0.3,
             "#f1b6da"
            ],
            [
             0.4,
             "#fde0ef"
            ],
            [
             0.5,
             "#f7f7f7"
            ],
            [
             0.6,
             "#e6f5d0"
            ],
            [
             0.7,
             "#b8e186"
            ],
            [
             0.8,
             "#7fbc41"
            ],
            [
             0.9,
             "#4d9221"
            ],
            [
             1,
             "#276419"
            ]
           ],
           "sequential": [
            [
             0,
             "#0d0887"
            ],
            [
             0.1111111111111111,
             "#46039f"
            ],
            [
             0.2222222222222222,
             "#7201a8"
            ],
            [
             0.3333333333333333,
             "#9c179e"
            ],
            [
             0.4444444444444444,
             "#bd3786"
            ],
            [
             0.5555555555555556,
             "#d8576b"
            ],
            [
             0.6666666666666666,
             "#ed7953"
            ],
            [
             0.7777777777777778,
             "#fb9f3a"
            ],
            [
             0.8888888888888888,
             "#fdca26"
            ],
            [
             1,
             "#f0f921"
            ]
           ],
           "sequentialminus": [
            [
             0,
             "#0d0887"
            ],
            [
             0.1111111111111111,
             "#46039f"
            ],
            [
             0.2222222222222222,
             "#7201a8"
            ],
            [
             0.3333333333333333,
             "#9c179e"
            ],
            [
             0.4444444444444444,
             "#bd3786"
            ],
            [
             0.5555555555555556,
             "#d8576b"
            ],
            [
             0.6666666666666666,
             "#ed7953"
            ],
            [
             0.7777777777777778,
             "#fb9f3a"
            ],
            [
             0.8888888888888888,
             "#fdca26"
            ],
            [
             1,
             "#f0f921"
            ]
           ]
          },
          "colorway": [
           "#636efa",
           "#EF553B",
           "#00cc96",
           "#ab63fa",
           "#FFA15A",
           "#19d3f3",
           "#FF6692",
           "#B6E880",
           "#FF97FF",
           "#FECB52"
          ],
          "font": {
           "color": "#2a3f5f"
          },
          "geo": {
           "bgcolor": "white",
           "lakecolor": "white",
           "landcolor": "#E5ECF6",
           "showlakes": true,
           "showland": true,
           "subunitcolor": "white"
          },
          "hoverlabel": {
           "align": "left"
          },
          "hovermode": "closest",
          "mapbox": {
           "style": "light"
          },
          "paper_bgcolor": "white",
          "plot_bgcolor": "#E5ECF6",
          "polar": {
           "angularaxis": {
            "gridcolor": "white",
            "linecolor": "white",
            "ticks": ""
           },
           "bgcolor": "#E5ECF6",
           "radialaxis": {
            "gridcolor": "white",
            "linecolor": "white",
            "ticks": ""
           }
          },
          "scene": {
           "xaxis": {
            "backgroundcolor": "#E5ECF6",
            "gridcolor": "white",
            "gridwidth": 2,
            "linecolor": "white",
            "showbackground": true,
            "ticks": "",
            "zerolinecolor": "white"
           },
           "yaxis": {
            "backgroundcolor": "#E5ECF6",
            "gridcolor": "white",
            "gridwidth": 2,
            "linecolor": "white",
            "showbackground": true,
            "ticks": "",
            "zerolinecolor": "white"
           },
           "zaxis": {
            "backgroundcolor": "#E5ECF6",
            "gridcolor": "white",
            "gridwidth": 2,
            "linecolor": "white",
            "showbackground": true,
            "ticks": "",
            "zerolinecolor": "white"
           }
          },
          "shapedefaults": {
           "line": {
            "color": "#2a3f5f"
           }
          },
          "ternary": {
           "aaxis": {
            "gridcolor": "white",
            "linecolor": "white",
            "ticks": ""
           },
           "baxis": {
            "gridcolor": "white",
            "linecolor": "white",
            "ticks": ""
           },
           "bgcolor": "#E5ECF6",
           "caxis": {
            "gridcolor": "white",
            "linecolor": "white",
            "ticks": ""
           }
          },
          "title": {
           "x": 0.05
          },
          "xaxis": {
           "automargin": true,
           "gridcolor": "white",
           "linecolor": "white",
           "ticks": "",
           "title": {
            "standoff": 15
           },
           "zerolinecolor": "white",
           "zerolinewidth": 2
          },
          "yaxis": {
           "automargin": true,
           "gridcolor": "white",
           "linecolor": "white",
           "ticks": "",
           "title": {
            "standoff": 15
           },
           "zerolinecolor": "white",
           "zerolinewidth": 2
          }
         }
        },
        "title": {
         "text": "Overview of total number of papers issued by country (96615 from 170814)"
        }
       }
      },
      "text/html": [
       "<div>\n",
       "        \n",
       "        \n",
       "            <div id=\"48c984d0-376f-4662-a5f4-4e0b176a9a60\" class=\"plotly-graph-div\" style=\"height:525px; width:100%;\"></div>\n",
       "            <script type=\"text/javascript\">\n",
       "                require([\"plotly\"], function(Plotly) {\n",
       "                    window.PLOTLYENV=window.PLOTLYENV || {};\n",
       "                    \n",
       "                if (document.getElementById(\"48c984d0-376f-4662-a5f4-4e0b176a9a60\")) {\n",
       "                    Plotly.newPlot(\n",
       "                        '48c984d0-376f-4662-a5f4-4e0b176a9a60',\n",
       "                        [{\"geo\": \"geo\", \"hovertemplate\": \"<b>%{hovertext}</b><br><br>country=United States<br>total_publications=%{marker.size}<br>country_code_alpha3=%{location}<extra></extra>\", \"hovertext\": [\"United States\"], \"legendgroup\": \"United States\", \"locations\": [\"USA\"], \"marker\": {\"color\": \"#636efa\", \"size\": [26604], \"sizemode\": \"area\", \"sizeref\": 66.51}, \"name\": \"United States\", \"showlegend\": true, \"type\": \"scattergeo\"}, {\"geo\": \"geo\", \"hovertemplate\": \"<b>%{hovertext}</b><br><br>country=China<br>total_publications=%{marker.size}<br>country_code_alpha3=%{location}<extra></extra>\", \"hovertext\": [\"China\"], \"legendgroup\": \"China\", \"locations\": [\"CHN\"], \"marker\": {\"color\": \"#EF553B\", \"size\": [21800], \"sizemode\": \"area\", \"sizeref\": 66.51}, \"name\": \"China\", \"showlegend\": true, \"type\": \"scattergeo\"}, {\"geo\": \"geo\", \"hovertemplate\": \"<b>%{hovertext}</b><br><br>country=France<br>total_publications=%{marker.size}<br>country_code_alpha3=%{location}<extra></extra>\", \"hovertext\": [\"France\"], \"legendgroup\": \"France\", \"locations\": [\"FRA\"], \"marker\": {\"color\": \"#00cc96\", \"size\": [3777], \"sizemode\": \"area\", \"sizeref\": 66.51}, \"name\": \"France\", \"showlegend\": true, \"type\": \"scattergeo\"}, {\"geo\": \"geo\", \"hovertemplate\": \"<b>%{hovertext}</b><br><br>country=Japan<br>total_publications=%{marker.size}<br>country_code_alpha3=%{location}<extra></extra>\", \"hovertext\": [\"Japan\"], \"legendgroup\": \"Japan\", \"locations\": [\"JPN\"], \"marker\": {\"color\": \"#ab63fa\", \"size\": [3709], \"sizemode\": \"area\", \"sizeref\": 66.51}, \"name\": \"Japan\", \"showlegend\": true, \"type\": \"scattergeo\"}, {\"geo\": \"geo\", \"hovertemplate\": \"<b>%{hovertext}</b><br><br>country=Canada<br>total_publications=%{marker.size}<br>country_code_alpha3=%{location}<extra></extra>\", \"hovertext\": [\"Canada\"], \"legendgroup\": \"Canada\", \"locations\": [\"CAN\"], \"marker\": {\"color\": \"#FFA15A\", \"size\": [3690], \"sizemode\": \"area\", \"sizeref\": 66.51}, \"name\": \"Canada\", \"showlegend\": true, \"type\": \"scattergeo\"}, {\"geo\": \"geo\", \"hovertemplate\": \"<b>%{hovertext}</b><br><br>country=United Kingdom<br>total_publications=%{marker.size}<br>country_code_alpha3=%{location}<extra></extra>\", \"hovertext\": [\"United Kingdom\"], \"legendgroup\": \"United Kingdom\", \"locations\": [\"GBR\"], \"marker\": {\"color\": \"#19d3f3\", \"size\": [3645], \"sizemode\": \"area\", \"sizeref\": 66.51}, \"name\": \"United Kingdom\", \"showlegend\": true, \"type\": \"scattergeo\"}, {\"geo\": \"geo\", \"hovertemplate\": \"<b>%{hovertext}</b><br><br>country=Korea, Republic of<br>total_publications=%{marker.size}<br>country_code_alpha3=%{location}<extra></extra>\", \"hovertext\": [\"Korea, Republic of\"], \"legendgroup\": \"Korea, Republic of\", \"locations\": [\"KOR\"], \"marker\": {\"color\": \"#FF6692\", \"size\": [3254], \"sizemode\": \"area\", \"sizeref\": 66.51}, \"name\": \"Korea, Republic of\", \"showlegend\": true, \"type\": \"scattergeo\"}, {\"geo\": \"geo\", \"hovertemplate\": \"<b>%{hovertext}</b><br><br>country=Germany<br>total_publications=%{marker.size}<br>country_code_alpha3=%{location}<extra></extra>\", \"hovertext\": [\"Germany\"], \"legendgroup\": \"Germany\", \"locations\": [\"DEU\"], \"marker\": {\"color\": \"#B6E880\", \"size\": [3208], \"sizemode\": \"area\", \"sizeref\": 66.51}, \"name\": \"Germany\", \"showlegend\": true, \"type\": \"scattergeo\"}, {\"geo\": \"geo\", \"hovertemplate\": \"<b>%{hovertext}</b><br><br>country=Taiwan<br>total_publications=%{marker.size}<br>country_code_alpha3=%{location}<extra></extra>\", \"hovertext\": [\"Taiwan\"], \"legendgroup\": \"Taiwan\", \"locations\": [\"TWN\"], \"marker\": {\"color\": \"#FF97FF\", \"size\": [2727], \"sizemode\": \"area\", \"sizeref\": 66.51}, \"name\": \"Taiwan\", \"showlegend\": true, \"type\": \"scattergeo\"}, {\"geo\": \"geo\", \"hovertemplate\": \"<b>%{hovertext}</b><br><br>country=Italy<br>total_publications=%{marker.size}<br>country_code_alpha3=%{location}<extra></extra>\", \"hovertext\": [\"Italy\"], \"legendgroup\": \"Italy\", \"locations\": [\"ITA\"], \"marker\": {\"color\": \"#FECB52\", \"size\": [2689], \"sizemode\": \"area\", \"sizeref\": 66.51}, \"name\": \"Italy\", \"showlegend\": true, \"type\": \"scattergeo\"}, {\"geo\": \"geo\", \"hovertemplate\": \"<b>%{hovertext}</b><br><br>country=Spain<br>total_publications=%{marker.size}<br>country_code_alpha3=%{location}<extra></extra>\", \"hovertext\": [\"Spain\"], \"legendgroup\": \"Spain\", \"locations\": [\"ESP\"], \"marker\": {\"color\": \"#636efa\", \"size\": [2441], \"sizemode\": \"area\", \"sizeref\": 66.51}, \"name\": \"Spain\", \"showlegend\": true, \"type\": \"scattergeo\"}, {\"geo\": \"geo\", \"hovertemplate\": \"<b>%{hovertext}</b><br><br>country=Netherlands<br>total_publications=%{marker.size}<br>country_code_alpha3=%{location}<extra></extra>\", \"hovertext\": [\"Netherlands\"], \"legendgroup\": \"Netherlands\", \"locations\": [\"NLD\"], \"marker\": {\"color\": \"#EF553B\", \"size\": [2372], \"sizemode\": \"area\", \"sizeref\": 66.51}, \"name\": \"Netherlands\", \"showlegend\": true, \"type\": \"scattergeo\"}, {\"geo\": \"geo\", \"hovertemplate\": \"<b>%{hovertext}</b><br><br>country=Brazil<br>total_publications=%{marker.size}<br>country_code_alpha3=%{location}<extra></extra>\", \"hovertext\": [\"Brazil\"], \"legendgroup\": \"Brazil\", \"locations\": [\"BRA\"], \"marker\": {\"color\": \"#00cc96\", \"size\": [1690], \"sizemode\": \"area\", \"sizeref\": 66.51}, \"name\": \"Brazil\", \"showlegend\": true, \"type\": \"scattergeo\"}, {\"geo\": \"geo\", \"hovertemplate\": \"<b>%{hovertext}</b><br><br>country=India<br>total_publications=%{marker.size}<br>country_code_alpha3=%{location}<extra></extra>\", \"hovertext\": [\"India\"], \"legendgroup\": \"India\", \"locations\": [\"IND\"], \"marker\": {\"color\": \"#ab63fa\", \"size\": [1324], \"sizemode\": \"area\", \"sizeref\": 66.51}, \"name\": \"India\", \"showlegend\": true, \"type\": \"scattergeo\"}, {\"geo\": \"geo\", \"hovertemplate\": \"<b>%{hovertext}</b><br><br>country=Switzerland<br>total_publications=%{marker.size}<br>country_code_alpha3=%{location}<extra></extra>\", \"hovertext\": [\"Switzerland\"], \"legendgroup\": \"Switzerland\", \"locations\": [\"CHE\"], \"marker\": {\"color\": \"#FFA15A\", \"size\": [1181], \"sizemode\": \"area\", \"sizeref\": 66.51}, \"name\": \"Switzerland\", \"showlegend\": true, \"type\": \"scattergeo\"}, {\"geo\": \"geo\", \"hovertemplate\": \"<b>%{hovertext}</b><br><br>country=Belgium<br>total_publications=%{marker.size}<br>country_code_alpha3=%{location}<extra></extra>\", \"hovertext\": [\"Belgium\"], \"legendgroup\": \"Belgium\", \"locations\": [\"BEL\"], \"marker\": {\"color\": \"#19d3f3\", \"size\": [1005], \"sizemode\": \"area\", \"sizeref\": 66.51}, \"name\": \"Belgium\", \"showlegend\": true, \"type\": \"scattergeo\"}, {\"geo\": \"geo\", \"hovertemplate\": \"<b>%{hovertext}</b><br><br>country=Singapore<br>total_publications=%{marker.size}<br>country_code_alpha3=%{location}<extra></extra>\", \"hovertext\": [\"Singapore\"], \"legendgroup\": \"Singapore\", \"locations\": [\"SGP\"], \"marker\": {\"color\": \"#FF6692\", \"size\": [970], \"sizemode\": \"area\", \"sizeref\": 66.51}, \"name\": \"Singapore\", \"showlegend\": true, \"type\": \"scattergeo\"}, {\"geo\": \"geo\", \"hovertemplate\": \"<b>%{hovertext}</b><br><br>country=Sweden<br>total_publications=%{marker.size}<br>country_code_alpha3=%{location}<extra></extra>\", \"hovertext\": [\"Sweden\"], \"legendgroup\": \"Sweden\", \"locations\": [\"SWE\"], \"marker\": {\"color\": \"#B6E880\", \"size\": [806], \"sizemode\": \"area\", \"sizeref\": 66.51}, \"name\": \"Sweden\", \"showlegend\": true, \"type\": \"scattergeo\"}, {\"geo\": \"geo\", \"hovertemplate\": \"<b>%{hovertext}</b><br><br>country=Saudi Arabia<br>total_publications=%{marker.size}<br>country_code_alpha3=%{location}<extra></extra>\", \"hovertext\": [\"Saudi Arabia\"], \"legendgroup\": \"Saudi Arabia\", \"locations\": [\"SAU\"], \"marker\": {\"color\": \"#FF97FF\", \"size\": [655], \"sizemode\": \"area\", \"sizeref\": 66.51}, \"name\": \"Saudi Arabia\", \"showlegend\": true, \"type\": \"scattergeo\"}, {\"geo\": \"geo\", \"hovertemplate\": \"<b>%{hovertext}</b><br><br>country=Denmark<br>total_publications=%{marker.size}<br>country_code_alpha3=%{location}<extra></extra>\", \"hovertext\": [\"Denmark\"], \"legendgroup\": \"Denmark\", \"locations\": [\"DNK\"], \"marker\": {\"color\": \"#FECB52\", \"size\": [564], \"sizemode\": \"area\", \"sizeref\": 66.51}, \"name\": \"Denmark\", \"showlegend\": true, \"type\": \"scattergeo\"}, {\"geo\": \"geo\", \"hovertemplate\": \"<b>%{hovertext}</b><br><br>country=Iran, Islamic Republic of<br>total_publications=%{marker.size}<br>country_code_alpha3=%{location}<extra></extra>\", \"hovertext\": [\"Iran, Islamic Republic of\"], \"legendgroup\": \"Iran, Islamic Republic of\", \"locations\": [\"IRN\"], \"marker\": {\"color\": \"#636efa\", \"size\": [491], \"sizemode\": \"area\", \"sizeref\": 66.51}, \"name\": \"Iran, Islamic Republic of\", \"showlegend\": true, \"type\": \"scattergeo\"}, {\"geo\": \"geo\", \"hovertemplate\": \"<b>%{hovertext}</b><br><br>country=Finland<br>total_publications=%{marker.size}<br>country_code_alpha3=%{location}<extra></extra>\", \"hovertext\": [\"Finland\"], \"legendgroup\": \"Finland\", \"locations\": [\"FIN\"], \"marker\": {\"color\": \"#EF553B\", \"size\": [464], \"sizemode\": \"area\", \"sizeref\": 66.51}, \"name\": \"Finland\", \"showlegend\": true, \"type\": \"scattergeo\"}, {\"geo\": \"geo\", \"hovertemplate\": \"<b>%{hovertext}</b><br><br>country=Thailand<br>total_publications=%{marker.size}<br>country_code_alpha3=%{location}<extra></extra>\", \"hovertext\": [\"Thailand\"], \"legendgroup\": \"Thailand\", \"locations\": [\"THA\"], \"marker\": {\"color\": \"#00cc96\", \"size\": [436], \"sizemode\": \"area\", \"sizeref\": 66.51}, \"name\": \"Thailand\", \"showlegend\": true, \"type\": \"scattergeo\"}, {\"geo\": \"geo\", \"hovertemplate\": \"<b>%{hovertext}</b><br><br>country=Poland<br>total_publications=%{marker.size}<br>country_code_alpha3=%{location}<extra></extra>\", \"hovertext\": [\"Poland\"], \"legendgroup\": \"Poland\", \"locations\": [\"POL\"], \"marker\": {\"color\": \"#ab63fa\", \"size\": [411], \"sizemode\": \"area\", \"sizeref\": 66.51}, \"name\": \"Poland\", \"showlegend\": true, \"type\": \"scattergeo\"}, {\"geo\": \"geo\", \"hovertemplate\": \"<b>%{hovertext}</b><br><br>country=Israel<br>total_publications=%{marker.size}<br>country_code_alpha3=%{location}<extra></extra>\", \"hovertext\": [\"Israel\"], \"legendgroup\": \"Israel\", \"locations\": [\"ISR\"], \"marker\": {\"color\": \"#FFA15A\", \"size\": [373], \"sizemode\": \"area\", \"sizeref\": 66.51}, \"name\": \"Israel\", \"showlegend\": true, \"type\": \"scattergeo\"}, {\"geo\": \"geo\", \"hovertemplate\": \"<b>%{hovertext}</b><br><br>country=Malaysia<br>total_publications=%{marker.size}<br>country_code_alpha3=%{location}<extra></extra>\", \"hovertext\": [\"Malaysia\"], \"legendgroup\": \"Malaysia\", \"locations\": [\"MYS\"], \"marker\": {\"color\": \"#19d3f3\", \"size\": [353], \"sizemode\": \"area\", \"sizeref\": 66.51}, \"name\": \"Malaysia\", \"showlegend\": true, \"type\": \"scattergeo\"}, {\"geo\": \"geo\", \"hovertemplate\": \"<b>%{hovertext}</b><br><br>country=Mexico<br>total_publications=%{marker.size}<br>country_code_alpha3=%{location}<extra></extra>\", \"hovertext\": [\"Mexico\"], \"legendgroup\": \"Mexico\", \"locations\": [\"MEX\"], \"marker\": {\"color\": \"#FF6692\", \"size\": [336], \"sizemode\": \"area\", \"sizeref\": 66.51}, \"name\": \"Mexico\", \"showlegend\": true, \"type\": \"scattergeo\"}, {\"geo\": \"geo\", \"hovertemplate\": \"<b>%{hovertext}</b><br><br>country=Greece<br>total_publications=%{marker.size}<br>country_code_alpha3=%{location}<extra></extra>\", \"hovertext\": [\"Greece\"], \"legendgroup\": \"Greece\", \"locations\": [\"GRC\"], \"marker\": {\"color\": \"#B6E880\", \"size\": [329], \"sizemode\": \"area\", \"sizeref\": 66.51}, \"name\": \"Greece\", \"showlegend\": true, \"type\": \"scattergeo\"}, {\"geo\": \"geo\", \"hovertemplate\": \"<b>%{hovertext}</b><br><br>country=Vietnam<br>total_publications=%{marker.size}<br>country_code_alpha3=%{location}<extra></extra>\", \"hovertext\": [\"Vietnam\"], \"legendgroup\": \"Vietnam\", \"locations\": [\"VNM\"], \"marker\": {\"color\": \"#FF97FF\", \"size\": [315], \"sizemode\": \"area\", \"sizeref\": 66.51}, \"name\": \"Vietnam\", \"showlegend\": true, \"type\": \"scattergeo\"}, {\"geo\": \"geo\", \"hovertemplate\": \"<b>%{hovertext}</b><br><br>country=Argentina<br>total_publications=%{marker.size}<br>country_code_alpha3=%{location}<extra></extra>\", \"hovertext\": [\"Argentina\"], \"legendgroup\": \"Argentina\", \"locations\": [\"ARG\"], \"marker\": {\"color\": \"#FECB52\", \"size\": [300], \"sizemode\": \"area\", \"sizeref\": 66.51}, \"name\": \"Argentina\", \"showlegend\": true, \"type\": \"scattergeo\"}, {\"geo\": \"geo\", \"hovertemplate\": \"<b>%{hovertext}</b><br><br>country=Turkey<br>total_publications=%{marker.size}<br>country_code_alpha3=%{location}<extra></extra>\", \"hovertext\": [\"Turkey\"], \"legendgroup\": \"Turkey\", \"locations\": [\"TUR\"], \"marker\": {\"color\": \"#636efa\", \"size\": [296], \"sizemode\": \"area\", \"sizeref\": 66.51}, \"name\": \"Turkey\", \"showlegend\": true, \"type\": \"scattergeo\"}, {\"geo\": \"geo\", \"hovertemplate\": \"<b>%{hovertext}</b><br><br>country=Portugal<br>total_publications=%{marker.size}<br>country_code_alpha3=%{location}<extra></extra>\", \"hovertext\": [\"Portugal\"], \"legendgroup\": \"Portugal\", \"locations\": [\"PRT\"], \"marker\": {\"color\": \"#EF553B\", \"size\": [295], \"sizemode\": \"area\", \"sizeref\": 66.51}, \"name\": \"Portugal\", \"showlegend\": true, \"type\": \"scattergeo\"}, {\"geo\": \"geo\", \"hovertemplate\": \"<b>%{hovertext}</b><br><br>country=Egypt<br>total_publications=%{marker.size}<br>country_code_alpha3=%{location}<extra></extra>\", \"hovertext\": [\"Egypt\"], \"legendgroup\": \"Egypt\", \"locations\": [\"EGY\"], \"marker\": {\"color\": \"#00cc96\", \"size\": [266], \"sizemode\": \"area\", \"sizeref\": 66.51}, \"name\": \"Egypt\", \"showlegend\": true, \"type\": \"scattergeo\"}, {\"geo\": \"geo\", \"hovertemplate\": \"<b>%{hovertext}</b><br><br>country=Norway<br>total_publications=%{marker.size}<br>country_code_alpha3=%{location}<extra></extra>\", \"hovertext\": [\"Norway\"], \"legendgroup\": \"Norway\", \"locations\": [\"NOR\"], \"marker\": {\"color\": \"#ab63fa\", \"size\": [237], \"sizemode\": \"area\", \"sizeref\": 66.51}, \"name\": \"Norway\", \"showlegend\": true, \"type\": \"scattergeo\"}, {\"geo\": \"geo\", \"hovertemplate\": \"<b>%{hovertext}</b><br><br>country=Ireland<br>total_publications=%{marker.size}<br>country_code_alpha3=%{location}<extra></extra>\", \"hovertext\": [\"Ireland\"], \"legendgroup\": \"Ireland\", \"locations\": [\"IRL\"], \"marker\": {\"color\": \"#FFA15A\", \"size\": [200], \"sizemode\": \"area\", \"sizeref\": 66.51}, \"name\": \"Ireland\", \"showlegend\": true, \"type\": \"scattergeo\"}, {\"geo\": \"geo\", \"hovertemplate\": \"<b>%{hovertext}</b><br><br>country=New Zealand<br>total_publications=%{marker.size}<br>country_code_alpha3=%{location}<extra></extra>\", \"hovertext\": [\"New Zealand\"], \"legendgroup\": \"New Zealand\", \"locations\": [\"NZL\"], \"marker\": {\"color\": \"#19d3f3\", \"size\": [191], \"sizemode\": \"area\", \"sizeref\": 66.51}, \"name\": \"New Zealand\", \"showlegend\": true, \"type\": \"scattergeo\"}, {\"geo\": \"geo\", \"hovertemplate\": \"<b>%{hovertext}</b><br><br>country=Hungary<br>total_publications=%{marker.size}<br>country_code_alpha3=%{location}<extra></extra>\", \"hovertext\": [\"Hungary\"], \"legendgroup\": \"Hungary\", \"locations\": [\"HUN\"], \"marker\": {\"color\": \"#FF6692\", \"size\": [186], \"sizemode\": \"area\", \"sizeref\": 66.51}, \"name\": \"Hungary\", \"showlegend\": true, \"type\": \"scattergeo\"}, {\"geo\": \"geo\", \"hovertemplate\": \"<b>%{hovertext}</b><br><br>country=Georgia<br>total_publications=%{marker.size}<br>country_code_alpha3=%{location}<extra></extra>\", \"hovertext\": [\"Georgia\"], \"legendgroup\": \"Georgia\", \"locations\": [\"GEO\"], \"marker\": {\"color\": \"#B6E880\", \"size\": [169], \"sizemode\": \"area\", \"sizeref\": 66.51}, \"name\": \"Georgia\", \"showlegend\": true, \"type\": \"scattergeo\"}, {\"geo\": \"geo\", \"hovertemplate\": \"<b>%{hovertext}</b><br><br>country=Chile<br>total_publications=%{marker.size}<br>country_code_alpha3=%{location}<extra></extra>\", \"hovertext\": [\"Chile\"], \"legendgroup\": \"Chile\", \"locations\": [\"CHL\"], \"marker\": {\"color\": \"#FF97FF\", \"size\": [153], \"sizemode\": \"area\", \"sizeref\": 66.51}, \"name\": \"Chile\", \"showlegend\": true, \"type\": \"scattergeo\"}, {\"geo\": \"geo\", \"hovertemplate\": \"<b>%{hovertext}</b><br><br>country=Kenya<br>total_publications=%{marker.size}<br>country_code_alpha3=%{location}<extra></extra>\", \"hovertext\": [\"Kenya\"], \"legendgroup\": \"Kenya\", \"locations\": [\"KEN\"], \"marker\": {\"color\": \"#FECB52\", \"size\": [145], \"sizemode\": \"area\", \"sizeref\": 66.51}, \"name\": \"Kenya\", \"showlegend\": true, \"type\": \"scattergeo\"}, {\"geo\": \"geo\", \"hovertemplate\": \"<b>%{hovertext}</b><br><br>country=Czechia<br>total_publications=%{marker.size}<br>country_code_alpha3=%{location}<extra></extra>\", \"hovertext\": [\"Czechia\"], \"legendgroup\": \"Czechia\", \"locations\": [\"CZE\"], \"marker\": {\"color\": \"#636efa\", \"size\": [141], \"sizemode\": \"area\", \"sizeref\": 66.51}, \"name\": \"Czechia\", \"showlegend\": true, \"type\": \"scattergeo\"}, {\"geo\": \"geo\", \"hovertemplate\": \"<b>%{hovertext}</b><br><br>country=Oman<br>total_publications=%{marker.size}<br>country_code_alpha3=%{location}<extra></extra>\", \"hovertext\": [\"Oman\"], \"legendgroup\": \"Oman\", \"locations\": [\"OMN\"], \"marker\": {\"color\": \"#EF553B\", \"size\": [121], \"sizemode\": \"area\", \"sizeref\": 66.51}, \"name\": \"Oman\", \"showlegend\": true, \"type\": \"scattergeo\"}, {\"geo\": \"geo\", \"hovertemplate\": \"<b>%{hovertext}</b><br><br>country=Colombia<br>total_publications=%{marker.size}<br>country_code_alpha3=%{location}<extra></extra>\", \"hovertext\": [\"Colombia\"], \"legendgroup\": \"Colombia\", \"locations\": [\"COL\"], \"marker\": {\"color\": \"#00cc96\", \"size\": [116], \"sizemode\": \"area\", \"sizeref\": 66.51}, \"name\": \"Colombia\", \"showlegend\": true, \"type\": \"scattergeo\"}, {\"geo\": \"geo\", \"hovertemplate\": \"<b>%{hovertext}</b><br><br>country=Pakistan<br>total_publications=%{marker.size}<br>country_code_alpha3=%{location}<extra></extra>\", \"hovertext\": [\"Pakistan\"], \"legendgroup\": \"Pakistan\", \"locations\": [\"PAK\"], \"marker\": {\"color\": \"#ab63fa\", \"size\": [111], \"sizemode\": \"area\", \"sizeref\": 66.51}, \"name\": \"Pakistan\", \"showlegend\": true, \"type\": \"scattergeo\"}, {\"geo\": \"geo\", \"hovertemplate\": \"<b>%{hovertext}</b><br><br>country=Ghana<br>total_publications=%{marker.size}<br>country_code_alpha3=%{location}<extra></extra>\", \"hovertext\": [\"Ghana\"], \"legendgroup\": \"Ghana\", \"locations\": [\"GHA\"], \"marker\": {\"color\": \"#FFA15A\", \"size\": [110], \"sizemode\": \"area\", \"sizeref\": 66.51}, \"name\": \"Ghana\", \"showlegend\": true, \"type\": \"scattergeo\"}, {\"geo\": \"geo\", \"hovertemplate\": \"<b>%{hovertext}</b><br><br>country=Bangladesh<br>total_publications=%{marker.size}<br>country_code_alpha3=%{location}<extra></extra>\", \"hovertext\": [\"Bangladesh\"], \"legendgroup\": \"Bangladesh\", \"locations\": [\"BGD\"], \"marker\": {\"color\": \"#19d3f3\", \"size\": [109], \"sizemode\": \"area\", \"sizeref\": 66.51}, \"name\": \"Bangladesh\", \"showlegend\": true, \"type\": \"scattergeo\"}, {\"geo\": \"geo\", \"hovertemplate\": \"<b>%{hovertext}</b><br><br>country=Niger<br>total_publications=%{marker.size}<br>country_code_alpha3=%{location}<extra></extra>\", \"hovertext\": [\"Niger\"], \"legendgroup\": \"Niger\", \"locations\": [\"NER\"], \"marker\": {\"color\": \"#FF6692\", \"size\": [101], \"sizemode\": \"area\", \"sizeref\": 66.51}, \"name\": \"Niger\", \"showlegend\": true, \"type\": \"scattergeo\"}, {\"geo\": \"geo\", \"hovertemplate\": \"<b>%{hovertext}</b><br><br>country=Croatia<br>total_publications=%{marker.size}<br>country_code_alpha3=%{location}<extra></extra>\", \"hovertext\": [\"Croatia\"], \"legendgroup\": \"Croatia\", \"locations\": [\"HRV\"], \"marker\": {\"color\": \"#B6E880\", \"size\": [88], \"sizemode\": \"area\", \"sizeref\": 66.51}, \"name\": \"Croatia\", \"showlegend\": true, \"type\": \"scattergeo\"}, {\"geo\": \"geo\", \"hovertemplate\": \"<b>%{hovertext}</b><br><br>country=Tunisia<br>total_publications=%{marker.size}<br>country_code_alpha3=%{location}<extra></extra>\", \"hovertext\": [\"Tunisia\"], \"legendgroup\": \"Tunisia\", \"locations\": [\"TUN\"], \"marker\": {\"color\": \"#FF97FF\", \"size\": [84], \"sizemode\": \"area\", \"sizeref\": 66.51}, \"name\": \"Tunisia\", \"showlegend\": true, \"type\": \"scattergeo\"}, {\"geo\": \"geo\", \"hovertemplate\": \"<b>%{hovertext}</b><br><br>country=Slovenia<br>total_publications=%{marker.size}<br>country_code_alpha3=%{location}<extra></extra>\", \"hovertext\": [\"Slovenia\"], \"legendgroup\": \"Slovenia\", \"locations\": [\"SVN\"], \"marker\": {\"color\": \"#FECB52\", \"size\": [80], \"sizemode\": \"area\", \"sizeref\": 66.51}, \"name\": \"Slovenia\", \"showlegend\": true, \"type\": \"scattergeo\"}, {\"geo\": \"geo\", \"hovertemplate\": \"<b>%{hovertext}</b><br><br>country=Cambodia<br>total_publications=%{marker.size}<br>country_code_alpha3=%{location}<extra></extra>\", \"hovertext\": [\"Cambodia\"], \"legendgroup\": \"Cambodia\", \"locations\": [\"KHM\"], \"marker\": {\"color\": \"#636efa\", \"size\": [72], \"sizemode\": \"area\", \"sizeref\": 66.51}, \"name\": \"Cambodia\", \"showlegend\": true, \"type\": \"scattergeo\"}, {\"geo\": \"geo\", \"hovertemplate\": \"<b>%{hovertext}</b><br><br>country=Indonesia<br>total_publications=%{marker.size}<br>country_code_alpha3=%{location}<extra></extra>\", \"hovertext\": [\"Indonesia\"], \"legendgroup\": \"Indonesia\", \"locations\": [\"IDN\"], \"marker\": {\"color\": \"#EF553B\", \"size\": [72], \"sizemode\": \"area\", \"sizeref\": 66.51}, \"name\": \"Indonesia\", \"showlegend\": true, \"type\": \"scattergeo\"}, {\"geo\": \"geo\", \"hovertemplate\": \"<b>%{hovertext}</b><br><br>country=Qatar<br>total_publications=%{marker.size}<br>country_code_alpha3=%{location}<extra></extra>\", \"hovertext\": [\"Qatar\"], \"legendgroup\": \"Qatar\", \"locations\": [\"QAT\"], \"marker\": {\"color\": \"#00cc96\", \"size\": [71], \"sizemode\": \"area\", \"sizeref\": 66.51}, \"name\": \"Qatar\", \"showlegend\": true, \"type\": \"scattergeo\"}, {\"geo\": \"geo\", \"hovertemplate\": \"<b>%{hovertext}</b><br><br>country=Senegal<br>total_publications=%{marker.size}<br>country_code_alpha3=%{location}<extra></extra>\", \"hovertext\": [\"Senegal\"], \"legendgroup\": \"Senegal\", \"locations\": [\"SEN\"], \"marker\": {\"color\": \"#ab63fa\", \"size\": [69], \"sizemode\": \"area\", \"sizeref\": 66.51}, \"name\": \"Senegal\", \"showlegend\": true, \"type\": \"scattergeo\"}, {\"geo\": \"geo\", \"hovertemplate\": \"<b>%{hovertext}</b><br><br>country=Uganda<br>total_publications=%{marker.size}<br>country_code_alpha3=%{location}<extra></extra>\", \"hovertext\": [\"Uganda\"], \"legendgroup\": \"Uganda\", \"locations\": [\"UGA\"], \"marker\": {\"color\": \"#FFA15A\", \"size\": [59], \"sizemode\": \"area\", \"sizeref\": 66.51}, \"name\": \"Uganda\", \"showlegend\": true, \"type\": \"scattergeo\"}, {\"geo\": \"geo\", \"hovertemplate\": \"<b>%{hovertext}</b><br><br>country=Jordan<br>total_publications=%{marker.size}<br>country_code_alpha3=%{location}<extra></extra>\", \"hovertext\": [\"Jordan\"], \"legendgroup\": \"Jordan\", \"locations\": [\"JOR\"], \"marker\": {\"color\": \"#19d3f3\", \"size\": [58], \"sizemode\": \"area\", \"sizeref\": 66.51}, \"name\": \"Jordan\", \"showlegend\": true, \"type\": \"scattergeo\"}, {\"geo\": \"geo\", \"hovertemplate\": \"<b>%{hovertext}</b><br><br>country=Gabon<br>total_publications=%{marker.size}<br>country_code_alpha3=%{location}<extra></extra>\", \"hovertext\": [\"Gabon\"], \"legendgroup\": \"Gabon\", \"locations\": [\"GAB\"], \"marker\": {\"color\": \"#FF6692\", \"size\": [53], \"sizemode\": \"area\", \"sizeref\": 66.51}, \"name\": \"Gabon\", \"showlegend\": true, \"type\": \"scattergeo\"}, {\"geo\": \"geo\", \"hovertemplate\": \"<b>%{hovertext}</b><br><br>country=Peru<br>total_publications=%{marker.size}<br>country_code_alpha3=%{location}<extra></extra>\", \"hovertext\": [\"Peru\"], \"legendgroup\": \"Peru\", \"locations\": [\"PER\"], \"marker\": {\"color\": \"#B6E880\", \"size\": [47], \"sizemode\": \"area\", \"sizeref\": 66.51}, \"name\": \"Peru\", \"showlegend\": true, \"type\": \"scattergeo\"}, {\"geo\": \"geo\", \"hovertemplate\": \"<b>%{hovertext}</b><br><br>country=Cameroon<br>total_publications=%{marker.size}<br>country_code_alpha3=%{location}<extra></extra>\", \"hovertext\": [\"Cameroon\"], \"legendgroup\": \"Cameroon\", \"locations\": [\"CMR\"], \"marker\": {\"color\": \"#FF97FF\", \"size\": [47], \"sizemode\": \"area\", \"sizeref\": 66.51}, \"name\": \"Cameroon\", \"showlegend\": true, \"type\": \"scattergeo\"}, {\"geo\": \"geo\", \"hovertemplate\": \"<b>%{hovertext}</b><br><br>country=Madagascar<br>total_publications=%{marker.size}<br>country_code_alpha3=%{location}<extra></extra>\", \"hovertext\": [\"Madagascar\"], \"legendgroup\": \"Madagascar\", \"locations\": [\"MDG\"], \"marker\": {\"color\": \"#FECB52\", \"size\": [46], \"sizemode\": \"area\", \"sizeref\": 66.51}, \"name\": \"Madagascar\", \"showlegend\": true, \"type\": \"scattergeo\"}, {\"geo\": \"geo\", \"hovertemplate\": \"<b>%{hovertext}</b><br><br>country=Venezuela<br>total_publications=%{marker.size}<br>country_code_alpha3=%{location}<extra></extra>\", \"hovertext\": [\"Venezuela\"], \"legendgroup\": \"Venezuela\", \"locations\": [\"VEN\"], \"marker\": {\"color\": \"#636efa\", \"size\": [44], \"sizemode\": \"area\", \"sizeref\": 66.51}, \"name\": \"Venezuela\", \"showlegend\": true, \"type\": \"scattergeo\"}, {\"geo\": \"geo\", \"hovertemplate\": \"<b>%{hovertext}</b><br><br>country=Uruguay<br>total_publications=%{marker.size}<br>country_code_alpha3=%{location}<extra></extra>\", \"hovertext\": [\"Uruguay\"], \"legendgroup\": \"Uruguay\", \"locations\": [\"URY\"], \"marker\": {\"color\": \"#EF553B\", \"size\": [43], \"sizemode\": \"area\", \"sizeref\": 66.51}, \"name\": \"Uruguay\", \"showlegend\": true, \"type\": \"scattergeo\"}, {\"geo\": \"geo\", \"hovertemplate\": \"<b>%{hovertext}</b><br><br>country=Estonia<br>total_publications=%{marker.size}<br>country_code_alpha3=%{location}<extra></extra>\", \"hovertext\": [\"Estonia\"], \"legendgroup\": \"Estonia\", \"locations\": [\"EST\"], \"marker\": {\"color\": \"#00cc96\", \"size\": [43], \"sizemode\": \"area\", \"sizeref\": 66.51}, \"name\": \"Estonia\", \"showlegend\": true, \"type\": \"scattergeo\"}, {\"geo\": \"geo\", \"hovertemplate\": \"<b>%{hovertext}</b><br><br>country=Serbia<br>total_publications=%{marker.size}<br>country_code_alpha3=%{location}<extra></extra>\", \"hovertext\": [\"Serbia\"], \"legendgroup\": \"Serbia\", \"locations\": [\"SRB\"], \"marker\": {\"color\": \"#ab63fa\", \"size\": [41], \"sizemode\": \"area\", \"sizeref\": 66.51}, \"name\": \"Serbia\", \"showlegend\": true, \"type\": \"scattergeo\"}, {\"geo\": \"geo\", \"hovertemplate\": \"<b>%{hovertext}</b><br><br>country=Tanzania<br>total_publications=%{marker.size}<br>country_code_alpha3=%{location}<extra></extra>\", \"hovertext\": [\"Tanzania\"], \"legendgroup\": \"Tanzania\", \"locations\": [\"TZA\"], \"marker\": {\"color\": \"#FFA15A\", \"size\": [37], \"sizemode\": \"area\", \"sizeref\": 66.51}, \"name\": \"Tanzania\", \"showlegend\": true, \"type\": \"scattergeo\"}, {\"geo\": \"geo\", \"hovertemplate\": \"<b>%{hovertext}</b><br><br>country=Congo<br>total_publications=%{marker.size}<br>country_code_alpha3=%{location}<extra></extra>\", \"hovertext\": [\"Congo\"], \"legendgroup\": \"Congo\", \"locations\": [\"COG\"], \"marker\": {\"color\": \"#19d3f3\", \"size\": [37], \"sizemode\": \"area\", \"sizeref\": 66.51}, \"name\": \"Congo\", \"showlegend\": true, \"type\": \"scattergeo\"}, {\"geo\": \"geo\", \"hovertemplate\": \"<b>%{hovertext}</b><br><br>country=Guinea<br>total_publications=%{marker.size}<br>country_code_alpha3=%{location}<extra></extra>\", \"hovertext\": [\"Guinea\"], \"legendgroup\": \"Guinea\", \"locations\": [\"GIN\"], \"marker\": {\"color\": \"#FF6692\", \"size\": [33], \"sizemode\": \"area\", \"sizeref\": 66.51}, \"name\": \"Guinea\", \"showlegend\": true, \"type\": \"scattergeo\"}, {\"geo\": \"geo\", \"hovertemplate\": \"<b>%{hovertext}</b><br><br>country=Nepal<br>total_publications=%{marker.size}<br>country_code_alpha3=%{location}<extra></extra>\", \"hovertext\": [\"Nepal\"], \"legendgroup\": \"Nepal\", \"locations\": [\"NPL\"], \"marker\": {\"color\": \"#B6E880\", \"size\": [33], \"sizemode\": \"area\", \"sizeref\": 66.51}, \"name\": \"Nepal\", \"showlegend\": true, \"type\": \"scattergeo\"}, {\"geo\": \"geo\", \"hovertemplate\": \"<b>%{hovertext}</b><br><br>country=Slovakia<br>total_publications=%{marker.size}<br>country_code_alpha3=%{location}<extra></extra>\", \"hovertext\": [\"Slovakia\"], \"legendgroup\": \"Slovakia\", \"locations\": [\"SVK\"], \"marker\": {\"color\": \"#FF97FF\", \"size\": [31], \"sizemode\": \"area\", \"sizeref\": 66.51}, \"name\": \"Slovakia\", \"showlegend\": true, \"type\": \"scattergeo\"}, {\"geo\": \"geo\", \"hovertemplate\": \"<b>%{hovertext}</b><br><br>country=Algeria<br>total_publications=%{marker.size}<br>country_code_alpha3=%{location}<extra></extra>\", \"hovertext\": [\"Algeria\"], \"legendgroup\": \"Algeria\", \"locations\": [\"DZA\"], \"marker\": {\"color\": \"#FECB52\", \"size\": [28], \"sizemode\": \"area\", \"sizeref\": 66.51}, \"name\": \"Algeria\", \"showlegend\": true, \"type\": \"scattergeo\"}, {\"geo\": \"geo\", \"hovertemplate\": \"<b>%{hovertext}</b><br><br>country=Philippines<br>total_publications=%{marker.size}<br>country_code_alpha3=%{location}<extra></extra>\", \"hovertext\": [\"Philippines\"], \"legendgroup\": \"Philippines\", \"locations\": [\"PHL\"], \"marker\": {\"color\": \"#636efa\", \"size\": [27], \"sizemode\": \"area\", \"sizeref\": 66.51}, \"name\": \"Philippines\", \"showlegend\": true, \"type\": \"scattergeo\"}, {\"geo\": \"geo\", \"hovertemplate\": \"<b>%{hovertext}</b><br><br>country=Kuwait<br>total_publications=%{marker.size}<br>country_code_alpha3=%{location}<extra></extra>\", \"hovertext\": [\"Kuwait\"], \"legendgroup\": \"Kuwait\", \"locations\": [\"KWT\"], \"marker\": {\"color\": \"#EF553B\", \"size\": [25], \"sizemode\": \"area\", \"sizeref\": 66.51}, \"name\": \"Kuwait\", \"showlegend\": true, \"type\": \"scattergeo\"}, {\"geo\": \"geo\", \"hovertemplate\": \"<b>%{hovertext}</b><br><br>country=Ecuador<br>total_publications=%{marker.size}<br>country_code_alpha3=%{location}<extra></extra>\", \"hovertext\": [\"Ecuador\"], \"legendgroup\": \"Ecuador\", \"locations\": [\"ECU\"], \"marker\": {\"color\": \"#00cc96\", \"size\": [22], \"sizemode\": \"area\", \"sizeref\": 66.51}, \"name\": \"Ecuador\", \"showlegend\": true, \"type\": \"scattergeo\"}, {\"geo\": \"geo\", \"hovertemplate\": \"<b>%{hovertext}</b><br><br>country=Ethiopia<br>total_publications=%{marker.size}<br>country_code_alpha3=%{location}<extra></extra>\", \"hovertext\": [\"Ethiopia\"], \"legendgroup\": \"Ethiopia\", \"locations\": [\"ETH\"], \"marker\": {\"color\": \"#ab63fa\", \"size\": [22], \"sizemode\": \"area\", \"sizeref\": 66.51}, \"name\": \"Ethiopia\", \"showlegend\": true, \"type\": \"scattergeo\"}, {\"geo\": \"geo\", \"hovertemplate\": \"<b>%{hovertext}</b><br><br>country=Lebanon<br>total_publications=%{marker.size}<br>country_code_alpha3=%{location}<extra></extra>\", \"hovertext\": [\"Lebanon\"], \"legendgroup\": \"Lebanon\", \"locations\": [\"LBN\"], \"marker\": {\"color\": \"#FFA15A\", \"size\": [22], \"sizemode\": \"area\", \"sizeref\": 66.51}, \"name\": \"Lebanon\", \"showlegend\": true, \"type\": \"scattergeo\"}, {\"geo\": \"geo\", \"hovertemplate\": \"<b>%{hovertext}</b><br><br>country=Cuba<br>total_publications=%{marker.size}<br>country_code_alpha3=%{location}<extra></extra>\", \"hovertext\": [\"Cuba\"], \"legendgroup\": \"Cuba\", \"locations\": [\"CUB\"], \"marker\": {\"color\": \"#19d3f3\", \"size\": [22], \"sizemode\": \"area\", \"sizeref\": 66.51}, \"name\": \"Cuba\", \"showlegend\": true, \"type\": \"scattergeo\"}, {\"geo\": \"geo\", \"hovertemplate\": \"<b>%{hovertext}</b><br><br>country=Sudan<br>total_publications=%{marker.size}<br>country_code_alpha3=%{location}<extra></extra>\", \"hovertext\": [\"Sudan\"], \"legendgroup\": \"Sudan\", \"locations\": [\"SDN\"], \"marker\": {\"color\": \"#FF6692\", \"size\": [21], \"sizemode\": \"area\", \"sizeref\": 66.51}, \"name\": \"Sudan\", \"showlegend\": true, \"type\": \"scattergeo\"}, {\"geo\": \"geo\", \"hovertemplate\": \"<b>%{hovertext}</b><br><br>country=Gambia<br>total_publications=%{marker.size}<br>country_code_alpha3=%{location}<extra></extra>\", \"hovertext\": [\"Gambia\"], \"legendgroup\": \"Gambia\", \"locations\": [\"GMB\"], \"marker\": {\"color\": \"#B6E880\", \"size\": [21], \"sizemode\": \"area\", \"sizeref\": 66.51}, \"name\": \"Gambia\", \"showlegend\": true, \"type\": \"scattergeo\"}, {\"geo\": \"geo\", \"hovertemplate\": \"<b>%{hovertext}</b><br><br>country=Lithuania<br>total_publications=%{marker.size}<br>country_code_alpha3=%{location}<extra></extra>\", \"hovertext\": [\"Lithuania\"], \"legendgroup\": \"Lithuania\", \"locations\": [\"LTU\"], \"marker\": {\"color\": \"#FF97FF\", \"size\": [21], \"sizemode\": \"area\", \"sizeref\": 66.51}, \"name\": \"Lithuania\", \"showlegend\": true, \"type\": \"scattergeo\"}, {\"geo\": \"geo\", \"hovertemplate\": \"<b>%{hovertext}</b><br><br>country=Jersey<br>total_publications=%{marker.size}<br>country_code_alpha3=%{location}<extra></extra>\", \"hovertext\": [\"Jersey\"], \"legendgroup\": \"Jersey\", \"locations\": [\"JEY\"], \"marker\": {\"color\": \"#FECB52\", \"size\": [19], \"sizemode\": \"area\", \"sizeref\": 66.51}, \"name\": \"Jersey\", \"showlegend\": true, \"type\": \"scattergeo\"}, {\"geo\": \"geo\", \"hovertemplate\": \"<b>%{hovertext}</b><br><br>country=Bulgaria<br>total_publications=%{marker.size}<br>country_code_alpha3=%{location}<extra></extra>\", \"hovertext\": [\"Bulgaria\"], \"legendgroup\": \"Bulgaria\", \"locations\": [\"BGR\"], \"marker\": {\"color\": \"#636efa\", \"size\": [19], \"sizemode\": \"area\", \"sizeref\": 66.51}, \"name\": \"Bulgaria\", \"showlegend\": true, \"type\": \"scattergeo\"}, {\"geo\": \"geo\", \"hovertemplate\": \"<b>%{hovertext}</b><br><br>country=Malawi<br>total_publications=%{marker.size}<br>country_code_alpha3=%{location}<extra></extra>\", \"hovertext\": [\"Malawi\"], \"legendgroup\": \"Malawi\", \"locations\": [\"MWI\"], \"marker\": {\"color\": \"#EF553B\", \"size\": [17], \"sizemode\": \"area\", \"sizeref\": 66.51}, \"name\": \"Malawi\", \"showlegend\": true, \"type\": \"scattergeo\"}, {\"geo\": \"geo\", \"hovertemplate\": \"<b>%{hovertext}</b><br><br>country=Namibia<br>total_publications=%{marker.size}<br>country_code_alpha3=%{location}<extra></extra>\", \"hovertext\": [\"Namibia\"], \"legendgroup\": \"Namibia\", \"locations\": [\"NAM\"], \"marker\": {\"color\": \"#00cc96\", \"size\": [17], \"sizemode\": \"area\", \"sizeref\": 66.51}, \"name\": \"Namibia\", \"showlegend\": true, \"type\": \"scattergeo\"}, {\"geo\": \"geo\", \"hovertemplate\": \"<b>%{hovertext}</b><br><br>country=Kazakhstan<br>total_publications=%{marker.size}<br>country_code_alpha3=%{location}<extra></extra>\", \"hovertext\": [\"Kazakhstan\"], \"legendgroup\": \"Kazakhstan\", \"locations\": [\"KAZ\"], \"marker\": {\"color\": \"#ab63fa\", \"size\": [16], \"sizemode\": \"area\", \"sizeref\": 66.51}, \"name\": \"Kazakhstan\", \"showlegend\": true, \"type\": \"scattergeo\"}, {\"geo\": \"geo\", \"hovertemplate\": \"<b>%{hovertext}</b><br><br>country=Iraq<br>total_publications=%{marker.size}<br>country_code_alpha3=%{location}<extra></extra>\", \"hovertext\": [\"Iraq\"], \"legendgroup\": \"Iraq\", \"locations\": [\"IRQ\"], \"marker\": {\"color\": \"#FFA15A\", \"size\": [15], \"sizemode\": \"area\", \"sizeref\": 66.51}, \"name\": \"Iraq\", \"showlegend\": true, \"type\": \"scattergeo\"}, {\"geo\": \"geo\", \"hovertemplate\": \"<b>%{hovertext}</b><br><br>country=Zambia<br>total_publications=%{marker.size}<br>country_code_alpha3=%{location}<extra></extra>\", \"hovertext\": [\"Zambia\"], \"legendgroup\": \"Zambia\", \"locations\": [\"ZMB\"], \"marker\": {\"color\": \"#19d3f3\", \"size\": [15], \"sizemode\": \"area\", \"sizeref\": 66.51}, \"name\": \"Zambia\", \"showlegend\": true, \"type\": \"scattergeo\"}, {\"geo\": \"geo\", \"hovertemplate\": \"<b>%{hovertext}</b><br><br>country=Palestine, State of<br>total_publications=%{marker.size}<br>country_code_alpha3=%{location}<extra></extra>\", \"hovertext\": [\"Palestine, State of\"], \"legendgroup\": \"Palestine, State of\", \"locations\": [\"PSE\"], \"marker\": {\"color\": \"#FF6692\", \"size\": [15], \"sizemode\": \"area\", \"sizeref\": 66.51}, \"name\": \"Palestine, State of\", \"showlegend\": true, \"type\": \"scattergeo\"}, {\"geo\": \"geo\", \"hovertemplate\": \"<b>%{hovertext}</b><br><br>country=Mali<br>total_publications=%{marker.size}<br>country_code_alpha3=%{location}<extra></extra>\", \"hovertext\": [\"Mali\"], \"legendgroup\": \"Mali\", \"locations\": [\"MLI\"], \"marker\": {\"color\": \"#B6E880\", \"size\": [14], \"sizemode\": \"area\", \"sizeref\": 66.51}, \"name\": \"Mali\", \"showlegend\": true, \"type\": \"scattergeo\"}, {\"geo\": \"geo\", \"hovertemplate\": \"<b>%{hovertext}</b><br><br>country=Mozambique<br>total_publications=%{marker.size}<br>country_code_alpha3=%{location}<extra></extra>\", \"hovertext\": [\"Mozambique\"], \"legendgroup\": \"Mozambique\", \"locations\": [\"MOZ\"], \"marker\": {\"color\": \"#FF97FF\", \"size\": [13], \"sizemode\": \"area\", \"sizeref\": 66.51}, \"name\": \"Mozambique\", \"showlegend\": true, \"type\": \"scattergeo\"}, {\"geo\": \"geo\", \"hovertemplate\": \"<b>%{hovertext}</b><br><br>country=Honduras<br>total_publications=%{marker.size}<br>country_code_alpha3=%{location}<extra></extra>\", \"hovertext\": [\"Honduras\"], \"legendgroup\": \"Honduras\", \"locations\": [\"HND\"], \"marker\": {\"color\": \"#FECB52\", \"size\": [12], \"sizemode\": \"area\", \"sizeref\": 66.51}, \"name\": \"Honduras\", \"showlegend\": true, \"type\": \"scattergeo\"}, {\"geo\": \"geo\", \"hovertemplate\": \"<b>%{hovertext}</b><br><br>country=Benin<br>total_publications=%{marker.size}<br>country_code_alpha3=%{location}<extra></extra>\", \"hovertext\": [\"Benin\"], \"legendgroup\": \"Benin\", \"locations\": [\"BEN\"], \"marker\": {\"color\": \"#636efa\", \"size\": [10], \"sizemode\": \"area\", \"sizeref\": 66.51}, \"name\": \"Benin\", \"showlegend\": true, \"type\": \"scattergeo\"}, {\"geo\": \"geo\", \"hovertemplate\": \"<b>%{hovertext}</b><br><br>country=Liberia<br>total_publications=%{marker.size}<br>country_code_alpha3=%{location}<extra></extra>\", \"hovertext\": [\"Liberia\"], \"legendgroup\": \"Liberia\", \"locations\": [\"LBR\"], \"marker\": {\"color\": \"#EF553B\", \"size\": [10], \"sizemode\": \"area\", \"sizeref\": 66.51}, \"name\": \"Liberia\", \"showlegend\": true, \"type\": \"scattergeo\"}, {\"geo\": \"geo\", \"hovertemplate\": \"<b>%{hovertext}</b><br><br>country=Botswana<br>total_publications=%{marker.size}<br>country_code_alpha3=%{location}<extra></extra>\", \"hovertext\": [\"Botswana\"], \"legendgroup\": \"Botswana\", \"locations\": [\"BWA\"], \"marker\": {\"color\": \"#00cc96\", \"size\": [9], \"sizemode\": \"area\", \"sizeref\": 66.51}, \"name\": \"Botswana\", \"showlegend\": true, \"type\": \"scattergeo\"}, {\"geo\": \"geo\", \"hovertemplate\": \"<b>%{hovertext}</b><br><br>country=Jamaica<br>total_publications=%{marker.size}<br>country_code_alpha3=%{location}<extra></extra>\", \"hovertext\": [\"Jamaica\"], \"legendgroup\": \"Jamaica\", \"locations\": [\"JAM\"], \"marker\": {\"color\": \"#ab63fa\", \"size\": [8], \"sizemode\": \"area\", \"sizeref\": 66.51}, \"name\": \"Jamaica\", \"showlegend\": true, \"type\": \"scattergeo\"}, {\"geo\": \"geo\", \"hovertemplate\": \"<b>%{hovertext}</b><br><br>country=Luxembourg<br>total_publications=%{marker.size}<br>country_code_alpha3=%{location}<extra></extra>\", \"hovertext\": [\"Luxembourg\"], \"legendgroup\": \"Luxembourg\", \"locations\": [\"LUX\"], \"marker\": {\"color\": \"#FFA15A\", \"size\": [8], \"sizemode\": \"area\", \"sizeref\": 66.51}, \"name\": \"Luxembourg\", \"showlegend\": true, \"type\": \"scattergeo\"}, {\"geo\": \"geo\", \"hovertemplate\": \"<b>%{hovertext}</b><br><br>country=Bahrain<br>total_publications=%{marker.size}<br>country_code_alpha3=%{location}<extra></extra>\", \"hovertext\": [\"Bahrain\"], \"legendgroup\": \"Bahrain\", \"locations\": [\"BHR\"], \"marker\": {\"color\": \"#19d3f3\", \"size\": [7], \"sizemode\": \"area\", \"sizeref\": 66.51}, \"name\": \"Bahrain\", \"showlegend\": true, \"type\": \"scattergeo\"}, {\"geo\": \"geo\", \"hovertemplate\": \"<b>%{hovertext}</b><br><br>country=United Arab Emirates<br>total_publications=%{marker.size}<br>country_code_alpha3=%{location}<extra></extra>\", \"hovertext\": [\"United Arab Emirates\"], \"legendgroup\": \"United Arab Emirates\", \"locations\": [\"ARE\"], \"marker\": {\"color\": \"#FF6692\", \"size\": [7], \"sizemode\": \"area\", \"sizeref\": 66.51}, \"name\": \"United Arab Emirates\", \"showlegend\": true, \"type\": \"scattergeo\"}, {\"geo\": \"geo\", \"hovertemplate\": \"<b>%{hovertext}</b><br><br>country=Paraguay<br>total_publications=%{marker.size}<br>country_code_alpha3=%{location}<extra></extra>\", \"hovertext\": [\"Paraguay\"], \"legendgroup\": \"Paraguay\", \"locations\": [\"PRY\"], \"marker\": {\"color\": \"#B6E880\", \"size\": [6], \"sizemode\": \"area\", \"sizeref\": 66.51}, \"name\": \"Paraguay\", \"showlegend\": true, \"type\": \"scattergeo\"}, {\"geo\": \"geo\", \"hovertemplate\": \"<b>%{hovertext}</b><br><br>country=Nicaragua<br>total_publications=%{marker.size}<br>country_code_alpha3=%{location}<extra></extra>\", \"hovertext\": [\"Nicaragua\"], \"legendgroup\": \"Nicaragua\", \"locations\": [\"NIC\"], \"marker\": {\"color\": \"#FF97FF\", \"size\": [6], \"sizemode\": \"area\", \"sizeref\": 66.51}, \"name\": \"Nicaragua\", \"showlegend\": true, \"type\": \"scattergeo\"}, {\"geo\": \"geo\", \"hovertemplate\": \"<b>%{hovertext}</b><br><br>country=Haiti<br>total_publications=%{marker.size}<br>country_code_alpha3=%{location}<extra></extra>\", \"hovertext\": [\"Haiti\"], \"legendgroup\": \"Haiti\", \"locations\": [\"HTI\"], \"marker\": {\"color\": \"#FECB52\", \"size\": [6], \"sizemode\": \"area\", \"sizeref\": 66.51}, \"name\": \"Haiti\", \"showlegend\": true, \"type\": \"scattergeo\"}, {\"geo\": \"geo\", \"hovertemplate\": \"<b>%{hovertext}</b><br><br>country=Sri Lanka<br>total_publications=%{marker.size}<br>country_code_alpha3=%{location}<extra></extra>\", \"hovertext\": [\"Sri Lanka\"], \"legendgroup\": \"Sri Lanka\", \"locations\": [\"LKA\"], \"marker\": {\"color\": \"#636efa\", \"size\": [6], \"sizemode\": \"area\", \"sizeref\": 66.51}, \"name\": \"Sri Lanka\", \"showlegend\": true, \"type\": \"scattergeo\"}, {\"geo\": \"geo\", \"hovertemplate\": \"<b>%{hovertext}</b><br><br>country=Mongolia<br>total_publications=%{marker.size}<br>country_code_alpha3=%{location}<extra></extra>\", \"hovertext\": [\"Mongolia\"], \"legendgroup\": \"Mongolia\", \"locations\": [\"MNG\"], \"marker\": {\"color\": \"#EF553B\", \"size\": [6], \"sizemode\": \"area\", \"sizeref\": 66.51}, \"name\": \"Mongolia\", \"showlegend\": true, \"type\": \"scattergeo\"}, {\"geo\": \"geo\", \"hovertemplate\": \"<b>%{hovertext}</b><br><br>country=North Macedonia<br>total_publications=%{marker.size}<br>country_code_alpha3=%{location}<extra></extra>\", \"hovertext\": [\"North Macedonia\"], \"legendgroup\": \"North Macedonia\", \"locations\": [\"MKD\"], \"marker\": {\"color\": \"#00cc96\", \"size\": [6], \"sizemode\": \"area\", \"sizeref\": 66.51}, \"name\": \"North Macedonia\", \"showlegend\": true, \"type\": \"scattergeo\"}, {\"geo\": \"geo\", \"hovertemplate\": \"<b>%{hovertext}</b><br><br>country=South Africa<br>total_publications=%{marker.size}<br>country_code_alpha3=%{location}<extra></extra>\", \"hovertext\": [\"South Africa\"], \"legendgroup\": \"South Africa\", \"locations\": [\"ZAF\"], \"marker\": {\"color\": \"#ab63fa\", \"size\": [5], \"sizemode\": \"area\", \"sizeref\": 66.51}, \"name\": \"South Africa\", \"showlegend\": true, \"type\": \"scattergeo\"}, {\"geo\": \"geo\", \"hovertemplate\": \"<b>%{hovertext}</b><br><br>country=Macao<br>total_publications=%{marker.size}<br>country_code_alpha3=%{location}<extra></extra>\", \"hovertext\": [\"Macao\"], \"legendgroup\": \"Macao\", \"locations\": [\"MAC\"], \"marker\": {\"color\": \"#FFA15A\", \"size\": [5], \"sizemode\": \"area\", \"sizeref\": 66.51}, \"name\": \"Macao\", \"showlegend\": true, \"type\": \"scattergeo\"}, {\"geo\": \"geo\", \"hovertemplate\": \"<b>%{hovertext}</b><br><br>country=Armenia<br>total_publications=%{marker.size}<br>country_code_alpha3=%{location}<extra></extra>\", \"hovertext\": [\"Armenia\"], \"legendgroup\": \"Armenia\", \"locations\": [\"ARM\"], \"marker\": {\"color\": \"#19d3f3\", \"size\": [5], \"sizemode\": \"area\", \"sizeref\": 66.51}, \"name\": \"Armenia\", \"showlegend\": true, \"type\": \"scattergeo\"}, {\"geo\": \"geo\", \"hovertemplate\": \"<b>%{hovertext}</b><br><br>country=Grenada<br>total_publications=%{marker.size}<br>country_code_alpha3=%{location}<extra></extra>\", \"hovertext\": [\"Grenada\"], \"legendgroup\": \"Grenada\", \"locations\": [\"GRD\"], \"marker\": {\"color\": \"#FF6692\", \"size\": [4], \"sizemode\": \"area\", \"sizeref\": 66.51}, \"name\": \"Grenada\", \"showlegend\": true, \"type\": \"scattergeo\"}, {\"geo\": \"geo\", \"hovertemplate\": \"<b>%{hovertext}</b><br><br>country=Guatemala<br>total_publications=%{marker.size}<br>country_code_alpha3=%{location}<extra></extra>\", \"hovertext\": [\"Guatemala\"], \"legendgroup\": \"Guatemala\", \"locations\": [\"GTM\"], \"marker\": {\"color\": \"#B6E880\", \"size\": [4], \"sizemode\": \"area\", \"sizeref\": 66.51}, \"name\": \"Guatemala\", \"showlegend\": true, \"type\": \"scattergeo\"}, {\"geo\": \"geo\", \"hovertemplate\": \"<b>%{hovertext}</b><br><br>country=Iceland<br>total_publications=%{marker.size}<br>country_code_alpha3=%{location}<extra></extra>\", \"hovertext\": [\"Iceland\"], \"legendgroup\": \"Iceland\", \"locations\": [\"ISL\"], \"marker\": {\"color\": \"#FF97FF\", \"size\": [4], \"sizemode\": \"area\", \"sizeref\": 66.51}, \"name\": \"Iceland\", \"showlegend\": true, \"type\": \"scattergeo\"}, {\"geo\": \"geo\", \"hovertemplate\": \"<b>%{hovertext}</b><br><br>country=Latvia<br>total_publications=%{marker.size}<br>country_code_alpha3=%{location}<extra></extra>\", \"hovertext\": [\"Latvia\"], \"legendgroup\": \"Latvia\", \"locations\": [\"LVA\"], \"marker\": {\"color\": \"#FECB52\", \"size\": [4], \"sizemode\": \"area\", \"sizeref\": 66.51}, \"name\": \"Latvia\", \"showlegend\": true, \"type\": \"scattergeo\"}, {\"geo\": \"geo\", \"hovertemplate\": \"<b>%{hovertext}</b><br><br>country=Montenegro<br>total_publications=%{marker.size}<br>country_code_alpha3=%{location}<extra></extra>\", \"hovertext\": [\"Montenegro\"], \"legendgroup\": \"Montenegro\", \"locations\": [\"MNE\"], \"marker\": {\"color\": \"#636efa\", \"size\": [4], \"sizemode\": \"area\", \"sizeref\": 66.51}, \"name\": \"Montenegro\", \"showlegend\": true, \"type\": \"scattergeo\"}, {\"geo\": \"geo\", \"hovertemplate\": \"<b>%{hovertext}</b><br><br>country=Zimbabwe<br>total_publications=%{marker.size}<br>country_code_alpha3=%{location}<extra></extra>\", \"hovertext\": [\"Zimbabwe\"], \"legendgroup\": \"Zimbabwe\", \"locations\": [\"ZWE\"], \"marker\": {\"color\": \"#EF553B\", \"size\": [4], \"sizemode\": \"area\", \"sizeref\": 66.51}, \"name\": \"Zimbabwe\", \"showlegend\": true, \"type\": \"scattergeo\"}, {\"geo\": \"geo\", \"hovertemplate\": \"<b>%{hovertext}</b><br><br>country=Afghanistan<br>total_publications=%{marker.size}<br>country_code_alpha3=%{location}<extra></extra>\", \"hovertext\": [\"Afghanistan\"], \"legendgroup\": \"Afghanistan\", \"locations\": [\"AFG\"], \"marker\": {\"color\": \"#00cc96\", \"size\": [3], \"sizemode\": \"area\", \"sizeref\": 66.51}, \"name\": \"Afghanistan\", \"showlegend\": true, \"type\": \"scattergeo\"}, {\"geo\": \"geo\", \"hovertemplate\": \"<b>%{hovertext}</b><br><br>country=Australia<br>total_publications=%{marker.size}<br>country_code_alpha3=%{location}<extra></extra>\", \"hovertext\": [\"Australia\"], \"legendgroup\": \"Australia\", \"locations\": [\"AUS\"], \"marker\": {\"color\": \"#ab63fa\", \"size\": [3], \"sizemode\": \"area\", \"sizeref\": 66.51}, \"name\": \"Australia\", \"showlegend\": true, \"type\": \"scattergeo\"}, {\"geo\": \"geo\", \"hovertemplate\": \"<b>%{hovertext}</b><br><br>country=Syrian Arab Republic<br>total_publications=%{marker.size}<br>country_code_alpha3=%{location}<extra></extra>\", \"hovertext\": [\"Syrian Arab Republic\"], \"legendgroup\": \"Syrian Arab Republic\", \"locations\": [\"SYR\"], \"marker\": {\"color\": \"#FFA15A\", \"size\": [2], \"sizemode\": \"area\", \"sizeref\": 66.51}, \"name\": \"Syrian Arab Republic\", \"showlegend\": true, \"type\": \"scattergeo\"}, {\"geo\": \"geo\", \"hovertemplate\": \"<b>%{hovertext}</b><br><br>country=Panama<br>total_publications=%{marker.size}<br>country_code_alpha3=%{location}<extra></extra>\", \"hovertext\": [\"Panama\"], \"legendgroup\": \"Panama\", \"locations\": [\"PAN\"], \"marker\": {\"color\": \"#19d3f3\", \"size\": [2], \"sizemode\": \"area\", \"sizeref\": 66.51}, \"name\": \"Panama\", \"showlegend\": true, \"type\": \"scattergeo\"}, {\"geo\": \"geo\", \"hovertemplate\": \"<b>%{hovertext}</b><br><br>country=Malta<br>total_publications=%{marker.size}<br>country_code_alpha3=%{location}<extra></extra>\", \"hovertext\": [\"Malta\"], \"legendgroup\": \"Malta\", \"locations\": [\"MLT\"], \"marker\": {\"color\": \"#FF6692\", \"size\": [2], \"sizemode\": \"area\", \"sizeref\": 66.51}, \"name\": \"Malta\", \"showlegend\": true, \"type\": \"scattergeo\"}, {\"geo\": \"geo\", \"hovertemplate\": \"<b>%{hovertext}</b><br><br>country=Bosnia and Herzegovina<br>total_publications=%{marker.size}<br>country_code_alpha3=%{location}<extra></extra>\", \"hovertext\": [\"Bosnia and Herzegovina\"], \"legendgroup\": \"Bosnia and Herzegovina\", \"locations\": [\"BIH\"], \"marker\": {\"color\": \"#B6E880\", \"size\": [2], \"sizemode\": \"area\", \"sizeref\": 66.51}, \"name\": \"Bosnia and Herzegovina\", \"showlegend\": true, \"type\": \"scattergeo\"}, {\"geo\": \"geo\", \"hovertemplate\": \"<b>%{hovertext}</b><br><br>country=Rwanda<br>total_publications=%{marker.size}<br>country_code_alpha3=%{location}<extra></extra>\", \"hovertext\": [\"Rwanda\"], \"legendgroup\": \"Rwanda\", \"locations\": [\"RWA\"], \"marker\": {\"color\": \"#FF97FF\", \"size\": [1], \"sizemode\": \"area\", \"sizeref\": 66.51}, \"name\": \"Rwanda\", \"showlegend\": true, \"type\": \"scattergeo\"}, {\"geo\": \"geo\", \"hovertemplate\": \"<b>%{hovertext}</b><br><br>country=New Caledonia<br>total_publications=%{marker.size}<br>country_code_alpha3=%{location}<extra></extra>\", \"hovertext\": [\"New Caledonia\"], \"legendgroup\": \"New Caledonia\", \"locations\": [\"NCL\"], \"marker\": {\"color\": \"#FECB52\", \"size\": [1], \"sizemode\": \"area\", \"sizeref\": 66.51}, \"name\": \"New Caledonia\", \"showlegend\": true, \"type\": \"scattergeo\"}, {\"geo\": \"geo\", \"hovertemplate\": \"<b>%{hovertext}</b><br><br>country=Myanmar<br>total_publications=%{marker.size}<br>country_code_alpha3=%{location}<extra></extra>\", \"hovertext\": [\"Myanmar\"], \"legendgroup\": \"Myanmar\", \"locations\": [\"MMR\"], \"marker\": {\"color\": \"#636efa\", \"size\": [1], \"sizemode\": \"area\", \"sizeref\": 66.51}, \"name\": \"Myanmar\", \"showlegend\": true, \"type\": \"scattergeo\"}, {\"geo\": \"geo\", \"hovertemplate\": \"<b>%{hovertext}</b><br><br>country=Kiribati<br>total_publications=%{marker.size}<br>country_code_alpha3=%{location}<extra></extra>\", \"hovertext\": [\"Kiribati\"], \"legendgroup\": \"Kiribati\", \"locations\": [\"KIR\"], \"marker\": {\"color\": \"#EF553B\", \"size\": [1], \"sizemode\": \"area\", \"sizeref\": 66.51}, \"name\": \"Kiribati\", \"showlegend\": true, \"type\": \"scattergeo\"}, {\"geo\": \"geo\", \"hovertemplate\": \"<b>%{hovertext}</b><br><br>country=Guyana<br>total_publications=%{marker.size}<br>country_code_alpha3=%{location}<extra></extra>\", \"hovertext\": [\"Guyana\"], \"legendgroup\": \"Guyana\", \"locations\": [\"GUY\"], \"marker\": {\"color\": \"#00cc96\", \"size\": [1], \"sizemode\": \"area\", \"sizeref\": 66.51}, \"name\": \"Guyana\", \"showlegend\": true, \"type\": \"scattergeo\"}, {\"geo\": \"geo\", \"hovertemplate\": \"<b>%{hovertext}</b><br><br>country=Guadeloupe<br>total_publications=%{marker.size}<br>country_code_alpha3=%{location}<extra></extra>\", \"hovertext\": [\"Guadeloupe\"], \"legendgroup\": \"Guadeloupe\", \"locations\": [\"GLP\"], \"marker\": {\"color\": \"#ab63fa\", \"size\": [1], \"sizemode\": \"area\", \"sizeref\": 66.51}, \"name\": \"Guadeloupe\", \"showlegend\": true, \"type\": \"scattergeo\"}, {\"geo\": \"geo\", \"hovertemplate\": \"<b>%{hovertext}</b><br><br>country=Central African Republic<br>total_publications=%{marker.size}<br>country_code_alpha3=%{location}<extra></extra>\", \"hovertext\": [\"Central African Republic\"], \"legendgroup\": \"Central African Republic\", \"locations\": [\"CAF\"], \"marker\": {\"color\": \"#FFA15A\", \"size\": [1], \"sizemode\": \"area\", \"sizeref\": 66.51}, \"name\": \"Central African Republic\", \"showlegend\": true, \"type\": \"scattergeo\"}, {\"geo\": \"geo\", \"hovertemplate\": \"<b>%{hovertext}</b><br><br>country=Burkina Faso<br>total_publications=%{marker.size}<br>country_code_alpha3=%{location}<extra></extra>\", \"hovertext\": [\"Burkina Faso\"], \"legendgroup\": \"Burkina Faso\", \"locations\": [\"BFA\"], \"marker\": {\"color\": \"#19d3f3\", \"size\": [1], \"sizemode\": \"area\", \"sizeref\": 66.51}, \"name\": \"Burkina Faso\", \"showlegend\": true, \"type\": \"scattergeo\"}, {\"geo\": \"geo\", \"hovertemplate\": \"<b>%{hovertext}</b><br><br>country=Bahamas<br>total_publications=%{marker.size}<br>country_code_alpha3=%{location}<extra></extra>\", \"hovertext\": [\"Bahamas\"], \"legendgroup\": \"Bahamas\", \"locations\": [\"BHS\"], \"marker\": {\"color\": \"#FF6692\", \"size\": [1], \"sizemode\": \"area\", \"sizeref\": 66.51}, \"name\": \"Bahamas\", \"showlegend\": true, \"type\": \"scattergeo\"}, {\"geo\": \"geo\", \"hovertemplate\": \"<b>%{hovertext}</b><br><br>country=Kyrgyzstan<br>total_publications=%{marker.size}<br>country_code_alpha3=%{location}<extra></extra>\", \"hovertext\": [\"Kyrgyzstan\"], \"legendgroup\": \"Kyrgyzstan\", \"locations\": [\"KGZ\"], \"marker\": {\"color\": \"#B6E880\", \"size\": [1], \"sizemode\": \"area\", \"sizeref\": 66.51}, \"name\": \"Kyrgyzstan\", \"showlegend\": true, \"type\": \"scattergeo\"}],\n",
       "                        {\"geo\": {\"center\": {}, \"domain\": {\"x\": [0.0, 1.0], \"y\": [0.0, 1.0]}, \"projection\": {\"type\": \"natural earth\"}}, \"legend\": {\"itemsizing\": \"constant\", \"title\": {\"text\": \"country\"}, \"tracegroupgap\": 0}, \"template\": {\"data\": {\"bar\": [{\"error_x\": {\"color\": \"#2a3f5f\"}, \"error_y\": {\"color\": \"#2a3f5f\"}, \"marker\": {\"line\": {\"color\": \"#E5ECF6\", \"width\": 0.5}}, \"type\": \"bar\"}], \"barpolar\": [{\"marker\": {\"line\": {\"color\": \"#E5ECF6\", \"width\": 0.5}}, \"type\": \"barpolar\"}], \"carpet\": [{\"aaxis\": {\"endlinecolor\": \"#2a3f5f\", \"gridcolor\": \"white\", \"linecolor\": \"white\", \"minorgridcolor\": \"white\", \"startlinecolor\": \"#2a3f5f\"}, \"baxis\": {\"endlinecolor\": \"#2a3f5f\", \"gridcolor\": \"white\", \"linecolor\": \"white\", \"minorgridcolor\": \"white\", \"startlinecolor\": \"#2a3f5f\"}, \"type\": \"carpet\"}], \"choropleth\": [{\"colorbar\": {\"outlinewidth\": 0, \"ticks\": \"\"}, \"type\": \"choropleth\"}], \"contour\": [{\"colorbar\": {\"outlinewidth\": 0, \"ticks\": \"\"}, \"colorscale\": [[0.0, \"#0d0887\"], [0.1111111111111111, \"#46039f\"], [0.2222222222222222, \"#7201a8\"], [0.3333333333333333, \"#9c179e\"], [0.4444444444444444, \"#bd3786\"], [0.5555555555555556, \"#d8576b\"], [0.6666666666666666, \"#ed7953\"], [0.7777777777777778, \"#fb9f3a\"], [0.8888888888888888, \"#fdca26\"], [1.0, \"#f0f921\"]], \"type\": \"contour\"}], \"contourcarpet\": [{\"colorbar\": {\"outlinewidth\": 0, \"ticks\": \"\"}, \"type\": \"contourcarpet\"}], \"heatmap\": [{\"colorbar\": {\"outlinewidth\": 0, \"ticks\": \"\"}, \"colorscale\": [[0.0, \"#0d0887\"], [0.1111111111111111, \"#46039f\"], [0.2222222222222222, \"#7201a8\"], [0.3333333333333333, \"#9c179e\"], [0.4444444444444444, \"#bd3786\"], [0.5555555555555556, \"#d8576b\"], [0.6666666666666666, \"#ed7953\"], [0.7777777777777778, \"#fb9f3a\"], [0.8888888888888888, \"#fdca26\"], [1.0, \"#f0f921\"]], \"type\": \"heatmap\"}], \"heatmapgl\": [{\"colorbar\": {\"outlinewidth\": 0, \"ticks\": \"\"}, \"colorscale\": [[0.0, \"#0d0887\"], [0.1111111111111111, \"#46039f\"], [0.2222222222222222, \"#7201a8\"], [0.3333333333333333, \"#9c179e\"], [0.4444444444444444, \"#bd3786\"], [0.5555555555555556, \"#d8576b\"], [0.6666666666666666, \"#ed7953\"], [0.7777777777777778, \"#fb9f3a\"], [0.8888888888888888, \"#fdca26\"], [1.0, \"#f0f921\"]], \"type\": \"heatmapgl\"}], \"histogram\": [{\"marker\": {\"colorbar\": {\"outlinewidth\": 0, \"ticks\": \"\"}}, \"type\": \"histogram\"}], \"histogram2d\": [{\"colorbar\": {\"outlinewidth\": 0, \"ticks\": \"\"}, \"colorscale\": [[0.0, \"#0d0887\"], [0.1111111111111111, \"#46039f\"], [0.2222222222222222, \"#7201a8\"], [0.3333333333333333, \"#9c179e\"], [0.4444444444444444, \"#bd3786\"], [0.5555555555555556, \"#d8576b\"], [0.6666666666666666, \"#ed7953\"], [0.7777777777777778, \"#fb9f3a\"], [0.8888888888888888, \"#fdca26\"], [1.0, \"#f0f921\"]], \"type\": \"histogram2d\"}], \"histogram2dcontour\": [{\"colorbar\": {\"outlinewidth\": 0, \"ticks\": \"\"}, \"colorscale\": [[0.0, \"#0d0887\"], [0.1111111111111111, \"#46039f\"], [0.2222222222222222, \"#7201a8\"], [0.3333333333333333, \"#9c179e\"], [0.4444444444444444, \"#bd3786\"], [0.5555555555555556, \"#d8576b\"], [0.6666666666666666, \"#ed7953\"], [0.7777777777777778, \"#fb9f3a\"], [0.8888888888888888, \"#fdca26\"], [1.0, \"#f0f921\"]], \"type\": \"histogram2dcontour\"}], \"mesh3d\": [{\"colorbar\": {\"outlinewidth\": 0, \"ticks\": \"\"}, \"type\": \"mesh3d\"}], \"parcoords\": [{\"line\": {\"colorbar\": {\"outlinewidth\": 0, \"ticks\": \"\"}}, \"type\": \"parcoords\"}], \"pie\": [{\"automargin\": true, \"type\": \"pie\"}], \"scatter\": [{\"marker\": {\"colorbar\": {\"outlinewidth\": 0, \"ticks\": \"\"}}, \"type\": \"scatter\"}], \"scatter3d\": [{\"line\": {\"colorbar\": {\"outlinewidth\": 0, \"ticks\": \"\"}}, \"marker\": {\"colorbar\": {\"outlinewidth\": 0, \"ticks\": \"\"}}, \"type\": \"scatter3d\"}], \"scattercarpet\": [{\"marker\": {\"colorbar\": {\"outlinewidth\": 0, \"ticks\": \"\"}}, \"type\": \"scattercarpet\"}], \"scattergeo\": [{\"marker\": {\"colorbar\": {\"outlinewidth\": 0, \"ticks\": \"\"}}, \"type\": \"scattergeo\"}], \"scattergl\": [{\"marker\": {\"colorbar\": {\"outlinewidth\": 0, \"ticks\": \"\"}}, \"type\": \"scattergl\"}], \"scattermapbox\": [{\"marker\": {\"colorbar\": {\"outlinewidth\": 0, \"ticks\": \"\"}}, \"type\": \"scattermapbox\"}], \"scatterpolar\": [{\"marker\": {\"colorbar\": {\"outlinewidth\": 0, \"ticks\": \"\"}}, \"type\": \"scatterpolar\"}], \"scatterpolargl\": [{\"marker\": {\"colorbar\": {\"outlinewidth\": 0, \"ticks\": \"\"}}, \"type\": \"scatterpolargl\"}], \"scatterternary\": [{\"marker\": {\"colorbar\": {\"outlinewidth\": 0, \"ticks\": \"\"}}, \"type\": \"scatterternary\"}], \"surface\": [{\"colorbar\": {\"outlinewidth\": 0, \"ticks\": \"\"}, \"colorscale\": [[0.0, \"#0d0887\"], [0.1111111111111111, \"#46039f\"], [0.2222222222222222, \"#7201a8\"], [0.3333333333333333, \"#9c179e\"], [0.4444444444444444, \"#bd3786\"], [0.5555555555555556, \"#d8576b\"], [0.6666666666666666, \"#ed7953\"], [0.7777777777777778, \"#fb9f3a\"], [0.8888888888888888, \"#fdca26\"], [1.0, \"#f0f921\"]], \"type\": \"surface\"}], \"table\": [{\"cells\": {\"fill\": {\"color\": \"#EBF0F8\"}, \"line\": {\"color\": \"white\"}}, \"header\": {\"fill\": {\"color\": \"#C8D4E3\"}, \"line\": {\"color\": \"white\"}}, \"type\": \"table\"}]}, \"layout\": {\"annotationdefaults\": {\"arrowcolor\": \"#2a3f5f\", \"arrowhead\": 0, \"arrowwidth\": 1}, \"coloraxis\": {\"colorbar\": {\"outlinewidth\": 0, \"ticks\": \"\"}}, \"colorscale\": {\"diverging\": [[0, \"#8e0152\"], [0.1, \"#c51b7d\"], [0.2, \"#de77ae\"], [0.3, \"#f1b6da\"], [0.4, \"#fde0ef\"], [0.5, \"#f7f7f7\"], [0.6, \"#e6f5d0\"], [0.7, \"#b8e186\"], [0.8, \"#7fbc41\"], [0.9, \"#4d9221\"], [1, \"#276419\"]], \"sequential\": [[0.0, \"#0d0887\"], [0.1111111111111111, \"#46039f\"], [0.2222222222222222, \"#7201a8\"], [0.3333333333333333, \"#9c179e\"], [0.4444444444444444, \"#bd3786\"], [0.5555555555555556, \"#d8576b\"], [0.6666666666666666, \"#ed7953\"], [0.7777777777777778, \"#fb9f3a\"], [0.8888888888888888, \"#fdca26\"], [1.0, \"#f0f921\"]], \"sequentialminus\": [[0.0, \"#0d0887\"], [0.1111111111111111, \"#46039f\"], [0.2222222222222222, \"#7201a8\"], [0.3333333333333333, \"#9c179e\"], [0.4444444444444444, \"#bd3786\"], [0.5555555555555556, \"#d8576b\"], [0.6666666666666666, \"#ed7953\"], [0.7777777777777778, \"#fb9f3a\"], [0.8888888888888888, \"#fdca26\"], [1.0, \"#f0f921\"]]}, \"colorway\": [\"#636efa\", \"#EF553B\", \"#00cc96\", \"#ab63fa\", \"#FFA15A\", \"#19d3f3\", \"#FF6692\", \"#B6E880\", \"#FF97FF\", \"#FECB52\"], \"font\": {\"color\": \"#2a3f5f\"}, \"geo\": {\"bgcolor\": \"white\", \"lakecolor\": \"white\", \"landcolor\": \"#E5ECF6\", \"showlakes\": true, \"showland\": true, \"subunitcolor\": \"white\"}, \"hoverlabel\": {\"align\": \"left\"}, \"hovermode\": \"closest\", \"mapbox\": {\"style\": \"light\"}, \"paper_bgcolor\": \"white\", \"plot_bgcolor\": \"#E5ECF6\", \"polar\": {\"angularaxis\": {\"gridcolor\": \"white\", \"linecolor\": \"white\", \"ticks\": \"\"}, \"bgcolor\": \"#E5ECF6\", \"radialaxis\": {\"gridcolor\": \"white\", \"linecolor\": \"white\", \"ticks\": \"\"}}, \"scene\": {\"xaxis\": {\"backgroundcolor\": \"#E5ECF6\", \"gridcolor\": \"white\", \"gridwidth\": 2, \"linecolor\": \"white\", \"showbackground\": true, \"ticks\": \"\", \"zerolinecolor\": \"white\"}, \"yaxis\": {\"backgroundcolor\": \"#E5ECF6\", \"gridcolor\": \"white\", \"gridwidth\": 2, \"linecolor\": \"white\", \"showbackground\": true, \"ticks\": \"\", \"zerolinecolor\": \"white\"}, \"zaxis\": {\"backgroundcolor\": \"#E5ECF6\", \"gridcolor\": \"white\", \"gridwidth\": 2, \"linecolor\": \"white\", \"showbackground\": true, \"ticks\": \"\", \"zerolinecolor\": \"white\"}}, \"shapedefaults\": {\"line\": {\"color\": \"#2a3f5f\"}}, \"ternary\": {\"aaxis\": {\"gridcolor\": \"white\", \"linecolor\": \"white\", \"ticks\": \"\"}, \"baxis\": {\"gridcolor\": \"white\", \"linecolor\": \"white\", \"ticks\": \"\"}, \"bgcolor\": \"#E5ECF6\", \"caxis\": {\"gridcolor\": \"white\", \"linecolor\": \"white\", \"ticks\": \"\"}}, \"title\": {\"x\": 0.05}, \"xaxis\": {\"automargin\": true, \"gridcolor\": \"white\", \"linecolor\": \"white\", \"ticks\": \"\", \"title\": {\"standoff\": 15}, \"zerolinecolor\": \"white\", \"zerolinewidth\": 2}, \"yaxis\": {\"automargin\": true, \"gridcolor\": \"white\", \"linecolor\": \"white\", \"ticks\": \"\", \"title\": {\"standoff\": 15}, \"zerolinecolor\": \"white\", \"zerolinewidth\": 2}}}, \"title\": {\"text\": \"Overview of total number of papers issued by country (96615 from 170814)\"}},\n",
       "                        {\"responsive\": true}\n",
       "                    ).then(function(){\n",
       "                            \n",
       "var gd = document.getElementById('48c984d0-376f-4662-a5f4-4e0b176a9a60');\n",
       "var x = new MutationObserver(function (mutations, observer) {{\n",
       "        var display = window.getComputedStyle(gd).display;\n",
       "        if (!display || display === 'none') {{\n",
       "            console.log([gd, 'removed!']);\n",
       "            Plotly.purge(gd);\n",
       "            observer.disconnect();\n",
       "        }}\n",
       "}});\n",
       "\n",
       "// Listen for the removal of the full notebook cells\n",
       "var notebookContainer = gd.closest('#notebook-container');\n",
       "if (notebookContainer) {{\n",
       "    x.observe(notebookContainer, {childList: true});\n",
       "}}\n",
       "\n",
       "// Listen for the clearing of the current output cell\n",
       "var outputEl = gd.closest('.output');\n",
       "if (outputEl) {{\n",
       "    x.observe(outputEl, {childList: true});\n",
       "}}\n",
       "\n",
       "                        })\n",
       "                };\n",
       "                });\n",
       "            </script>\n",
       "        </div>"
      ]
     },
     "metadata": {},
     "output_type": "display_data"
    }
   ],
   "source": [
    "import plotly.express as px\n",
    "fig = px.scatter_geo(bc,title=f\"Overview of total number of papers issued by country ({pubs_by_country} from {total_publications})\", \n",
    "                     locations=\"country_code_alpha3\", color=\"country\", hover_name=\"country\", size=\"total_publications\",projection=\"natural earth\")\n",
    "fig.show()"
   ]
  },
  {
   "cell_type": "markdown",
   "metadata": {},
   "source": [
    "### Now Process the whole article set"
   ]
  },
  {
   "cell_type": "code",
   "execution_count": 440,
   "metadata": {},
   "outputs": [],
   "source": [
    "articles = try_read_parquet(articles_file)"
   ]
  },
  {
   "cell_type": "code",
   "execution_count": 441,
   "metadata": {},
   "outputs": [],
   "source": [
    "articles.drop(columns=['title'],inplace=True)\n",
    "articles.drop_duplicates(['abstract', 'body'], inplace=True)\n",
    "articles.dropna(inplace=True)"
   ]
  },
  {
   "cell_type": "code",
   "execution_count": 442,
   "metadata": {},
   "outputs": [
    {
     "data": {
      "text/html": [
       "<div>\n",
       "<style scoped>\n",
       "    .dataframe tbody tr th:only-of-type {\n",
       "        vertical-align: middle;\n",
       "    }\n",
       "\n",
       "    .dataframe tbody tr th {\n",
       "        vertical-align: top;\n",
       "    }\n",
       "\n",
       "    .dataframe thead th {\n",
       "        text-align: right;\n",
       "    }\n",
       "</style>\n",
       "<table border=\"1\" class=\"dataframe\">\n",
       "  <thead>\n",
       "    <tr style=\"text-align: right;\">\n",
       "      <th></th>\n",
       "      <th>abstract</th>\n",
       "      <th>body</th>\n",
       "      <th>paper_id</th>\n",
       "    </tr>\n",
       "  </thead>\n",
       "  <tbody>\n",
       "    <tr>\n",
       "      <th>count</th>\n",
       "      <td>33030</td>\n",
       "      <td>33030</td>\n",
       "      <td>33030</td>\n",
       "    </tr>\n",
       "    <tr>\n",
       "      <th>unique</th>\n",
       "      <td>24400</td>\n",
       "      <td>33011</td>\n",
       "      <td>33030</td>\n",
       "    </tr>\n",
       "    <tr>\n",
       "      <th>top</th>\n",
       "      <td></td>\n",
       "      <td>Dipeptidyl peptidase 4 (DPP4, CD26), a type II...</td>\n",
       "      <td>e7e0c619c9f078101beffb8b3822c65e95995856</td>\n",
       "    </tr>\n",
       "    <tr>\n",
       "      <th>freq</th>\n",
       "      <td>8474</td>\n",
       "      <td>2</td>\n",
       "      <td>1</td>\n",
       "    </tr>\n",
       "  </tbody>\n",
       "</table>\n",
       "</div>"
      ],
      "text/plain": [
       "       abstract                                               body  \\\n",
       "count     33030                                              33030   \n",
       "unique    24400                                              33011   \n",
       "top              Dipeptidyl peptidase 4 (DPP4, CD26), a type II...   \n",
       "freq       8474                                                  2   \n",
       "\n",
       "                                        paper_id  \n",
       "count                                      33030  \n",
       "unique                                     33030  \n",
       "top     e7e0c619c9f078101beffb8b3822c65e95995856  \n",
       "freq                                           1  "
      ]
     },
     "execution_count": 442,
     "metadata": {},
     "output_type": "execute_result"
    }
   ],
   "source": [
    "articles.describe()"
   ]
  },
  {
   "cell_type": "markdown",
   "metadata": {},
   "source": [
    "Removing punctuation marks and setting word counts and lower case letters"
   ]
  },
  {
   "cell_type": "code",
   "execution_count": 443,
   "metadata": {},
   "outputs": [],
   "source": [
    "articles['abstract_word_count'] = articles['abstract'].progress_apply(lambda x: len(x.strip().split()))\n",
    "articles['body_word_count'] = articles['body'].progress_apply(lambda x: len(x.strip().split()))\n",
    "articles['body'] = articles['body'].progress_apply(lambda x: re.sub('[^a-zA-z\\s ]','',x.lower()))\n",
    "articles['abstract'] = articles['abstract'].progress_apply(lambda x: re.sub('[^a-zA-z ]','',x.lower())) # Originally included numbers 0-9\n",
    "articles = articles[articles['body_word_count'] > 100] # Remove articles with low body text content"
   ]
  },
  {
   "cell_type": "markdown",
   "metadata": {},
   "source": [
    "Several articles do not contain an abstract, therefore the language translation will be based on the body contents"
   ]
  },
  {
   "cell_type": "markdown",
   "metadata": {},
   "source": [
    "#### Trying clustering classification by abstract"
   ]
  },
  {
   "cell_type": "markdown",
   "metadata": {},
   "source": [
    "First will try to identify the language in which each article was written"
   ]
  },
  {
   "cell_type": "code",
   "execution_count": 444,
   "metadata": {},
   "outputs": [
    {
     "name": "stdout",
     "output_type": "stream",
     "text": [
      "Requirement already satisfied: nltk in c:\\python\\382\\lib\\site-packages (3.4.5)\n",
      "Requirement already satisfied: six in c:\\python\\382\\lib\\site-packages (from nltk) (1.12.0)\n",
      "Note: you may need to restart the kernel to use updated packages.\n",
      "Requirement already satisfied: langdetect in c:\\python\\382\\lib\\site-packages (1.0.8)\n",
      "Requirement already satisfied: six in c:\\python\\382\\lib\\site-packages (from langdetect) (1.12.0)\n",
      "Note: you may need to restart the kernel to use updated packages.\n"
     ]
    }
   ],
   "source": [
    "%pip install nltk\n",
    "%pip install langdetect"
   ]
  },
  {
   "cell_type": "code",
   "execution_count": 445,
   "metadata": {},
   "outputs": [
    {
     "data": {
      "text/html": [
       "<div>\n",
       "<style scoped>\n",
       "    .dataframe tbody tr th:only-of-type {\n",
       "        vertical-align: middle;\n",
       "    }\n",
       "\n",
       "    .dataframe tbody tr th {\n",
       "        vertical-align: top;\n",
       "    }\n",
       "\n",
       "    .dataframe thead th {\n",
       "        text-align: right;\n",
       "    }\n",
       "</style>\n",
       "<table border=\"1\" class=\"dataframe\">\n",
       "  <thead>\n",
       "    <tr style=\"text-align: right;\">\n",
       "      <th></th>\n",
       "      <th>abstract</th>\n",
       "      <th>body</th>\n",
       "      <th>paper_id</th>\n",
       "      <th>abstract_word_count</th>\n",
       "      <th>body_word_count</th>\n",
       "      <th>language</th>\n",
       "    </tr>\n",
       "  </thead>\n",
       "  <tbody>\n",
       "    <tr>\n",
       "      <th>27668</th>\n",
       "      <td>postexposure prophylaxis pep has substantially...</td>\n",
       "      <td>human immunodeficiency virus hiv testing pract...</td>\n",
       "      <td>d67de3269f28e5be514f0e91e18305f653672256</td>\n",
       "      <td>14</td>\n",
       "      <td>3453</td>\n",
       "      <td>Unknown</td>\n",
       "    </tr>\n",
       "  </tbody>\n",
       "</table>\n",
       "</div>"
      ],
      "text/plain": [
       "                                                abstract  \\\n",
       "27668  postexposure prophylaxis pep has substantially...   \n",
       "\n",
       "                                                    body  \\\n",
       "27668  human immunodeficiency virus hiv testing pract...   \n",
       "\n",
       "                                       paper_id  abstract_word_count  \\\n",
       "27668  d67de3269f28e5be514f0e91e18305f653672256                   14   \n",
       "\n",
       "       body_word_count language  \n",
       "27668             3453  Unknown  "
      ]
     },
     "execution_count": 445,
     "metadata": {},
     "output_type": "execute_result"
    }
   ],
   "source": [
    "import nltk\n",
    "import langdetect\n",
    "def detect_language(text):\n",
    "    try:\n",
    "        return langdetect.detect(text)\n",
    "    except:\n",
    "        return 'Unknown'\n",
    "    \n",
    "articles['language'] = articles['body'].progress_apply(lambda x:detect_language(x))\n",
    "articles[articles.language == \"Unknown\"]"
   ]
  },
  {
   "cell_type": "markdown",
   "metadata": {},
   "source": [
    "There are some documents without proper or inconsistent body , probably wrongly parsed from the web portal, even th word counts are low"
   ]
  },
  {
   "cell_type": "code",
   "execution_count": 454,
   "metadata": {},
   "outputs": [],
   "source": [
    "articles = articles[articles['language']!='Unknown']"
   ]
  },
  {
   "cell_type": "code",
   "execution_count": 455,
   "metadata": {},
   "outputs": [
    {
     "data": {
      "text/html": [
       "<div>\n",
       "<style scoped>\n",
       "    .dataframe tbody tr th:only-of-type {\n",
       "        vertical-align: middle;\n",
       "    }\n",
       "\n",
       "    .dataframe tbody tr th {\n",
       "        vertical-align: top;\n",
       "    }\n",
       "\n",
       "    .dataframe thead th {\n",
       "        text-align: right;\n",
       "    }\n",
       "</style>\n",
       "<table border=\"1\" class=\"dataframe\">\n",
       "  <thead>\n",
       "    <tr style=\"text-align: right;\">\n",
       "      <th></th>\n",
       "      <th>abstract</th>\n",
       "      <th>body</th>\n",
       "      <th>paper_id</th>\n",
       "      <th>abstract_word_count</th>\n",
       "      <th>body_word_count</th>\n",
       "    </tr>\n",
       "    <tr>\n",
       "      <th>language</th>\n",
       "      <th></th>\n",
       "      <th></th>\n",
       "      <th></th>\n",
       "      <th></th>\n",
       "      <th></th>\n",
       "    </tr>\n",
       "  </thead>\n",
       "  <tbody>\n",
       "    <tr>\n",
       "      <th>da</th>\n",
       "      <td>1</td>\n",
       "      <td>1</td>\n",
       "      <td>1</td>\n",
       "      <td>1</td>\n",
       "      <td>1</td>\n",
       "    </tr>\n",
       "    <tr>\n",
       "      <th>de</th>\n",
       "      <td>64</td>\n",
       "      <td>64</td>\n",
       "      <td>64</td>\n",
       "      <td>64</td>\n",
       "      <td>64</td>\n",
       "    </tr>\n",
       "    <tr>\n",
       "      <th>en</th>\n",
       "      <td>32128</td>\n",
       "      <td>32128</td>\n",
       "      <td>32128</td>\n",
       "      <td>32128</td>\n",
       "      <td>32128</td>\n",
       "    </tr>\n",
       "    <tr>\n",
       "      <th>es</th>\n",
       "      <td>279</td>\n",
       "      <td>279</td>\n",
       "      <td>279</td>\n",
       "      <td>279</td>\n",
       "      <td>279</td>\n",
       "    </tr>\n",
       "    <tr>\n",
       "      <th>fr</th>\n",
       "      <td>313</td>\n",
       "      <td>313</td>\n",
       "      <td>313</td>\n",
       "      <td>313</td>\n",
       "      <td>313</td>\n",
       "    </tr>\n",
       "    <tr>\n",
       "      <th>it</th>\n",
       "      <td>15</td>\n",
       "      <td>15</td>\n",
       "      <td>15</td>\n",
       "      <td>15</td>\n",
       "      <td>15</td>\n",
       "    </tr>\n",
       "    <tr>\n",
       "      <th>pl</th>\n",
       "      <td>2</td>\n",
       "      <td>2</td>\n",
       "      <td>2</td>\n",
       "      <td>2</td>\n",
       "      <td>2</td>\n",
       "    </tr>\n",
       "    <tr>\n",
       "      <th>pt</th>\n",
       "      <td>8</td>\n",
       "      <td>8</td>\n",
       "      <td>8</td>\n",
       "      <td>8</td>\n",
       "      <td>8</td>\n",
       "    </tr>\n",
       "    <tr>\n",
       "      <th>ro</th>\n",
       "      <td>1</td>\n",
       "      <td>1</td>\n",
       "      <td>1</td>\n",
       "      <td>1</td>\n",
       "      <td>1</td>\n",
       "    </tr>\n",
       "    <tr>\n",
       "      <th>sv</th>\n",
       "      <td>1</td>\n",
       "      <td>1</td>\n",
       "      <td>1</td>\n",
       "      <td>1</td>\n",
       "      <td>1</td>\n",
       "    </tr>\n",
       "  </tbody>\n",
       "</table>\n",
       "</div>"
      ],
      "text/plain": [
       "          abstract   body  paper_id  abstract_word_count  body_word_count\n",
       "language                                                                 \n",
       "da               1      1         1                    1                1\n",
       "de              64     64        64                   64               64\n",
       "en           32128  32128     32128                32128            32128\n",
       "es             279    279       279                  279              279\n",
       "fr             313    313       313                  313              313\n",
       "it              15     15        15                   15               15\n",
       "pl               2      2         2                    2                2\n",
       "pt               8      8         8                    8                8\n",
       "ro               1      1         1                    1                1\n",
       "sv               1      1         1                    1                1"
      ]
     },
     "execution_count": 455,
     "metadata": {},
     "output_type": "execute_result"
    }
   ],
   "source": [
    "ag = articles.groupby('language')\n",
    "ag.count()"
   ]
  },
  {
   "cell_type": "markdown",
   "metadata": {},
   "source": [
    "After analyzing the results it is foreseable that the document corpora contains papers in different languages, from which three of them are not identifiable due to wrong encoding or failure on the pdf data during the import process.\n",
    "Ininteligible languages are:\n",
    "- af\n",
    "- ca\n",
    "- cy\n",
    "\n",
    "Therefore will be discarded"
   ]
  },
  {
   "cell_type": "code",
   "execution_count": 456,
   "metadata": {},
   "outputs": [
    {
     "data": {
      "text/plain": [
       "Series([], Name: body, dtype: object)"
      ]
     },
     "execution_count": 456,
     "metadata": {},
     "output_type": "execute_result"
    }
   ],
   "source": [
    "articles[articles.language =='af'].body"
   ]
  },
  {
   "cell_type": "code",
   "execution_count": 457,
   "metadata": {},
   "outputs": [
    {
     "data": {
      "text/html": [
       "<div>\n",
       "<style scoped>\n",
       "    .dataframe tbody tr th:only-of-type {\n",
       "        vertical-align: middle;\n",
       "    }\n",
       "\n",
       "    .dataframe tbody tr th {\n",
       "        vertical-align: top;\n",
       "    }\n",
       "\n",
       "    .dataframe thead th {\n",
       "        text-align: right;\n",
       "    }\n",
       "</style>\n",
       "<table border=\"1\" class=\"dataframe\">\n",
       "  <thead>\n",
       "    <tr style=\"text-align: right;\">\n",
       "      <th></th>\n",
       "      <th>abstract</th>\n",
       "      <th>body</th>\n",
       "      <th>paper_id</th>\n",
       "      <th>abstract_word_count</th>\n",
       "      <th>body_word_count</th>\n",
       "    </tr>\n",
       "    <tr>\n",
       "      <th>language</th>\n",
       "      <th></th>\n",
       "      <th></th>\n",
       "      <th></th>\n",
       "      <th></th>\n",
       "      <th></th>\n",
       "    </tr>\n",
       "  </thead>\n",
       "  <tbody>\n",
       "    <tr>\n",
       "      <th>en</th>\n",
       "      <td>32128</td>\n",
       "      <td>32128</td>\n",
       "      <td>32128</td>\n",
       "      <td>32128</td>\n",
       "      <td>32128</td>\n",
       "    </tr>\n",
       "    <tr>\n",
       "      <th>fr</th>\n",
       "      <td>313</td>\n",
       "      <td>313</td>\n",
       "      <td>313</td>\n",
       "      <td>313</td>\n",
       "      <td>313</td>\n",
       "    </tr>\n",
       "    <tr>\n",
       "      <th>es</th>\n",
       "      <td>279</td>\n",
       "      <td>279</td>\n",
       "      <td>279</td>\n",
       "      <td>279</td>\n",
       "      <td>279</td>\n",
       "    </tr>\n",
       "    <tr>\n",
       "      <th>de</th>\n",
       "      <td>64</td>\n",
       "      <td>64</td>\n",
       "      <td>64</td>\n",
       "      <td>64</td>\n",
       "      <td>64</td>\n",
       "    </tr>\n",
       "    <tr>\n",
       "      <th>it</th>\n",
       "      <td>15</td>\n",
       "      <td>15</td>\n",
       "      <td>15</td>\n",
       "      <td>15</td>\n",
       "      <td>15</td>\n",
       "    </tr>\n",
       "    <tr>\n",
       "      <th>pt</th>\n",
       "      <td>8</td>\n",
       "      <td>8</td>\n",
       "      <td>8</td>\n",
       "      <td>8</td>\n",
       "      <td>8</td>\n",
       "    </tr>\n",
       "    <tr>\n",
       "      <th>pl</th>\n",
       "      <td>2</td>\n",
       "      <td>2</td>\n",
       "      <td>2</td>\n",
       "      <td>2</td>\n",
       "      <td>2</td>\n",
       "    </tr>\n",
       "    <tr>\n",
       "      <th>da</th>\n",
       "      <td>1</td>\n",
       "      <td>1</td>\n",
       "      <td>1</td>\n",
       "      <td>1</td>\n",
       "      <td>1</td>\n",
       "    </tr>\n",
       "    <tr>\n",
       "      <th>ro</th>\n",
       "      <td>1</td>\n",
       "      <td>1</td>\n",
       "      <td>1</td>\n",
       "      <td>1</td>\n",
       "      <td>1</td>\n",
       "    </tr>\n",
       "    <tr>\n",
       "      <th>sv</th>\n",
       "      <td>1</td>\n",
       "      <td>1</td>\n",
       "      <td>1</td>\n",
       "      <td>1</td>\n",
       "      <td>1</td>\n",
       "    </tr>\n",
       "  </tbody>\n",
       "</table>\n",
       "</div>"
      ],
      "text/plain": [
       "          abstract   body  paper_id  abstract_word_count  body_word_count\n",
       "language                                                                 \n",
       "en           32128  32128     32128                32128            32128\n",
       "fr             313    313       313                  313              313\n",
       "es             279    279       279                  279              279\n",
       "de              64     64        64                   64               64\n",
       "it              15     15        15                   15               15\n",
       "pt               8      8         8                    8                8\n",
       "pl               2      2         2                    2                2\n",
       "da               1      1         1                    1                1\n",
       "ro               1      1         1                    1                1\n",
       "sv               1      1         1                    1                1"
      ]
     },
     "execution_count": 457,
     "metadata": {},
     "output_type": "execute_result"
    }
   ],
   "source": [
    "discard_languages = ['af','ca','cy']\n",
    "articles = articles[~articles.language.isin( discard_languages)]\n",
    "ag = articles.groupby('language')\n",
    "ag= ag.count()\n",
    "ag.sort_values(by='body',ascending=False)"
   ]
  },
  {
   "cell_type": "code",
   "execution_count": 458,
   "metadata": {},
   "outputs": [
    {
     "data": {
      "text/plain": [
       "['da', 'de', 'en', 'es', 'fr', 'it', 'pl', 'pt', 'ro', 'sv']"
      ]
     },
     "execution_count": 458,
     "metadata": {},
     "output_type": "execute_result"
    }
   ],
   "source": [
    "list(ag.index)"
   ]
  },
  {
   "cell_type": "code",
   "execution_count": 459,
   "metadata": {},
   "outputs": [
    {
     "data": {
      "text/plain": [
       "<BarContainer object of 10 artists>"
      ]
     },
     "execution_count": 459,
     "metadata": {},
     "output_type": "execute_result"
    },
    {
     "data": {
      "image/png": "[encoded data removed]",
      "text/plain": [
       "<Figure size 432x288 with 1 Axes>"
      ]
     },
     "metadata": {
      "needs_background": "light"
     },
     "output_type": "display_data"
    }
   ],
   "source": [
    "plt.bar(x=list(ag.index), height=ag.body)"
   ]
  },
  {
   "cell_type": "markdown",
   "metadata": {},
   "source": [
    "Spicy Library will be used for text classification"
   ]
  },
  {
   "cell_type": "code",
   "execution_count": 460,
   "metadata": {},
   "outputs": [
    {
     "name": "stdout",
     "output_type": "stream",
     "text": [
      "Requirement already satisfied: spicy in c:\\python\\382\\lib\\site-packages (0.16.0)\n",
      "Requirement already satisfied: scipy in c:\\python\\382\\lib\\site-packages (from spicy) (1.4.1)\n",
      "Requirement already satisfied: numpy>=1.13.3 in c:\\python\\382\\lib\\site-packages (from scipy->spicy) (1.18.1)\n",
      "Note: you may need to restart the kernel to use updated packages.\n"
     ]
    }
   ],
   "source": [
    "%pip install spicy"
   ]
  },
  {
   "cell_type": "code",
   "execution_count": 461,
   "metadata": {},
   "outputs": [
    {
     "name": "stdout",
     "output_type": "stream",
     "text": [
      "Requirement already satisfied: en_core_web_lg==2.2.5 from https://github.com/explosion/spacy-models/releases/download/en_core_web_lg-2.2.5/en_core_web_lg-2.2.5.tar.gz#egg=en_core_web_lg==2.2.5 in c:\\python\\382\\lib\\site-packages (2.2.5)\n",
      "Requirement already satisfied: spacy>=2.2.2 in c:\\python\\382\\lib\\site-packages (from en_core_web_lg==2.2.5) (2.2.4)\n",
      "Requirement already satisfied: catalogue<1.1.0,>=0.0.7 in c:\\python\\382\\lib\\site-packages (from spacy>=2.2.2->en_core_web_lg==2.2.5) (1.0.0)\n",
      "Requirement already satisfied: wasabi<1.1.0,>=0.4.0 in c:\\python\\382\\lib\\site-packages (from spacy>=2.2.2->en_core_web_lg==2.2.5) (0.6.0)\n",
      "Requirement already satisfied: tqdm<5.0.0,>=4.38.0 in c:\\python\\382\\lib\\site-packages (from spacy>=2.2.2->en_core_web_lg==2.2.5) (4.43.0)\n",
      "Requirement already satisfied: preshed<3.1.0,>=3.0.2 in c:\\python\\382\\lib\\site-packages (from spacy>=2.2.2->en_core_web_lg==2.2.5) (3.0.2)\n",
      "Requirement already satisfied: murmurhash<1.1.0,>=0.28.0 in c:\\python\\382\\lib\\site-packages (from spacy>=2.2.2->en_core_web_lg==2.2.5) (1.0.2)\n",
      "Requirement already satisfied: thinc==7.4.0 in c:\\python\\382\\lib\\site-packages (from spacy>=2.2.2->en_core_web_lg==2.2.5) (7.4.0)\n",
      "Requirement already satisfied: setuptools in c:\\python\\382\\lib\\site-packages (from spacy>=2.2.2->en_core_web_lg==2.2.5) (41.2.0)\n",
      "Requirement already satisfied: plac<1.2.0,>=0.9.6 in c:\\python\\382\\lib\\site-packages (from spacy>=2.2.2->en_core_web_lg==2.2.5) (1.1.3)\n",
      "Requirement already satisfied: srsly<1.1.0,>=1.0.2 in c:\\python\\382\\lib\\site-packages (from spacy>=2.2.2->en_core_web_lg==2.2.5) (1.0.2)\n",
      "Requirement already satisfied: requests<3.0.0,>=2.13.0 in c:\\python\\382\\lib\\site-packages (from spacy>=2.2.2->en_core_web_lg==2.2.5) (2.23.0)\n",
      "Requirement already satisfied: numpy>=1.15.0 in c:\\python\\382\\lib\\site-packages (from spacy>=2.2.2->en_core_web_lg==2.2.5) (1.18.1)\n",
      "Requirement already satisfied: cymem<2.1.0,>=2.0.2 in c:\\python\\382\\lib\\site-packages (from spacy>=2.2.2->en_core_web_lg==2.2.5) (2.0.3)\n",
      "Requirement already satisfied: blis<0.5.0,>=0.4.0 in c:\\python\\382\\lib\\site-packages (from spacy>=2.2.2->en_core_web_lg==2.2.5) (0.4.1)\n",
      "Requirement already satisfied: certifi>=2017.4.17 in c:\\python\\382\\lib\\site-packages (from requests<3.0.0,>=2.13.0->spacy>=2.2.2->en_core_web_lg==2.2.5) (2019.11.28)\n",
      "Requirement already satisfied: chardet<4,>=3.0.2 in c:\\python\\382\\lib\\site-packages (from requests<3.0.0,>=2.13.0->spacy>=2.2.2->en_core_web_lg==2.2.5) (3.0.4)\n",
      "Requirement already satisfied: idna<3,>=2.5 in c:\\python\\382\\lib\\site-packages (from requests<3.0.0,>=2.13.0->spacy>=2.2.2->en_core_web_lg==2.2.5) (2.9)\n",
      "Requirement already satisfied: urllib3!=1.25.0,!=1.25.1,<1.26,>=1.21.1 in c:\\python\\382\\lib\\site-packages (from requests<3.0.0,>=2.13.0->spacy>=2.2.2->en_core_web_lg==2.2.5) (1.25.8)\n",
      "[+] Download and installation successful\n",
      "You can now load the model via spacy.load('en_core_web_lg')\n"
     ]
    }
   ],
   "source": [
    "!python -m spacy download en_core_web_lg"
   ]
  },
  {
   "cell_type": "markdown",
   "metadata": {},
   "source": [
    "Focus only on english text since is the majority and the one that will bring more context to the classification"
   ]
  },
  {
   "cell_type": "code",
   "execution_count": 462,
   "metadata": {},
   "outputs": [],
   "source": [
    "articles = articles[articles.language=='en']"
   ]
  },
  {
   "cell_type": "code",
   "execution_count": 463,
   "metadata": {},
   "outputs": [],
   "source": [
    "import spacy\n",
    "nlp = spacy.load('en_core_web_sm')\n",
    "punctuations = spacy.lang.punctuation.PUNCT\n",
    "stopwords = spacy.lang.en.stop_words.STOP_WORDS\n",
    "def cleanup(doc):\n",
    "    doc = nlp(doc, disable=['parser', 'ner'])\n",
    "    tokens = [token.lemma_.lower().strip() for token in doc if token.lemma_ != '-PRON-']\n",
    "    tokens = [token for token in tokens if token not in stopwords and token not in punctuations]\n",
    "    tokens = ' '.join(tokens)\n",
    "    texts = tokens\n",
    "    return texts"
   ]
  },
  {
   "cell_type": "code",
   "execution_count": 465,
   "metadata": {},
   "outputs": [
    {
     "data": {
      "application/vnd.jupyter.widget-view+json": {
       "model_id": "0dbfb1a267914cc5902d95bfae22fa4a",
       "version_major": 2,
       "version_minor": 0
      },
      "text/plain": [
       "HBox(children=(FloatProgress(value=0.0, max=32128.0), HTML(value='')))"
      ]
     },
     "metadata": {},
     "output_type": "display_data"
    },
    {
     "ename": "ValueError",
     "evalue": "[E088] Text of length 1080031 exceeds maximum of 1000000. The v2.x parser and NER models require roughly 1GB of temporary memory per 100,000 characters in the input. This means long texts may cause memory allocation errors. If you're not using the parser or NER, it's probably safe to increase the `nlp.max_length` limit. The limit is in number of characters, so you can check whether your inputs are too long by checking `len(text)`.",
     "output_type": "error",
     "traceback": [
      "\u001b[1;31m---------------------------------------------------------------------------\u001b[0m",
      "\u001b[1;31mValueError\u001b[0m                                Traceback (most recent call last)",
      "\u001b[1;32m<ipython-input-465-32aa605f24b7>\u001b[0m in \u001b[0;36m<module>\u001b[1;34m\u001b[0m\n\u001b[1;32m----> 1\u001b[1;33m \u001b[0marticles\u001b[0m\u001b[1;33m[\u001b[0m\u001b[1;34m'body_parsed'\u001b[0m\u001b[1;33m]\u001b[0m \u001b[1;33m=\u001b[0m \u001b[0marticles\u001b[0m\u001b[1;33m[\u001b[0m\u001b[1;34m'body'\u001b[0m\u001b[1;33m]\u001b[0m\u001b[1;33m.\u001b[0m\u001b[0mprogress_apply\u001b[0m\u001b[1;33m(\u001b[0m\u001b[1;32mlambda\u001b[0m \u001b[0mx\u001b[0m\u001b[1;33m:\u001b[0m \u001b[0mcleanup\u001b[0m\u001b[1;33m(\u001b[0m\u001b[0mx\u001b[0m\u001b[1;33m)\u001b[0m\u001b[1;33m)\u001b[0m\u001b[1;33m\u001b[0m\u001b[1;33m\u001b[0m\u001b[0m\n\u001b[0m",
      "\u001b[1;32mc:\\python\\382\\lib\\site-packages\\tqdm\\std.py\u001b[0m in \u001b[0;36minner\u001b[1;34m(df, func, *args, **kwargs)\u001b[0m\n\u001b[0;32m    754\u001b[0m                 \u001b[1;31m# Apply the provided function (in **kwargs)\u001b[0m\u001b[1;33m\u001b[0m\u001b[1;33m\u001b[0m\u001b[1;33m\u001b[0m\u001b[0m\n\u001b[0;32m    755\u001b[0m                 \u001b[1;31m# on the df using our wrapper (which provides bar updating)\u001b[0m\u001b[1;33m\u001b[0m\u001b[1;33m\u001b[0m\u001b[1;33m\u001b[0m\u001b[0m\n\u001b[1;32m--> 756\u001b[1;33m                 \u001b[0mresult\u001b[0m \u001b[1;33m=\u001b[0m \u001b[0mgetattr\u001b[0m\u001b[1;33m(\u001b[0m\u001b[0mdf\u001b[0m\u001b[1;33m,\u001b[0m \u001b[0mdf_function\u001b[0m\u001b[1;33m)\u001b[0m\u001b[1;33m(\u001b[0m\u001b[0mwrapper\u001b[0m\u001b[1;33m,\u001b[0m \u001b[1;33m**\u001b[0m\u001b[0mkwargs\u001b[0m\u001b[1;33m)\u001b[0m\u001b[1;33m\u001b[0m\u001b[1;33m\u001b[0m\u001b[0m\n\u001b[0m\u001b[0;32m    757\u001b[0m \u001b[1;33m\u001b[0m\u001b[0m\n\u001b[0;32m    758\u001b[0m                 \u001b[1;31m# Close bar and return pandas calculation result\u001b[0m\u001b[1;33m\u001b[0m\u001b[1;33m\u001b[0m\u001b[1;33m\u001b[0m\u001b[0m\n",
      "\u001b[1;32mc:\\python\\382\\lib\\site-packages\\pandas\\core\\series.py\u001b[0m in \u001b[0;36mapply\u001b[1;34m(self, func, convert_dtype, args, **kwds)\u001b[0m\n\u001b[0;32m   3846\u001b[0m             \u001b[1;32melse\u001b[0m\u001b[1;33m:\u001b[0m\u001b[1;33m\u001b[0m\u001b[1;33m\u001b[0m\u001b[0m\n\u001b[0;32m   3847\u001b[0m                 \u001b[0mvalues\u001b[0m \u001b[1;33m=\u001b[0m \u001b[0mself\u001b[0m\u001b[1;33m.\u001b[0m\u001b[0mastype\u001b[0m\u001b[1;33m(\u001b[0m\u001b[0mobject\u001b[0m\u001b[1;33m)\u001b[0m\u001b[1;33m.\u001b[0m\u001b[0mvalues\u001b[0m\u001b[1;33m\u001b[0m\u001b[1;33m\u001b[0m\u001b[0m\n\u001b[1;32m-> 3848\u001b[1;33m                 \u001b[0mmapped\u001b[0m \u001b[1;33m=\u001b[0m \u001b[0mlib\u001b[0m\u001b[1;33m.\u001b[0m\u001b[0mmap_infer\u001b[0m\u001b[1;33m(\u001b[0m\u001b[0mvalues\u001b[0m\u001b[1;33m,\u001b[0m \u001b[0mf\u001b[0m\u001b[1;33m,\u001b[0m \u001b[0mconvert\u001b[0m\u001b[1;33m=\u001b[0m\u001b[0mconvert_dtype\u001b[0m\u001b[1;33m)\u001b[0m\u001b[1;33m\u001b[0m\u001b[1;33m\u001b[0m\u001b[0m\n\u001b[0m\u001b[0;32m   3849\u001b[0m \u001b[1;33m\u001b[0m\u001b[0m\n\u001b[0;32m   3850\u001b[0m         \u001b[1;32mif\u001b[0m \u001b[0mlen\u001b[0m\u001b[1;33m(\u001b[0m\u001b[0mmapped\u001b[0m\u001b[1;33m)\u001b[0m \u001b[1;32mand\u001b[0m \u001b[0misinstance\u001b[0m\u001b[1;33m(\u001b[0m\u001b[0mmapped\u001b[0m\u001b[1;33m[\u001b[0m\u001b[1;36m0\u001b[0m\u001b[1;33m]\u001b[0m\u001b[1;33m,\u001b[0m \u001b[0mSeries\u001b[0m\u001b[1;33m)\u001b[0m\u001b[1;33m:\u001b[0m\u001b[1;33m\u001b[0m\u001b[1;33m\u001b[0m\u001b[0m\n",
      "\u001b[1;32mpandas\\_libs\\lib.pyx\u001b[0m in \u001b[0;36mpandas._libs.lib.map_infer\u001b[1;34m()\u001b[0m\n",
      "\u001b[1;32mc:\\python\\382\\lib\\site-packages\\tqdm\\std.py\u001b[0m in \u001b[0;36mwrapper\u001b[1;34m(*args, **kwargs)\u001b[0m\n\u001b[0;32m    750\u001b[0m                     \u001b[1;31m# take a fast or slow code path; so stop when t.total==t.n\u001b[0m\u001b[1;33m\u001b[0m\u001b[1;33m\u001b[0m\u001b[1;33m\u001b[0m\u001b[0m\n\u001b[0;32m    751\u001b[0m                     \u001b[0mt\u001b[0m\u001b[1;33m.\u001b[0m\u001b[0mupdate\u001b[0m\u001b[1;33m(\u001b[0m\u001b[0mn\u001b[0m\u001b[1;33m=\u001b[0m\u001b[1;36m1\u001b[0m \u001b[1;32mif\u001b[0m \u001b[1;32mnot\u001b[0m \u001b[0mt\u001b[0m\u001b[1;33m.\u001b[0m\u001b[0mtotal\u001b[0m \u001b[1;32mor\u001b[0m \u001b[0mt\u001b[0m\u001b[1;33m.\u001b[0m\u001b[0mn\u001b[0m \u001b[1;33m<\u001b[0m \u001b[0mt\u001b[0m\u001b[1;33m.\u001b[0m\u001b[0mtotal\u001b[0m \u001b[1;32melse\u001b[0m \u001b[1;36m0\u001b[0m\u001b[1;33m)\u001b[0m\u001b[1;33m\u001b[0m\u001b[1;33m\u001b[0m\u001b[0m\n\u001b[1;32m--> 752\u001b[1;33m                     \u001b[1;32mreturn\u001b[0m \u001b[0mfunc\u001b[0m\u001b[1;33m(\u001b[0m\u001b[1;33m*\u001b[0m\u001b[0margs\u001b[0m\u001b[1;33m,\u001b[0m \u001b[1;33m**\u001b[0m\u001b[0mkwargs\u001b[0m\u001b[1;33m)\u001b[0m\u001b[1;33m\u001b[0m\u001b[1;33m\u001b[0m\u001b[0m\n\u001b[0m\u001b[0;32m    753\u001b[0m \u001b[1;33m\u001b[0m\u001b[0m\n\u001b[0;32m    754\u001b[0m                 \u001b[1;31m# Apply the provided function (in **kwargs)\u001b[0m\u001b[1;33m\u001b[0m\u001b[1;33m\u001b[0m\u001b[1;33m\u001b[0m\u001b[0m\n",
      "\u001b[1;32m<ipython-input-465-32aa605f24b7>\u001b[0m in \u001b[0;36m<lambda>\u001b[1;34m(x)\u001b[0m\n\u001b[1;32m----> 1\u001b[1;33m \u001b[0marticles\u001b[0m\u001b[1;33m[\u001b[0m\u001b[1;34m'body_parsed'\u001b[0m\u001b[1;33m]\u001b[0m \u001b[1;33m=\u001b[0m \u001b[0marticles\u001b[0m\u001b[1;33m[\u001b[0m\u001b[1;34m'body'\u001b[0m\u001b[1;33m]\u001b[0m\u001b[1;33m.\u001b[0m\u001b[0mprogress_apply\u001b[0m\u001b[1;33m(\u001b[0m\u001b[1;32mlambda\u001b[0m \u001b[0mx\u001b[0m\u001b[1;33m:\u001b[0m \u001b[0mcleanup\u001b[0m\u001b[1;33m(\u001b[0m\u001b[0mx\u001b[0m\u001b[1;33m)\u001b[0m\u001b[1;33m)\u001b[0m\u001b[1;33m\u001b[0m\u001b[1;33m\u001b[0m\u001b[0m\n\u001b[0m",
      "\u001b[1;32m<ipython-input-463-414997fc54b5>\u001b[0m in \u001b[0;36mcleanup\u001b[1;34m(doc)\u001b[0m\n\u001b[0;32m      4\u001b[0m \u001b[0mstopwords\u001b[0m \u001b[1;33m=\u001b[0m \u001b[0mspacy\u001b[0m\u001b[1;33m.\u001b[0m\u001b[0mlang\u001b[0m\u001b[1;33m.\u001b[0m\u001b[0men\u001b[0m\u001b[1;33m.\u001b[0m\u001b[0mstop_words\u001b[0m\u001b[1;33m.\u001b[0m\u001b[0mSTOP_WORDS\u001b[0m\u001b[1;33m\u001b[0m\u001b[1;33m\u001b[0m\u001b[0m\n\u001b[0;32m      5\u001b[0m \u001b[1;32mdef\u001b[0m \u001b[0mcleanup\u001b[0m\u001b[1;33m(\u001b[0m\u001b[0mdoc\u001b[0m\u001b[1;33m)\u001b[0m\u001b[1;33m:\u001b[0m\u001b[1;33m\u001b[0m\u001b[1;33m\u001b[0m\u001b[0m\n\u001b[1;32m----> 6\u001b[1;33m     \u001b[0mdoc\u001b[0m \u001b[1;33m=\u001b[0m \u001b[0mnlp\u001b[0m\u001b[1;33m(\u001b[0m\u001b[0mdoc\u001b[0m\u001b[1;33m,\u001b[0m \u001b[0mdisable\u001b[0m\u001b[1;33m=\u001b[0m\u001b[1;33m[\u001b[0m\u001b[1;34m'parser'\u001b[0m\u001b[1;33m,\u001b[0m \u001b[1;34m'ner'\u001b[0m\u001b[1;33m]\u001b[0m\u001b[1;33m)\u001b[0m\u001b[1;33m\u001b[0m\u001b[1;33m\u001b[0m\u001b[0m\n\u001b[0m\u001b[0;32m      7\u001b[0m     \u001b[0mtokens\u001b[0m \u001b[1;33m=\u001b[0m \u001b[1;33m[\u001b[0m\u001b[0mtoken\u001b[0m\u001b[1;33m.\u001b[0m\u001b[0mlemma_\u001b[0m\u001b[1;33m.\u001b[0m\u001b[0mlower\u001b[0m\u001b[1;33m(\u001b[0m\u001b[1;33m)\u001b[0m\u001b[1;33m.\u001b[0m\u001b[0mstrip\u001b[0m\u001b[1;33m(\u001b[0m\u001b[1;33m)\u001b[0m \u001b[1;32mfor\u001b[0m \u001b[0mtoken\u001b[0m \u001b[1;32min\u001b[0m \u001b[0mdoc\u001b[0m \u001b[1;32mif\u001b[0m \u001b[0mtoken\u001b[0m\u001b[1;33m.\u001b[0m\u001b[0mlemma_\u001b[0m \u001b[1;33m!=\u001b[0m \u001b[1;34m'-PRON-'\u001b[0m\u001b[1;33m]\u001b[0m\u001b[1;33m\u001b[0m\u001b[1;33m\u001b[0m\u001b[0m\n\u001b[0;32m      8\u001b[0m     \u001b[0mtokens\u001b[0m \u001b[1;33m=\u001b[0m \u001b[1;33m[\u001b[0m\u001b[0mtoken\u001b[0m \u001b[1;32mfor\u001b[0m \u001b[0mtoken\u001b[0m \u001b[1;32min\u001b[0m \u001b[0mtokens\u001b[0m \u001b[1;32mif\u001b[0m \u001b[0mtoken\u001b[0m \u001b[1;32mnot\u001b[0m \u001b[1;32min\u001b[0m \u001b[0mstopwords\u001b[0m \u001b[1;32mand\u001b[0m \u001b[0mtoken\u001b[0m \u001b[1;32mnot\u001b[0m \u001b[1;32min\u001b[0m \u001b[0mpunctuations\u001b[0m\u001b[1;33m]\u001b[0m\u001b[1;33m\u001b[0m\u001b[1;33m\u001b[0m\u001b[0m\n",
      "\u001b[1;32mc:\\python\\382\\lib\\site-packages\\spacy\\language.py\u001b[0m in \u001b[0;36m__call__\u001b[1;34m(self, text, disable, component_cfg)\u001b[0m\n\u001b[0;32m    426\u001b[0m         \"\"\"\n\u001b[0;32m    427\u001b[0m         \u001b[1;32mif\u001b[0m \u001b[0mlen\u001b[0m\u001b[1;33m(\u001b[0m\u001b[0mtext\u001b[0m\u001b[1;33m)\u001b[0m \u001b[1;33m>\u001b[0m \u001b[0mself\u001b[0m\u001b[1;33m.\u001b[0m\u001b[0mmax_length\u001b[0m\u001b[1;33m:\u001b[0m\u001b[1;33m\u001b[0m\u001b[1;33m\u001b[0m\u001b[0m\n\u001b[1;32m--> 428\u001b[1;33m             raise ValueError(\n\u001b[0m\u001b[0;32m    429\u001b[0m                 \u001b[0mErrors\u001b[0m\u001b[1;33m.\u001b[0m\u001b[0mE088\u001b[0m\u001b[1;33m.\u001b[0m\u001b[0mformat\u001b[0m\u001b[1;33m(\u001b[0m\u001b[0mlength\u001b[0m\u001b[1;33m=\u001b[0m\u001b[0mlen\u001b[0m\u001b[1;33m(\u001b[0m\u001b[0mtext\u001b[0m\u001b[1;33m)\u001b[0m\u001b[1;33m,\u001b[0m \u001b[0mmax_length\u001b[0m\u001b[1;33m=\u001b[0m\u001b[0mself\u001b[0m\u001b[1;33m.\u001b[0m\u001b[0mmax_length\u001b[0m\u001b[1;33m)\u001b[0m\u001b[1;33m\u001b[0m\u001b[1;33m\u001b[0m\u001b[0m\n\u001b[0;32m    430\u001b[0m             )\n",
      "\u001b[1;31mValueError\u001b[0m: [E088] Text of length 1080031 exceeds maximum of 1000000. The v2.x parser and NER models require roughly 1GB of temporary memory per 100,000 characters in the input. This means long texts may cause memory allocation errors. If you're not using the parser or NER, it's probably safe to increase the `nlp.max_length` limit. The limit is in number of characters, so you can check whether your inputs are too long by checking `len(text)`."
     ]
    }
   ],
   "source": [
    "articles['body_parsed'] = articles['body'].progress_apply(lambda x: cleanup(x))"
   ]
  },
  {
   "cell_type": "code",
   "execution_count": 506,
   "metadata": {},
   "outputs": [
    {
     "data": {
      "text/plain": [
       "'the majority of patients were characterized by the presence of comorbidities and the absence of immunosuppressive conditions phn specific antibody production was observed around day  from disease onset and defined an early period of innate immune response and a late period of adaptive immune response to the virus the most severe patients n   showed persistence of viral secretion seven of the most severe patients died during the late phase the most severe patient group had impaired expression of a number of genes participating in adaptive immune responses when compared to less severe patients these genes were involved in antigen presentation bcell development thelper cell differentiation cd granzyme b signaling apoptosis and protein ubiquitination patients with the poorest outcomes were characterized by proinflammatory hypercytokinemia along with elevated levels of immunosuppressory cytokines interleukin il and ilra in serum conclusions our findings suggest an impaired development of adaptive immunity in the most severe cases of pandemic influenza leading to an unremitting cycle of viral replication and innate cytokinechemokine release interruption of this deleterious cycle may improve disease outcome pandemic  influenza ahnpahn viral infections continues to be a public health threat   while the overall case fatality rate is low   approximately  to  of hospitalized patients require admission to an intensive care unit icu and  to  of these severe patients have a fatal outcome      understanding the pathogenic events leading to critical pandemic hndisease is important for designing better strategies for prevention and treatment of severe outcomes previous studies examining host immune responses in other emerging viruses such as severe acute respiratory syndrome sarsassociated coronavirus suggest that severe disease is characterized by a malfunction of the switch from innate to adaptive immunity in response to the virus   similar to severe infections caused by hn influenza virus  dysregulated cytokine secretion have been described in severe cases of pahn    infection by pandemic  influenza virus causes defective host responses to s pneumoniae as showed in ex vivo cultured peripheral blood mononuclear cells from pandemic  influenza ahn patients   in ferrets infected with pandemic influenza virus recovery from infection and improved clinical signs are paralleled by a switch between the innate and the adaptive phase of host immune responses   the potential for the use of gene signatures to better assess the immunopathology and clinical management of severe viral infections has been widely demonstrated in the past     by using a systems biologybased approach we analyzed the response to viral infection following hospitalization of  pahn critically ill patients admitted to seven spanish intensive care units our results indicate that pandemic hn patients with severe respiratory disease and poor outcome are characterized by an impaired activation of those genes participating in the development of the antiviral adaptive response nineteen patients attending the participants icus with primary viral pneumonia during the acute phase of influenza virus illness with acute respiratory distress and unequivocal alveolar opacification involving two or more lobes with negative respiratory and blood bacterial cultures at admission were recruited from  november to  december  patients older than  years and younger than  years were excluded from the study to avoid immaturityaging of the immune system as confusion factor in the analysis only those patients with confirmed hn infection by realtime polymerase chain reaction pcr were included in the study n   serial blood samples for plasma serum and rna were collected by using serum ethylenediaminetetraacetic acid edta and paxgene bd venous blood vacuum collection following the manufacturers instructions at days   and  after admission to the icu according to a unified protocol for all the participant centers a pharyngeal sample was collected in parallel fifteen healthy volunteers of similar age to the patients were recruited between workers of the university of valladolid spain a standard survey was employed to collect the clinical data including history and physical examination oximetric measurement hematological biochemical radiological and microbiological investigation in all the participant centers treatment decisions for all patients including corticosteroid therapy were not standardized and were decided by the attending physician informed consent was obtained directly from each patient or their legal representative and also from the healthy controls before enrollment patient and control identification remained anonymous approval of the study protocol in both the scientific and the ethical aspects was obtained from the scientific committees for clinical research of each one of the participant centers samples were stored at c until cytokine antibody and rnam profiling attending to timing of seroconversion production of antibodies against pahn day  from onset of symptoms was considered as the border between the innate and the adaptive immune response in the patients establishing two moments in the evolution of the disease an early phase from onset of symptoms day  to day  and a late phase from day  and above patients were divided into two groups depending on their respiratory status the mv group needed invasive mechanical ventilation following admission the nmv group was composed of those patients not needing mechanical ventilation at any moment during hospitalization cytokines gene expression and viral load of mv patients were compared with those of nmv patients in both early and late phases separately the number of samples analyzed in each phase is detailed in the additional file  viral diagnosis was performed on rna from pharyngeal swabs in the microbiology services of the participant hospitals by reverse transcriptionpolymerase chain reaction rtpcrbased methods using reagents provided free of charge by the centers for disease control cdc atlanta ga usa or purchased from roche basel switzerland hn detection set these samples were also assessed by multiplex pcr luminex with the xtag rvp kit from luminexabbott for coinfection with respiratory syncytial virus influenza b virus parainfluenza viruses  human metapneumovirus enteroviruses rhinovirus adenovirus bocavirus and coronaviruses nl hku e oc in accordance with the manufacturers instructions viral load was quantified in both pharyngeal swabs and plasma in the virology lab of the whoassociated center at hospital clinic in barcelona spain as detailed in additional file  oseltamivir resistance was directly detected in the initial positive pharyngeal swab by rtpcr and sequencing of a bp fragment of the neuraminidase gene for the presence of the mutation hy by using an abi xl genetic analyzer hai assays were performed on a l aliquot of the samples at university health network uhn toronto ontario canada the sera were treated with receptordestroying enzyme rde of v cholerae by diluting one part serum with three parts enzyme and were incubated overnight in a c water bath the enzyme was inactivated by min incubation at c followed by the addition of six parts  physiological saline for a final dilution of  hi assays were performed in vbottom well microtiter plates corning costar co cambridge ma usa with  turkey erythrocytes as previously described  using inactivated pandemic influenza a californiapahn antigens microarrays were performed at university health network uhn toronto ontario canada more detailed explanation of microarray assays is provided in additional file  ingenuity pathway analysis  ipa ingenuity systems redwood city ca usa was used to select annotate and visualize genes by function and pathway gene ontology ipa analysis identified those canonical pathways differentially expressed p   between comparison groups hierarchical clustering of those genes differentially expressed between groups by ipa analysis was performed using brbarray tools v stable release developed by dr richard simon and the brbarray tools development team resulting microarray data sets have been uploaded at the geo microarray data repository geogse   we verified changes in microarray gene expression using quantitative realtime pcr qrtpcr for representative genes from our analysis  figure s in additional file  primers specific for human gapdh mrna were used to normalize samples immune mediator levels in serum were measured in patients and controls by using the multiplex biorad plex assay hercules ca usa in the infection  immunity unit hospital clnico universitarioiecscyl valladolid spain this system allows for quantitative measurement of  different chemokines cytokines growth factors and immune mediators while consuming a small amount of biological material a number of additional soluble mediators were measured by using enzymelinked inmunosorbent assays elisas interferon  and  verikine kits purchased from pbl interferon source piscataway nj usa il tgf quantikine kits purchased from rd systems minneapolis mn usa ila legend max kit purchased from biolegend san diego ca usa immune mediators concentration of each individual sample was normalized against the median of the concentration of the control group n   and the resultant ratios were compared between groups of patients the mannwhitney u test was employed for cytokine comparison purposes since the saphiro wilk test evidenced absence of normal distribution of the data and the levene test demostrated absence of homogeneity of variance in both mv and nmv groups correlation studies between cytokine levels gene expression levels viral load and clinical parameters were done by calculating the spearman correlation coefficients all statistical tests were twosided and p   was considered significant all patients were positive for pahn at admission to the intensive care unit icu with absence of any other respiratory virus in the pharyngeal swabs none of the patients had received the vaccine against pahn all patients received oseltamivir therapy by the day of admission to icu none of the viral samples examined showed the mutation hy conferring resistance to oseltamivir twelve patients showed respiratory work severe enough for need of invasive mechanical ventilation at icu admission these patients were classified as mv group while none of the remaining seven were mechanically ventilated during their hospitalization these patients were classified as nmv group the most common symptoms at onset were fever  c cases in mv cases in nmv    myalgias    cough   and dyspnea    nine patients of the most severe group and six of the less severe ones had concomitant preexistent conditions  table   none of the patients except one patient of the nmv group who was receiving treatment with bortezomib were under immunosuppressory therapy by the day of admission five of  mv patients for four of seven data are shown as means with sd where appropriate na not applicable rc respiratory culture hc hemoculture oseltamivir was administered orally or by nasogastric route in accordance with cdc recommendations   patients in the nmv group were receiving steroids at the time of sample collection table   seven mv patients failed to recover from disease and died with a mean illness duration time of  and  days mean sd all nmv patients recovered from pahn disease the leading cause of death was primary respiratory failure with refractory hypoxemia in five patients and multiorganic failure in the remaining two patients table s in additional file  while no differences were found in viral load between mv and nmv patients in the early stage of the disease mv patients showed significantly higher viral loads than nmv in pharynx in the late stage of the disease p   figure   three mv patients and one nmv showed detectable viremia at the day of icu admission with undetectable virus in plasma afterward viral load in pharynx showed a direct correlation with sofa score r   and an inverse one with o  saturation r   during the course of the disease five mv patients suffered from a bacterial or fungal superinfection at some point during hospitalization table   three patients suffering from bacterial superinfection died table s additional file   remarkably none of the patients in the nmv group suffered from bacterial superinfection all but three patients two mv and one nmv had produced antibodies hai titers   by the last day of sample collection seroconversion took place   days from the onset the symptoms in the mv group and   days in the nmv group mean sd with no significant difference between the two groups comparison of gene expression profiles between mv and nmv patients in the early phase of the disease revealed the absence of differentially expressed genes between both groups on the other hand comparisons in the late phase of the disease revealed  genes differentially expressed between mv and nmv patients p   fdr   ipa analysis identified in this late phase a significant depression of a group of intracellular signaling pathways important for the development of the antiviral immune response in the most severe group of patients mv compared to nmv group figure   a number of genes involved in antigen presentation figure   b cell development  figure s in additional file  cd signaling in t helper cells  figure s in additional file  granzyme b signaling  figure s in additional file  t helper cell differentiation protein ubiquitination dendritic cell maturation apoptosis and bcell receptor bcr signaling were differentially regulated between these two groups and significantly lower in the mv group on the contrary the mv group showed significantly higher expression of the il and il signaling pathways  figures s and s in additional files  and  tables ss additional files  hladrb hladqa hladra hladmb hladpa cd cda and cdb showed a negative correlation with viral load in pharynx during the late phase of disease p   r   these genes with the exception of hladrb correlated positively with o  saturation in this phase p   r   they showed also a negative association with the sofa score for severity as also did cd and hlac p   r   nmv and mv groups did not show major differences in the cytokine and chemokine profiles during the early phase of disease table s in additional file   however in the late phase mv patients showed significantly higher levels of the chemokines ip cxcl il cxcl and mcp ccl figure  and table s in additional file  during the late phase mv patients showed higher levels of two key th cytokines ilp and ifn il a th related cytokine and also two cellular growth factors vegf gmcsf than the less severe patients nmv also during the late phase mv patients showed increased levels of two immunomodulatory cytokines il ilra  figure  and table s in additional file  levels of ip il and il showed a positive correlation with viral load in pharynx during the course of the disease p   r coefficient   il il il il ilp gmcsf and ifn showed a positive correlation with the sofa score for severity p   r coefficient   il levels showed an inverse association with hladrb hladpb and cd expression levels ilra showed an inverse association with hlac expression levels p   r   ifn ifn il and il were undetectable in the vast majority of the patients in both groups along the course of the disease here we examined host immune responses in severe patients requiring admission to the icu on the basis of the presence of antipahn antibodies we were able to identify two phases of disease in severe patients an early phase characterized by the absence of antibodies innate immunity phase and a later phase defined by the presence of circulating antipahn antibodies adaptive immunity phase analysis of gene expression and cytokine profiles led to the characterization of signatures that are associated with disease severity and poor outcome in the late phase the impaired expression of a number of mhc class ii dm dp dq dr mhc class i hlac genes of t cell receptorassociated genes cd cda cdb and also of a group of genes participating in dendritic cell maturation ccr cdc il points to the existence of a defective antigen presentation in the most severe group of patients those who needed mechanical ventilation mv in the late phase of adaptive immunity an adequate antigen presentation is needed to develop an effective adaptive immunity to influenza viruses   under some circumstances changes affecting antigen presentation more strongly impact viral kinetics in the host than other viral or immune factors   disruption of antigen presentation prevents an effective adaptive immune response evidence on the potential role of an altered antigen presentation on the development of an appropriated adaptive response against the virus comes from the impaired expression of a group of genes pivotal to the activation and function of both t and b cells observed in the mv group in the late phase defective expression of cxcr mhc class ii molecules ilrb ilr and ilr supports an impaired t helper cell differentiation signaling in this group of patients poor expression of cd fyn grb mhc class ii molecules itpr malt nfatc nfatc pdpk pikr and plcg genes indicates a disruption in cd signaling in t helper cells which is needed for effective primary tcell expansion   impaired expression of dffa endog numa parp and prkdc affects granzyme b signaling this pathway is involved in the induction of apoptosis in virusinfected cells by cytotoxic t lymphocytes ctls   impaired t helper cell differentiation cd and granzyme b signalling along with the poor expression of t cell receptor associated genes cd cda cdb supports a defective t cell response during the phase of adaptive immunity in the mv group moreover the poor expression of additional clues on the existence of a defective adaptive response in severe pandemic influenza come from the impaired expression of a group of genes participating in the apoptosis signaling pathway aifm birc capn capn capns casp dffa endog hras parp plcg tp  since apoptosis is a recognized antiviral mechanism   a defect in apoptosis could translate into poor control of the virus additionally defective expression of several ubiquitinconjugating enzymes and ubiquitinspecific peptidases demonstrates that ubiquitination is also affected in severe pandemic influenza during the phase of adaptive response ubiquitination regulates the development of many phases of the immune response including its initiation propagation and termination   the alteration of this pathway in severe pandemic influenza could affect in consequence all the steps needed for the development of an appropriate response to the virus the role of steroids or immunosuppressor drugs in the genesis of the impaired adaptive response should be very limited since none of the patients of the most severe group were under immunosuppressor treatment by the admission date in addition as detailed in table    the proportion of patients under steroid treatment at the moment of sample collection during the hospitalization period was very similar in both groups of patients  for mv and  in nmv in consequence steroid treatment should affect similarly both groups in terms of modulation of the immune response the ability showed by the vast majority of the patients in the mv group to produce specific antibodies indicates that antibody generation was insufficient to overcome the infection our results on gene expression support a defect in cellular immunity on the basis of the poor control of the virus in this group it is well known that t helper and ctl responses play a determinant role in the containment of influenza once infection has occurred     our group is now designing further studies aimed at clarifying the participation of cellular responses in the severe disease caused by pa hn on the other hand patients of the mv group showed higher expression levels of those genes participating of the il and il canonical pathways during the phase of adaptive immunity these pathways play opposite roles proinflammatory and antiinflammatory respectively in addition serum levels of both il and il proteins are the highest in the mv group in this phase group which showed also elevated levels of chemokines th cytokines and growth factors the presence of hypercytokinemia has been recently reported during infection by pahn   it has been described also during fatal hn disease severe sars    acute rsv bronchiolitis  and sepsis   positive association between chemokines cytokines and viral load in our study evidences that they are markers of ongoing viral replication as previously observed in sars and hn infection    the high levels of the immunomodulatory molecules ilra and il could represent an attempt to prevent cytokinedriven inflammatory damage or alternatively a virusinduced evasion mechanism      the positive correlation observed between il viral load and sofa and the negative correlations between this cytokine and the expression levels of the genes participating in the antigen presentation pathway supports the role of this mediator in favoring viral replication as detailed in table   bacterial superinfections took place not in the early but in the late course of the disease this supports the role of the impaired adaptive response and the release of immunosuppressory cytokines in the increased incidence of bacterial superinfection observed in severe disease following infection by pahn   our findings suggest a state of host adaptive immunity deficiency haid in the patients with severe pandemic influenza leading to an unremitting cycle of viral replication and innate cytokinechemokine release  figure   this scenario of haid resembles to the concept of immunoparalysis described for sepsis   interruption of this deleterious cycle may lead to improved disease outcome  the association between host immune responses and clinical outcome in severe pandemic  influenza is poorly known the potential for the use of gene signatures to better assess the immunopathology and clinical management of severe viral infections has been widely demonstrated in the past  previous studies examining host gene expression profiles in other emerging viruses such as sarsassociated coronavirus suggest severe disease is characterized by a malfunction of the switch from innate to adaptive immunity in response to the virus similar to severe infections caused by hn influenza virus dysregulated cytokine secretion has been described in severe cases of pahn  pandemic hn patients with severe respiratory disease and poor outcomes are characterized by an impaired activation of those genes participating in the development of the antiviral adaptive response and by persistence of the virus in the respiratory tract these findings suggest a state of haid that'"
      ]
     },
     "execution_count": 506,
     "metadata": {},
     "output_type": "execute_result"
    }
   ],
   "source": [
    "re.sub('[^a-z ]','',articles.loc[7059]['body'])\n"
   ]
  },
  {
   "cell_type": "code",
   "execution_count": null,
   "metadata": {},
   "outputs": [],
   "source": []
  },
  {
   "cell_type": "code",
   "execution_count": null,
   "metadata": {},
   "outputs": [],
   "source": [
    "articles['body_parsed_word_count'] = articles['body_parsed'].progress_apply(lambda x: len(x.strip().split()))"
   ]
  },
  {
   "cell_type": "code",
   "execution_count": null,
   "metadata": {},
   "outputs": [],
   "source": [
    "INFO_text = [text for text in train[train['Conference'] == 'INFOCOM']['Title']]\n",
    "IS_text = [text for text in train[train['Conference'] == 'ISCAS']['Title']]\n",
    "INFO_clean = cleanup_text(INFO_text)\n",
    "INFO_clean = ' '.join(INFO_clean).split()\n",
    "IS_clean = cleanup_text(IS_text)\n",
    "IS_clean = ' '.join(IS_clean).split()\n",
    "INFO_counts = Counter(INFO_clean)\n",
    "IS_counts = Counter(IS_clean)\n",
    "INFO_common_words = [word[0] for word in INFO_counts.most_common(20)]\n",
    "INFO_common_counts = [word[1] for word in INFO_counts.most_common(20)]\n",
    "fig = plt.figure(figsize=(18,6))\n",
    "sns.barplot(x=INFO_common_words, y=INFO_common_counts)\n",
    "plt.title('Most Common Words used in the research papers for conference INFOCOM')\n",
    "plt.show()"
   ]
  }
 ],
 "metadata": {
  "kernelspec": {
   "display_name": "Python 3",
   "language": "python",
   "name": "python3"
  },
  "language_info": {
   "codemirror_mode": {
    "name": "ipython",
    "version": 3
   },
   "file_extension": ".py",
   "mimetype": "text/x-python",
   "name": "python",
   "nbconvert_exporter": "python",
   "pygments_lexer": "ipython3",
   "version": "3.8.2"
  }
 },
 "nbformat": 4,
 "nbformat_minor": 2
}
