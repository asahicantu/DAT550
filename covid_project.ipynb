{
 "cells": [
  {
   "cell_type": "code",
   "execution_count": 2,
   "metadata": {},
   "outputs": [],
   "source": [
    "import numpy as np\n",
    "import pandas as pd\n",
    "import json \n",
    "import multiprocessing as mp\n",
    "from tqdm.notebook import tqdm\n",
    "import matplotlib.pyplot as plt\n",
    "import os\n",
    "import pickle\n",
    "import re\n",
    "# Input data files are available in the \"../input/\" directory.\n",
    "# For example, running this (by clicking run or pressing Shift+Enter) will list all files under the input directory\n",
    "\n",
    "\n",
    "#for dirname, _, filenames in os.walk('/kaggle/input'):\n",
    "#    for filename in filenames:\n",
    "#        print(os.path.join(dirname, filename))\n",
    "\n",
    "# Any results you write to the current directory are saved as output.\n",
    "\n"
   ]
  },
  {
   "cell_type": "code",
   "execution_count": 3,
   "metadata": {},
   "outputs": [],
   "source": [
    "from IPython.core.interactiveshell import InteractiveShell\n",
    "InteractiveShell.ast_node_interactivity = \"all\""
   ]
  },
  {
   "cell_type": "code",
   "execution_count": 4,
   "metadata": {},
   "outputs": [],
   "source": [
    "class Stats:\n",
    "    def __init__(self,elapsed_time=0, items=0):\n",
    "        self.elapsed_time = elapsed_time\n",
    "        self.items= items\n",
    "        \n",
    "    def add(self,stats):\n",
    "        self.elapsed_time += stats.elapsed_time\n",
    "        self.items= +stats.items\n",
    "        \n",
    "    def to_string(self):\n",
    "        return f'Elapsed time: {self.elapsed_time} - Items:{self.items}'\n",
    "    \n",
    "    def __str__(self):\n",
    "        return self.to_string()\n",
    "        \n",
    "    def __repr__(self):\n",
    "         return self.to_string()\n",
    "            \n",
    "    def __add__(self, o): \n",
    "        et = self.elapsed_time + o.elapsed_time\n",
    "        it = self.items + o.items\n",
    "        return Stats(et,it) \n",
    "    \n",
    "    def __iadd__(self, o): \n",
    "        self.elapsed_time += o.elapsed_time\n",
    "        self.items += o.items\n",
    "        return self\n",
    "    \n",
    "        \n",
    "def load_json_files(documents,directory_name):\n",
    "    articles = {}\n",
    "    \n",
    "    articlenames = os.listdir(directory_name)\n",
    "    pbar = tqdm(articlenames)\n",
    "    pbar.set_description(f'Loading files from {directory_name}')\n",
    "    for articlename in pbar:\n",
    "        article_path = os.path.join(directory_name,articlename)\n",
    "        if os.path.isdir(article_path):\n",
    "            load_json_files(documents,article_path)\n",
    "            continue\n",
    "            \n",
    "        filename = os.path.basename(articlename)\n",
    "        filename = os.path.splitext(filename)[0]\n",
    "        if filename not in documents:\n",
    "            continue\n",
    "            \n",
    "        article = json.load(open(article_path, 'rb'))\n",
    "        articles[filename] = article\n",
    "        \n",
    "    elapsed_time = pbar.format_dict['elapsed']\n",
    "    items = pbar.format_dict['total']\n",
    "    stats = Stats(elapsed_time,items)\n",
    "    return stats, articles\n",
    "\n",
    "def try_get_val(dictionary,dict_key):\n",
    "    if dict_key in dictionary:\n",
    "        return dictionary[dict_key]\n",
    "    return None\n",
    "\n",
    "def parse_collection(val):\n",
    "    if val is not None:\n",
    "        t_val = type(val)\n",
    "        if t_val == tuple or  t_val == list:\n",
    "            return ' '.join(val)\n",
    "    return val\n",
    "\n",
    "def load_json_article(article):\n",
    "    paper_id = try_get_val(article,'paper_id')\n",
    "    metadata = try_get_val(article,'metadata')\n",
    "    title = try_get_val(article,'title')\n",
    "    #source = article[\"source\"]\n",
    "    \n",
    "    authors = []\n",
    "    art_metadata = article['metadata']\n",
    "    if 'authors' in art_metadata:\n",
    "        for author in art_metadata['authors']:\n",
    "            auth = {\n",
    "            'paper_id' : paper_id,\n",
    "            'full_name': '',\n",
    "            'first' : author['first'],\n",
    "            'middle': ' '.join(author['middle']),\n",
    "            'last' : author['last'],\n",
    "            'email' : author ['email'],\n",
    "            'laboratory' : None,\n",
    "            'institution' : None,\n",
    "            'settlement' : None,\n",
    "            'region' : None,\n",
    "            'country' : None,\n",
    "            'postCode' : None,\n",
    "            }\n",
    "            \n",
    "            if 'affiliation' in author:\n",
    "                afiliation = author['affiliation']\n",
    "                auth['laboratory'] =  try_get_val(afiliation,'laboratory')\n",
    "                auth['institution'] =  try_get_val(afiliation,'institution')\n",
    "                if 'location' in  afiliation:\n",
    "                    location = afiliation['location']\n",
    "                    auth['settlement'] =  try_get_val(location,'settlement')\n",
    "                    auth['region'] = try_get_val(location,'region')\n",
    "                    auth['country'] = try_get_val(location,'country')\n",
    "                    auth['postCode'] = try_get_val(location,'postCode')\n",
    "            auth['full_name'] = auth['first'] + ' ' + auth['middle'] + ' ' + auth['last']\n",
    "            \n",
    "            authors.append(auth)\n",
    "\n",
    "    body = []\n",
    "    abstracts = []\n",
    "    if 'body_text' in article:\n",
    "        for bod in article[\"body_text\"]:\n",
    "            body.append(bod[\"text\"])\n",
    "\n",
    "    if 'abstract' in article:\n",
    "        abstracts = [a['text'] for a in article[\"abstract\"]]\n",
    "\n",
    "    #\"source\" : source,\n",
    "    art = {\n",
    "        \"paper_id\" : paper_id,\n",
    "        \"title\" : title,\n",
    "        \"abstract\" : ' '.join(abstracts) ,\n",
    "        \"body\" : ' '.join(body)\n",
    "        \n",
    "    }\n",
    "    return art, authors \n",
    "    \n",
    "\n",
    "def write_pickle(obj,file_name):\n",
    "    file = open(file_name,'wb')\n",
    "    pickle.dump(obj,file)\n",
    "    file.close()\n",
    "    \n",
    "def read_pickle(file_name):\n",
    "    obj = None\n",
    "    if os.path.isfile(file_name):\n",
    "        file = open(file_name,'rb')\n",
    "        obj = pickle.load(file)\n",
    "        file.close()\n",
    "    return obj"
   ]
  },
  {
   "cell_type": "code",
   "execution_count": 5,
   "metadata": {},
   "outputs": [],
   "source": [
    "path = '..\\\\CORD-19-research-challenge'\n",
    "data_dirs = [\n",
    "    'biorxiv_medrxiv\\\\biorxiv_medrxiv'\n",
    "    ,'comm_use_subset\\\\comm_use_subset'\n",
    "    ,'custom_license\\\\custom_license'\n",
    "    ,'noncomm_use_subset\\\\noncomm_use_subset'\n",
    "]\n",
    "metadata_file = 'metadata.csv'"
   ]
  },
  {
   "cell_type": "code",
   "execution_count": 6,
   "metadata": {},
   "outputs": [],
   "source": [
    "meta_df = pd.read_csv(os.path.join(path,metadata_file), dtype={\n",
    "    'pubmed_id': str,\n",
    "    'Microsoft Academic Paper ID': str, \n",
    "    'doi': str\n",
    "})\n",
    "\n",
    "meta_df = meta_df[meta_df['sha'].notna()]"
   ]
  },
  {
   "cell_type": "code",
   "execution_count": 7,
   "metadata": {},
   "outputs": [
    {
     "data": {
      "text/html": [
       "<div>\n",
       "<style scoped>\n",
       "    .dataframe tbody tr th:only-of-type {\n",
       "        vertical-align: middle;\n",
       "    }\n",
       "\n",
       "    .dataframe tbody tr th {\n",
       "        vertical-align: top;\n",
       "    }\n",
       "\n",
       "    .dataframe thead th {\n",
       "        text-align: right;\n",
       "    }\n",
       "</style>\n",
       "<table border=\"1\" class=\"dataframe\">\n",
       "  <thead>\n",
       "    <tr style=\"text-align: right;\">\n",
       "      <th></th>\n",
       "      <th>cord_uid</th>\n",
       "      <th>sha</th>\n",
       "      <th>source_x</th>\n",
       "      <th>title</th>\n",
       "      <th>doi</th>\n",
       "      <th>pmcid</th>\n",
       "      <th>pubmed_id</th>\n",
       "      <th>license</th>\n",
       "      <th>abstract</th>\n",
       "      <th>publish_time</th>\n",
       "      <th>authors</th>\n",
       "      <th>journal</th>\n",
       "      <th>Microsoft Academic Paper ID</th>\n",
       "      <th>WHO #Covidence</th>\n",
       "      <th>has_full_text</th>\n",
       "      <th>full_text_file</th>\n",
       "      <th>url</th>\n",
       "    </tr>\n",
       "  </thead>\n",
       "  <tbody>\n",
       "    <tr>\n",
       "      <th>count</th>\n",
       "      <td>31753</td>\n",
       "      <td>31753</td>\n",
       "      <td>31753</td>\n",
       "      <td>31718</td>\n",
       "      <td>31445</td>\n",
       "      <td>16637</td>\n",
       "      <td>24743</td>\n",
       "      <td>31753</td>\n",
       "      <td>27916</td>\n",
       "      <td>31753</td>\n",
       "      <td>31198</td>\n",
       "      <td>30632</td>\n",
       "      <td>357</td>\n",
       "      <td>491</td>\n",
       "      <td>31753</td>\n",
       "      <td>31753</td>\n",
       "      <td>31750</td>\n",
       "    </tr>\n",
       "    <tr>\n",
       "      <th>unique</th>\n",
       "      <td>31752</td>\n",
       "      <td>31744</td>\n",
       "      <td>5</td>\n",
       "      <td>31479</td>\n",
       "      <td>31444</td>\n",
       "      <td>16637</td>\n",
       "      <td>24743</td>\n",
       "      <td>13</td>\n",
       "      <td>27832</td>\n",
       "      <td>5376</td>\n",
       "      <td>30310</td>\n",
       "      <td>4089</td>\n",
       "      <td>302</td>\n",
       "      <td>491</td>\n",
       "      <td>1</td>\n",
       "      <td>4</td>\n",
       "      <td>31749</td>\n",
       "    </tr>\n",
       "    <tr>\n",
       "      <th>top</th>\n",
       "      <td>c4u0gxp5</td>\n",
       "      <td>4644c32551fb23aa873a7738ecc8d777bd49877e</td>\n",
       "      <td>Elsevier</td>\n",
       "      <td>Commentary</td>\n",
       "      <td>10.1097/jcma.0000000000000270</td>\n",
       "      <td>PMC6710369</td>\n",
       "      <td>17706258</td>\n",
       "      <td>els-covid</td>\n",
       "      <td>Unknown</td>\n",
       "      <td>2016-12-31</td>\n",
       "      <td>Domingo, Esteban</td>\n",
       "      <td>PLoS One</td>\n",
       "      <td>3006645647</td>\n",
       "      <td>#7235</td>\n",
       "      <td>True</td>\n",
       "      <td>custom_license</td>\n",
       "      <td>https://doi.org/10.1097/jcma.0000000000000270</td>\n",
       "    </tr>\n",
       "    <tr>\n",
       "      <th>freq</th>\n",
       "      <td>2</td>\n",
       "      <td>4</td>\n",
       "      <td>15517</td>\n",
       "      <td>6</td>\n",
       "      <td>2</td>\n",
       "      <td>1</td>\n",
       "      <td>1</td>\n",
       "      <td>15517</td>\n",
       "      <td>60</td>\n",
       "      <td>261</td>\n",
       "      <td>14</td>\n",
       "      <td>1561</td>\n",
       "      <td>9</td>\n",
       "      <td>1</td>\n",
       "      <td>31753</td>\n",
       "      <td>19816</td>\n",
       "      <td>2</td>\n",
       "    </tr>\n",
       "  </tbody>\n",
       "</table>\n",
       "</div>"
      ],
      "text/plain": [
       "        cord_uid                                       sha  source_x  \\\n",
       "count      31753                                     31753     31753   \n",
       "unique     31752                                     31744         5   \n",
       "top     c4u0gxp5  4644c32551fb23aa873a7738ecc8d777bd49877e  Elsevier   \n",
       "freq           2                                         4     15517   \n",
       "\n",
       "             title                            doi       pmcid pubmed_id  \\\n",
       "count        31718                          31445       16637     24743   \n",
       "unique       31479                          31444       16637     24743   \n",
       "top     Commentary  10.1097/jcma.0000000000000270  PMC6710369  17706258   \n",
       "freq             6                              2           1         1   \n",
       "\n",
       "          license abstract publish_time           authors   journal  \\\n",
       "count       31753    27916        31753             31198     30632   \n",
       "unique         13    27832         5376             30310      4089   \n",
       "top     els-covid  Unknown   2016-12-31  Domingo, Esteban  PLoS One   \n",
       "freq        15517       60          261                14      1561   \n",
       "\n",
       "       Microsoft Academic Paper ID WHO #Covidence has_full_text  \\\n",
       "count                          357            491         31753   \n",
       "unique                         302            491             1   \n",
       "top                     3006645647          #7235          True   \n",
       "freq                             9              1         31753   \n",
       "\n",
       "        full_text_file                                            url  \n",
       "count            31753                                          31750  \n",
       "unique               4                                          31749  \n",
       "top     custom_license  https://doi.org/10.1097/jcma.0000000000000270  \n",
       "freq             19816                                              2  "
      ]
     },
     "execution_count": 7,
     "metadata": {},
     "output_type": "execute_result"
    }
   ],
   "source": [
    "meta_df.describe()"
   ]
  },
  {
   "cell_type": "code",
   "execution_count": 8,
   "metadata": {},
   "outputs": [
    {
     "name": "stdout",
     "output_type": "stream",
     "text": [
      "<class 'pandas.core.frame.DataFrame'>\n",
      "Int64Index: 31753 entries, 0 to 45773\n",
      "Data columns (total 17 columns):\n",
      " #   Column                       Non-Null Count  Dtype \n",
      "---  ------                       --------------  ----- \n",
      " 0   cord_uid                     31753 non-null  object\n",
      " 1   sha                          31753 non-null  object\n",
      " 2   source_x                     31753 non-null  object\n",
      " 3   title                        31718 non-null  object\n",
      " 4   doi                          31445 non-null  object\n",
      " 5   pmcid                        16637 non-null  object\n",
      " 6   pubmed_id                    24743 non-null  object\n",
      " 7   license                      31753 non-null  object\n",
      " 8   abstract                     27916 non-null  object\n",
      " 9   publish_time                 31753 non-null  object\n",
      " 10  authors                      31198 non-null  object\n",
      " 11  journal                      30632 non-null  object\n",
      " 12  Microsoft Academic Paper ID  357 non-null    object\n",
      " 13  WHO #Covidence               491 non-null    object\n",
      " 14  has_full_text                31753 non-null  bool  \n",
      " 15  full_text_file               31753 non-null  object\n",
      " 16  url                          31750 non-null  object\n",
      "dtypes: bool(1), object(16)\n",
      "memory usage: 4.1+ MB\n"
     ]
    }
   ],
   "source": [
    "meta_df.info()"
   ]
  },
  {
   "cell_type": "code",
   "execution_count": 9,
   "metadata": {},
   "outputs": [
    {
     "data": {
      "text/plain": [
       "count       27857\n",
       "unique      27832\n",
       "top       Unknown\n",
       "freq           20\n",
       "Name: abstract, dtype: object"
      ]
     },
     "execution_count": 9,
     "metadata": {},
     "output_type": "execute_result"
    }
   ],
   "source": [
    "meta_df.drop_duplicates(['abstract','authors'], inplace=True)\n",
    "meta_df['abstract'].describe(include='all')"
   ]
  },
  {
   "cell_type": "code",
   "execution_count": 10,
   "metadata": {},
   "outputs": [
    {
     "data": {
      "text/html": [
       "<div>\n",
       "<style scoped>\n",
       "    .dataframe tbody tr th:only-of-type {\n",
       "        vertical-align: middle;\n",
       "    }\n",
       "\n",
       "    .dataframe tbody tr th {\n",
       "        vertical-align: top;\n",
       "    }\n",
       "\n",
       "    .dataframe thead th {\n",
       "        text-align: right;\n",
       "    }\n",
       "</style>\n",
       "<table border=\"1\" class=\"dataframe\">\n",
       "  <thead>\n",
       "    <tr style=\"text-align: right;\">\n",
       "      <th></th>\n",
       "      <th>cord_uid</th>\n",
       "      <th>sha</th>\n",
       "      <th>source_x</th>\n",
       "      <th>title</th>\n",
       "      <th>doi</th>\n",
       "      <th>pmcid</th>\n",
       "      <th>pubmed_id</th>\n",
       "      <th>license</th>\n",
       "      <th>abstract</th>\n",
       "      <th>publish_time</th>\n",
       "      <th>authors</th>\n",
       "      <th>journal</th>\n",
       "      <th>Microsoft Academic Paper ID</th>\n",
       "      <th>WHO #Covidence</th>\n",
       "      <th>has_full_text</th>\n",
       "      <th>full_text_file</th>\n",
       "      <th>url</th>\n",
       "    </tr>\n",
       "  </thead>\n",
       "  <tbody>\n",
       "    <tr>\n",
       "      <th>count</th>\n",
       "      <td>31065</td>\n",
       "      <td>31065</td>\n",
       "      <td>31065</td>\n",
       "      <td>31063</td>\n",
       "      <td>30767</td>\n",
       "      <td>16548</td>\n",
       "      <td>24591</td>\n",
       "      <td>31065</td>\n",
       "      <td>27857</td>\n",
       "      <td>31065</td>\n",
       "      <td>30925</td>\n",
       "      <td>29945</td>\n",
       "      <td>351</td>\n",
       "      <td>483</td>\n",
       "      <td>31065</td>\n",
       "      <td>31065</td>\n",
       "      <td>31062</td>\n",
       "    </tr>\n",
       "    <tr>\n",
       "      <th>unique</th>\n",
       "      <td>31064</td>\n",
       "      <td>31057</td>\n",
       "      <td>5</td>\n",
       "      <td>30896</td>\n",
       "      <td>30766</td>\n",
       "      <td>16548</td>\n",
       "      <td>24591</td>\n",
       "      <td>13</td>\n",
       "      <td>27832</td>\n",
       "      <td>5356</td>\n",
       "      <td>30310</td>\n",
       "      <td>4035</td>\n",
       "      <td>297</td>\n",
       "      <td>483</td>\n",
       "      <td>1</td>\n",
       "      <td>4</td>\n",
       "      <td>31061</td>\n",
       "    </tr>\n",
       "    <tr>\n",
       "      <th>top</th>\n",
       "      <td>c4u0gxp5</td>\n",
       "      <td>4644c32551fb23aa873a7738ecc8d777bd49877e</td>\n",
       "      <td>PMC</td>\n",
       "      <td>Commentary</td>\n",
       "      <td>10.1097/jcma.0000000000000270</td>\n",
       "      <td>PMC6710369</td>\n",
       "      <td>17706258</td>\n",
       "      <td>els-covid</td>\n",
       "      <td>Unknown</td>\n",
       "      <td>2016-12-31</td>\n",
       "      <td>Domingo, Esteban</td>\n",
       "      <td>PLoS One</td>\n",
       "      <td>3006645647</td>\n",
       "      <td>#7235</td>\n",
       "      <td>True</td>\n",
       "      <td>custom_license</td>\n",
       "      <td>https://doi.org/10.1097/jcma.0000000000000270</td>\n",
       "    </tr>\n",
       "    <tr>\n",
       "      <th>freq</th>\n",
       "      <td>2</td>\n",
       "      <td>4</td>\n",
       "      <td>14958</td>\n",
       "      <td>6</td>\n",
       "      <td>2</td>\n",
       "      <td>1</td>\n",
       "      <td>1</td>\n",
       "      <td>14904</td>\n",
       "      <td>20</td>\n",
       "      <td>244</td>\n",
       "      <td>14</td>\n",
       "      <td>1561</td>\n",
       "      <td>9</td>\n",
       "      <td>1</td>\n",
       "      <td>31065</td>\n",
       "      <td>19170</td>\n",
       "      <td>2</td>\n",
       "    </tr>\n",
       "  </tbody>\n",
       "</table>\n",
       "</div>"
      ],
      "text/plain": [
       "        cord_uid                                       sha source_x  \\\n",
       "count      31065                                     31065    31065   \n",
       "unique     31064                                     31057        5   \n",
       "top     c4u0gxp5  4644c32551fb23aa873a7738ecc8d777bd49877e      PMC   \n",
       "freq           2                                         4    14958   \n",
       "\n",
       "             title                            doi       pmcid pubmed_id  \\\n",
       "count        31063                          30767       16548     24591   \n",
       "unique       30896                          30766       16548     24591   \n",
       "top     Commentary  10.1097/jcma.0000000000000270  PMC6710369  17706258   \n",
       "freq             6                              2           1         1   \n",
       "\n",
       "          license abstract publish_time           authors   journal  \\\n",
       "count       31065    27857        31065             30925     29945   \n",
       "unique         13    27832         5356             30310      4035   \n",
       "top     els-covid  Unknown   2016-12-31  Domingo, Esteban  PLoS One   \n",
       "freq        14904       20          244                14      1561   \n",
       "\n",
       "       Microsoft Academic Paper ID WHO #Covidence has_full_text  \\\n",
       "count                          351            483         31065   \n",
       "unique                         297            483             1   \n",
       "top                     3006645647          #7235          True   \n",
       "freq                             9              1         31065   \n",
       "\n",
       "        full_text_file                                            url  \n",
       "count            31065                                          31062  \n",
       "unique               4                                          31061  \n",
       "top     custom_license  https://doi.org/10.1097/jcma.0000000000000270  \n",
       "freq             19170                                              2  "
      ]
     },
     "execution_count": 10,
     "metadata": {},
     "output_type": "execute_result"
    }
   ],
   "source": [
    "meta_df.describe()"
   ]
  },
  {
   "cell_type": "code",
   "execution_count": 11,
   "metadata": {},
   "outputs": [
    {
     "data": {
      "text/html": [
       "<div>\n",
       "<style scoped>\n",
       "    .dataframe tbody tr th:only-of-type {\n",
       "        vertical-align: middle;\n",
       "    }\n",
       "\n",
       "    .dataframe tbody tr th {\n",
       "        vertical-align: top;\n",
       "    }\n",
       "\n",
       "    .dataframe thead th {\n",
       "        text-align: right;\n",
       "    }\n",
       "</style>\n",
       "<table border=\"1\" class=\"dataframe\">\n",
       "  <thead>\n",
       "    <tr style=\"text-align: right;\">\n",
       "      <th></th>\n",
       "      <th>cord_uid</th>\n",
       "      <th>sha</th>\n",
       "      <th>source_x</th>\n",
       "      <th>title</th>\n",
       "      <th>doi</th>\n",
       "      <th>pmcid</th>\n",
       "      <th>pubmed_id</th>\n",
       "      <th>license</th>\n",
       "      <th>abstract</th>\n",
       "      <th>publish_time</th>\n",
       "      <th>authors</th>\n",
       "      <th>journal</th>\n",
       "      <th>Microsoft Academic Paper ID</th>\n",
       "      <th>WHO #Covidence</th>\n",
       "      <th>has_full_text</th>\n",
       "      <th>full_text_file</th>\n",
       "      <th>url</th>\n",
       "    </tr>\n",
       "  </thead>\n",
       "  <tbody>\n",
       "    <tr>\n",
       "      <th>0</th>\n",
       "      <td>vho70jcx</td>\n",
       "      <td>f056da9c64fbf00a4645ae326e8a4339d015d155</td>\n",
       "      <td>biorxiv</td>\n",
       "      <td>SIANN: Strain Identification by Alignment to N...</td>\n",
       "      <td>10.1101/001727</td>\n",
       "      <td>NaN</td>\n",
       "      <td>NaN</td>\n",
       "      <td>biorxiv</td>\n",
       "      <td>Next-generation sequencing is increasingly bei...</td>\n",
       "      <td>2014-01-10</td>\n",
       "      <td>Samuel Minot; Stephen D Turner; Krista L Ternu...</td>\n",
       "      <td>NaN</td>\n",
       "      <td>NaN</td>\n",
       "      <td>NaN</td>\n",
       "      <td>True</td>\n",
       "      <td>biorxiv_medrxiv</td>\n",
       "      <td>https://doi.org/10.1101/001727</td>\n",
       "    </tr>\n",
       "    <tr>\n",
       "      <th>1</th>\n",
       "      <td>i9tbix2v</td>\n",
       "      <td>daf32e013d325a6feb80e83d15aabc64a48fae33</td>\n",
       "      <td>biorxiv</td>\n",
       "      <td>Spatial epidemiology of networked metapopulati...</td>\n",
       "      <td>10.1101/003889</td>\n",
       "      <td>NaN</td>\n",
       "      <td>NaN</td>\n",
       "      <td>biorxiv</td>\n",
       "      <td>An emerging disease is one infectious epidemic...</td>\n",
       "      <td>2014-06-04</td>\n",
       "      <td>Lin WANG; Xiang Li</td>\n",
       "      <td>NaN</td>\n",
       "      <td>NaN</td>\n",
       "      <td>NaN</td>\n",
       "      <td>True</td>\n",
       "      <td>biorxiv_medrxiv</td>\n",
       "      <td>https://doi.org/10.1101/003889</td>\n",
       "    </tr>\n",
       "    <tr>\n",
       "      <th>2</th>\n",
       "      <td>62gfisc6</td>\n",
       "      <td>f33c6d94b0efaa198f8f3f20e644625fa3fe10d2</td>\n",
       "      <td>biorxiv</td>\n",
       "      <td>Sequencing of the human IG light chain loci fr...</td>\n",
       "      <td>10.1101/006866</td>\n",
       "      <td>NaN</td>\n",
       "      <td>NaN</td>\n",
       "      <td>biorxiv</td>\n",
       "      <td>Germline variation at immunoglobulin gene (IG)...</td>\n",
       "      <td>2014-07-03</td>\n",
       "      <td>Corey T Watson; Karyn Meltz Steinberg; Tina A ...</td>\n",
       "      <td>NaN</td>\n",
       "      <td>NaN</td>\n",
       "      <td>NaN</td>\n",
       "      <td>True</td>\n",
       "      <td>biorxiv_medrxiv</td>\n",
       "      <td>https://doi.org/10.1101/006866</td>\n",
       "    </tr>\n",
       "    <tr>\n",
       "      <th>3</th>\n",
       "      <td>058r9486</td>\n",
       "      <td>4da8a87e614373d56070ed272487451266dce919</td>\n",
       "      <td>biorxiv</td>\n",
       "      <td>Bayesian mixture analysis for metagenomic comm...</td>\n",
       "      <td>10.1101/007476</td>\n",
       "      <td>NaN</td>\n",
       "      <td>NaN</td>\n",
       "      <td>biorxiv</td>\n",
       "      <td>Deep sequencing of clinical samples is now an ...</td>\n",
       "      <td>2014-07-25</td>\n",
       "      <td>Sofia Morfopoulou; Vincent Plagnol</td>\n",
       "      <td>NaN</td>\n",
       "      <td>NaN</td>\n",
       "      <td>NaN</td>\n",
       "      <td>True</td>\n",
       "      <td>biorxiv_medrxiv</td>\n",
       "      <td>https://doi.org/10.1101/007476</td>\n",
       "    </tr>\n",
       "    <tr>\n",
       "      <th>4</th>\n",
       "      <td>wich35l7</td>\n",
       "      <td>eccef80cfbe078235df22398f195d5db462d8000</td>\n",
       "      <td>biorxiv</td>\n",
       "      <td>Mapping a viral phylogeny onto outbreak trees ...</td>\n",
       "      <td>10.1101/010389</td>\n",
       "      <td>NaN</td>\n",
       "      <td>NaN</td>\n",
       "      <td>biorxiv</td>\n",
       "      <td>Developing methods to reconstruct transmission...</td>\n",
       "      <td>2014-11-11</td>\n",
       "      <td>Stephen P Velsko; Jonathan E Allen</td>\n",
       "      <td>NaN</td>\n",
       "      <td>NaN</td>\n",
       "      <td>NaN</td>\n",
       "      <td>True</td>\n",
       "      <td>biorxiv_medrxiv</td>\n",
       "      <td>https://doi.org/10.1101/010389</td>\n",
       "    </tr>\n",
       "    <tr>\n",
       "      <th>...</th>\n",
       "      <td>...</td>\n",
       "      <td>...</td>\n",
       "      <td>...</td>\n",
       "      <td>...</td>\n",
       "      <td>...</td>\n",
       "      <td>...</td>\n",
       "      <td>...</td>\n",
       "      <td>...</td>\n",
       "      <td>...</td>\n",
       "      <td>...</td>\n",
       "      <td>...</td>\n",
       "      <td>...</td>\n",
       "      <td>...</td>\n",
       "      <td>...</td>\n",
       "      <td>...</td>\n",
       "      <td>...</td>\n",
       "      <td>...</td>\n",
       "    </tr>\n",
       "    <tr>\n",
       "      <th>45767</th>\n",
       "      <td>b7e9grj0</td>\n",
       "      <td>889ba9338ea71cd42c3bc675db30a1928d487f43; d38e...</td>\n",
       "      <td>Elsevier</td>\n",
       "      <td>Relative immunogenicity and protection potenti...</td>\n",
       "      <td>10.1016/j.vaccine.2008.01.024</td>\n",
       "      <td>PMC2288748</td>\n",
       "      <td>18291562</td>\n",
       "      <td>els-covid</td>\n",
       "      <td>Summary Yersinia Pestis outer proteins, plasmi...</td>\n",
       "      <td>2008-03-20</td>\n",
       "      <td>Wang, Shixia; Joshi, Swati; Mboudjeka, Innocen...</td>\n",
       "      <td>Vaccine</td>\n",
       "      <td>NaN</td>\n",
       "      <td>NaN</td>\n",
       "      <td>True</td>\n",
       "      <td>custom_license</td>\n",
       "      <td>https://doi.org/10.1016/j.vaccine.2008.01.024</td>\n",
       "    </tr>\n",
       "    <tr>\n",
       "      <th>45768</th>\n",
       "      <td>6b1y7yxg</td>\n",
       "      <td>f81692543d3e35858911cea48c298bfa23b20bc6</td>\n",
       "      <td>Elsevier</td>\n",
       "      <td>Quality of life and psychological status in su...</td>\n",
       "      <td>10.1016/j.jpsychores.2005.08.020</td>\n",
       "      <td>PMC7094294</td>\n",
       "      <td>16650592</td>\n",
       "      <td>els-covid</td>\n",
       "      <td>Abstract Background Little is known about the ...</td>\n",
       "      <td>2006-05-31</td>\n",
       "      <td>Kwek, Seow-Khee; Chew, Wuen-Ming; Ong, Kian-Ch...</td>\n",
       "      <td>Journal of Psychosomatic Research</td>\n",
       "      <td>NaN</td>\n",
       "      <td>NaN</td>\n",
       "      <td>True</td>\n",
       "      <td>custom_license</td>\n",
       "      <td>https://doi.org/10.1016/j.jpsychores.2005.08.020</td>\n",
       "    </tr>\n",
       "    <tr>\n",
       "      <th>45769</th>\n",
       "      <td>4360s2yu</td>\n",
       "      <td>289deae0b2050aa259a05ba84565a4df82fa099a</td>\n",
       "      <td>Elsevier</td>\n",
       "      <td>Personal Protective Equipment: Protecting Heal...</td>\n",
       "      <td>10.1016/j.clinthera.2015.07.007</td>\n",
       "      <td>PMC4661082</td>\n",
       "      <td>26452427</td>\n",
       "      <td>els-covid</td>\n",
       "      <td>Abstract Purpose The recent Ebola epidemic tha...</td>\n",
       "      <td>2015-11-01</td>\n",
       "      <td>Fischer, William A.; Weber, David J.; Wohl, Da...</td>\n",
       "      <td>Clinical Therapeutics</td>\n",
       "      <td>NaN</td>\n",
       "      <td>NaN</td>\n",
       "      <td>True</td>\n",
       "      <td>custom_license</td>\n",
       "      <td>https://doi.org/10.1016/j.clinthera.2015.07.007</td>\n",
       "    </tr>\n",
       "    <tr>\n",
       "      <th>45770</th>\n",
       "      <td>66jumbir</td>\n",
       "      <td>21a4369f83891bf6975dd916c0aa495d5df8709e</td>\n",
       "      <td>Elsevier</td>\n",
       "      <td>Viruses and asthma</td>\n",
       "      <td>10.1016/j.bbagen.2011.01.012</td>\n",
       "      <td>PMC3130828</td>\n",
       "      <td>21291960</td>\n",
       "      <td>els-covid</td>\n",
       "      <td>Abstract Background Viral respiratory infectio...</td>\n",
       "      <td>2011-11-30</td>\n",
       "      <td>Dulek, Daniel E.; Peebles, R. Stokes</td>\n",
       "      <td>Biochimica et Biophysica Acta (BBA) - General ...</td>\n",
       "      <td>NaN</td>\n",
       "      <td>NaN</td>\n",
       "      <td>True</td>\n",
       "      <td>custom_license</td>\n",
       "      <td>https://doi.org/10.1016/j.bbagen.2011.01.012</td>\n",
       "    </tr>\n",
       "    <tr>\n",
       "      <th>45773</th>\n",
       "      <td>28vx9w58</td>\n",
       "      <td>3369a14e1d116943f48b3a33597796c9802de279; f523...</td>\n",
       "      <td>PMC</td>\n",
       "      <td>Searching for animal models and potential targ...</td>\n",
       "      <td>10.1016/j.onehlt.2017.03.001</td>\n",
       "      <td>PMC5454147</td>\n",
       "      <td>28616501</td>\n",
       "      <td>cc-by-nc-nd</td>\n",
       "      <td>Emerging and re-emerging pathogens represent a...</td>\n",
       "      <td>2017-03-03</td>\n",
       "      <td>Vergara-Alert, Júlia; Vidal, Enric; Bensaid, A...</td>\n",
       "      <td>One Health</td>\n",
       "      <td>NaN</td>\n",
       "      <td>NaN</td>\n",
       "      <td>True</td>\n",
       "      <td>noncomm_use_subset</td>\n",
       "      <td>https://www.ncbi.nlm.nih.gov/pmc/articles/PMC5...</td>\n",
       "    </tr>\n",
       "  </tbody>\n",
       "</table>\n",
       "<p>31065 rows × 17 columns</p>\n",
       "</div>"
      ],
      "text/plain": [
       "       cord_uid                                                sha  source_x  \\\n",
       "0      vho70jcx           f056da9c64fbf00a4645ae326e8a4339d015d155   biorxiv   \n",
       "1      i9tbix2v           daf32e013d325a6feb80e83d15aabc64a48fae33   biorxiv   \n",
       "2      62gfisc6           f33c6d94b0efaa198f8f3f20e644625fa3fe10d2   biorxiv   \n",
       "3      058r9486           4da8a87e614373d56070ed272487451266dce919   biorxiv   \n",
       "4      wich35l7           eccef80cfbe078235df22398f195d5db462d8000   biorxiv   \n",
       "...         ...                                                ...       ...   \n",
       "45767  b7e9grj0  889ba9338ea71cd42c3bc675db30a1928d487f43; d38e...  Elsevier   \n",
       "45768  6b1y7yxg           f81692543d3e35858911cea48c298bfa23b20bc6  Elsevier   \n",
       "45769  4360s2yu           289deae0b2050aa259a05ba84565a4df82fa099a  Elsevier   \n",
       "45770  66jumbir           21a4369f83891bf6975dd916c0aa495d5df8709e  Elsevier   \n",
       "45773  28vx9w58  3369a14e1d116943f48b3a33597796c9802de279; f523...       PMC   \n",
       "\n",
       "                                                   title  \\\n",
       "0      SIANN: Strain Identification by Alignment to N...   \n",
       "1      Spatial epidemiology of networked metapopulati...   \n",
       "2      Sequencing of the human IG light chain loci fr...   \n",
       "3      Bayesian mixture analysis for metagenomic comm...   \n",
       "4      Mapping a viral phylogeny onto outbreak trees ...   \n",
       "...                                                  ...   \n",
       "45767  Relative immunogenicity and protection potenti...   \n",
       "45768  Quality of life and psychological status in su...   \n",
       "45769  Personal Protective Equipment: Protecting Heal...   \n",
       "45770                                 Viruses and asthma   \n",
       "45773  Searching for animal models and potential targ...   \n",
       "\n",
       "                                    doi       pmcid pubmed_id      license  \\\n",
       "0                        10.1101/001727         NaN       NaN      biorxiv   \n",
       "1                        10.1101/003889         NaN       NaN      biorxiv   \n",
       "2                        10.1101/006866         NaN       NaN      biorxiv   \n",
       "3                        10.1101/007476         NaN       NaN      biorxiv   \n",
       "4                        10.1101/010389         NaN       NaN      biorxiv   \n",
       "...                                 ...         ...       ...          ...   \n",
       "45767     10.1016/j.vaccine.2008.01.024  PMC2288748  18291562    els-covid   \n",
       "45768  10.1016/j.jpsychores.2005.08.020  PMC7094294  16650592    els-covid   \n",
       "45769   10.1016/j.clinthera.2015.07.007  PMC4661082  26452427    els-covid   \n",
       "45770      10.1016/j.bbagen.2011.01.012  PMC3130828  21291960    els-covid   \n",
       "45773      10.1016/j.onehlt.2017.03.001  PMC5454147  28616501  cc-by-nc-nd   \n",
       "\n",
       "                                                abstract publish_time  \\\n",
       "0      Next-generation sequencing is increasingly bei...   2014-01-10   \n",
       "1      An emerging disease is one infectious epidemic...   2014-06-04   \n",
       "2      Germline variation at immunoglobulin gene (IG)...   2014-07-03   \n",
       "3      Deep sequencing of clinical samples is now an ...   2014-07-25   \n",
       "4      Developing methods to reconstruct transmission...   2014-11-11   \n",
       "...                                                  ...          ...   \n",
       "45767  Summary Yersinia Pestis outer proteins, plasmi...   2008-03-20   \n",
       "45768  Abstract Background Little is known about the ...   2006-05-31   \n",
       "45769  Abstract Purpose The recent Ebola epidemic tha...   2015-11-01   \n",
       "45770  Abstract Background Viral respiratory infectio...   2011-11-30   \n",
       "45773  Emerging and re-emerging pathogens represent a...   2017-03-03   \n",
       "\n",
       "                                                 authors  \\\n",
       "0      Samuel Minot; Stephen D Turner; Krista L Ternu...   \n",
       "1                                     Lin WANG; Xiang Li   \n",
       "2      Corey T Watson; Karyn Meltz Steinberg; Tina A ...   \n",
       "3                     Sofia Morfopoulou; Vincent Plagnol   \n",
       "4                     Stephen P Velsko; Jonathan E Allen   \n",
       "...                                                  ...   \n",
       "45767  Wang, Shixia; Joshi, Swati; Mboudjeka, Innocen...   \n",
       "45768  Kwek, Seow-Khee; Chew, Wuen-Ming; Ong, Kian-Ch...   \n",
       "45769  Fischer, William A.; Weber, David J.; Wohl, Da...   \n",
       "45770               Dulek, Daniel E.; Peebles, R. Stokes   \n",
       "45773  Vergara-Alert, Júlia; Vidal, Enric; Bensaid, A...   \n",
       "\n",
       "                                                 journal  \\\n",
       "0                                                    NaN   \n",
       "1                                                    NaN   \n",
       "2                                                    NaN   \n",
       "3                                                    NaN   \n",
       "4                                                    NaN   \n",
       "...                                                  ...   \n",
       "45767                                            Vaccine   \n",
       "45768                  Journal of Psychosomatic Research   \n",
       "45769                              Clinical Therapeutics   \n",
       "45770  Biochimica et Biophysica Acta (BBA) - General ...   \n",
       "45773                                         One Health   \n",
       "\n",
       "      Microsoft Academic Paper ID WHO #Covidence  has_full_text  \\\n",
       "0                             NaN            NaN           True   \n",
       "1                             NaN            NaN           True   \n",
       "2                             NaN            NaN           True   \n",
       "3                             NaN            NaN           True   \n",
       "4                             NaN            NaN           True   \n",
       "...                           ...            ...            ...   \n",
       "45767                         NaN            NaN           True   \n",
       "45768                         NaN            NaN           True   \n",
       "45769                         NaN            NaN           True   \n",
       "45770                         NaN            NaN           True   \n",
       "45773                         NaN            NaN           True   \n",
       "\n",
       "           full_text_file                                                url  \n",
       "0         biorxiv_medrxiv                     https://doi.org/10.1101/001727  \n",
       "1         biorxiv_medrxiv                     https://doi.org/10.1101/003889  \n",
       "2         biorxiv_medrxiv                     https://doi.org/10.1101/006866  \n",
       "3         biorxiv_medrxiv                     https://doi.org/10.1101/007476  \n",
       "4         biorxiv_medrxiv                     https://doi.org/10.1101/010389  \n",
       "...                   ...                                                ...  \n",
       "45767      custom_license      https://doi.org/10.1016/j.vaccine.2008.01.024  \n",
       "45768      custom_license   https://doi.org/10.1016/j.jpsychores.2005.08.020  \n",
       "45769      custom_license    https://doi.org/10.1016/j.clinthera.2015.07.007  \n",
       "45770      custom_license       https://doi.org/10.1016/j.bbagen.2011.01.012  \n",
       "45773  noncomm_use_subset  https://www.ncbi.nlm.nih.gov/pmc/articles/PMC5...  \n",
       "\n",
       "[31065 rows x 17 columns]"
      ]
     },
     "execution_count": 11,
     "metadata": {},
     "output_type": "execute_result"
    }
   ],
   "source": [
    "meta_df"
   ]
  },
  {
   "cell_type": "code",
   "execution_count": 12,
   "metadata": {},
   "outputs": [],
   "source": [
    "documents = meta_df.sha.to_list()\n",
    "docs = []\n",
    "for doc in documents:\n",
    "    splits = doc.split(';')\n",
    "    for split in splits:\n",
    "        docs.append(split.strip())"
   ]
  },
  {
   "cell_type": "code",
   "execution_count": 13,
   "metadata": {
    "scrolled": false
   },
   "outputs": [],
   "source": [
    "pickle_file_name = 'json_data.pickle'\n",
    "articles_set = read_pickle(pickle_file_name)\n",
    "#articles_set = None\n",
    "if articles_set is None:\n",
    "    articles_set = {}\n",
    "    stats = Stats()\n",
    "    documents = meta_df.sha.to_list()\n",
    "    for data_dir in data_dirs:\n",
    "        st , articles = load_json_files(docs,os.path.join(path,data_dir))\n",
    "        articles_set.update(articles) \n",
    "        stats += st\n",
    "    print('Writing Pickle....')\n",
    "    write_pickle(articles_set, pickle_file_name)\n"
   ]
  },
  {
   "cell_type": "markdown",
   "metadata": {},
   "source": [
    "### Try read parquet data for processed articles and authors, if not available will re-run the parsing process"
   ]
  },
  {
   "cell_type": "code",
   "execution_count": 14,
   "metadata": {
    "scrolled": false
   },
   "outputs": [],
   "source": [
    "def try_read_parquet(file_name):\n",
    "    if os.path.isfile(file_name):\n",
    "        return pd.read_parquet(file_name)\n",
    "    return None\n",
    "    \n",
    "authors_file = 'authors.parquet'\n",
    "articles_file = 'articles.parquet'\n",
    "\n",
    "authors = try_read_parquet(authors_file)\n",
    "articles = try_read_parquet(articles_file)\n",
    "if authors is None or articles is None:\n",
    "    authors = pd.DataFrame()\n",
    "    articles = pd.DataFrame()\n",
    "    for key in tqdm(articles_set):\n",
    "        article, auths = load_json_article(articles_set[key])\n",
    "        articles = articles.append(article,ignore_index=True)\n",
    "        authors= authors.append(pd.DataFrame(auths),ignore_index=True)\n",
    "    authors.to_parquet(authors_file)\n",
    "    articles.to_parquet(articles_file)\n",
    "        \n",
    "    "
   ]
  },
  {
   "cell_type": "markdown",
   "metadata": {},
   "source": [
    "#### Now process the authors so we habe better insights where the paper publications are comming from"
   ]
  },
  {
   "cell_type": "code",
   "execution_count": 75,
   "metadata": {},
   "outputs": [],
   "source": [
    "non_countries = {\n",
    "    'alabama':'US',\n",
    "    'belgique':'US',\n",
    "    'brasil':'BR',\n",
    "    'britis': 'GB',\n",
    "    'bosnia':'BA',\n",
    "    'britain':'GB',\n",
    "    'california':'US',\n",
    "    'cameroun':'CM',\n",
    "    'carolina':'US',\n",
    "    'czech':'CZ',\n",
    "    'china':'CN',\n",
    "    'england':'GB',\n",
    "    'espagne':'ES',\n",
    "    'f r g':'DE',\n",
    "    'frg': 'DE',\n",
    "    'german research':'DE',\n",
    "    'hawaii':'US',\n",
    "    'king saud':'SA',\n",
    "    'korea':'KR',\n",
    "    'ital':'IT',\n",
    "    'iowa':'US',\n",
    "    'espana':'ES',\n",
    "    'iran':'IR',\n",
    "    'iran article info':'IR',\n",
    "    'iran iran':'IR',\n",
    "    'kelantan':'MY',\n",
    "    'ljsa':'GB',\n",
    "    'macedonia':'MK',\n",
    "    'maryland':'US',\n",
    "    'missouri':'US',\n",
    "    'nether':'NL',\n",
    "    'oregon':'US',\n",
    "    'palestine':'PS',\n",
    "    'pennsylvania':'US',  \n",
    "    'pereda':'ES',\n",
    "    'pok':'PK',\n",
    "    'prc':'CN',\n",
    "    'roc': 'TW',\n",
    "    'rsa': 'ZA',\n",
    "    'reunion island':'FR',\n",
    "    'syria':'SY',\n",
    "    'scotland':'GB',\n",
    "    'slovak': 'SK',\n",
    "    'south dustralia':'AU',\n",
    "    'tehran iran':'IR',\n",
    "    'tunis':'TN',\n",
    "    'tx':'US',\n",
    "    'u k':'GB',\n",
    "    'u s a':'US',\n",
    "    'uae':'AE',\n",
    "    'uk':'GB',\n",
    "    'ulsan':'KR',\n",
    "    'united':'US',\n",
    "    'united  states':'US',\n",
    "    'united arab':'AE',\n",
    "    'united arab uae':'AE',\n",
    "    'unites states':'US',\n",
    "    'universitd debordeaux il':'FR',\n",
    "    'ucblecnrs':'FR',\n",
    "    'usa':'US',\n",
    "    'us':'US',\n",
    "    'ussr':'RU',\n",
    "    'umr':'US', #University of Minnesota\n",
    "    'ut':'US',\n",
    "    'utah':'US',\n",
    "    'wales uk':'GB',\n",
    "    'wpg uk': 'GB',\n",
    "    'xinjiang uyghur':'CN',\n",
    "    'aland islands':'FI'}"
   ]
  },
  {
   "cell_type": "code",
   "execution_count": 186,
   "metadata": {},
   "outputs": [],
   "source": [
    "import pycountry as pc\n",
    "countries  = list(pc.countries) # Get list of oficcial countries\n",
    "countries_dict = {c.alpha_2: c.common_name if hasattr(c,'common_name') else c.name for c in pc.countries }\n",
    "def  parse_countries(country, official_ctries,non_countries):\n",
    "    if country != None :\n",
    "        country = country.strip().lower()\n",
    "        country = pc.remove_accents(country) # Remove accesnts by finding the closest ASCII equivalent\n",
    "        country = re.sub(r'[0-9]+|\\.|;|\\(|\\)|\\+|\\?|,', '', country)\n",
    "        country = re.sub(r'\\s\\s+', ' ', country)\n",
    "        for cty in non_countries:\n",
    "            if cty in country:\n",
    "                a2 = non_countries[cty]\n",
    "                a3 = pc.countries.get(alpha_2=a2).alpha_3\n",
    "                return (a2,a3)\n",
    "        for oc in official_ctries:\n",
    "            oc_name = oc.name.lower()\n",
    "            oc_common_name = oc_name\n",
    "            if hasattr(oc,'common_name'):\n",
    "                oc_common_name =  oc.common_name.lower()\n",
    "            #country = country.capitalize().replace('.','')\n",
    "            if oc.name in country or \\\n",
    "                oc_common_name in country:\n",
    "                return (oc.alpha_2, oc.alpha_3)\n",
    "    return (country,None)"
   ]
  },
  {
   "cell_type": "code",
   "execution_count": 190,
   "metadata": {},
   "outputs": [],
   "source": [
    "authors_papers = authors[['paper_id','full_name']]\n",
    "authors_unique = authors.drop(columns=['paper_id'])\n",
    "authors_unique =  authors_unique.drop_duplicates()\n",
    "unique_countries = authors_unique.country.unique()\n",
    "\n",
    "unique_countries_dict = {x:parse_countries(x,countries,non_countries) for x in unique_countries }\n",
    "authors_unique['country_code_alpha2'] = authors_unique.country.apply(lambda x: unique_countries_dict[x][0] if x != None else 'Unknown' )\n",
    "authors_unique['country_code_alpha3'] = authors_unique.country.apply(lambda x: unique_countries_dict[x][1] if x != None else 'Unknown' )\n",
    "authors_unique['country'] = authors_unique['country_code_alpha2'].apply(lambda x: countries_dict[x] if x in countries_dict  else x)\n",
    "unique_countries = authors_unique.country.unique()\n",
    "unique_countries.sort()"
   ]
  },
  {
   "cell_type": "code",
   "execution_count": 259,
   "metadata": {},
   "outputs": [],
   "source": [
    "by_country = authors_unique[['country','country_code_alpha3','country_code_alpha2','full_name']].groupby(['country','country_code_alpha3','country_code_alpha2'])\n",
    "by_country = by_country.count().reset_index()\n",
    "bc = by_country.sort_values('full_name', ascending=False)\n",
    "bc=bc.rename(columns={'full_name':'total_publications'})\n",
    "total_publications = bc.total_publications.sum()\n",
    "bc = bc[ (bc.country != 'Unknown')]\n",
    "pubs_by_country = bc.total_publications.sum()"
   ]
  },
  {
   "cell_type": "code",
   "execution_count": 229,
   "metadata": {},
   "outputs": [
    {
     "data": {
      "application/vnd.plotly.v1+json": {
       "config": {
        "plotlyServerURL": "https://plot.ly"
       },
       "data": [
        {
         "geo": "geo",
         "hovertemplate": "<b>%{hovertext}</b><br><br>country=United States<br>total_publications=%{marker.size}<br>country_code_alpha3=%{location}<extra></extra>",
         "hovertext": [
          "United States"
         ],
         "legendgroup": "United States",
         "locations": [
          "USA"
         ],
         "marker": {
          "color": "#636efa",
          "size": [
           26604
          ],
          "sizemode": "area",
          "sizeref": 66.51
         },
         "name": "United States",
         "showlegend": true,
         "type": "scattergeo"
        },
        {
         "geo": "geo",
         "hovertemplate": "<b>%{hovertext}</b><br><br>country=China<br>total_publications=%{marker.size}<br>country_code_alpha3=%{location}<extra></extra>",
         "hovertext": [
          "China"
         ],
         "legendgroup": "China",
         "locations": [
          "CHN"
         ],
         "marker": {
          "color": "#EF553B",
          "size": [
           21800
          ],
          "sizemode": "area",
          "sizeref": 66.51
         },
         "name": "China",
         "showlegend": true,
         "type": "scattergeo"
        },
        {
         "geo": "geo",
         "hovertemplate": "<b>%{hovertext}</b><br><br>country=France<br>total_publications=%{marker.size}<br>country_code_alpha3=%{location}<extra></extra>",
         "hovertext": [
          "France"
         ],
         "legendgroup": "France",
         "locations": [
          "FRA"
         ],
         "marker": {
          "color": "#00cc96",
          "size": [
           3777
          ],
          "sizemode": "area",
          "sizeref": 66.51
         },
         "name": "France",
         "showlegend": true,
         "type": "scattergeo"
        },
        {
         "geo": "geo",
         "hovertemplate": "<b>%{hovertext}</b><br><br>country=Japan<br>total_publications=%{marker.size}<br>country_code_alpha3=%{location}<extra></extra>",
         "hovertext": [
          "Japan"
         ],
         "legendgroup": "Japan",
         "locations": [
          "JPN"
         ],
         "marker": {
          "color": "#ab63fa",
          "size": [
           3709
          ],
          "sizemode": "area",
          "sizeref": 66.51
         },
         "name": "Japan",
         "showlegend": true,
         "type": "scattergeo"
        },
        {
         "geo": "geo",
         "hovertemplate": "<b>%{hovertext}</b><br><br>country=Canada<br>total_publications=%{marker.size}<br>country_code_alpha3=%{location}<extra></extra>",
         "hovertext": [
          "Canada"
         ],
         "legendgroup": "Canada",
         "locations": [
          "CAN"
         ],
         "marker": {
          "color": "#FFA15A",
          "size": [
           3690
          ],
          "sizemode": "area",
          "sizeref": 66.51
         },
         "name": "Canada",
         "showlegend": true,
         "type": "scattergeo"
        },
        {
         "geo": "geo",
         "hovertemplate": "<b>%{hovertext}</b><br><br>country=United Kingdom<br>total_publications=%{marker.size}<br>country_code_alpha3=%{location}<extra></extra>",
         "hovertext": [
          "United Kingdom"
         ],
         "legendgroup": "United Kingdom",
         "locations": [
          "GBR"
         ],
         "marker": {
          "color": "#19d3f3",
          "size": [
           3645
          ],
          "sizemode": "area",
          "sizeref": 66.51
         },
         "name": "United Kingdom",
         "showlegend": true,
         "type": "scattergeo"
        },
        {
         "geo": "geo",
         "hovertemplate": "<b>%{hovertext}</b><br><br>country=Korea, Republic of<br>total_publications=%{marker.size}<br>country_code_alpha3=%{location}<extra></extra>",
         "hovertext": [
          "Korea, Republic of"
         ],
         "legendgroup": "Korea, Republic of",
         "locations": [
          "KOR"
         ],
         "marker": {
          "color": "#FF6692",
          "size": [
           3254
          ],
          "sizemode": "area",
          "sizeref": 66.51
         },
         "name": "Korea, Republic of",
         "showlegend": true,
         "type": "scattergeo"
        },
        {
         "geo": "geo",
         "hovertemplate": "<b>%{hovertext}</b><br><br>country=Germany<br>total_publications=%{marker.size}<br>country_code_alpha3=%{location}<extra></extra>",
         "hovertext": [
          "Germany"
         ],
         "legendgroup": "Germany",
         "locations": [
          "DEU"
         ],
         "marker": {
          "color": "#B6E880",
          "size": [
           3208
          ],
          "sizemode": "area",
          "sizeref": 66.51
         },
         "name": "Germany",
         "showlegend": true,
         "type": "scattergeo"
        },
        {
         "geo": "geo",
         "hovertemplate": "<b>%{hovertext}</b><br><br>country=Taiwan<br>total_publications=%{marker.size}<br>country_code_alpha3=%{location}<extra></extra>",
         "hovertext": [
          "Taiwan"
         ],
         "legendgroup": "Taiwan",
         "locations": [
          "TWN"
         ],
         "marker": {
          "color": "#FF97FF",
          "size": [
           2727
          ],
          "sizemode": "area",
          "sizeref": 66.51
         },
         "name": "Taiwan",
         "showlegend": true,
         "type": "scattergeo"
        },
        {
         "geo": "geo",
         "hovertemplate": "<b>%{hovertext}</b><br><br>country=Italy<br>total_publications=%{marker.size}<br>country_code_alpha3=%{location}<extra></extra>",
         "hovertext": [
          "Italy"
         ],
         "legendgroup": "Italy",
         "locations": [
          "ITA"
         ],
         "marker": {
          "color": "#FECB52",
          "size": [
           2689
          ],
          "sizemode": "area",
          "sizeref": 66.51
         },
         "name": "Italy",
         "showlegend": true,
         "type": "scattergeo"
        },
        {
         "geo": "geo",
         "hovertemplate": "<b>%{hovertext}</b><br><br>country=Spain<br>total_publications=%{marker.size}<br>country_code_alpha3=%{location}<extra></extra>",
         "hovertext": [
          "Spain"
         ],
         "legendgroup": "Spain",
         "locations": [
          "ESP"
         ],
         "marker": {
          "color": "#636efa",
          "size": [
           2441
          ],
          "sizemode": "area",
          "sizeref": 66.51
         },
         "name": "Spain",
         "showlegend": true,
         "type": "scattergeo"
        },
        {
         "geo": "geo",
         "hovertemplate": "<b>%{hovertext}</b><br><br>country=Netherlands<br>total_publications=%{marker.size}<br>country_code_alpha3=%{location}<extra></extra>",
         "hovertext": [
          "Netherlands"
         ],
         "legendgroup": "Netherlands",
         "locations": [
          "NLD"
         ],
         "marker": {
          "color": "#EF553B",
          "size": [
           2372
          ],
          "sizemode": "area",
          "sizeref": 66.51
         },
         "name": "Netherlands",
         "showlegend": true,
         "type": "scattergeo"
        },
        {
         "geo": "geo",
         "hovertemplate": "<b>%{hovertext}</b><br><br>country=Brazil<br>total_publications=%{marker.size}<br>country_code_alpha3=%{location}<extra></extra>",
         "hovertext": [
          "Brazil"
         ],
         "legendgroup": "Brazil",
         "locations": [
          "BRA"
         ],
         "marker": {
          "color": "#00cc96",
          "size": [
           1690
          ],
          "sizemode": "area",
          "sizeref": 66.51
         },
         "name": "Brazil",
         "showlegend": true,
         "type": "scattergeo"
        },
        {
         "geo": "geo",
         "hovertemplate": "<b>%{hovertext}</b><br><br>country=India<br>total_publications=%{marker.size}<br>country_code_alpha3=%{location}<extra></extra>",
         "hovertext": [
          "India"
         ],
         "legendgroup": "India",
         "locations": [
          "IND"
         ],
         "marker": {
          "color": "#ab63fa",
          "size": [
           1324
          ],
          "sizemode": "area",
          "sizeref": 66.51
         },
         "name": "India",
         "showlegend": true,
         "type": "scattergeo"
        },
        {
         "geo": "geo",
         "hovertemplate": "<b>%{hovertext}</b><br><br>country=Switzerland<br>total_publications=%{marker.size}<br>country_code_alpha3=%{location}<extra></extra>",
         "hovertext": [
          "Switzerland"
         ],
         "legendgroup": "Switzerland",
         "locations": [
          "CHE"
         ],
         "marker": {
          "color": "#FFA15A",
          "size": [
           1181
          ],
          "sizemode": "area",
          "sizeref": 66.51
         },
         "name": "Switzerland",
         "showlegend": true,
         "type": "scattergeo"
        },
        {
         "geo": "geo",
         "hovertemplate": "<b>%{hovertext}</b><br><br>country=Belgium<br>total_publications=%{marker.size}<br>country_code_alpha3=%{location}<extra></extra>",
         "hovertext": [
          "Belgium"
         ],
         "legendgroup": "Belgium",
         "locations": [
          "BEL"
         ],
         "marker": {
          "color": "#19d3f3",
          "size": [
           1005
          ],
          "sizemode": "area",
          "sizeref": 66.51
         },
         "name": "Belgium",
         "showlegend": true,
         "type": "scattergeo"
        },
        {
         "geo": "geo",
         "hovertemplate": "<b>%{hovertext}</b><br><br>country=Singapore<br>total_publications=%{marker.size}<br>country_code_alpha3=%{location}<extra></extra>",
         "hovertext": [
          "Singapore"
         ],
         "legendgroup": "Singapore",
         "locations": [
          "SGP"
         ],
         "marker": {
          "color": "#FF6692",
          "size": [
           970
          ],
          "sizemode": "area",
          "sizeref": 66.51
         },
         "name": "Singapore",
         "showlegend": true,
         "type": "scattergeo"
        },
        {
         "geo": "geo",
         "hovertemplate": "<b>%{hovertext}</b><br><br>country=Sweden<br>total_publications=%{marker.size}<br>country_code_alpha3=%{location}<extra></extra>",
         "hovertext": [
          "Sweden"
         ],
         "legendgroup": "Sweden",
         "locations": [
          "SWE"
         ],
         "marker": {
          "color": "#B6E880",
          "size": [
           806
          ],
          "sizemode": "area",
          "sizeref": 66.51
         },
         "name": "Sweden",
         "showlegend": true,
         "type": "scattergeo"
        },
        {
         "geo": "geo",
         "hovertemplate": "<b>%{hovertext}</b><br><br>country=Saudi Arabia<br>total_publications=%{marker.size}<br>country_code_alpha3=%{location}<extra></extra>",
         "hovertext": [
          "Saudi Arabia"
         ],
         "legendgroup": "Saudi Arabia",
         "locations": [
          "SAU"
         ],
         "marker": {
          "color": "#FF97FF",
          "size": [
           655
          ],
          "sizemode": "area",
          "sizeref": 66.51
         },
         "name": "Saudi Arabia",
         "showlegend": true,
         "type": "scattergeo"
        },
        {
         "geo": "geo",
         "hovertemplate": "<b>%{hovertext}</b><br><br>country=Denmark<br>total_publications=%{marker.size}<br>country_code_alpha3=%{location}<extra></extra>",
         "hovertext": [
          "Denmark"
         ],
         "legendgroup": "Denmark",
         "locations": [
          "DNK"
         ],
         "marker": {
          "color": "#FECB52",
          "size": [
           564
          ],
          "sizemode": "area",
          "sizeref": 66.51
         },
         "name": "Denmark",
         "showlegend": true,
         "type": "scattergeo"
        },
        {
         "geo": "geo",
         "hovertemplate": "<b>%{hovertext}</b><br><br>country=Iran, Islamic Republic of<br>total_publications=%{marker.size}<br>country_code_alpha3=%{location}<extra></extra>",
         "hovertext": [
          "Iran, Islamic Republic of"
         ],
         "legendgroup": "Iran, Islamic Republic of",
         "locations": [
          "IRN"
         ],
         "marker": {
          "color": "#636efa",
          "size": [
           491
          ],
          "sizemode": "area",
          "sizeref": 66.51
         },
         "name": "Iran, Islamic Republic of",
         "showlegend": true,
         "type": "scattergeo"
        },
        {
         "geo": "geo",
         "hovertemplate": "<b>%{hovertext}</b><br><br>country=Finland<br>total_publications=%{marker.size}<br>country_code_alpha3=%{location}<extra></extra>",
         "hovertext": [
          "Finland"
         ],
         "legendgroup": "Finland",
         "locations": [
          "FIN"
         ],
         "marker": {
          "color": "#EF553B",
          "size": [
           464
          ],
          "sizemode": "area",
          "sizeref": 66.51
         },
         "name": "Finland",
         "showlegend": true,
         "type": "scattergeo"
        },
        {
         "geo": "geo",
         "hovertemplate": "<b>%{hovertext}</b><br><br>country=Thailand<br>total_publications=%{marker.size}<br>country_code_alpha3=%{location}<extra></extra>",
         "hovertext": [
          "Thailand"
         ],
         "legendgroup": "Thailand",
         "locations": [
          "THA"
         ],
         "marker": {
          "color": "#00cc96",
          "size": [
           436
          ],
          "sizemode": "area",
          "sizeref": 66.51
         },
         "name": "Thailand",
         "showlegend": true,
         "type": "scattergeo"
        },
        {
         "geo": "geo",
         "hovertemplate": "<b>%{hovertext}</b><br><br>country=Poland<br>total_publications=%{marker.size}<br>country_code_alpha3=%{location}<extra></extra>",
         "hovertext": [
          "Poland"
         ],
         "legendgroup": "Poland",
         "locations": [
          "POL"
         ],
         "marker": {
          "color": "#ab63fa",
          "size": [
           411
          ],
          "sizemode": "area",
          "sizeref": 66.51
         },
         "name": "Poland",
         "showlegend": true,
         "type": "scattergeo"
        },
        {
         "geo": "geo",
         "hovertemplate": "<b>%{hovertext}</b><br><br>country=Israel<br>total_publications=%{marker.size}<br>country_code_alpha3=%{location}<extra></extra>",
         "hovertext": [
          "Israel"
         ],
         "legendgroup": "Israel",
         "locations": [
          "ISR"
         ],
         "marker": {
          "color": "#FFA15A",
          "size": [
           373
          ],
          "sizemode": "area",
          "sizeref": 66.51
         },
         "name": "Israel",
         "showlegend": true,
         "type": "scattergeo"
        },
        {
         "geo": "geo",
         "hovertemplate": "<b>%{hovertext}</b><br><br>country=Malaysia<br>total_publications=%{marker.size}<br>country_code_alpha3=%{location}<extra></extra>",
         "hovertext": [
          "Malaysia"
         ],
         "legendgroup": "Malaysia",
         "locations": [
          "MYS"
         ],
         "marker": {
          "color": "#19d3f3",
          "size": [
           353
          ],
          "sizemode": "area",
          "sizeref": 66.51
         },
         "name": "Malaysia",
         "showlegend": true,
         "type": "scattergeo"
        },
        {
         "geo": "geo",
         "hovertemplate": "<b>%{hovertext}</b><br><br>country=Mexico<br>total_publications=%{marker.size}<br>country_code_alpha3=%{location}<extra></extra>",
         "hovertext": [
          "Mexico"
         ],
         "legendgroup": "Mexico",
         "locations": [
          "MEX"
         ],
         "marker": {
          "color": "#FF6692",
          "size": [
           336
          ],
          "sizemode": "area",
          "sizeref": 66.51
         },
         "name": "Mexico",
         "showlegend": true,
         "type": "scattergeo"
        },
        {
         "geo": "geo",
         "hovertemplate": "<b>%{hovertext}</b><br><br>country=Greece<br>total_publications=%{marker.size}<br>country_code_alpha3=%{location}<extra></extra>",
         "hovertext": [
          "Greece"
         ],
         "legendgroup": "Greece",
         "locations": [
          "GRC"
         ],
         "marker": {
          "color": "#B6E880",
          "size": [
           329
          ],
          "sizemode": "area",
          "sizeref": 66.51
         },
         "name": "Greece",
         "showlegend": true,
         "type": "scattergeo"
        },
        {
         "geo": "geo",
         "hovertemplate": "<b>%{hovertext}</b><br><br>country=Vietnam<br>total_publications=%{marker.size}<br>country_code_alpha3=%{location}<extra></extra>",
         "hovertext": [
          "Vietnam"
         ],
         "legendgroup": "Vietnam",
         "locations": [
          "VNM"
         ],
         "marker": {
          "color": "#FF97FF",
          "size": [
           315
          ],
          "sizemode": "area",
          "sizeref": 66.51
         },
         "name": "Vietnam",
         "showlegend": true,
         "type": "scattergeo"
        },
        {
         "geo": "geo",
         "hovertemplate": "<b>%{hovertext}</b><br><br>country=Argentina<br>total_publications=%{marker.size}<br>country_code_alpha3=%{location}<extra></extra>",
         "hovertext": [
          "Argentina"
         ],
         "legendgroup": "Argentina",
         "locations": [
          "ARG"
         ],
         "marker": {
          "color": "#FECB52",
          "size": [
           300
          ],
          "sizemode": "area",
          "sizeref": 66.51
         },
         "name": "Argentina",
         "showlegend": true,
         "type": "scattergeo"
        },
        {
         "geo": "geo",
         "hovertemplate": "<b>%{hovertext}</b><br><br>country=Turkey<br>total_publications=%{marker.size}<br>country_code_alpha3=%{location}<extra></extra>",
         "hovertext": [
          "Turkey"
         ],
         "legendgroup": "Turkey",
         "locations": [
          "TUR"
         ],
         "marker": {
          "color": "#636efa",
          "size": [
           296
          ],
          "sizemode": "area",
          "sizeref": 66.51
         },
         "name": "Turkey",
         "showlegend": true,
         "type": "scattergeo"
        },
        {
         "geo": "geo",
         "hovertemplate": "<b>%{hovertext}</b><br><br>country=Portugal<br>total_publications=%{marker.size}<br>country_code_alpha3=%{location}<extra></extra>",
         "hovertext": [
          "Portugal"
         ],
         "legendgroup": "Portugal",
         "locations": [
          "PRT"
         ],
         "marker": {
          "color": "#EF553B",
          "size": [
           295
          ],
          "sizemode": "area",
          "sizeref": 66.51
         },
         "name": "Portugal",
         "showlegend": true,
         "type": "scattergeo"
        },
        {
         "geo": "geo",
         "hovertemplate": "<b>%{hovertext}</b><br><br>country=Egypt<br>total_publications=%{marker.size}<br>country_code_alpha3=%{location}<extra></extra>",
         "hovertext": [
          "Egypt"
         ],
         "legendgroup": "Egypt",
         "locations": [
          "EGY"
         ],
         "marker": {
          "color": "#00cc96",
          "size": [
           266
          ],
          "sizemode": "area",
          "sizeref": 66.51
         },
         "name": "Egypt",
         "showlegend": true,
         "type": "scattergeo"
        },
        {
         "geo": "geo",
         "hovertemplate": "<b>%{hovertext}</b><br><br>country=Norway<br>total_publications=%{marker.size}<br>country_code_alpha3=%{location}<extra></extra>",
         "hovertext": [
          "Norway"
         ],
         "legendgroup": "Norway",
         "locations": [
          "NOR"
         ],
         "marker": {
          "color": "#ab63fa",
          "size": [
           237
          ],
          "sizemode": "area",
          "sizeref": 66.51
         },
         "name": "Norway",
         "showlegend": true,
         "type": "scattergeo"
        },
        {
         "geo": "geo",
         "hovertemplate": "<b>%{hovertext}</b><br><br>country=Ireland<br>total_publications=%{marker.size}<br>country_code_alpha3=%{location}<extra></extra>",
         "hovertext": [
          "Ireland"
         ],
         "legendgroup": "Ireland",
         "locations": [
          "IRL"
         ],
         "marker": {
          "color": "#FFA15A",
          "size": [
           200
          ],
          "sizemode": "area",
          "sizeref": 66.51
         },
         "name": "Ireland",
         "showlegend": true,
         "type": "scattergeo"
        },
        {
         "geo": "geo",
         "hovertemplate": "<b>%{hovertext}</b><br><br>country=New Zealand<br>total_publications=%{marker.size}<br>country_code_alpha3=%{location}<extra></extra>",
         "hovertext": [
          "New Zealand"
         ],
         "legendgroup": "New Zealand",
         "locations": [
          "NZL"
         ],
         "marker": {
          "color": "#19d3f3",
          "size": [
           191
          ],
          "sizemode": "area",
          "sizeref": 66.51
         },
         "name": "New Zealand",
         "showlegend": true,
         "type": "scattergeo"
        },
        {
         "geo": "geo",
         "hovertemplate": "<b>%{hovertext}</b><br><br>country=Hungary<br>total_publications=%{marker.size}<br>country_code_alpha3=%{location}<extra></extra>",
         "hovertext": [
          "Hungary"
         ],
         "legendgroup": "Hungary",
         "locations": [
          "HUN"
         ],
         "marker": {
          "color": "#FF6692",
          "size": [
           186
          ],
          "sizemode": "area",
          "sizeref": 66.51
         },
         "name": "Hungary",
         "showlegend": true,
         "type": "scattergeo"
        },
        {
         "geo": "geo",
         "hovertemplate": "<b>%{hovertext}</b><br><br>country=Georgia<br>total_publications=%{marker.size}<br>country_code_alpha3=%{location}<extra></extra>",
         "hovertext": [
          "Georgia"
         ],
         "legendgroup": "Georgia",
         "locations": [
          "GEO"
         ],
         "marker": {
          "color": "#B6E880",
          "size": [
           169
          ],
          "sizemode": "area",
          "sizeref": 66.51
         },
         "name": "Georgia",
         "showlegend": true,
         "type": "scattergeo"
        },
        {
         "geo": "geo",
         "hovertemplate": "<b>%{hovertext}</b><br><br>country=Chile<br>total_publications=%{marker.size}<br>country_code_alpha3=%{location}<extra></extra>",
         "hovertext": [
          "Chile"
         ],
         "legendgroup": "Chile",
         "locations": [
          "CHL"
         ],
         "marker": {
          "color": "#FF97FF",
          "size": [
           153
          ],
          "sizemode": "area",
          "sizeref": 66.51
         },
         "name": "Chile",
         "showlegend": true,
         "type": "scattergeo"
        },
        {
         "geo": "geo",
         "hovertemplate": "<b>%{hovertext}</b><br><br>country=Kenya<br>total_publications=%{marker.size}<br>country_code_alpha3=%{location}<extra></extra>",
         "hovertext": [
          "Kenya"
         ],
         "legendgroup": "Kenya",
         "locations": [
          "KEN"
         ],
         "marker": {
          "color": "#FECB52",
          "size": [
           145
          ],
          "sizemode": "area",
          "sizeref": 66.51
         },
         "name": "Kenya",
         "showlegend": true,
         "type": "scattergeo"
        },
        {
         "geo": "geo",
         "hovertemplate": "<b>%{hovertext}</b><br><br>country=Czechia<br>total_publications=%{marker.size}<br>country_code_alpha3=%{location}<extra></extra>",
         "hovertext": [
          "Czechia"
         ],
         "legendgroup": "Czechia",
         "locations": [
          "CZE"
         ],
         "marker": {
          "color": "#636efa",
          "size": [
           141
          ],
          "sizemode": "area",
          "sizeref": 66.51
         },
         "name": "Czechia",
         "showlegend": true,
         "type": "scattergeo"
        },
        {
         "geo": "geo",
         "hovertemplate": "<b>%{hovertext}</b><br><br>country=Oman<br>total_publications=%{marker.size}<br>country_code_alpha3=%{location}<extra></extra>",
         "hovertext": [
          "Oman"
         ],
         "legendgroup": "Oman",
         "locations": [
          "OMN"
         ],
         "marker": {
          "color": "#EF553B",
          "size": [
           121
          ],
          "sizemode": "area",
          "sizeref": 66.51
         },
         "name": "Oman",
         "showlegend": true,
         "type": "scattergeo"
        },
        {
         "geo": "geo",
         "hovertemplate": "<b>%{hovertext}</b><br><br>country=Colombia<br>total_publications=%{marker.size}<br>country_code_alpha3=%{location}<extra></extra>",
         "hovertext": [
          "Colombia"
         ],
         "legendgroup": "Colombia",
         "locations": [
          "COL"
         ],
         "marker": {
          "color": "#00cc96",
          "size": [
           116
          ],
          "sizemode": "area",
          "sizeref": 66.51
         },
         "name": "Colombia",
         "showlegend": true,
         "type": "scattergeo"
        },
        {
         "geo": "geo",
         "hovertemplate": "<b>%{hovertext}</b><br><br>country=Pakistan<br>total_publications=%{marker.size}<br>country_code_alpha3=%{location}<extra></extra>",
         "hovertext": [
          "Pakistan"
         ],
         "legendgroup": "Pakistan",
         "locations": [
          "PAK"
         ],
         "marker": {
          "color": "#ab63fa",
          "size": [
           111
          ],
          "sizemode": "area",
          "sizeref": 66.51
         },
         "name": "Pakistan",
         "showlegend": true,
         "type": "scattergeo"
        },
        {
         "geo": "geo",
         "hovertemplate": "<b>%{hovertext}</b><br><br>country=Ghana<br>total_publications=%{marker.size}<br>country_code_alpha3=%{location}<extra></extra>",
         "hovertext": [
          "Ghana"
         ],
         "legendgroup": "Ghana",
         "locations": [
          "GHA"
         ],
         "marker": {
          "color": "#FFA15A",
          "size": [
           110
          ],
          "sizemode": "area",
          "sizeref": 66.51
         },
         "name": "Ghana",
         "showlegend": true,
         "type": "scattergeo"
        },
        {
         "geo": "geo",
         "hovertemplate": "<b>%{hovertext}</b><br><br>country=Bangladesh<br>total_publications=%{marker.size}<br>country_code_alpha3=%{location}<extra></extra>",
         "hovertext": [
          "Bangladesh"
         ],
         "legendgroup": "Bangladesh",
         "locations": [
          "BGD"
         ],
         "marker": {
          "color": "#19d3f3",
          "size": [
           109
          ],
          "sizemode": "area",
          "sizeref": 66.51
         },
         "name": "Bangladesh",
         "showlegend": true,
         "type": "scattergeo"
        },
        {
         "geo": "geo",
         "hovertemplate": "<b>%{hovertext}</b><br><br>country=Niger<br>total_publications=%{marker.size}<br>country_code_alpha3=%{location}<extra></extra>",
         "hovertext": [
          "Niger"
         ],
         "legendgroup": "Niger",
         "locations": [
          "NER"
         ],
         "marker": {
          "color": "#FF6692",
          "size": [
           101
          ],
          "sizemode": "area",
          "sizeref": 66.51
         },
         "name": "Niger",
         "showlegend": true,
         "type": "scattergeo"
        },
        {
         "geo": "geo",
         "hovertemplate": "<b>%{hovertext}</b><br><br>country=Croatia<br>total_publications=%{marker.size}<br>country_code_alpha3=%{location}<extra></extra>",
         "hovertext": [
          "Croatia"
         ],
         "legendgroup": "Croatia",
         "locations": [
          "HRV"
         ],
         "marker": {
          "color": "#B6E880",
          "size": [
           88
          ],
          "sizemode": "area",
          "sizeref": 66.51
         },
         "name": "Croatia",
         "showlegend": true,
         "type": "scattergeo"
        },
        {
         "geo": "geo",
         "hovertemplate": "<b>%{hovertext}</b><br><br>country=Tunisia<br>total_publications=%{marker.size}<br>country_code_alpha3=%{location}<extra></extra>",
         "hovertext": [
          "Tunisia"
         ],
         "legendgroup": "Tunisia",
         "locations": [
          "TUN"
         ],
         "marker": {
          "color": "#FF97FF",
          "size": [
           84
          ],
          "sizemode": "area",
          "sizeref": 66.51
         },
         "name": "Tunisia",
         "showlegend": true,
         "type": "scattergeo"
        },
        {
         "geo": "geo",
         "hovertemplate": "<b>%{hovertext}</b><br><br>country=Slovenia<br>total_publications=%{marker.size}<br>country_code_alpha3=%{location}<extra></extra>",
         "hovertext": [
          "Slovenia"
         ],
         "legendgroup": "Slovenia",
         "locations": [
          "SVN"
         ],
         "marker": {
          "color": "#FECB52",
          "size": [
           80
          ],
          "sizemode": "area",
          "sizeref": 66.51
         },
         "name": "Slovenia",
         "showlegend": true,
         "type": "scattergeo"
        },
        {
         "geo": "geo",
         "hovertemplate": "<b>%{hovertext}</b><br><br>country=Cambodia<br>total_publications=%{marker.size}<br>country_code_alpha3=%{location}<extra></extra>",
         "hovertext": [
          "Cambodia"
         ],
         "legendgroup": "Cambodia",
         "locations": [
          "KHM"
         ],
         "marker": {
          "color": "#636efa",
          "size": [
           72
          ],
          "sizemode": "area",
          "sizeref": 66.51
         },
         "name": "Cambodia",
         "showlegend": true,
         "type": "scattergeo"
        },
        {
         "geo": "geo",
         "hovertemplate": "<b>%{hovertext}</b><br><br>country=Indonesia<br>total_publications=%{marker.size}<br>country_code_alpha3=%{location}<extra></extra>",
         "hovertext": [
          "Indonesia"
         ],
         "legendgroup": "Indonesia",
         "locations": [
          "IDN"
         ],
         "marker": {
          "color": "#EF553B",
          "size": [
           72
          ],
          "sizemode": "area",
          "sizeref": 66.51
         },
         "name": "Indonesia",
         "showlegend": true,
         "type": "scattergeo"
        },
        {
         "geo": "geo",
         "hovertemplate": "<b>%{hovertext}</b><br><br>country=Qatar<br>total_publications=%{marker.size}<br>country_code_alpha3=%{location}<extra></extra>",
         "hovertext": [
          "Qatar"
         ],
         "legendgroup": "Qatar",
         "locations": [
          "QAT"
         ],
         "marker": {
          "color": "#00cc96",
          "size": [
           71
          ],
          "sizemode": "area",
          "sizeref": 66.51
         },
         "name": "Qatar",
         "showlegend": true,
         "type": "scattergeo"
        },
        {
         "geo": "geo",
         "hovertemplate": "<b>%{hovertext}</b><br><br>country=Senegal<br>total_publications=%{marker.size}<br>country_code_alpha3=%{location}<extra></extra>",
         "hovertext": [
          "Senegal"
         ],
         "legendgroup": "Senegal",
         "locations": [
          "SEN"
         ],
         "marker": {
          "color": "#ab63fa",
          "size": [
           69
          ],
          "sizemode": "area",
          "sizeref": 66.51
         },
         "name": "Senegal",
         "showlegend": true,
         "type": "scattergeo"
        },
        {
         "geo": "geo",
         "hovertemplate": "<b>%{hovertext}</b><br><br>country=Uganda<br>total_publications=%{marker.size}<br>country_code_alpha3=%{location}<extra></extra>",
         "hovertext": [
          "Uganda"
         ],
         "legendgroup": "Uganda",
         "locations": [
          "UGA"
         ],
         "marker": {
          "color": "#FFA15A",
          "size": [
           59
          ],
          "sizemode": "area",
          "sizeref": 66.51
         },
         "name": "Uganda",
         "showlegend": true,
         "type": "scattergeo"
        },
        {
         "geo": "geo",
         "hovertemplate": "<b>%{hovertext}</b><br><br>country=Jordan<br>total_publications=%{marker.size}<br>country_code_alpha3=%{location}<extra></extra>",
         "hovertext": [
          "Jordan"
         ],
         "legendgroup": "Jordan",
         "locations": [
          "JOR"
         ],
         "marker": {
          "color": "#19d3f3",
          "size": [
           58
          ],
          "sizemode": "area",
          "sizeref": 66.51
         },
         "name": "Jordan",
         "showlegend": true,
         "type": "scattergeo"
        },
        {
         "geo": "geo",
         "hovertemplate": "<b>%{hovertext}</b><br><br>country=Gabon<br>total_publications=%{marker.size}<br>country_code_alpha3=%{location}<extra></extra>",
         "hovertext": [
          "Gabon"
         ],
         "legendgroup": "Gabon",
         "locations": [
          "GAB"
         ],
         "marker": {
          "color": "#FF6692",
          "size": [
           53
          ],
          "sizemode": "area",
          "sizeref": 66.51
         },
         "name": "Gabon",
         "showlegend": true,
         "type": "scattergeo"
        },
        {
         "geo": "geo",
         "hovertemplate": "<b>%{hovertext}</b><br><br>country=Peru<br>total_publications=%{marker.size}<br>country_code_alpha3=%{location}<extra></extra>",
         "hovertext": [
          "Peru"
         ],
         "legendgroup": "Peru",
         "locations": [
          "PER"
         ],
         "marker": {
          "color": "#B6E880",
          "size": [
           47
          ],
          "sizemode": "area",
          "sizeref": 66.51
         },
         "name": "Peru",
         "showlegend": true,
         "type": "scattergeo"
        },
        {
         "geo": "geo",
         "hovertemplate": "<b>%{hovertext}</b><br><br>country=Cameroon<br>total_publications=%{marker.size}<br>country_code_alpha3=%{location}<extra></extra>",
         "hovertext": [
          "Cameroon"
         ],
         "legendgroup": "Cameroon",
         "locations": [
          "CMR"
         ],
         "marker": {
          "color": "#FF97FF",
          "size": [
           47
          ],
          "sizemode": "area",
          "sizeref": 66.51
         },
         "name": "Cameroon",
         "showlegend": true,
         "type": "scattergeo"
        },
        {
         "geo": "geo",
         "hovertemplate": "<b>%{hovertext}</b><br><br>country=Madagascar<br>total_publications=%{marker.size}<br>country_code_alpha3=%{location}<extra></extra>",
         "hovertext": [
          "Madagascar"
         ],
         "legendgroup": "Madagascar",
         "locations": [
          "MDG"
         ],
         "marker": {
          "color": "#FECB52",
          "size": [
           46
          ],
          "sizemode": "area",
          "sizeref": 66.51
         },
         "name": "Madagascar",
         "showlegend": true,
         "type": "scattergeo"
        },
        {
         "geo": "geo",
         "hovertemplate": "<b>%{hovertext}</b><br><br>country=Venezuela<br>total_publications=%{marker.size}<br>country_code_alpha3=%{location}<extra></extra>",
         "hovertext": [
          "Venezuela"
         ],
         "legendgroup": "Venezuela",
         "locations": [
          "VEN"
         ],
         "marker": {
          "color": "#636efa",
          "size": [
           44
          ],
          "sizemode": "area",
          "sizeref": 66.51
         },
         "name": "Venezuela",
         "showlegend": true,
         "type": "scattergeo"
        },
        {
         "geo": "geo",
         "hovertemplate": "<b>%{hovertext}</b><br><br>country=Uruguay<br>total_publications=%{marker.size}<br>country_code_alpha3=%{location}<extra></extra>",
         "hovertext": [
          "Uruguay"
         ],
         "legendgroup": "Uruguay",
         "locations": [
          "URY"
         ],
         "marker": {
          "color": "#EF553B",
          "size": [
           43
          ],
          "sizemode": "area",
          "sizeref": 66.51
         },
         "name": "Uruguay",
         "showlegend": true,
         "type": "scattergeo"
        },
        {
         "geo": "geo",
         "hovertemplate": "<b>%{hovertext}</b><br><br>country=Estonia<br>total_publications=%{marker.size}<br>country_code_alpha3=%{location}<extra></extra>",
         "hovertext": [
          "Estonia"
         ],
         "legendgroup": "Estonia",
         "locations": [
          "EST"
         ],
         "marker": {
          "color": "#00cc96",
          "size": [
           43
          ],
          "sizemode": "area",
          "sizeref": 66.51
         },
         "name": "Estonia",
         "showlegend": true,
         "type": "scattergeo"
        },
        {
         "geo": "geo",
         "hovertemplate": "<b>%{hovertext}</b><br><br>country=Serbia<br>total_publications=%{marker.size}<br>country_code_alpha3=%{location}<extra></extra>",
         "hovertext": [
          "Serbia"
         ],
         "legendgroup": "Serbia",
         "locations": [
          "SRB"
         ],
         "marker": {
          "color": "#ab63fa",
          "size": [
           41
          ],
          "sizemode": "area",
          "sizeref": 66.51
         },
         "name": "Serbia",
         "showlegend": true,
         "type": "scattergeo"
        },
        {
         "geo": "geo",
         "hovertemplate": "<b>%{hovertext}</b><br><br>country=Tanzania<br>total_publications=%{marker.size}<br>country_code_alpha3=%{location}<extra></extra>",
         "hovertext": [
          "Tanzania"
         ],
         "legendgroup": "Tanzania",
         "locations": [
          "TZA"
         ],
         "marker": {
          "color": "#FFA15A",
          "size": [
           37
          ],
          "sizemode": "area",
          "sizeref": 66.51
         },
         "name": "Tanzania",
         "showlegend": true,
         "type": "scattergeo"
        },
        {
         "geo": "geo",
         "hovertemplate": "<b>%{hovertext}</b><br><br>country=Congo<br>total_publications=%{marker.size}<br>country_code_alpha3=%{location}<extra></extra>",
         "hovertext": [
          "Congo"
         ],
         "legendgroup": "Congo",
         "locations": [
          "COG"
         ],
         "marker": {
          "color": "#19d3f3",
          "size": [
           37
          ],
          "sizemode": "area",
          "sizeref": 66.51
         },
         "name": "Congo",
         "showlegend": true,
         "type": "scattergeo"
        },
        {
         "geo": "geo",
         "hovertemplate": "<b>%{hovertext}</b><br><br>country=Guinea<br>total_publications=%{marker.size}<br>country_code_alpha3=%{location}<extra></extra>",
         "hovertext": [
          "Guinea"
         ],
         "legendgroup": "Guinea",
         "locations": [
          "GIN"
         ],
         "marker": {
          "color": "#FF6692",
          "size": [
           33
          ],
          "sizemode": "area",
          "sizeref": 66.51
         },
         "name": "Guinea",
         "showlegend": true,
         "type": "scattergeo"
        },
        {
         "geo": "geo",
         "hovertemplate": "<b>%{hovertext}</b><br><br>country=Nepal<br>total_publications=%{marker.size}<br>country_code_alpha3=%{location}<extra></extra>",
         "hovertext": [
          "Nepal"
         ],
         "legendgroup": "Nepal",
         "locations": [
          "NPL"
         ],
         "marker": {
          "color": "#B6E880",
          "size": [
           33
          ],
          "sizemode": "area",
          "sizeref": 66.51
         },
         "name": "Nepal",
         "showlegend": true,
         "type": "scattergeo"
        },
        {
         "geo": "geo",
         "hovertemplate": "<b>%{hovertext}</b><br><br>country=Slovakia<br>total_publications=%{marker.size}<br>country_code_alpha3=%{location}<extra></extra>",
         "hovertext": [
          "Slovakia"
         ],
         "legendgroup": "Slovakia",
         "locations": [
          "SVK"
         ],
         "marker": {
          "color": "#FF97FF",
          "size": [
           31
          ],
          "sizemode": "area",
          "sizeref": 66.51
         },
         "name": "Slovakia",
         "showlegend": true,
         "type": "scattergeo"
        },
        {
         "geo": "geo",
         "hovertemplate": "<b>%{hovertext}</b><br><br>country=Algeria<br>total_publications=%{marker.size}<br>country_code_alpha3=%{location}<extra></extra>",
         "hovertext": [
          "Algeria"
         ],
         "legendgroup": "Algeria",
         "locations": [
          "DZA"
         ],
         "marker": {
          "color": "#FECB52",
          "size": [
           28
          ],
          "sizemode": "area",
          "sizeref": 66.51
         },
         "name": "Algeria",
         "showlegend": true,
         "type": "scattergeo"
        },
        {
         "geo": "geo",
         "hovertemplate": "<b>%{hovertext}</b><br><br>country=Philippines<br>total_publications=%{marker.size}<br>country_code_alpha3=%{location}<extra></extra>",
         "hovertext": [
          "Philippines"
         ],
         "legendgroup": "Philippines",
         "locations": [
          "PHL"
         ],
         "marker": {
          "color": "#636efa",
          "size": [
           27
          ],
          "sizemode": "area",
          "sizeref": 66.51
         },
         "name": "Philippines",
         "showlegend": true,
         "type": "scattergeo"
        },
        {
         "geo": "geo",
         "hovertemplate": "<b>%{hovertext}</b><br><br>country=Kuwait<br>total_publications=%{marker.size}<br>country_code_alpha3=%{location}<extra></extra>",
         "hovertext": [
          "Kuwait"
         ],
         "legendgroup": "Kuwait",
         "locations": [
          "KWT"
         ],
         "marker": {
          "color": "#EF553B",
          "size": [
           25
          ],
          "sizemode": "area",
          "sizeref": 66.51
         },
         "name": "Kuwait",
         "showlegend": true,
         "type": "scattergeo"
        },
        {
         "geo": "geo",
         "hovertemplate": "<b>%{hovertext}</b><br><br>country=Ecuador<br>total_publications=%{marker.size}<br>country_code_alpha3=%{location}<extra></extra>",
         "hovertext": [
          "Ecuador"
         ],
         "legendgroup": "Ecuador",
         "locations": [
          "ECU"
         ],
         "marker": {
          "color": "#00cc96",
          "size": [
           22
          ],
          "sizemode": "area",
          "sizeref": 66.51
         },
         "name": "Ecuador",
         "showlegend": true,
         "type": "scattergeo"
        },
        {
         "geo": "geo",
         "hovertemplate": "<b>%{hovertext}</b><br><br>country=Ethiopia<br>total_publications=%{marker.size}<br>country_code_alpha3=%{location}<extra></extra>",
         "hovertext": [
          "Ethiopia"
         ],
         "legendgroup": "Ethiopia",
         "locations": [
          "ETH"
         ],
         "marker": {
          "color": "#ab63fa",
          "size": [
           22
          ],
          "sizemode": "area",
          "sizeref": 66.51
         },
         "name": "Ethiopia",
         "showlegend": true,
         "type": "scattergeo"
        },
        {
         "geo": "geo",
         "hovertemplate": "<b>%{hovertext}</b><br><br>country=Lebanon<br>total_publications=%{marker.size}<br>country_code_alpha3=%{location}<extra></extra>",
         "hovertext": [
          "Lebanon"
         ],
         "legendgroup": "Lebanon",
         "locations": [
          "LBN"
         ],
         "marker": {
          "color": "#FFA15A",
          "size": [
           22
          ],
          "sizemode": "area",
          "sizeref": 66.51
         },
         "name": "Lebanon",
         "showlegend": true,
         "type": "scattergeo"
        },
        {
         "geo": "geo",
         "hovertemplate": "<b>%{hovertext}</b><br><br>country=Cuba<br>total_publications=%{marker.size}<br>country_code_alpha3=%{location}<extra></extra>",
         "hovertext": [
          "Cuba"
         ],
         "legendgroup": "Cuba",
         "locations": [
          "CUB"
         ],
         "marker": {
          "color": "#19d3f3",
          "size": [
           22
          ],
          "sizemode": "area",
          "sizeref": 66.51
         },
         "name": "Cuba",
         "showlegend": true,
         "type": "scattergeo"
        },
        {
         "geo": "geo",
         "hovertemplate": "<b>%{hovertext}</b><br><br>country=Sudan<br>total_publications=%{marker.size}<br>country_code_alpha3=%{location}<extra></extra>",
         "hovertext": [
          "Sudan"
         ],
         "legendgroup": "Sudan",
         "locations": [
          "SDN"
         ],
         "marker": {
          "color": "#FF6692",
          "size": [
           21
          ],
          "sizemode": "area",
          "sizeref": 66.51
         },
         "name": "Sudan",
         "showlegend": true,
         "type": "scattergeo"
        },
        {
         "geo": "geo",
         "hovertemplate": "<b>%{hovertext}</b><br><br>country=Gambia<br>total_publications=%{marker.size}<br>country_code_alpha3=%{location}<extra></extra>",
         "hovertext": [
          "Gambia"
         ],
         "legendgroup": "Gambia",
         "locations": [
          "GMB"
         ],
         "marker": {
          "color": "#B6E880",
          "size": [
           21
          ],
          "sizemode": "area",
          "sizeref": 66.51
         },
         "name": "Gambia",
         "showlegend": true,
         "type": "scattergeo"
        },
        {
         "geo": "geo",
         "hovertemplate": "<b>%{hovertext}</b><br><br>country=Lithuania<br>total_publications=%{marker.size}<br>country_code_alpha3=%{location}<extra></extra>",
         "hovertext": [
          "Lithuania"
         ],
         "legendgroup": "Lithuania",
         "locations": [
          "LTU"
         ],
         "marker": {
          "color": "#FF97FF",
          "size": [
           21
          ],
          "sizemode": "area",
          "sizeref": 66.51
         },
         "name": "Lithuania",
         "showlegend": true,
         "type": "scattergeo"
        },
        {
         "geo": "geo",
         "hovertemplate": "<b>%{hovertext}</b><br><br>country=Jersey<br>total_publications=%{marker.size}<br>country_code_alpha3=%{location}<extra></extra>",
         "hovertext": [
          "Jersey"
         ],
         "legendgroup": "Jersey",
         "locations": [
          "JEY"
         ],
         "marker": {
          "color": "#FECB52",
          "size": [
           19
          ],
          "sizemode": "area",
          "sizeref": 66.51
         },
         "name": "Jersey",
         "showlegend": true,
         "type": "scattergeo"
        },
        {
         "geo": "geo",
         "hovertemplate": "<b>%{hovertext}</b><br><br>country=Bulgaria<br>total_publications=%{marker.size}<br>country_code_alpha3=%{location}<extra></extra>",
         "hovertext": [
          "Bulgaria"
         ],
         "legendgroup": "Bulgaria",
         "locations": [
          "BGR"
         ],
         "marker": {
          "color": "#636efa",
          "size": [
           19
          ],
          "sizemode": "area",
          "sizeref": 66.51
         },
         "name": "Bulgaria",
         "showlegend": true,
         "type": "scattergeo"
        },
        {
         "geo": "geo",
         "hovertemplate": "<b>%{hovertext}</b><br><br>country=Malawi<br>total_publications=%{marker.size}<br>country_code_alpha3=%{location}<extra></extra>",
         "hovertext": [
          "Malawi"
         ],
         "legendgroup": "Malawi",
         "locations": [
          "MWI"
         ],
         "marker": {
          "color": "#EF553B",
          "size": [
           17
          ],
          "sizemode": "area",
          "sizeref": 66.51
         },
         "name": "Malawi",
         "showlegend": true,
         "type": "scattergeo"
        },
        {
         "geo": "geo",
         "hovertemplate": "<b>%{hovertext}</b><br><br>country=Namibia<br>total_publications=%{marker.size}<br>country_code_alpha3=%{location}<extra></extra>",
         "hovertext": [
          "Namibia"
         ],
         "legendgroup": "Namibia",
         "locations": [
          "NAM"
         ],
         "marker": {
          "color": "#00cc96",
          "size": [
           17
          ],
          "sizemode": "area",
          "sizeref": 66.51
         },
         "name": "Namibia",
         "showlegend": true,
         "type": "scattergeo"
        },
        {
         "geo": "geo",
         "hovertemplate": "<b>%{hovertext}</b><br><br>country=Kazakhstan<br>total_publications=%{marker.size}<br>country_code_alpha3=%{location}<extra></extra>",
         "hovertext": [
          "Kazakhstan"
         ],
         "legendgroup": "Kazakhstan",
         "locations": [
          "KAZ"
         ],
         "marker": {
          "color": "#ab63fa",
          "size": [
           16
          ],
          "sizemode": "area",
          "sizeref": 66.51
         },
         "name": "Kazakhstan",
         "showlegend": true,
         "type": "scattergeo"
        },
        {
         "geo": "geo",
         "hovertemplate": "<b>%{hovertext}</b><br><br>country=Iraq<br>total_publications=%{marker.size}<br>country_code_alpha3=%{location}<extra></extra>",
         "hovertext": [
          "Iraq"
         ],
         "legendgroup": "Iraq",
         "locations": [
          "IRQ"
         ],
         "marker": {
          "color": "#FFA15A",
          "size": [
           15
          ],
          "sizemode": "area",
          "sizeref": 66.51
         },
         "name": "Iraq",
         "showlegend": true,
         "type": "scattergeo"
        },
        {
         "geo": "geo",
         "hovertemplate": "<b>%{hovertext}</b><br><br>country=Zambia<br>total_publications=%{marker.size}<br>country_code_alpha3=%{location}<extra></extra>",
         "hovertext": [
          "Zambia"
         ],
         "legendgroup": "Zambia",
         "locations": [
          "ZMB"
         ],
         "marker": {
          "color": "#19d3f3",
          "size": [
           15
          ],
          "sizemode": "area",
          "sizeref": 66.51
         },
         "name": "Zambia",
         "showlegend": true,
         "type": "scattergeo"
        },
        {
         "geo": "geo",
         "hovertemplate": "<b>%{hovertext}</b><br><br>country=Palestine, State of<br>total_publications=%{marker.size}<br>country_code_alpha3=%{location}<extra></extra>",
         "hovertext": [
          "Palestine, State of"
         ],
         "legendgroup": "Palestine, State of",
         "locations": [
          "PSE"
         ],
         "marker": {
          "color": "#FF6692",
          "size": [
           15
          ],
          "sizemode": "area",
          "sizeref": 66.51
         },
         "name": "Palestine, State of",
         "showlegend": true,
         "type": "scattergeo"
        },
        {
         "geo": "geo",
         "hovertemplate": "<b>%{hovertext}</b><br><br>country=Mali<br>total_publications=%{marker.size}<br>country_code_alpha3=%{location}<extra></extra>",
         "hovertext": [
          "Mali"
         ],
         "legendgroup": "Mali",
         "locations": [
          "MLI"
         ],
         "marker": {
          "color": "#B6E880",
          "size": [
           14
          ],
          "sizemode": "area",
          "sizeref": 66.51
         },
         "name": "Mali",
         "showlegend": true,
         "type": "scattergeo"
        },
        {
         "geo": "geo",
         "hovertemplate": "<b>%{hovertext}</b><br><br>country=Mozambique<br>total_publications=%{marker.size}<br>country_code_alpha3=%{location}<extra></extra>",
         "hovertext": [
          "Mozambique"
         ],
         "legendgroup": "Mozambique",
         "locations": [
          "MOZ"
         ],
         "marker": {
          "color": "#FF97FF",
          "size": [
           13
          ],
          "sizemode": "area",
          "sizeref": 66.51
         },
         "name": "Mozambique",
         "showlegend": true,
         "type": "scattergeo"
        },
        {
         "geo": "geo",
         "hovertemplate": "<b>%{hovertext}</b><br><br>country=Honduras<br>total_publications=%{marker.size}<br>country_code_alpha3=%{location}<extra></extra>",
         "hovertext": [
          "Honduras"
         ],
         "legendgroup": "Honduras",
         "locations": [
          "HND"
         ],
         "marker": {
          "color": "#FECB52",
          "size": [
           12
          ],
          "sizemode": "area",
          "sizeref": 66.51
         },
         "name": "Honduras",
         "showlegend": true,
         "type": "scattergeo"
        },
        {
         "geo": "geo",
         "hovertemplate": "<b>%{hovertext}</b><br><br>country=Benin<br>total_publications=%{marker.size}<br>country_code_alpha3=%{location}<extra></extra>",
         "hovertext": [
          "Benin"
         ],
         "legendgroup": "Benin",
         "locations": [
          "BEN"
         ],
         "marker": {
          "color": "#636efa",
          "size": [
           10
          ],
          "sizemode": "area",
          "sizeref": 66.51
         },
         "name": "Benin",
         "showlegend": true,
         "type": "scattergeo"
        },
        {
         "geo": "geo",
         "hovertemplate": "<b>%{hovertext}</b><br><br>country=Liberia<br>total_publications=%{marker.size}<br>country_code_alpha3=%{location}<extra></extra>",
         "hovertext": [
          "Liberia"
         ],
         "legendgroup": "Liberia",
         "locations": [
          "LBR"
         ],
         "marker": {
          "color": "#EF553B",
          "size": [
           10
          ],
          "sizemode": "area",
          "sizeref": 66.51
         },
         "name": "Liberia",
         "showlegend": true,
         "type": "scattergeo"
        },
        {
         "geo": "geo",
         "hovertemplate": "<b>%{hovertext}</b><br><br>country=Botswana<br>total_publications=%{marker.size}<br>country_code_alpha3=%{location}<extra></extra>",
         "hovertext": [
          "Botswana"
         ],
         "legendgroup": "Botswana",
         "locations": [
          "BWA"
         ],
         "marker": {
          "color": "#00cc96",
          "size": [
           9
          ],
          "sizemode": "area",
          "sizeref": 66.51
         },
         "name": "Botswana",
         "showlegend": true,
         "type": "scattergeo"
        },
        {
         "geo": "geo",
         "hovertemplate": "<b>%{hovertext}</b><br><br>country=Jamaica<br>total_publications=%{marker.size}<br>country_code_alpha3=%{location}<extra></extra>",
         "hovertext": [
          "Jamaica"
         ],
         "legendgroup": "Jamaica",
         "locations": [
          "JAM"
         ],
         "marker": {
          "color": "#ab63fa",
          "size": [
           8
          ],
          "sizemode": "area",
          "sizeref": 66.51
         },
         "name": "Jamaica",
         "showlegend": true,
         "type": "scattergeo"
        },
        {
         "geo": "geo",
         "hovertemplate": "<b>%{hovertext}</b><br><br>country=Luxembourg<br>total_publications=%{marker.size}<br>country_code_alpha3=%{location}<extra></extra>",
         "hovertext": [
          "Luxembourg"
         ],
         "legendgroup": "Luxembourg",
         "locations": [
          "LUX"
         ],
         "marker": {
          "color": "#FFA15A",
          "size": [
           8
          ],
          "sizemode": "area",
          "sizeref": 66.51
         },
         "name": "Luxembourg",
         "showlegend": true,
         "type": "scattergeo"
        },
        {
         "geo": "geo",
         "hovertemplate": "<b>%{hovertext}</b><br><br>country=Bahrain<br>total_publications=%{marker.size}<br>country_code_alpha3=%{location}<extra></extra>",
         "hovertext": [
          "Bahrain"
         ],
         "legendgroup": "Bahrain",
         "locations": [
          "BHR"
         ],
         "marker": {
          "color": "#19d3f3",
          "size": [
           7
          ],
          "sizemode": "area",
          "sizeref": 66.51
         },
         "name": "Bahrain",
         "showlegend": true,
         "type": "scattergeo"
        },
        {
         "geo": "geo",
         "hovertemplate": "<b>%{hovertext}</b><br><br>country=United Arab Emirates<br>total_publications=%{marker.size}<br>country_code_alpha3=%{location}<extra></extra>",
         "hovertext": [
          "United Arab Emirates"
         ],
         "legendgroup": "United Arab Emirates",
         "locations": [
          "ARE"
         ],
         "marker": {
          "color": "#FF6692",
          "size": [
           7
          ],
          "sizemode": "area",
          "sizeref": 66.51
         },
         "name": "United Arab Emirates",
         "showlegend": true,
         "type": "scattergeo"
        },
        {
         "geo": "geo",
         "hovertemplate": "<b>%{hovertext}</b><br><br>country=Paraguay<br>total_publications=%{marker.size}<br>country_code_alpha3=%{location}<extra></extra>",
         "hovertext": [
          "Paraguay"
         ],
         "legendgroup": "Paraguay",
         "locations": [
          "PRY"
         ],
         "marker": {
          "color": "#B6E880",
          "size": [
           6
          ],
          "sizemode": "area",
          "sizeref": 66.51
         },
         "name": "Paraguay",
         "showlegend": true,
         "type": "scattergeo"
        },
        {
         "geo": "geo",
         "hovertemplate": "<b>%{hovertext}</b><br><br>country=Nicaragua<br>total_publications=%{marker.size}<br>country_code_alpha3=%{location}<extra></extra>",
         "hovertext": [
          "Nicaragua"
         ],
         "legendgroup": "Nicaragua",
         "locations": [
          "NIC"
         ],
         "marker": {
          "color": "#FF97FF",
          "size": [
           6
          ],
          "sizemode": "area",
          "sizeref": 66.51
         },
         "name": "Nicaragua",
         "showlegend": true,
         "type": "scattergeo"
        },
        {
         "geo": "geo",
         "hovertemplate": "<b>%{hovertext}</b><br><br>country=Haiti<br>total_publications=%{marker.size}<br>country_code_alpha3=%{location}<extra></extra>",
         "hovertext": [
          "Haiti"
         ],
         "legendgroup": "Haiti",
         "locations": [
          "HTI"
         ],
         "marker": {
          "color": "#FECB52",
          "size": [
           6
          ],
          "sizemode": "area",
          "sizeref": 66.51
         },
         "name": "Haiti",
         "showlegend": true,
         "type": "scattergeo"
        },
        {
         "geo": "geo",
         "hovertemplate": "<b>%{hovertext}</b><br><br>country=Sri Lanka<br>total_publications=%{marker.size}<br>country_code_alpha3=%{location}<extra></extra>",
         "hovertext": [
          "Sri Lanka"
         ],
         "legendgroup": "Sri Lanka",
         "locations": [
          "LKA"
         ],
         "marker": {
          "color": "#636efa",
          "size": [
           6
          ],
          "sizemode": "area",
          "sizeref": 66.51
         },
         "name": "Sri Lanka",
         "showlegend": true,
         "type": "scattergeo"
        },
        {
         "geo": "geo",
         "hovertemplate": "<b>%{hovertext}</b><br><br>country=Mongolia<br>total_publications=%{marker.size}<br>country_code_alpha3=%{location}<extra></extra>",
         "hovertext": [
          "Mongolia"
         ],
         "legendgroup": "Mongolia",
         "locations": [
          "MNG"
         ],
         "marker": {
          "color": "#EF553B",
          "size": [
           6
          ],
          "sizemode": "area",
          "sizeref": 66.51
         },
         "name": "Mongolia",
         "showlegend": true,
         "type": "scattergeo"
        },
        {
         "geo": "geo",
         "hovertemplate": "<b>%{hovertext}</b><br><br>country=North Macedonia<br>total_publications=%{marker.size}<br>country_code_alpha3=%{location}<extra></extra>",
         "hovertext": [
          "North Macedonia"
         ],
         "legendgroup": "North Macedonia",
         "locations": [
          "MKD"
         ],
         "marker": {
          "color": "#00cc96",
          "size": [
           6
          ],
          "sizemode": "area",
          "sizeref": 66.51
         },
         "name": "North Macedonia",
         "showlegend": true,
         "type": "scattergeo"
        },
        {
         "geo": "geo",
         "hovertemplate": "<b>%{hovertext}</b><br><br>country=South Africa<br>total_publications=%{marker.size}<br>country_code_alpha3=%{location}<extra></extra>",
         "hovertext": [
          "South Africa"
         ],
         "legendgroup": "South Africa",
         "locations": [
          "ZAF"
         ],
         "marker": {
          "color": "#ab63fa",
          "size": [
           5
          ],
          "sizemode": "area",
          "sizeref": 66.51
         },
         "name": "South Africa",
         "showlegend": true,
         "type": "scattergeo"
        },
        {
         "geo": "geo",
         "hovertemplate": "<b>%{hovertext}</b><br><br>country=Macao<br>total_publications=%{marker.size}<br>country_code_alpha3=%{location}<extra></extra>",
         "hovertext": [
          "Macao"
         ],
         "legendgroup": "Macao",
         "locations": [
          "MAC"
         ],
         "marker": {
          "color": "#FFA15A",
          "size": [
           5
          ],
          "sizemode": "area",
          "sizeref": 66.51
         },
         "name": "Macao",
         "showlegend": true,
         "type": "scattergeo"
        },
        {
         "geo": "geo",
         "hovertemplate": "<b>%{hovertext}</b><br><br>country=Armenia<br>total_publications=%{marker.size}<br>country_code_alpha3=%{location}<extra></extra>",
         "hovertext": [
          "Armenia"
         ],
         "legendgroup": "Armenia",
         "locations": [
          "ARM"
         ],
         "marker": {
          "color": "#19d3f3",
          "size": [
           5
          ],
          "sizemode": "area",
          "sizeref": 66.51
         },
         "name": "Armenia",
         "showlegend": true,
         "type": "scattergeo"
        },
        {
         "geo": "geo",
         "hovertemplate": "<b>%{hovertext}</b><br><br>country=Grenada<br>total_publications=%{marker.size}<br>country_code_alpha3=%{location}<extra></extra>",
         "hovertext": [
          "Grenada"
         ],
         "legendgroup": "Grenada",
         "locations": [
          "GRD"
         ],
         "marker": {
          "color": "#FF6692",
          "size": [
           4
          ],
          "sizemode": "area",
          "sizeref": 66.51
         },
         "name": "Grenada",
         "showlegend": true,
         "type": "scattergeo"
        },
        {
         "geo": "geo",
         "hovertemplate": "<b>%{hovertext}</b><br><br>country=Guatemala<br>total_publications=%{marker.size}<br>country_code_alpha3=%{location}<extra></extra>",
         "hovertext": [
          "Guatemala"
         ],
         "legendgroup": "Guatemala",
         "locations": [
          "GTM"
         ],
         "marker": {
          "color": "#B6E880",
          "size": [
           4
          ],
          "sizemode": "area",
          "sizeref": 66.51
         },
         "name": "Guatemala",
         "showlegend": true,
         "type": "scattergeo"
        },
        {
         "geo": "geo",
         "hovertemplate": "<b>%{hovertext}</b><br><br>country=Iceland<br>total_publications=%{marker.size}<br>country_code_alpha3=%{location}<extra></extra>",
         "hovertext": [
          "Iceland"
         ],
         "legendgroup": "Iceland",
         "locations": [
          "ISL"
         ],
         "marker": {
          "color": "#FF97FF",
          "size": [
           4
          ],
          "sizemode": "area",
          "sizeref": 66.51
         },
         "name": "Iceland",
         "showlegend": true,
         "type": "scattergeo"
        },
        {
         "geo": "geo",
         "hovertemplate": "<b>%{hovertext}</b><br><br>country=Latvia<br>total_publications=%{marker.size}<br>country_code_alpha3=%{location}<extra></extra>",
         "hovertext": [
          "Latvia"
         ],
         "legendgroup": "Latvia",
         "locations": [
          "LVA"
         ],
         "marker": {
          "color": "#FECB52",
          "size": [
           4
          ],
          "sizemode": "area",
          "sizeref": 66.51
         },
         "name": "Latvia",
         "showlegend": true,
         "type": "scattergeo"
        },
        {
         "geo": "geo",
         "hovertemplate": "<b>%{hovertext}</b><br><br>country=Montenegro<br>total_publications=%{marker.size}<br>country_code_alpha3=%{location}<extra></extra>",
         "hovertext": [
          "Montenegro"
         ],
         "legendgroup": "Montenegro",
         "locations": [
          "MNE"
         ],
         "marker": {
          "color": "#636efa",
          "size": [
           4
          ],
          "sizemode": "area",
          "sizeref": 66.51
         },
         "name": "Montenegro",
         "showlegend": true,
         "type": "scattergeo"
        },
        {
         "geo": "geo",
         "hovertemplate": "<b>%{hovertext}</b><br><br>country=Zimbabwe<br>total_publications=%{marker.size}<br>country_code_alpha3=%{location}<extra></extra>",
         "hovertext": [
          "Zimbabwe"
         ],
         "legendgroup": "Zimbabwe",
         "locations": [
          "ZWE"
         ],
         "marker": {
          "color": "#EF553B",
          "size": [
           4
          ],
          "sizemode": "area",
          "sizeref": 66.51
         },
         "name": "Zimbabwe",
         "showlegend": true,
         "type": "scattergeo"
        },
        {
         "geo": "geo",
         "hovertemplate": "<b>%{hovertext}</b><br><br>country=Afghanistan<br>total_publications=%{marker.size}<br>country_code_alpha3=%{location}<extra></extra>",
         "hovertext": [
          "Afghanistan"
         ],
         "legendgroup": "Afghanistan",
         "locations": [
          "AFG"
         ],
         "marker": {
          "color": "#00cc96",
          "size": [
           3
          ],
          "sizemode": "area",
          "sizeref": 66.51
         },
         "name": "Afghanistan",
         "showlegend": true,
         "type": "scattergeo"
        },
        {
         "geo": "geo",
         "hovertemplate": "<b>%{hovertext}</b><br><br>country=Australia<br>total_publications=%{marker.size}<br>country_code_alpha3=%{location}<extra></extra>",
         "hovertext": [
          "Australia"
         ],
         "legendgroup": "Australia",
         "locations": [
          "AUS"
         ],
         "marker": {
          "color": "#ab63fa",
          "size": [
           3
          ],
          "sizemode": "area",
          "sizeref": 66.51
         },
         "name": "Australia",
         "showlegend": true,
         "type": "scattergeo"
        },
        {
         "geo": "geo",
         "hovertemplate": "<b>%{hovertext}</b><br><br>country=Syrian Arab Republic<br>total_publications=%{marker.size}<br>country_code_alpha3=%{location}<extra></extra>",
         "hovertext": [
          "Syrian Arab Republic"
         ],
         "legendgroup": "Syrian Arab Republic",
         "locations": [
          "SYR"
         ],
         "marker": {
          "color": "#FFA15A",
          "size": [
           2
          ],
          "sizemode": "area",
          "sizeref": 66.51
         },
         "name": "Syrian Arab Republic",
         "showlegend": true,
         "type": "scattergeo"
        },
        {
         "geo": "geo",
         "hovertemplate": "<b>%{hovertext}</b><br><br>country=Panama<br>total_publications=%{marker.size}<br>country_code_alpha3=%{location}<extra></extra>",
         "hovertext": [
          "Panama"
         ],
         "legendgroup": "Panama",
         "locations": [
          "PAN"
         ],
         "marker": {
          "color": "#19d3f3",
          "size": [
           2
          ],
          "sizemode": "area",
          "sizeref": 66.51
         },
         "name": "Panama",
         "showlegend": true,
         "type": "scattergeo"
        },
        {
         "geo": "geo",
         "hovertemplate": "<b>%{hovertext}</b><br><br>country=Malta<br>total_publications=%{marker.size}<br>country_code_alpha3=%{location}<extra></extra>",
         "hovertext": [
          "Malta"
         ],
         "legendgroup": "Malta",
         "locations": [
          "MLT"
         ],
         "marker": {
          "color": "#FF6692",
          "size": [
           2
          ],
          "sizemode": "area",
          "sizeref": 66.51
         },
         "name": "Malta",
         "showlegend": true,
         "type": "scattergeo"
        },
        {
         "geo": "geo",
         "hovertemplate": "<b>%{hovertext}</b><br><br>country=Bosnia and Herzegovina<br>total_publications=%{marker.size}<br>country_code_alpha3=%{location}<extra></extra>",
         "hovertext": [
          "Bosnia and Herzegovina"
         ],
         "legendgroup": "Bosnia and Herzegovina",
         "locations": [
          "BIH"
         ],
         "marker": {
          "color": "#B6E880",
          "size": [
           2
          ],
          "sizemode": "area",
          "sizeref": 66.51
         },
         "name": "Bosnia and Herzegovina",
         "showlegend": true,
         "type": "scattergeo"
        },
        {
         "geo": "geo",
         "hovertemplate": "<b>%{hovertext}</b><br><br>country=Rwanda<br>total_publications=%{marker.size}<br>country_code_alpha3=%{location}<extra></extra>",
         "hovertext": [
          "Rwanda"
         ],
         "legendgroup": "Rwanda",
         "locations": [
          "RWA"
         ],
         "marker": {
          "color": "#FF97FF",
          "size": [
           1
          ],
          "sizemode": "area",
          "sizeref": 66.51
         },
         "name": "Rwanda",
         "showlegend": true,
         "type": "scattergeo"
        },
        {
         "geo": "geo",
         "hovertemplate": "<b>%{hovertext}</b><br><br>country=New Caledonia<br>total_publications=%{marker.size}<br>country_code_alpha3=%{location}<extra></extra>",
         "hovertext": [
          "New Caledonia"
         ],
         "legendgroup": "New Caledonia",
         "locations": [
          "NCL"
         ],
         "marker": {
          "color": "#FECB52",
          "size": [
           1
          ],
          "sizemode": "area",
          "sizeref": 66.51
         },
         "name": "New Caledonia",
         "showlegend": true,
         "type": "scattergeo"
        },
        {
         "geo": "geo",
         "hovertemplate": "<b>%{hovertext}</b><br><br>country=Myanmar<br>total_publications=%{marker.size}<br>country_code_alpha3=%{location}<extra></extra>",
         "hovertext": [
          "Myanmar"
         ],
         "legendgroup": "Myanmar",
         "locations": [
          "MMR"
         ],
         "marker": {
          "color": "#636efa",
          "size": [
           1
          ],
          "sizemode": "area",
          "sizeref": 66.51
         },
         "name": "Myanmar",
         "showlegend": true,
         "type": "scattergeo"
        },
        {
         "geo": "geo",
         "hovertemplate": "<b>%{hovertext}</b><br><br>country=Kiribati<br>total_publications=%{marker.size}<br>country_code_alpha3=%{location}<extra></extra>",
         "hovertext": [
          "Kiribati"
         ],
         "legendgroup": "Kiribati",
         "locations": [
          "KIR"
         ],
         "marker": {
          "color": "#EF553B",
          "size": [
           1
          ],
          "sizemode": "area",
          "sizeref": 66.51
         },
         "name": "Kiribati",
         "showlegend": true,
         "type": "scattergeo"
        },
        {
         "geo": "geo",
         "hovertemplate": "<b>%{hovertext}</b><br><br>country=Guyana<br>total_publications=%{marker.size}<br>country_code_alpha3=%{location}<extra></extra>",
         "hovertext": [
          "Guyana"
         ],
         "legendgroup": "Guyana",
         "locations": [
          "GUY"
         ],
         "marker": {
          "color": "#00cc96",
          "size": [
           1
          ],
          "sizemode": "area",
          "sizeref": 66.51
         },
         "name": "Guyana",
         "showlegend": true,
         "type": "scattergeo"
        },
        {
         "geo": "geo",
         "hovertemplate": "<b>%{hovertext}</b><br><br>country=Guadeloupe<br>total_publications=%{marker.size}<br>country_code_alpha3=%{location}<extra></extra>",
         "hovertext": [
          "Guadeloupe"
         ],
         "legendgroup": "Guadeloupe",
         "locations": [
          "GLP"
         ],
         "marker": {
          "color": "#ab63fa",
          "size": [
           1
          ],
          "sizemode": "area",
          "sizeref": 66.51
         },
         "name": "Guadeloupe",
         "showlegend": true,
         "type": "scattergeo"
        },
        {
         "geo": "geo",
         "hovertemplate": "<b>%{hovertext}</b><br><br>country=Central African Republic<br>total_publications=%{marker.size}<br>country_code_alpha3=%{location}<extra></extra>",
         "hovertext": [
          "Central African Republic"
         ],
         "legendgroup": "Central African Republic",
         "locations": [
          "CAF"
         ],
         "marker": {
          "color": "#FFA15A",
          "size": [
           1
          ],
          "sizemode": "area",
          "sizeref": 66.51
         },
         "name": "Central African Republic",
         "showlegend": true,
         "type": "scattergeo"
        },
        {
         "geo": "geo",
         "hovertemplate": "<b>%{hovertext}</b><br><br>country=Burkina Faso<br>total_publications=%{marker.size}<br>country_code_alpha3=%{location}<extra></extra>",
         "hovertext": [
          "Burkina Faso"
         ],
         "legendgroup": "Burkina Faso",
         "locations": [
          "BFA"
         ],
         "marker": {
          "color": "#19d3f3",
          "size": [
           1
          ],
          "sizemode": "area",
          "sizeref": 66.51
         },
         "name": "Burkina Faso",
         "showlegend": true,
         "type": "scattergeo"
        },
        {
         "geo": "geo",
         "hovertemplate": "<b>%{hovertext}</b><br><br>country=Bahamas<br>total_publications=%{marker.size}<br>country_code_alpha3=%{location}<extra></extra>",
         "hovertext": [
          "Bahamas"
         ],
         "legendgroup": "Bahamas",
         "locations": [
          "BHS"
         ],
         "marker": {
          "color": "#FF6692",
          "size": [
           1
          ],
          "sizemode": "area",
          "sizeref": 66.51
         },
         "name": "Bahamas",
         "showlegend": true,
         "type": "scattergeo"
        },
        {
         "geo": "geo",
         "hovertemplate": "<b>%{hovertext}</b><br><br>country=Kyrgyzstan<br>total_publications=%{marker.size}<br>country_code_alpha3=%{location}<extra></extra>",
         "hovertext": [
          "Kyrgyzstan"
         ],
         "legendgroup": "Kyrgyzstan",
         "locations": [
          "KGZ"
         ],
         "marker": {
          "color": "#B6E880",
          "size": [
           1
          ],
          "sizemode": "area",
          "sizeref": 66.51
         },
         "name": "Kyrgyzstan",
         "showlegend": true,
         "type": "scattergeo"
        }
       ],
       "layout": {
        "geo": {
         "center": {},
         "domain": {
          "x": [
           0,
           1
          ],
          "y": [
           0,
           1
          ]
         },
         "projection": {
          "type": "natural earth"
         }
        },
        "legend": {
         "itemsizing": "constant",
         "title": {
          "text": "country"
         },
         "tracegroupgap": 0
        },
        "template": {
         "data": {
          "bar": [
           {
            "error_x": {
             "color": "#2a3f5f"
            },
            "error_y": {
             "color": "#2a3f5f"
            },
            "marker": {
             "line": {
              "color": "#E5ECF6",
              "width": 0.5
             }
            },
            "type": "bar"
           }
          ],
          "barpolar": [
           {
            "marker": {
             "line": {
              "color": "#E5ECF6",
              "width": 0.5
             }
            },
            "type": "barpolar"
           }
          ],
          "carpet": [
           {
            "aaxis": {
             "endlinecolor": "#2a3f5f",
             "gridcolor": "white",
             "linecolor": "white",
             "minorgridcolor": "white",
             "startlinecolor": "#2a3f5f"
            },
            "baxis": {
             "endlinecolor": "#2a3f5f",
             "gridcolor": "white",
             "linecolor": "white",
             "minorgridcolor": "white",
             "startlinecolor": "#2a3f5f"
            },
            "type": "carpet"
           }
          ],
          "choropleth": [
           {
            "colorbar": {
             "outlinewidth": 0,
             "ticks": ""
            },
            "type": "choropleth"
           }
          ],
          "contour": [
           {
            "colorbar": {
             "outlinewidth": 0,
             "ticks": ""
            },
            "colorscale": [
             [
              0,
              "#0d0887"
             ],
             [
              0.1111111111111111,
              "#46039f"
             ],
             [
              0.2222222222222222,
              "#7201a8"
             ],
             [
              0.3333333333333333,
              "#9c179e"
             ],
             [
              0.4444444444444444,
              "#bd3786"
             ],
             [
              0.5555555555555556,
              "#d8576b"
             ],
             [
              0.6666666666666666,
              "#ed7953"
             ],
             [
              0.7777777777777778,
              "#fb9f3a"
             ],
             [
              0.8888888888888888,
              "#fdca26"
             ],
             [
              1,
              "#f0f921"
             ]
            ],
            "type": "contour"
           }
          ],
          "contourcarpet": [
           {
            "colorbar": {
             "outlinewidth": 0,
             "ticks": ""
            },
            "type": "contourcarpet"
           }
          ],
          "heatmap": [
           {
            "colorbar": {
             "outlinewidth": 0,
             "ticks": ""
            },
            "colorscale": [
             [
              0,
              "#0d0887"
             ],
             [
              0.1111111111111111,
              "#46039f"
             ],
             [
              0.2222222222222222,
              "#7201a8"
             ],
             [
              0.3333333333333333,
              "#9c179e"
             ],
             [
              0.4444444444444444,
              "#bd3786"
             ],
             [
              0.5555555555555556,
              "#d8576b"
             ],
             [
              0.6666666666666666,
              "#ed7953"
             ],
             [
              0.7777777777777778,
              "#fb9f3a"
             ],
             [
              0.8888888888888888,
              "#fdca26"
             ],
             [
              1,
              "#f0f921"
             ]
            ],
            "type": "heatmap"
           }
          ],
          "heatmapgl": [
           {
            "colorbar": {
             "outlinewidth": 0,
             "ticks": ""
            },
            "colorscale": [
             [
              0,
              "#0d0887"
             ],
             [
              0.1111111111111111,
              "#46039f"
             ],
             [
              0.2222222222222222,
              "#7201a8"
             ],
             [
              0.3333333333333333,
              "#9c179e"
             ],
             [
              0.4444444444444444,
              "#bd3786"
             ],
             [
              0.5555555555555556,
              "#d8576b"
             ],
             [
              0.6666666666666666,
              "#ed7953"
             ],
             [
              0.7777777777777778,
              "#fb9f3a"
             ],
             [
              0.8888888888888888,
              "#fdca26"
             ],
             [
              1,
              "#f0f921"
             ]
            ],
            "type": "heatmapgl"
           }
          ],
          "histogram": [
           {
            "marker": {
             "colorbar": {
              "outlinewidth": 0,
              "ticks": ""
             }
            },
            "type": "histogram"
           }
          ],
          "histogram2d": [
           {
            "colorbar": {
             "outlinewidth": 0,
             "ticks": ""
            },
            "colorscale": [
             [
              0,
              "#0d0887"
             ],
             [
              0.1111111111111111,
              "#46039f"
             ],
             [
              0.2222222222222222,
              "#7201a8"
             ],
             [
              0.3333333333333333,
              "#9c179e"
             ],
             [
              0.4444444444444444,
              "#bd3786"
             ],
             [
              0.5555555555555556,
              "#d8576b"
             ],
             [
              0.6666666666666666,
              "#ed7953"
             ],
             [
              0.7777777777777778,
              "#fb9f3a"
             ],
             [
              0.8888888888888888,
              "#fdca26"
             ],
             [
              1,
              "#f0f921"
             ]
            ],
            "type": "histogram2d"
           }
          ],
          "histogram2dcontour": [
           {
            "colorbar": {
             "outlinewidth": 0,
             "ticks": ""
            },
            "colorscale": [
             [
              0,
              "#0d0887"
             ],
             [
              0.1111111111111111,
              "#46039f"
             ],
             [
              0.2222222222222222,
              "#7201a8"
             ],
             [
              0.3333333333333333,
              "#9c179e"
             ],
             [
              0.4444444444444444,
              "#bd3786"
             ],
             [
              0.5555555555555556,
              "#d8576b"
             ],
             [
              0.6666666666666666,
              "#ed7953"
             ],
             [
              0.7777777777777778,
              "#fb9f3a"
             ],
             [
              0.8888888888888888,
              "#fdca26"
             ],
             [
              1,
              "#f0f921"
             ]
            ],
            "type": "histogram2dcontour"
           }
          ],
          "mesh3d": [
           {
            "colorbar": {
             "outlinewidth": 0,
             "ticks": ""
            },
            "type": "mesh3d"
           }
          ],
          "parcoords": [
           {
            "line": {
             "colorbar": {
              "outlinewidth": 0,
              "ticks": ""
             }
            },
            "type": "parcoords"
           }
          ],
          "pie": [
           {
            "automargin": true,
            "type": "pie"
           }
          ],
          "scatter": [
           {
            "marker": {
             "colorbar": {
              "outlinewidth": 0,
              "ticks": ""
             }
            },
            "type": "scatter"
           }
          ],
          "scatter3d": [
           {
            "line": {
             "colorbar": {
              "outlinewidth": 0,
              "ticks": ""
             }
            },
            "marker": {
             "colorbar": {
              "outlinewidth": 0,
              "ticks": ""
             }
            },
            "type": "scatter3d"
           }
          ],
          "scattercarpet": [
           {
            "marker": {
             "colorbar": {
              "outlinewidth": 0,
              "ticks": ""
             }
            },
            "type": "scattercarpet"
           }
          ],
          "scattergeo": [
           {
            "marker": {
             "colorbar": {
              "outlinewidth": 0,
              "ticks": ""
             }
            },
            "type": "scattergeo"
           }
          ],
          "scattergl": [
           {
            "marker": {
             "colorbar": {
              "outlinewidth": 0,
              "ticks": ""
             }
            },
            "type": "scattergl"
           }
          ],
          "scattermapbox": [
           {
            "marker": {
             "colorbar": {
              "outlinewidth": 0,
              "ticks": ""
             }
            },
            "type": "scattermapbox"
           }
          ],
          "scatterpolar": [
           {
            "marker": {
             "colorbar": {
              "outlinewidth": 0,
              "ticks": ""
             }
            },
            "type": "scatterpolar"
           }
          ],
          "scatterpolargl": [
           {
            "marker": {
             "colorbar": {
              "outlinewidth": 0,
              "ticks": ""
             }
            },
            "type": "scatterpolargl"
           }
          ],
          "scatterternary": [
           {
            "marker": {
             "colorbar": {
              "outlinewidth": 0,
              "ticks": ""
             }
            },
            "type": "scatterternary"
           }
          ],
          "surface": [
           {
            "colorbar": {
             "outlinewidth": 0,
             "ticks": ""
            },
            "colorscale": [
             [
              0,
              "#0d0887"
             ],
             [
              0.1111111111111111,
              "#46039f"
             ],
             [
              0.2222222222222222,
              "#7201a8"
             ],
             [
              0.3333333333333333,
              "#9c179e"
             ],
             [
              0.4444444444444444,
              "#bd3786"
             ],
             [
              0.5555555555555556,
              "#d8576b"
             ],
             [
              0.6666666666666666,
              "#ed7953"
             ],
             [
              0.7777777777777778,
              "#fb9f3a"
             ],
             [
              0.8888888888888888,
              "#fdca26"
             ],
             [
              1,
              "#f0f921"
             ]
            ],
            "type": "surface"
           }
          ],
          "table": [
           {
            "cells": {
             "fill": {
              "color": "#EBF0F8"
             },
             "line": {
              "color": "white"
             }
            },
            "header": {
             "fill": {
              "color": "#C8D4E3"
             },
             "line": {
              "color": "white"
             }
            },
            "type": "table"
           }
          ]
         },
         "layout": {
          "annotationdefaults": {
           "arrowcolor": "#2a3f5f",
           "arrowhead": 0,
           "arrowwidth": 1
          },
          "coloraxis": {
           "colorbar": {
            "outlinewidth": 0,
            "ticks": ""
           }
          },
          "colorscale": {
           "diverging": [
            [
             0,
             "#8e0152"
            ],
            [
             0.1,
             "#c51b7d"
            ],
            [
             0.2,
             "#de77ae"
            ],
            [
             0.3,
             "#f1b6da"
            ],
            [
             0.4,
             "#fde0ef"
            ],
            [
             0.5,
             "#f7f7f7"
            ],
            [
             0.6,
             "#e6f5d0"
            ],
            [
             0.7,
             "#b8e186"
            ],
            [
             0.8,
             "#7fbc41"
            ],
            [
             0.9,
             "#4d9221"
            ],
            [
             1,
             "#276419"
            ]
           ],
           "sequential": [
            [
             0,
             "#0d0887"
            ],
            [
             0.1111111111111111,
             "#46039f"
            ],
            [
             0.2222222222222222,
             "#7201a8"
            ],
            [
             0.3333333333333333,
             "#9c179e"
            ],
            [
             0.4444444444444444,
             "#bd3786"
            ],
            [
             0.5555555555555556,
             "#d8576b"
            ],
            [
             0.6666666666666666,
             "#ed7953"
            ],
            [
             0.7777777777777778,
             "#fb9f3a"
            ],
            [
             0.8888888888888888,
             "#fdca26"
            ],
            [
             1,
             "#f0f921"
            ]
           ],
           "sequentialminus": [
            [
             0,
             "#0d0887"
            ],
            [
             0.1111111111111111,
             "#46039f"
            ],
            [
             0.2222222222222222,
             "#7201a8"
            ],
            [
             0.3333333333333333,
             "#9c179e"
            ],
            [
             0.4444444444444444,
             "#bd3786"
            ],
            [
             0.5555555555555556,
             "#d8576b"
            ],
            [
             0.6666666666666666,
             "#ed7953"
            ],
            [
             0.7777777777777778,
             "#fb9f3a"
            ],
            [
             0.8888888888888888,
             "#fdca26"
            ],
            [
             1,
             "#f0f921"
            ]
           ]
          },
          "colorway": [
           "#636efa",
           "#EF553B",
           "#00cc96",
           "#ab63fa",
           "#FFA15A",
           "#19d3f3",
           "#FF6692",
           "#B6E880",
           "#FF97FF",
           "#FECB52"
          ],
          "font": {
           "color": "#2a3f5f"
          },
          "geo": {
           "bgcolor": "white",
           "lakecolor": "white",
           "landcolor": "#E5ECF6",
           "showlakes": true,
           "showland": true,
           "subunitcolor": "white"
          },
          "hoverlabel": {
           "align": "left"
          },
          "hovermode": "closest",
          "mapbox": {
           "style": "light"
          },
          "paper_bgcolor": "white",
          "plot_bgcolor": "#E5ECF6",
          "polar": {
           "angularaxis": {
            "gridcolor": "white",
            "linecolor": "white",
            "ticks": ""
           },
           "bgcolor": "#E5ECF6",
           "radialaxis": {
            "gridcolor": "white",
            "linecolor": "white",
            "ticks": ""
           }
          },
          "scene": {
           "xaxis": {
            "backgroundcolor": "#E5ECF6",
            "gridcolor": "white",
            "gridwidth": 2,
            "linecolor": "white",
            "showbackground": true,
            "ticks": "",
            "zerolinecolor": "white"
           },
           "yaxis": {
            "backgroundcolor": "#E5ECF6",
            "gridcolor": "white",
            "gridwidth": 2,
            "linecolor": "white",
            "showbackground": true,
            "ticks": "",
            "zerolinecolor": "white"
           },
           "zaxis": {
            "backgroundcolor": "#E5ECF6",
            "gridcolor": "white",
            "gridwidth": 2,
            "linecolor": "white",
            "showbackground": true,
            "ticks": "",
            "zerolinecolor": "white"
           }
          },
          "shapedefaults": {
           "line": {
            "color": "#2a3f5f"
           }
          },
          "ternary": {
           "aaxis": {
            "gridcolor": "white",
            "linecolor": "white",
            "ticks": ""
           },
           "baxis": {
            "gridcolor": "white",
            "linecolor": "white",
            "ticks": ""
           },
           "bgcolor": "#E5ECF6",
           "caxis": {
            "gridcolor": "white",
            "linecolor": "white",
            "ticks": ""
           }
          },
          "title": {
           "x": 0.05
          },
          "xaxis": {
           "automargin": true,
           "gridcolor": "white",
           "linecolor": "white",
           "ticks": "",
           "title": {
            "standoff": 15
           },
           "zerolinecolor": "white",
           "zerolinewidth": 2
          },
          "yaxis": {
           "automargin": true,
           "gridcolor": "white",
           "linecolor": "white",
           "ticks": "",
           "title": {
            "standoff": 15
           },
           "zerolinecolor": "white",
           "zerolinewidth": 2
          }
         }
        },
        "title": {
         "text": "Overview of total number of papers issued by country (96615 from 170814)"
        }
       }
      },
      "text/html": [
       "<div>\n",
       "        \n",
       "        \n",
       "            <div id=\"48c984d0-376f-4662-a5f4-4e0b176a9a60\" class=\"plotly-graph-div\" style=\"height:525px; width:100%;\"></div>\n",
       "            <script type=\"text/javascript\">\n",
       "                require([\"plotly\"], function(Plotly) {\n",
       "                    window.PLOTLYENV=window.PLOTLYENV || {};\n",
       "                    \n",
       "                if (document.getElementById(\"48c984d0-376f-4662-a5f4-4e0b176a9a60\")) {\n",
       "                    Plotly.newPlot(\n",
       "                        '48c984d0-376f-4662-a5f4-4e0b176a9a60',\n",
       "                        [{\"geo\": \"geo\", \"hovertemplate\": \"<b>%{hovertext}</b><br><br>country=United States<br>total_publications=%{marker.size}<br>country_code_alpha3=%{location}<extra></extra>\", \"hovertext\": [\"United States\"], \"legendgroup\": \"United States\", \"locations\": [\"USA\"], \"marker\": {\"color\": \"#636efa\", \"size\": [26604], \"sizemode\": \"area\", \"sizeref\": 66.51}, \"name\": \"United States\", \"showlegend\": true, \"type\": \"scattergeo\"}, {\"geo\": \"geo\", \"hovertemplate\": \"<b>%{hovertext}</b><br><br>country=China<br>total_publications=%{marker.size}<br>country_code_alpha3=%{location}<extra></extra>\", \"hovertext\": [\"China\"], \"legendgroup\": \"China\", \"locations\": [\"CHN\"], \"marker\": {\"color\": \"#EF553B\", \"size\": [21800], \"sizemode\": \"area\", \"sizeref\": 66.51}, \"name\": \"China\", \"showlegend\": true, \"type\": \"scattergeo\"}, {\"geo\": \"geo\", \"hovertemplate\": \"<b>%{hovertext}</b><br><br>country=France<br>total_publications=%{marker.size}<br>country_code_alpha3=%{location}<extra></extra>\", \"hovertext\": [\"France\"], \"legendgroup\": \"France\", \"locations\": [\"FRA\"], \"marker\": {\"color\": \"#00cc96\", \"size\": [3777], \"sizemode\": \"area\", \"sizeref\": 66.51}, \"name\": \"France\", \"showlegend\": true, \"type\": \"scattergeo\"}, {\"geo\": \"geo\", \"hovertemplate\": \"<b>%{hovertext}</b><br><br>country=Japan<br>total_publications=%{marker.size}<br>country_code_alpha3=%{location}<extra></extra>\", \"hovertext\": [\"Japan\"], \"legendgroup\": \"Japan\", \"locations\": [\"JPN\"], \"marker\": {\"color\": \"#ab63fa\", \"size\": [3709], \"sizemode\": \"area\", \"sizeref\": 66.51}, \"name\": \"Japan\", \"showlegend\": true, \"type\": \"scattergeo\"}, {\"geo\": \"geo\", \"hovertemplate\": \"<b>%{hovertext}</b><br><br>country=Canada<br>total_publications=%{marker.size}<br>country_code_alpha3=%{location}<extra></extra>\", \"hovertext\": [\"Canada\"], \"legendgroup\": \"Canada\", \"locations\": [\"CAN\"], \"marker\": {\"color\": \"#FFA15A\", \"size\": [3690], \"sizemode\": \"area\", \"sizeref\": 66.51}, \"name\": \"Canada\", \"showlegend\": true, \"type\": \"scattergeo\"}, {\"geo\": \"geo\", \"hovertemplate\": \"<b>%{hovertext}</b><br><br>country=United Kingdom<br>total_publications=%{marker.size}<br>country_code_alpha3=%{location}<extra></extra>\", \"hovertext\": [\"United Kingdom\"], \"legendgroup\": \"United Kingdom\", \"locations\": [\"GBR\"], \"marker\": {\"color\": \"#19d3f3\", \"size\": [3645], \"sizemode\": \"area\", \"sizeref\": 66.51}, \"name\": \"United Kingdom\", \"showlegend\": true, \"type\": \"scattergeo\"}, {\"geo\": \"geo\", \"hovertemplate\": \"<b>%{hovertext}</b><br><br>country=Korea, Republic of<br>total_publications=%{marker.size}<br>country_code_alpha3=%{location}<extra></extra>\", \"hovertext\": [\"Korea, Republic of\"], \"legendgroup\": \"Korea, Republic of\", \"locations\": [\"KOR\"], \"marker\": {\"color\": \"#FF6692\", \"size\": [3254], \"sizemode\": \"area\", \"sizeref\": 66.51}, \"name\": \"Korea, Republic of\", \"showlegend\": true, \"type\": \"scattergeo\"}, {\"geo\": \"geo\", \"hovertemplate\": \"<b>%{hovertext}</b><br><br>country=Germany<br>total_publications=%{marker.size}<br>country_code_alpha3=%{location}<extra></extra>\", \"hovertext\": [\"Germany\"], \"legendgroup\": \"Germany\", \"locations\": [\"DEU\"], \"marker\": {\"color\": \"#B6E880\", \"size\": [3208], \"sizemode\": \"area\", \"sizeref\": 66.51}, \"name\": \"Germany\", \"showlegend\": true, \"type\": \"scattergeo\"}, {\"geo\": \"geo\", \"hovertemplate\": \"<b>%{hovertext}</b><br><br>country=Taiwan<br>total_publications=%{marker.size}<br>country_code_alpha3=%{location}<extra></extra>\", \"hovertext\": [\"Taiwan\"], \"legendgroup\": \"Taiwan\", \"locations\": [\"TWN\"], \"marker\": {\"color\": \"#FF97FF\", \"size\": [2727], \"sizemode\": \"area\", \"sizeref\": 66.51}, \"name\": \"Taiwan\", \"showlegend\": true, \"type\": \"scattergeo\"}, {\"geo\": \"geo\", \"hovertemplate\": \"<b>%{hovertext}</b><br><br>country=Italy<br>total_publications=%{marker.size}<br>country_code_alpha3=%{location}<extra></extra>\", \"hovertext\": [\"Italy\"], \"legendgroup\": \"Italy\", \"locations\": [\"ITA\"], \"marker\": {\"color\": \"#FECB52\", \"size\": [2689], \"sizemode\": \"area\", \"sizeref\": 66.51}, \"name\": \"Italy\", \"showlegend\": true, \"type\": \"scattergeo\"}, {\"geo\": \"geo\", \"hovertemplate\": \"<b>%{hovertext}</b><br><br>country=Spain<br>total_publications=%{marker.size}<br>country_code_alpha3=%{location}<extra></extra>\", \"hovertext\": [\"Spain\"], \"legendgroup\": \"Spain\", \"locations\": [\"ESP\"], \"marker\": {\"color\": \"#636efa\", \"size\": [2441], \"sizemode\": \"area\", \"sizeref\": 66.51}, \"name\": \"Spain\", \"showlegend\": true, \"type\": \"scattergeo\"}, {\"geo\": \"geo\", \"hovertemplate\": \"<b>%{hovertext}</b><br><br>country=Netherlands<br>total_publications=%{marker.size}<br>country_code_alpha3=%{location}<extra></extra>\", \"hovertext\": [\"Netherlands\"], \"legendgroup\": \"Netherlands\", \"locations\": [\"NLD\"], \"marker\": {\"color\": \"#EF553B\", \"size\": [2372], \"sizemode\": \"area\", \"sizeref\": 66.51}, \"name\": \"Netherlands\", \"showlegend\": true, \"type\": \"scattergeo\"}, {\"geo\": \"geo\", \"hovertemplate\": \"<b>%{hovertext}</b><br><br>country=Brazil<br>total_publications=%{marker.size}<br>country_code_alpha3=%{location}<extra></extra>\", \"hovertext\": [\"Brazil\"], \"legendgroup\": \"Brazil\", \"locations\": [\"BRA\"], \"marker\": {\"color\": \"#00cc96\", \"size\": [1690], \"sizemode\": \"area\", \"sizeref\": 66.51}, \"name\": \"Brazil\", \"showlegend\": true, \"type\": \"scattergeo\"}, {\"geo\": \"geo\", \"hovertemplate\": \"<b>%{hovertext}</b><br><br>country=India<br>total_publications=%{marker.size}<br>country_code_alpha3=%{location}<extra></extra>\", \"hovertext\": [\"India\"], \"legendgroup\": \"India\", \"locations\": [\"IND\"], \"marker\": {\"color\": \"#ab63fa\", \"size\": [1324], \"sizemode\": \"area\", \"sizeref\": 66.51}, \"name\": \"India\", \"showlegend\": true, \"type\": \"scattergeo\"}, {\"geo\": \"geo\", \"hovertemplate\": \"<b>%{hovertext}</b><br><br>country=Switzerland<br>total_publications=%{marker.size}<br>country_code_alpha3=%{location}<extra></extra>\", \"hovertext\": [\"Switzerland\"], \"legendgroup\": \"Switzerland\", \"locations\": [\"CHE\"], \"marker\": {\"color\": \"#FFA15A\", \"size\": [1181], \"sizemode\": \"area\", \"sizeref\": 66.51}, \"name\": \"Switzerland\", \"showlegend\": true, \"type\": \"scattergeo\"}, {\"geo\": \"geo\", \"hovertemplate\": \"<b>%{hovertext}</b><br><br>country=Belgium<br>total_publications=%{marker.size}<br>country_code_alpha3=%{location}<extra></extra>\", \"hovertext\": [\"Belgium\"], \"legendgroup\": \"Belgium\", \"locations\": [\"BEL\"], \"marker\": {\"color\": \"#19d3f3\", \"size\": [1005], \"sizemode\": \"area\", \"sizeref\": 66.51}, \"name\": \"Belgium\", \"showlegend\": true, \"type\": \"scattergeo\"}, {\"geo\": \"geo\", \"hovertemplate\": \"<b>%{hovertext}</b><br><br>country=Singapore<br>total_publications=%{marker.size}<br>country_code_alpha3=%{location}<extra></extra>\", \"hovertext\": [\"Singapore\"], \"legendgroup\": \"Singapore\", \"locations\": [\"SGP\"], \"marker\": {\"color\": \"#FF6692\", \"size\": [970], \"sizemode\": \"area\", \"sizeref\": 66.51}, \"name\": \"Singapore\", \"showlegend\": true, \"type\": \"scattergeo\"}, {\"geo\": \"geo\", \"hovertemplate\": \"<b>%{hovertext}</b><br><br>country=Sweden<br>total_publications=%{marker.size}<br>country_code_alpha3=%{location}<extra></extra>\", \"hovertext\": [\"Sweden\"], \"legendgroup\": \"Sweden\", \"locations\": [\"SWE\"], \"marker\": {\"color\": \"#B6E880\", \"size\": [806], \"sizemode\": \"area\", \"sizeref\": 66.51}, \"name\": \"Sweden\", \"showlegend\": true, \"type\": \"scattergeo\"}, {\"geo\": \"geo\", \"hovertemplate\": \"<b>%{hovertext}</b><br><br>country=Saudi Arabia<br>total_publications=%{marker.size}<br>country_code_alpha3=%{location}<extra></extra>\", \"hovertext\": [\"Saudi Arabia\"], \"legendgroup\": \"Saudi Arabia\", \"locations\": [\"SAU\"], \"marker\": {\"color\": \"#FF97FF\", \"size\": [655], \"sizemode\": \"area\", \"sizeref\": 66.51}, \"name\": \"Saudi Arabia\", \"showlegend\": true, \"type\": \"scattergeo\"}, {\"geo\": \"geo\", \"hovertemplate\": \"<b>%{hovertext}</b><br><br>country=Denmark<br>total_publications=%{marker.size}<br>country_code_alpha3=%{location}<extra></extra>\", \"hovertext\": [\"Denmark\"], \"legendgroup\": \"Denmark\", \"locations\": [\"DNK\"], \"marker\": {\"color\": \"#FECB52\", \"size\": [564], \"sizemode\": \"area\", \"sizeref\": 66.51}, \"name\": \"Denmark\", \"showlegend\": true, \"type\": \"scattergeo\"}, {\"geo\": \"geo\", \"hovertemplate\": \"<b>%{hovertext}</b><br><br>country=Iran, Islamic Republic of<br>total_publications=%{marker.size}<br>country_code_alpha3=%{location}<extra></extra>\", \"hovertext\": [\"Iran, Islamic Republic of\"], \"legendgroup\": \"Iran, Islamic Republic of\", \"locations\": [\"IRN\"], \"marker\": {\"color\": \"#636efa\", \"size\": [491], \"sizemode\": \"area\", \"sizeref\": 66.51}, \"name\": \"Iran, Islamic Republic of\", \"showlegend\": true, \"type\": \"scattergeo\"}, {\"geo\": \"geo\", \"hovertemplate\": \"<b>%{hovertext}</b><br><br>country=Finland<br>total_publications=%{marker.size}<br>country_code_alpha3=%{location}<extra></extra>\", \"hovertext\": [\"Finland\"], \"legendgroup\": \"Finland\", \"locations\": [\"FIN\"], \"marker\": {\"color\": \"#EF553B\", \"size\": [464], \"sizemode\": \"area\", \"sizeref\": 66.51}, \"name\": \"Finland\", \"showlegend\": true, \"type\": \"scattergeo\"}, {\"geo\": \"geo\", \"hovertemplate\": \"<b>%{hovertext}</b><br><br>country=Thailand<br>total_publications=%{marker.size}<br>country_code_alpha3=%{location}<extra></extra>\", \"hovertext\": [\"Thailand\"], \"legendgroup\": \"Thailand\", \"locations\": [\"THA\"], \"marker\": {\"color\": \"#00cc96\", \"size\": [436], \"sizemode\": \"area\", \"sizeref\": 66.51}, \"name\": \"Thailand\", \"showlegend\": true, \"type\": \"scattergeo\"}, {\"geo\": \"geo\", \"hovertemplate\": \"<b>%{hovertext}</b><br><br>country=Poland<br>total_publications=%{marker.size}<br>country_code_alpha3=%{location}<extra></extra>\", \"hovertext\": [\"Poland\"], \"legendgroup\": \"Poland\", \"locations\": [\"POL\"], \"marker\": {\"color\": \"#ab63fa\", \"size\": [411], \"sizemode\": \"area\", \"sizeref\": 66.51}, \"name\": \"Poland\", \"showlegend\": true, \"type\": \"scattergeo\"}, {\"geo\": \"geo\", \"hovertemplate\": \"<b>%{hovertext}</b><br><br>country=Israel<br>total_publications=%{marker.size}<br>country_code_alpha3=%{location}<extra></extra>\", \"hovertext\": [\"Israel\"], \"legendgroup\": \"Israel\", \"locations\": [\"ISR\"], \"marker\": {\"color\": \"#FFA15A\", \"size\": [373], \"sizemode\": \"area\", \"sizeref\": 66.51}, \"name\": \"Israel\", \"showlegend\": true, \"type\": \"scattergeo\"}, {\"geo\": \"geo\", \"hovertemplate\": \"<b>%{hovertext}</b><br><br>country=Malaysia<br>total_publications=%{marker.size}<br>country_code_alpha3=%{location}<extra></extra>\", \"hovertext\": [\"Malaysia\"], \"legendgroup\": \"Malaysia\", \"locations\": [\"MYS\"], \"marker\": {\"color\": \"#19d3f3\", \"size\": [353], \"sizemode\": \"area\", \"sizeref\": 66.51}, \"name\": \"Malaysia\", \"showlegend\": true, \"type\": \"scattergeo\"}, {\"geo\": \"geo\", \"hovertemplate\": \"<b>%{hovertext}</b><br><br>country=Mexico<br>total_publications=%{marker.size}<br>country_code_alpha3=%{location}<extra></extra>\", \"hovertext\": [\"Mexico\"], \"legendgroup\": \"Mexico\", \"locations\": [\"MEX\"], \"marker\": {\"color\": \"#FF6692\", \"size\": [336], \"sizemode\": \"area\", \"sizeref\": 66.51}, \"name\": \"Mexico\", \"showlegend\": true, \"type\": \"scattergeo\"}, {\"geo\": \"geo\", \"hovertemplate\": \"<b>%{hovertext}</b><br><br>country=Greece<br>total_publications=%{marker.size}<br>country_code_alpha3=%{location}<extra></extra>\", \"hovertext\": [\"Greece\"], \"legendgroup\": \"Greece\", \"locations\": [\"GRC\"], \"marker\": {\"color\": \"#B6E880\", \"size\": [329], \"sizemode\": \"area\", \"sizeref\": 66.51}, \"name\": \"Greece\", \"showlegend\": true, \"type\": \"scattergeo\"}, {\"geo\": \"geo\", \"hovertemplate\": \"<b>%{hovertext}</b><br><br>country=Vietnam<br>total_publications=%{marker.size}<br>country_code_alpha3=%{location}<extra></extra>\", \"hovertext\": [\"Vietnam\"], \"legendgroup\": \"Vietnam\", \"locations\": [\"VNM\"], \"marker\": {\"color\": \"#FF97FF\", \"size\": [315], \"sizemode\": \"area\", \"sizeref\": 66.51}, \"name\": \"Vietnam\", \"showlegend\": true, \"type\": \"scattergeo\"}, {\"geo\": \"geo\", \"hovertemplate\": \"<b>%{hovertext}</b><br><br>country=Argentina<br>total_publications=%{marker.size}<br>country_code_alpha3=%{location}<extra></extra>\", \"hovertext\": [\"Argentina\"], \"legendgroup\": \"Argentina\", \"locations\": [\"ARG\"], \"marker\": {\"color\": \"#FECB52\", \"size\": [300], \"sizemode\": \"area\", \"sizeref\": 66.51}, \"name\": \"Argentina\", \"showlegend\": true, \"type\": \"scattergeo\"}, {\"geo\": \"geo\", \"hovertemplate\": \"<b>%{hovertext}</b><br><br>country=Turkey<br>total_publications=%{marker.size}<br>country_code_alpha3=%{location}<extra></extra>\", \"hovertext\": [\"Turkey\"], \"legendgroup\": \"Turkey\", \"locations\": [\"TUR\"], \"marker\": {\"color\": \"#636efa\", \"size\": [296], \"sizemode\": \"area\", \"sizeref\": 66.51}, \"name\": \"Turkey\", \"showlegend\": true, \"type\": \"scattergeo\"}, {\"geo\": \"geo\", \"hovertemplate\": \"<b>%{hovertext}</b><br><br>country=Portugal<br>total_publications=%{marker.size}<br>country_code_alpha3=%{location}<extra></extra>\", \"hovertext\": [\"Portugal\"], \"legendgroup\": \"Portugal\", \"locations\": [\"PRT\"], \"marker\": {\"color\": \"#EF553B\", \"size\": [295], \"sizemode\": \"area\", \"sizeref\": 66.51}, \"name\": \"Portugal\", \"showlegend\": true, \"type\": \"scattergeo\"}, {\"geo\": \"geo\", \"hovertemplate\": \"<b>%{hovertext}</b><br><br>country=Egypt<br>total_publications=%{marker.size}<br>country_code_alpha3=%{location}<extra></extra>\", \"hovertext\": [\"Egypt\"], \"legendgroup\": \"Egypt\", \"locations\": [\"EGY\"], \"marker\": {\"color\": \"#00cc96\", \"size\": [266], \"sizemode\": \"area\", \"sizeref\": 66.51}, \"name\": \"Egypt\", \"showlegend\": true, \"type\": \"scattergeo\"}, {\"geo\": \"geo\", \"hovertemplate\": \"<b>%{hovertext}</b><br><br>country=Norway<br>total_publications=%{marker.size}<br>country_code_alpha3=%{location}<extra></extra>\", \"hovertext\": [\"Norway\"], \"legendgroup\": \"Norway\", \"locations\": [\"NOR\"], \"marker\": {\"color\": \"#ab63fa\", \"size\": [237], \"sizemode\": \"area\", \"sizeref\": 66.51}, \"name\": \"Norway\", \"showlegend\": true, \"type\": \"scattergeo\"}, {\"geo\": \"geo\", \"hovertemplate\": \"<b>%{hovertext}</b><br><br>country=Ireland<br>total_publications=%{marker.size}<br>country_code_alpha3=%{location}<extra></extra>\", \"hovertext\": [\"Ireland\"], \"legendgroup\": \"Ireland\", \"locations\": [\"IRL\"], \"marker\": {\"color\": \"#FFA15A\", \"size\": [200], \"sizemode\": \"area\", \"sizeref\": 66.51}, \"name\": \"Ireland\", \"showlegend\": true, \"type\": \"scattergeo\"}, {\"geo\": \"geo\", \"hovertemplate\": \"<b>%{hovertext}</b><br><br>country=New Zealand<br>total_publications=%{marker.size}<br>country_code_alpha3=%{location}<extra></extra>\", \"hovertext\": [\"New Zealand\"], \"legendgroup\": \"New Zealand\", \"locations\": [\"NZL\"], \"marker\": {\"color\": \"#19d3f3\", \"size\": [191], \"sizemode\": \"area\", \"sizeref\": 66.51}, \"name\": \"New Zealand\", \"showlegend\": true, \"type\": \"scattergeo\"}, {\"geo\": \"geo\", \"hovertemplate\": \"<b>%{hovertext}</b><br><br>country=Hungary<br>total_publications=%{marker.size}<br>country_code_alpha3=%{location}<extra></extra>\", \"hovertext\": [\"Hungary\"], \"legendgroup\": \"Hungary\", \"locations\": [\"HUN\"], \"marker\": {\"color\": \"#FF6692\", \"size\": [186], \"sizemode\": \"area\", \"sizeref\": 66.51}, \"name\": \"Hungary\", \"showlegend\": true, \"type\": \"scattergeo\"}, {\"geo\": \"geo\", \"hovertemplate\": \"<b>%{hovertext}</b><br><br>country=Georgia<br>total_publications=%{marker.size}<br>country_code_alpha3=%{location}<extra></extra>\", \"hovertext\": [\"Georgia\"], \"legendgroup\": \"Georgia\", \"locations\": [\"GEO\"], \"marker\": {\"color\": \"#B6E880\", \"size\": [169], \"sizemode\": \"area\", \"sizeref\": 66.51}, \"name\": \"Georgia\", \"showlegend\": true, \"type\": \"scattergeo\"}, {\"geo\": \"geo\", \"hovertemplate\": \"<b>%{hovertext}</b><br><br>country=Chile<br>total_publications=%{marker.size}<br>country_code_alpha3=%{location}<extra></extra>\", \"hovertext\": [\"Chile\"], \"legendgroup\": \"Chile\", \"locations\": [\"CHL\"], \"marker\": {\"color\": \"#FF97FF\", \"size\": [153], \"sizemode\": \"area\", \"sizeref\": 66.51}, \"name\": \"Chile\", \"showlegend\": true, \"type\": \"scattergeo\"}, {\"geo\": \"geo\", \"hovertemplate\": \"<b>%{hovertext}</b><br><br>country=Kenya<br>total_publications=%{marker.size}<br>country_code_alpha3=%{location}<extra></extra>\", \"hovertext\": [\"Kenya\"], \"legendgroup\": \"Kenya\", \"locations\": [\"KEN\"], \"marker\": {\"color\": \"#FECB52\", \"size\": [145], \"sizemode\": \"area\", \"sizeref\": 66.51}, \"name\": \"Kenya\", \"showlegend\": true, \"type\": \"scattergeo\"}, {\"geo\": \"geo\", \"hovertemplate\": \"<b>%{hovertext}</b><br><br>country=Czechia<br>total_publications=%{marker.size}<br>country_code_alpha3=%{location}<extra></extra>\", \"hovertext\": [\"Czechia\"], \"legendgroup\": \"Czechia\", \"locations\": [\"CZE\"], \"marker\": {\"color\": \"#636efa\", \"size\": [141], \"sizemode\": \"area\", \"sizeref\": 66.51}, \"name\": \"Czechia\", \"showlegend\": true, \"type\": \"scattergeo\"}, {\"geo\": \"geo\", \"hovertemplate\": \"<b>%{hovertext}</b><br><br>country=Oman<br>total_publications=%{marker.size}<br>country_code_alpha3=%{location}<extra></extra>\", \"hovertext\": [\"Oman\"], \"legendgroup\": \"Oman\", \"locations\": [\"OMN\"], \"marker\": {\"color\": \"#EF553B\", \"size\": [121], \"sizemode\": \"area\", \"sizeref\": 66.51}, \"name\": \"Oman\", \"showlegend\": true, \"type\": \"scattergeo\"}, {\"geo\": \"geo\", \"hovertemplate\": \"<b>%{hovertext}</b><br><br>country=Colombia<br>total_publications=%{marker.size}<br>country_code_alpha3=%{location}<extra></extra>\", \"hovertext\": [\"Colombia\"], \"legendgroup\": \"Colombia\", \"locations\": [\"COL\"], \"marker\": {\"color\": \"#00cc96\", \"size\": [116], \"sizemode\": \"area\", \"sizeref\": 66.51}, \"name\": \"Colombia\", \"showlegend\": true, \"type\": \"scattergeo\"}, {\"geo\": \"geo\", \"hovertemplate\": \"<b>%{hovertext}</b><br><br>country=Pakistan<br>total_publications=%{marker.size}<br>country_code_alpha3=%{location}<extra></extra>\", \"hovertext\": [\"Pakistan\"], \"legendgroup\": \"Pakistan\", \"locations\": [\"PAK\"], \"marker\": {\"color\": \"#ab63fa\", \"size\": [111], \"sizemode\": \"area\", \"sizeref\": 66.51}, \"name\": \"Pakistan\", \"showlegend\": true, \"type\": \"scattergeo\"}, {\"geo\": \"geo\", \"hovertemplate\": \"<b>%{hovertext}</b><br><br>country=Ghana<br>total_publications=%{marker.size}<br>country_code_alpha3=%{location}<extra></extra>\", \"hovertext\": [\"Ghana\"], \"legendgroup\": \"Ghana\", \"locations\": [\"GHA\"], \"marker\": {\"color\": \"#FFA15A\", \"size\": [110], \"sizemode\": \"area\", \"sizeref\": 66.51}, \"name\": \"Ghana\", \"showlegend\": true, \"type\": \"scattergeo\"}, {\"geo\": \"geo\", \"hovertemplate\": \"<b>%{hovertext}</b><br><br>country=Bangladesh<br>total_publications=%{marker.size}<br>country_code_alpha3=%{location}<extra></extra>\", \"hovertext\": [\"Bangladesh\"], \"legendgroup\": \"Bangladesh\", \"locations\": [\"BGD\"], \"marker\": {\"color\": \"#19d3f3\", \"size\": [109], \"sizemode\": \"area\", \"sizeref\": 66.51}, \"name\": \"Bangladesh\", \"showlegend\": true, \"type\": \"scattergeo\"}, {\"geo\": \"geo\", \"hovertemplate\": \"<b>%{hovertext}</b><br><br>country=Niger<br>total_publications=%{marker.size}<br>country_code_alpha3=%{location}<extra></extra>\", \"hovertext\": [\"Niger\"], \"legendgroup\": \"Niger\", \"locations\": [\"NER\"], \"marker\": {\"color\": \"#FF6692\", \"size\": [101], \"sizemode\": \"area\", \"sizeref\": 66.51}, \"name\": \"Niger\", \"showlegend\": true, \"type\": \"scattergeo\"}, {\"geo\": \"geo\", \"hovertemplate\": \"<b>%{hovertext}</b><br><br>country=Croatia<br>total_publications=%{marker.size}<br>country_code_alpha3=%{location}<extra></extra>\", \"hovertext\": [\"Croatia\"], \"legendgroup\": \"Croatia\", \"locations\": [\"HRV\"], \"marker\": {\"color\": \"#B6E880\", \"size\": [88], \"sizemode\": \"area\", \"sizeref\": 66.51}, \"name\": \"Croatia\", \"showlegend\": true, \"type\": \"scattergeo\"}, {\"geo\": \"geo\", \"hovertemplate\": \"<b>%{hovertext}</b><br><br>country=Tunisia<br>total_publications=%{marker.size}<br>country_code_alpha3=%{location}<extra></extra>\", \"hovertext\": [\"Tunisia\"], \"legendgroup\": \"Tunisia\", \"locations\": [\"TUN\"], \"marker\": {\"color\": \"#FF97FF\", \"size\": [84], \"sizemode\": \"area\", \"sizeref\": 66.51}, \"name\": \"Tunisia\", \"showlegend\": true, \"type\": \"scattergeo\"}, {\"geo\": \"geo\", \"hovertemplate\": \"<b>%{hovertext}</b><br><br>country=Slovenia<br>total_publications=%{marker.size}<br>country_code_alpha3=%{location}<extra></extra>\", \"hovertext\": [\"Slovenia\"], \"legendgroup\": \"Slovenia\", \"locations\": [\"SVN\"], \"marker\": {\"color\": \"#FECB52\", \"size\": [80], \"sizemode\": \"area\", \"sizeref\": 66.51}, \"name\": \"Slovenia\", \"showlegend\": true, \"type\": \"scattergeo\"}, {\"geo\": \"geo\", \"hovertemplate\": \"<b>%{hovertext}</b><br><br>country=Cambodia<br>total_publications=%{marker.size}<br>country_code_alpha3=%{location}<extra></extra>\", \"hovertext\": [\"Cambodia\"], \"legendgroup\": \"Cambodia\", \"locations\": [\"KHM\"], \"marker\": {\"color\": \"#636efa\", \"size\": [72], \"sizemode\": \"area\", \"sizeref\": 66.51}, \"name\": \"Cambodia\", \"showlegend\": true, \"type\": \"scattergeo\"}, {\"geo\": \"geo\", \"hovertemplate\": \"<b>%{hovertext}</b><br><br>country=Indonesia<br>total_publications=%{marker.size}<br>country_code_alpha3=%{location}<extra></extra>\", \"hovertext\": [\"Indonesia\"], \"legendgroup\": \"Indonesia\", \"locations\": [\"IDN\"], \"marker\": {\"color\": \"#EF553B\", \"size\": [72], \"sizemode\": \"area\", \"sizeref\": 66.51}, \"name\": \"Indonesia\", \"showlegend\": true, \"type\": \"scattergeo\"}, {\"geo\": \"geo\", \"hovertemplate\": \"<b>%{hovertext}</b><br><br>country=Qatar<br>total_publications=%{marker.size}<br>country_code_alpha3=%{location}<extra></extra>\", \"hovertext\": [\"Qatar\"], \"legendgroup\": \"Qatar\", \"locations\": [\"QAT\"], \"marker\": {\"color\": \"#00cc96\", \"size\": [71], \"sizemode\": \"area\", \"sizeref\": 66.51}, \"name\": \"Qatar\", \"showlegend\": true, \"type\": \"scattergeo\"}, {\"geo\": \"geo\", \"hovertemplate\": \"<b>%{hovertext}</b><br><br>country=Senegal<br>total_publications=%{marker.size}<br>country_code_alpha3=%{location}<extra></extra>\", \"hovertext\": [\"Senegal\"], \"legendgroup\": \"Senegal\", \"locations\": [\"SEN\"], \"marker\": {\"color\": \"#ab63fa\", \"size\": [69], \"sizemode\": \"area\", \"sizeref\": 66.51}, \"name\": \"Senegal\", \"showlegend\": true, \"type\": \"scattergeo\"}, {\"geo\": \"geo\", \"hovertemplate\": \"<b>%{hovertext}</b><br><br>country=Uganda<br>total_publications=%{marker.size}<br>country_code_alpha3=%{location}<extra></extra>\", \"hovertext\": [\"Uganda\"], \"legendgroup\": \"Uganda\", \"locations\": [\"UGA\"], \"marker\": {\"color\": \"#FFA15A\", \"size\": [59], \"sizemode\": \"area\", \"sizeref\": 66.51}, \"name\": \"Uganda\", \"showlegend\": true, \"type\": \"scattergeo\"}, {\"geo\": \"geo\", \"hovertemplate\": \"<b>%{hovertext}</b><br><br>country=Jordan<br>total_publications=%{marker.size}<br>country_code_alpha3=%{location}<extra></extra>\", \"hovertext\": [\"Jordan\"], \"legendgroup\": \"Jordan\", \"locations\": [\"JOR\"], \"marker\": {\"color\": \"#19d3f3\", \"size\": [58], \"sizemode\": \"area\", \"sizeref\": 66.51}, \"name\": \"Jordan\", \"showlegend\": true, \"type\": \"scattergeo\"}, {\"geo\": \"geo\", \"hovertemplate\": \"<b>%{hovertext}</b><br><br>country=Gabon<br>total_publications=%{marker.size}<br>country_code_alpha3=%{location}<extra></extra>\", \"hovertext\": [\"Gabon\"], \"legendgroup\": \"Gabon\", \"locations\": [\"GAB\"], \"marker\": {\"color\": \"#FF6692\", \"size\": [53], \"sizemode\": \"area\", \"sizeref\": 66.51}, \"name\": \"Gabon\", \"showlegend\": true, \"type\": \"scattergeo\"}, {\"geo\": \"geo\", \"hovertemplate\": \"<b>%{hovertext}</b><br><br>country=Peru<br>total_publications=%{marker.size}<br>country_code_alpha3=%{location}<extra></extra>\", \"hovertext\": [\"Peru\"], \"legendgroup\": \"Peru\", \"locations\": [\"PER\"], \"marker\": {\"color\": \"#B6E880\", \"size\": [47], \"sizemode\": \"area\", \"sizeref\": 66.51}, \"name\": \"Peru\", \"showlegend\": true, \"type\": \"scattergeo\"}, {\"geo\": \"geo\", \"hovertemplate\": \"<b>%{hovertext}</b><br><br>country=Cameroon<br>total_publications=%{marker.size}<br>country_code_alpha3=%{location}<extra></extra>\", \"hovertext\": [\"Cameroon\"], \"legendgroup\": \"Cameroon\", \"locations\": [\"CMR\"], \"marker\": {\"color\": \"#FF97FF\", \"size\": [47], \"sizemode\": \"area\", \"sizeref\": 66.51}, \"name\": \"Cameroon\", \"showlegend\": true, \"type\": \"scattergeo\"}, {\"geo\": \"geo\", \"hovertemplate\": \"<b>%{hovertext}</b><br><br>country=Madagascar<br>total_publications=%{marker.size}<br>country_code_alpha3=%{location}<extra></extra>\", \"hovertext\": [\"Madagascar\"], \"legendgroup\": \"Madagascar\", \"locations\": [\"MDG\"], \"marker\": {\"color\": \"#FECB52\", \"size\": [46], \"sizemode\": \"area\", \"sizeref\": 66.51}, \"name\": \"Madagascar\", \"showlegend\": true, \"type\": \"scattergeo\"}, {\"geo\": \"geo\", \"hovertemplate\": \"<b>%{hovertext}</b><br><br>country=Venezuela<br>total_publications=%{marker.size}<br>country_code_alpha3=%{location}<extra></extra>\", \"hovertext\": [\"Venezuela\"], \"legendgroup\": \"Venezuela\", \"locations\": [\"VEN\"], \"marker\": {\"color\": \"#636efa\", \"size\": [44], \"sizemode\": \"area\", \"sizeref\": 66.51}, \"name\": \"Venezuela\", \"showlegend\": true, \"type\": \"scattergeo\"}, {\"geo\": \"geo\", \"hovertemplate\": \"<b>%{hovertext}</b><br><br>country=Uruguay<br>total_publications=%{marker.size}<br>country_code_alpha3=%{location}<extra></extra>\", \"hovertext\": [\"Uruguay\"], \"legendgroup\": \"Uruguay\", \"locations\": [\"URY\"], \"marker\": {\"color\": \"#EF553B\", \"size\": [43], \"sizemode\": \"area\", \"sizeref\": 66.51}, \"name\": \"Uruguay\", \"showlegend\": true, \"type\": \"scattergeo\"}, {\"geo\": \"geo\", \"hovertemplate\": \"<b>%{hovertext}</b><br><br>country=Estonia<br>total_publications=%{marker.size}<br>country_code_alpha3=%{location}<extra></extra>\", \"hovertext\": [\"Estonia\"], \"legendgroup\": \"Estonia\", \"locations\": [\"EST\"], \"marker\": {\"color\": \"#00cc96\", \"size\": [43], \"sizemode\": \"area\", \"sizeref\": 66.51}, \"name\": \"Estonia\", \"showlegend\": true, \"type\": \"scattergeo\"}, {\"geo\": \"geo\", \"hovertemplate\": \"<b>%{hovertext}</b><br><br>country=Serbia<br>total_publications=%{marker.size}<br>country_code_alpha3=%{location}<extra></extra>\", \"hovertext\": [\"Serbia\"], \"legendgroup\": \"Serbia\", \"locations\": [\"SRB\"], \"marker\": {\"color\": \"#ab63fa\", \"size\": [41], \"sizemode\": \"area\", \"sizeref\": 66.51}, \"name\": \"Serbia\", \"showlegend\": true, \"type\": \"scattergeo\"}, {\"geo\": \"geo\", \"hovertemplate\": \"<b>%{hovertext}</b><br><br>country=Tanzania<br>total_publications=%{marker.size}<br>country_code_alpha3=%{location}<extra></extra>\", \"hovertext\": [\"Tanzania\"], \"legendgroup\": \"Tanzania\", \"locations\": [\"TZA\"], \"marker\": {\"color\": \"#FFA15A\", \"size\": [37], \"sizemode\": \"area\", \"sizeref\": 66.51}, \"name\": \"Tanzania\", \"showlegend\": true, \"type\": \"scattergeo\"}, {\"geo\": \"geo\", \"hovertemplate\": \"<b>%{hovertext}</b><br><br>country=Congo<br>total_publications=%{marker.size}<br>country_code_alpha3=%{location}<extra></extra>\", \"hovertext\": [\"Congo\"], \"legendgroup\": \"Congo\", \"locations\": [\"COG\"], \"marker\": {\"color\": \"#19d3f3\", \"size\": [37], \"sizemode\": \"area\", \"sizeref\": 66.51}, \"name\": \"Congo\", \"showlegend\": true, \"type\": \"scattergeo\"}, {\"geo\": \"geo\", \"hovertemplate\": \"<b>%{hovertext}</b><br><br>country=Guinea<br>total_publications=%{marker.size}<br>country_code_alpha3=%{location}<extra></extra>\", \"hovertext\": [\"Guinea\"], \"legendgroup\": \"Guinea\", \"locations\": [\"GIN\"], \"marker\": {\"color\": \"#FF6692\", \"size\": [33], \"sizemode\": \"area\", \"sizeref\": 66.51}, \"name\": \"Guinea\", \"showlegend\": true, \"type\": \"scattergeo\"}, {\"geo\": \"geo\", \"hovertemplate\": \"<b>%{hovertext}</b><br><br>country=Nepal<br>total_publications=%{marker.size}<br>country_code_alpha3=%{location}<extra></extra>\", \"hovertext\": [\"Nepal\"], \"legendgroup\": \"Nepal\", \"locations\": [\"NPL\"], \"marker\": {\"color\": \"#B6E880\", \"size\": [33], \"sizemode\": \"area\", \"sizeref\": 66.51}, \"name\": \"Nepal\", \"showlegend\": true, \"type\": \"scattergeo\"}, {\"geo\": \"geo\", \"hovertemplate\": \"<b>%{hovertext}</b><br><br>country=Slovakia<br>total_publications=%{marker.size}<br>country_code_alpha3=%{location}<extra></extra>\", \"hovertext\": [\"Slovakia\"], \"legendgroup\": \"Slovakia\", \"locations\": [\"SVK\"], \"marker\": {\"color\": \"#FF97FF\", \"size\": [31], \"sizemode\": \"area\", \"sizeref\": 66.51}, \"name\": \"Slovakia\", \"showlegend\": true, \"type\": \"scattergeo\"}, {\"geo\": \"geo\", \"hovertemplate\": \"<b>%{hovertext}</b><br><br>country=Algeria<br>total_publications=%{marker.size}<br>country_code_alpha3=%{location}<extra></extra>\", \"hovertext\": [\"Algeria\"], \"legendgroup\": \"Algeria\", \"locations\": [\"DZA\"], \"marker\": {\"color\": \"#FECB52\", \"size\": [28], \"sizemode\": \"area\", \"sizeref\": 66.51}, \"name\": \"Algeria\", \"showlegend\": true, \"type\": \"scattergeo\"}, {\"geo\": \"geo\", \"hovertemplate\": \"<b>%{hovertext}</b><br><br>country=Philippines<br>total_publications=%{marker.size}<br>country_code_alpha3=%{location}<extra></extra>\", \"hovertext\": [\"Philippines\"], \"legendgroup\": \"Philippines\", \"locations\": [\"PHL\"], \"marker\": {\"color\": \"#636efa\", \"size\": [27], \"sizemode\": \"area\", \"sizeref\": 66.51}, \"name\": \"Philippines\", \"showlegend\": true, \"type\": \"scattergeo\"}, {\"geo\": \"geo\", \"hovertemplate\": \"<b>%{hovertext}</b><br><br>country=Kuwait<br>total_publications=%{marker.size}<br>country_code_alpha3=%{location}<extra></extra>\", \"hovertext\": [\"Kuwait\"], \"legendgroup\": \"Kuwait\", \"locations\": [\"KWT\"], \"marker\": {\"color\": \"#EF553B\", \"size\": [25], \"sizemode\": \"area\", \"sizeref\": 66.51}, \"name\": \"Kuwait\", \"showlegend\": true, \"type\": \"scattergeo\"}, {\"geo\": \"geo\", \"hovertemplate\": \"<b>%{hovertext}</b><br><br>country=Ecuador<br>total_publications=%{marker.size}<br>country_code_alpha3=%{location}<extra></extra>\", \"hovertext\": [\"Ecuador\"], \"legendgroup\": \"Ecuador\", \"locations\": [\"ECU\"], \"marker\": {\"color\": \"#00cc96\", \"size\": [22], \"sizemode\": \"area\", \"sizeref\": 66.51}, \"name\": \"Ecuador\", \"showlegend\": true, \"type\": \"scattergeo\"}, {\"geo\": \"geo\", \"hovertemplate\": \"<b>%{hovertext}</b><br><br>country=Ethiopia<br>total_publications=%{marker.size}<br>country_code_alpha3=%{location}<extra></extra>\", \"hovertext\": [\"Ethiopia\"], \"legendgroup\": \"Ethiopia\", \"locations\": [\"ETH\"], \"marker\": {\"color\": \"#ab63fa\", \"size\": [22], \"sizemode\": \"area\", \"sizeref\": 66.51}, \"name\": \"Ethiopia\", \"showlegend\": true, \"type\": \"scattergeo\"}, {\"geo\": \"geo\", \"hovertemplate\": \"<b>%{hovertext}</b><br><br>country=Lebanon<br>total_publications=%{marker.size}<br>country_code_alpha3=%{location}<extra></extra>\", \"hovertext\": [\"Lebanon\"], \"legendgroup\": \"Lebanon\", \"locations\": [\"LBN\"], \"marker\": {\"color\": \"#FFA15A\", \"size\": [22], \"sizemode\": \"area\", \"sizeref\": 66.51}, \"name\": \"Lebanon\", \"showlegend\": true, \"type\": \"scattergeo\"}, {\"geo\": \"geo\", \"hovertemplate\": \"<b>%{hovertext}</b><br><br>country=Cuba<br>total_publications=%{marker.size}<br>country_code_alpha3=%{location}<extra></extra>\", \"hovertext\": [\"Cuba\"], \"legendgroup\": \"Cuba\", \"locations\": [\"CUB\"], \"marker\": {\"color\": \"#19d3f3\", \"size\": [22], \"sizemode\": \"area\", \"sizeref\": 66.51}, \"name\": \"Cuba\", \"showlegend\": true, \"type\": \"scattergeo\"}, {\"geo\": \"geo\", \"hovertemplate\": \"<b>%{hovertext}</b><br><br>country=Sudan<br>total_publications=%{marker.size}<br>country_code_alpha3=%{location}<extra></extra>\", \"hovertext\": [\"Sudan\"], \"legendgroup\": \"Sudan\", \"locations\": [\"SDN\"], \"marker\": {\"color\": \"#FF6692\", \"size\": [21], \"sizemode\": \"area\", \"sizeref\": 66.51}, \"name\": \"Sudan\", \"showlegend\": true, \"type\": \"scattergeo\"}, {\"geo\": \"geo\", \"hovertemplate\": \"<b>%{hovertext}</b><br><br>country=Gambia<br>total_publications=%{marker.size}<br>country_code_alpha3=%{location}<extra></extra>\", \"hovertext\": [\"Gambia\"], \"legendgroup\": \"Gambia\", \"locations\": [\"GMB\"], \"marker\": {\"color\": \"#B6E880\", \"size\": [21], \"sizemode\": \"area\", \"sizeref\": 66.51}, \"name\": \"Gambia\", \"showlegend\": true, \"type\": \"scattergeo\"}, {\"geo\": \"geo\", \"hovertemplate\": \"<b>%{hovertext}</b><br><br>country=Lithuania<br>total_publications=%{marker.size}<br>country_code_alpha3=%{location}<extra></extra>\", \"hovertext\": [\"Lithuania\"], \"legendgroup\": \"Lithuania\", \"locations\": [\"LTU\"], \"marker\": {\"color\": \"#FF97FF\", \"size\": [21], \"sizemode\": \"area\", \"sizeref\": 66.51}, \"name\": \"Lithuania\", \"showlegend\": true, \"type\": \"scattergeo\"}, {\"geo\": \"geo\", \"hovertemplate\": \"<b>%{hovertext}</b><br><br>country=Jersey<br>total_publications=%{marker.size}<br>country_code_alpha3=%{location}<extra></extra>\", \"hovertext\": [\"Jersey\"], \"legendgroup\": \"Jersey\", \"locations\": [\"JEY\"], \"marker\": {\"color\": \"#FECB52\", \"size\": [19], \"sizemode\": \"area\", \"sizeref\": 66.51}, \"name\": \"Jersey\", \"showlegend\": true, \"type\": \"scattergeo\"}, {\"geo\": \"geo\", \"hovertemplate\": \"<b>%{hovertext}</b><br><br>country=Bulgaria<br>total_publications=%{marker.size}<br>country_code_alpha3=%{location}<extra></extra>\", \"hovertext\": [\"Bulgaria\"], \"legendgroup\": \"Bulgaria\", \"locations\": [\"BGR\"], \"marker\": {\"color\": \"#636efa\", \"size\": [19], \"sizemode\": \"area\", \"sizeref\": 66.51}, \"name\": \"Bulgaria\", \"showlegend\": true, \"type\": \"scattergeo\"}, {\"geo\": \"geo\", \"hovertemplate\": \"<b>%{hovertext}</b><br><br>country=Malawi<br>total_publications=%{marker.size}<br>country_code_alpha3=%{location}<extra></extra>\", \"hovertext\": [\"Malawi\"], \"legendgroup\": \"Malawi\", \"locations\": [\"MWI\"], \"marker\": {\"color\": \"#EF553B\", \"size\": [17], \"sizemode\": \"area\", \"sizeref\": 66.51}, \"name\": \"Malawi\", \"showlegend\": true, \"type\": \"scattergeo\"}, {\"geo\": \"geo\", \"hovertemplate\": \"<b>%{hovertext}</b><br><br>country=Namibia<br>total_publications=%{marker.size}<br>country_code_alpha3=%{location}<extra></extra>\", \"hovertext\": [\"Namibia\"], \"legendgroup\": \"Namibia\", \"locations\": [\"NAM\"], \"marker\": {\"color\": \"#00cc96\", \"size\": [17], \"sizemode\": \"area\", \"sizeref\": 66.51}, \"name\": \"Namibia\", \"showlegend\": true, \"type\": \"scattergeo\"}, {\"geo\": \"geo\", \"hovertemplate\": \"<b>%{hovertext}</b><br><br>country=Kazakhstan<br>total_publications=%{marker.size}<br>country_code_alpha3=%{location}<extra></extra>\", \"hovertext\": [\"Kazakhstan\"], \"legendgroup\": \"Kazakhstan\", \"locations\": [\"KAZ\"], \"marker\": {\"color\": \"#ab63fa\", \"size\": [16], \"sizemode\": \"area\", \"sizeref\": 66.51}, \"name\": \"Kazakhstan\", \"showlegend\": true, \"type\": \"scattergeo\"}, {\"geo\": \"geo\", \"hovertemplate\": \"<b>%{hovertext}</b><br><br>country=Iraq<br>total_publications=%{marker.size}<br>country_code_alpha3=%{location}<extra></extra>\", \"hovertext\": [\"Iraq\"], \"legendgroup\": \"Iraq\", \"locations\": [\"IRQ\"], \"marker\": {\"color\": \"#FFA15A\", \"size\": [15], \"sizemode\": \"area\", \"sizeref\": 66.51}, \"name\": \"Iraq\", \"showlegend\": true, \"type\": \"scattergeo\"}, {\"geo\": \"geo\", \"hovertemplate\": \"<b>%{hovertext}</b><br><br>country=Zambia<br>total_publications=%{marker.size}<br>country_code_alpha3=%{location}<extra></extra>\", \"hovertext\": [\"Zambia\"], \"legendgroup\": \"Zambia\", \"locations\": [\"ZMB\"], \"marker\": {\"color\": \"#19d3f3\", \"size\": [15], \"sizemode\": \"area\", \"sizeref\": 66.51}, \"name\": \"Zambia\", \"showlegend\": true, \"type\": \"scattergeo\"}, {\"geo\": \"geo\", \"hovertemplate\": \"<b>%{hovertext}</b><br><br>country=Palestine, State of<br>total_publications=%{marker.size}<br>country_code_alpha3=%{location}<extra></extra>\", \"hovertext\": [\"Palestine, State of\"], \"legendgroup\": \"Palestine, State of\", \"locations\": [\"PSE\"], \"marker\": {\"color\": \"#FF6692\", \"size\": [15], \"sizemode\": \"area\", \"sizeref\": 66.51}, \"name\": \"Palestine, State of\", \"showlegend\": true, \"type\": \"scattergeo\"}, {\"geo\": \"geo\", \"hovertemplate\": \"<b>%{hovertext}</b><br><br>country=Mali<br>total_publications=%{marker.size}<br>country_code_alpha3=%{location}<extra></extra>\", \"hovertext\": [\"Mali\"], \"legendgroup\": \"Mali\", \"locations\": [\"MLI\"], \"marker\": {\"color\": \"#B6E880\", \"size\": [14], \"sizemode\": \"area\", \"sizeref\": 66.51}, \"name\": \"Mali\", \"showlegend\": true, \"type\": \"scattergeo\"}, {\"geo\": \"geo\", \"hovertemplate\": \"<b>%{hovertext}</b><br><br>country=Mozambique<br>total_publications=%{marker.size}<br>country_code_alpha3=%{location}<extra></extra>\", \"hovertext\": [\"Mozambique\"], \"legendgroup\": \"Mozambique\", \"locations\": [\"MOZ\"], \"marker\": {\"color\": \"#FF97FF\", \"size\": [13], \"sizemode\": \"area\", \"sizeref\": 66.51}, \"name\": \"Mozambique\", \"showlegend\": true, \"type\": \"scattergeo\"}, {\"geo\": \"geo\", \"hovertemplate\": \"<b>%{hovertext}</b><br><br>country=Honduras<br>total_publications=%{marker.size}<br>country_code_alpha3=%{location}<extra></extra>\", \"hovertext\": [\"Honduras\"], \"legendgroup\": \"Honduras\", \"locations\": [\"HND\"], \"marker\": {\"color\": \"#FECB52\", \"size\": [12], \"sizemode\": \"area\", \"sizeref\": 66.51}, \"name\": \"Honduras\", \"showlegend\": true, \"type\": \"scattergeo\"}, {\"geo\": \"geo\", \"hovertemplate\": \"<b>%{hovertext}</b><br><br>country=Benin<br>total_publications=%{marker.size}<br>country_code_alpha3=%{location}<extra></extra>\", \"hovertext\": [\"Benin\"], \"legendgroup\": \"Benin\", \"locations\": [\"BEN\"], \"marker\": {\"color\": \"#636efa\", \"size\": [10], \"sizemode\": \"area\", \"sizeref\": 66.51}, \"name\": \"Benin\", \"showlegend\": true, \"type\": \"scattergeo\"}, {\"geo\": \"geo\", \"hovertemplate\": \"<b>%{hovertext}</b><br><br>country=Liberia<br>total_publications=%{marker.size}<br>country_code_alpha3=%{location}<extra></extra>\", \"hovertext\": [\"Liberia\"], \"legendgroup\": \"Liberia\", \"locations\": [\"LBR\"], \"marker\": {\"color\": \"#EF553B\", \"size\": [10], \"sizemode\": \"area\", \"sizeref\": 66.51}, \"name\": \"Liberia\", \"showlegend\": true, \"type\": \"scattergeo\"}, {\"geo\": \"geo\", \"hovertemplate\": \"<b>%{hovertext}</b><br><br>country=Botswana<br>total_publications=%{marker.size}<br>country_code_alpha3=%{location}<extra></extra>\", \"hovertext\": [\"Botswana\"], \"legendgroup\": \"Botswana\", \"locations\": [\"BWA\"], \"marker\": {\"color\": \"#00cc96\", \"size\": [9], \"sizemode\": \"area\", \"sizeref\": 66.51}, \"name\": \"Botswana\", \"showlegend\": true, \"type\": \"scattergeo\"}, {\"geo\": \"geo\", \"hovertemplate\": \"<b>%{hovertext}</b><br><br>country=Jamaica<br>total_publications=%{marker.size}<br>country_code_alpha3=%{location}<extra></extra>\", \"hovertext\": [\"Jamaica\"], \"legendgroup\": \"Jamaica\", \"locations\": [\"JAM\"], \"marker\": {\"color\": \"#ab63fa\", \"size\": [8], \"sizemode\": \"area\", \"sizeref\": 66.51}, \"name\": \"Jamaica\", \"showlegend\": true, \"type\": \"scattergeo\"}, {\"geo\": \"geo\", \"hovertemplate\": \"<b>%{hovertext}</b><br><br>country=Luxembourg<br>total_publications=%{marker.size}<br>country_code_alpha3=%{location}<extra></extra>\", \"hovertext\": [\"Luxembourg\"], \"legendgroup\": \"Luxembourg\", \"locations\": [\"LUX\"], \"marker\": {\"color\": \"#FFA15A\", \"size\": [8], \"sizemode\": \"area\", \"sizeref\": 66.51}, \"name\": \"Luxembourg\", \"showlegend\": true, \"type\": \"scattergeo\"}, {\"geo\": \"geo\", \"hovertemplate\": \"<b>%{hovertext}</b><br><br>country=Bahrain<br>total_publications=%{marker.size}<br>country_code_alpha3=%{location}<extra></extra>\", \"hovertext\": [\"Bahrain\"], \"legendgroup\": \"Bahrain\", \"locations\": [\"BHR\"], \"marker\": {\"color\": \"#19d3f3\", \"size\": [7], \"sizemode\": \"area\", \"sizeref\": 66.51}, \"name\": \"Bahrain\", \"showlegend\": true, \"type\": \"scattergeo\"}, {\"geo\": \"geo\", \"hovertemplate\": \"<b>%{hovertext}</b><br><br>country=United Arab Emirates<br>total_publications=%{marker.size}<br>country_code_alpha3=%{location}<extra></extra>\", \"hovertext\": [\"United Arab Emirates\"], \"legendgroup\": \"United Arab Emirates\", \"locations\": [\"ARE\"], \"marker\": {\"color\": \"#FF6692\", \"size\": [7], \"sizemode\": \"area\", \"sizeref\": 66.51}, \"name\": \"United Arab Emirates\", \"showlegend\": true, \"type\": \"scattergeo\"}, {\"geo\": \"geo\", \"hovertemplate\": \"<b>%{hovertext}</b><br><br>country=Paraguay<br>total_publications=%{marker.size}<br>country_code_alpha3=%{location}<extra></extra>\", \"hovertext\": [\"Paraguay\"], \"legendgroup\": \"Paraguay\", \"locations\": [\"PRY\"], \"marker\": {\"color\": \"#B6E880\", \"size\": [6], \"sizemode\": \"area\", \"sizeref\": 66.51}, \"name\": \"Paraguay\", \"showlegend\": true, \"type\": \"scattergeo\"}, {\"geo\": \"geo\", \"hovertemplate\": \"<b>%{hovertext}</b><br><br>country=Nicaragua<br>total_publications=%{marker.size}<br>country_code_alpha3=%{location}<extra></extra>\", \"hovertext\": [\"Nicaragua\"], \"legendgroup\": \"Nicaragua\", \"locations\": [\"NIC\"], \"marker\": {\"color\": \"#FF97FF\", \"size\": [6], \"sizemode\": \"area\", \"sizeref\": 66.51}, \"name\": \"Nicaragua\", \"showlegend\": true, \"type\": \"scattergeo\"}, {\"geo\": \"geo\", \"hovertemplate\": \"<b>%{hovertext}</b><br><br>country=Haiti<br>total_publications=%{marker.size}<br>country_code_alpha3=%{location}<extra></extra>\", \"hovertext\": [\"Haiti\"], \"legendgroup\": \"Haiti\", \"locations\": [\"HTI\"], \"marker\": {\"color\": \"#FECB52\", \"size\": [6], \"sizemode\": \"area\", \"sizeref\": 66.51}, \"name\": \"Haiti\", \"showlegend\": true, \"type\": \"scattergeo\"}, {\"geo\": \"geo\", \"hovertemplate\": \"<b>%{hovertext}</b><br><br>country=Sri Lanka<br>total_publications=%{marker.size}<br>country_code_alpha3=%{location}<extra></extra>\", \"hovertext\": [\"Sri Lanka\"], \"legendgroup\": \"Sri Lanka\", \"locations\": [\"LKA\"], \"marker\": {\"color\": \"#636efa\", \"size\": [6], \"sizemode\": \"area\", \"sizeref\": 66.51}, \"name\": \"Sri Lanka\", \"showlegend\": true, \"type\": \"scattergeo\"}, {\"geo\": \"geo\", \"hovertemplate\": \"<b>%{hovertext}</b><br><br>country=Mongolia<br>total_publications=%{marker.size}<br>country_code_alpha3=%{location}<extra></extra>\", \"hovertext\": [\"Mongolia\"], \"legendgroup\": \"Mongolia\", \"locations\": [\"MNG\"], \"marker\": {\"color\": \"#EF553B\", \"size\": [6], \"sizemode\": \"area\", \"sizeref\": 66.51}, \"name\": \"Mongolia\", \"showlegend\": true, \"type\": \"scattergeo\"}, {\"geo\": \"geo\", \"hovertemplate\": \"<b>%{hovertext}</b><br><br>country=North Macedonia<br>total_publications=%{marker.size}<br>country_code_alpha3=%{location}<extra></extra>\", \"hovertext\": [\"North Macedonia\"], \"legendgroup\": \"North Macedonia\", \"locations\": [\"MKD\"], \"marker\": {\"color\": \"#00cc96\", \"size\": [6], \"sizemode\": \"area\", \"sizeref\": 66.51}, \"name\": \"North Macedonia\", \"showlegend\": true, \"type\": \"scattergeo\"}, {\"geo\": \"geo\", \"hovertemplate\": \"<b>%{hovertext}</b><br><br>country=South Africa<br>total_publications=%{marker.size}<br>country_code_alpha3=%{location}<extra></extra>\", \"hovertext\": [\"South Africa\"], \"legendgroup\": \"South Africa\", \"locations\": [\"ZAF\"], \"marker\": {\"color\": \"#ab63fa\", \"size\": [5], \"sizemode\": \"area\", \"sizeref\": 66.51}, \"name\": \"South Africa\", \"showlegend\": true, \"type\": \"scattergeo\"}, {\"geo\": \"geo\", \"hovertemplate\": \"<b>%{hovertext}</b><br><br>country=Macao<br>total_publications=%{marker.size}<br>country_code_alpha3=%{location}<extra></extra>\", \"hovertext\": [\"Macao\"], \"legendgroup\": \"Macao\", \"locations\": [\"MAC\"], \"marker\": {\"color\": \"#FFA15A\", \"size\": [5], \"sizemode\": \"area\", \"sizeref\": 66.51}, \"name\": \"Macao\", \"showlegend\": true, \"type\": \"scattergeo\"}, {\"geo\": \"geo\", \"hovertemplate\": \"<b>%{hovertext}</b><br><br>country=Armenia<br>total_publications=%{marker.size}<br>country_code_alpha3=%{location}<extra></extra>\", \"hovertext\": [\"Armenia\"], \"legendgroup\": \"Armenia\", \"locations\": [\"ARM\"], \"marker\": {\"color\": \"#19d3f3\", \"size\": [5], \"sizemode\": \"area\", \"sizeref\": 66.51}, \"name\": \"Armenia\", \"showlegend\": true, \"type\": \"scattergeo\"}, {\"geo\": \"geo\", \"hovertemplate\": \"<b>%{hovertext}</b><br><br>country=Grenada<br>total_publications=%{marker.size}<br>country_code_alpha3=%{location}<extra></extra>\", \"hovertext\": [\"Grenada\"], \"legendgroup\": \"Grenada\", \"locations\": [\"GRD\"], \"marker\": {\"color\": \"#FF6692\", \"size\": [4], \"sizemode\": \"area\", \"sizeref\": 66.51}, \"name\": \"Grenada\", \"showlegend\": true, \"type\": \"scattergeo\"}, {\"geo\": \"geo\", \"hovertemplate\": \"<b>%{hovertext}</b><br><br>country=Guatemala<br>total_publications=%{marker.size}<br>country_code_alpha3=%{location}<extra></extra>\", \"hovertext\": [\"Guatemala\"], \"legendgroup\": \"Guatemala\", \"locations\": [\"GTM\"], \"marker\": {\"color\": \"#B6E880\", \"size\": [4], \"sizemode\": \"area\", \"sizeref\": 66.51}, \"name\": \"Guatemala\", \"showlegend\": true, \"type\": \"scattergeo\"}, {\"geo\": \"geo\", \"hovertemplate\": \"<b>%{hovertext}</b><br><br>country=Iceland<br>total_publications=%{marker.size}<br>country_code_alpha3=%{location}<extra></extra>\", \"hovertext\": [\"Iceland\"], \"legendgroup\": \"Iceland\", \"locations\": [\"ISL\"], \"marker\": {\"color\": \"#FF97FF\", \"size\": [4], \"sizemode\": \"area\", \"sizeref\": 66.51}, \"name\": \"Iceland\", \"showlegend\": true, \"type\": \"scattergeo\"}, {\"geo\": \"geo\", \"hovertemplate\": \"<b>%{hovertext}</b><br><br>country=Latvia<br>total_publications=%{marker.size}<br>country_code_alpha3=%{location}<extra></extra>\", \"hovertext\": [\"Latvia\"], \"legendgroup\": \"Latvia\", \"locations\": [\"LVA\"], \"marker\": {\"color\": \"#FECB52\", \"size\": [4], \"sizemode\": \"area\", \"sizeref\": 66.51}, \"name\": \"Latvia\", \"showlegend\": true, \"type\": \"scattergeo\"}, {\"geo\": \"geo\", \"hovertemplate\": \"<b>%{hovertext}</b><br><br>country=Montenegro<br>total_publications=%{marker.size}<br>country_code_alpha3=%{location}<extra></extra>\", \"hovertext\": [\"Montenegro\"], \"legendgroup\": \"Montenegro\", \"locations\": [\"MNE\"], \"marker\": {\"color\": \"#636efa\", \"size\": [4], \"sizemode\": \"area\", \"sizeref\": 66.51}, \"name\": \"Montenegro\", \"showlegend\": true, \"type\": \"scattergeo\"}, {\"geo\": \"geo\", \"hovertemplate\": \"<b>%{hovertext}</b><br><br>country=Zimbabwe<br>total_publications=%{marker.size}<br>country_code_alpha3=%{location}<extra></extra>\", \"hovertext\": [\"Zimbabwe\"], \"legendgroup\": \"Zimbabwe\", \"locations\": [\"ZWE\"], \"marker\": {\"color\": \"#EF553B\", \"size\": [4], \"sizemode\": \"area\", \"sizeref\": 66.51}, \"name\": \"Zimbabwe\", \"showlegend\": true, \"type\": \"scattergeo\"}, {\"geo\": \"geo\", \"hovertemplate\": \"<b>%{hovertext}</b><br><br>country=Afghanistan<br>total_publications=%{marker.size}<br>country_code_alpha3=%{location}<extra></extra>\", \"hovertext\": [\"Afghanistan\"], \"legendgroup\": \"Afghanistan\", \"locations\": [\"AFG\"], \"marker\": {\"color\": \"#00cc96\", \"size\": [3], \"sizemode\": \"area\", \"sizeref\": 66.51}, \"name\": \"Afghanistan\", \"showlegend\": true, \"type\": \"scattergeo\"}, {\"geo\": \"geo\", \"hovertemplate\": \"<b>%{hovertext}</b><br><br>country=Australia<br>total_publications=%{marker.size}<br>country_code_alpha3=%{location}<extra></extra>\", \"hovertext\": [\"Australia\"], \"legendgroup\": \"Australia\", \"locations\": [\"AUS\"], \"marker\": {\"color\": \"#ab63fa\", \"size\": [3], \"sizemode\": \"area\", \"sizeref\": 66.51}, \"name\": \"Australia\", \"showlegend\": true, \"type\": \"scattergeo\"}, {\"geo\": \"geo\", \"hovertemplate\": \"<b>%{hovertext}</b><br><br>country=Syrian Arab Republic<br>total_publications=%{marker.size}<br>country_code_alpha3=%{location}<extra></extra>\", \"hovertext\": [\"Syrian Arab Republic\"], \"legendgroup\": \"Syrian Arab Republic\", \"locations\": [\"SYR\"], \"marker\": {\"color\": \"#FFA15A\", \"size\": [2], \"sizemode\": \"area\", \"sizeref\": 66.51}, \"name\": \"Syrian Arab Republic\", \"showlegend\": true, \"type\": \"scattergeo\"}, {\"geo\": \"geo\", \"hovertemplate\": \"<b>%{hovertext}</b><br><br>country=Panama<br>total_publications=%{marker.size}<br>country_code_alpha3=%{location}<extra></extra>\", \"hovertext\": [\"Panama\"], \"legendgroup\": \"Panama\", \"locations\": [\"PAN\"], \"marker\": {\"color\": \"#19d3f3\", \"size\": [2], \"sizemode\": \"area\", \"sizeref\": 66.51}, \"name\": \"Panama\", \"showlegend\": true, \"type\": \"scattergeo\"}, {\"geo\": \"geo\", \"hovertemplate\": \"<b>%{hovertext}</b><br><br>country=Malta<br>total_publications=%{marker.size}<br>country_code_alpha3=%{location}<extra></extra>\", \"hovertext\": [\"Malta\"], \"legendgroup\": \"Malta\", \"locations\": [\"MLT\"], \"marker\": {\"color\": \"#FF6692\", \"size\": [2], \"sizemode\": \"area\", \"sizeref\": 66.51}, \"name\": \"Malta\", \"showlegend\": true, \"type\": \"scattergeo\"}, {\"geo\": \"geo\", \"hovertemplate\": \"<b>%{hovertext}</b><br><br>country=Bosnia and Herzegovina<br>total_publications=%{marker.size}<br>country_code_alpha3=%{location}<extra></extra>\", \"hovertext\": [\"Bosnia and Herzegovina\"], \"legendgroup\": \"Bosnia and Herzegovina\", \"locations\": [\"BIH\"], \"marker\": {\"color\": \"#B6E880\", \"size\": [2], \"sizemode\": \"area\", \"sizeref\": 66.51}, \"name\": \"Bosnia and Herzegovina\", \"showlegend\": true, \"type\": \"scattergeo\"}, {\"geo\": \"geo\", \"hovertemplate\": \"<b>%{hovertext}</b><br><br>country=Rwanda<br>total_publications=%{marker.size}<br>country_code_alpha3=%{location}<extra></extra>\", \"hovertext\": [\"Rwanda\"], \"legendgroup\": \"Rwanda\", \"locations\": [\"RWA\"], \"marker\": {\"color\": \"#FF97FF\", \"size\": [1], \"sizemode\": \"area\", \"sizeref\": 66.51}, \"name\": \"Rwanda\", \"showlegend\": true, \"type\": \"scattergeo\"}, {\"geo\": \"geo\", \"hovertemplate\": \"<b>%{hovertext}</b><br><br>country=New Caledonia<br>total_publications=%{marker.size}<br>country_code_alpha3=%{location}<extra></extra>\", \"hovertext\": [\"New Caledonia\"], \"legendgroup\": \"New Caledonia\", \"locations\": [\"NCL\"], \"marker\": {\"color\": \"#FECB52\", \"size\": [1], \"sizemode\": \"area\", \"sizeref\": 66.51}, \"name\": \"New Caledonia\", \"showlegend\": true, \"type\": \"scattergeo\"}, {\"geo\": \"geo\", \"hovertemplate\": \"<b>%{hovertext}</b><br><br>country=Myanmar<br>total_publications=%{marker.size}<br>country_code_alpha3=%{location}<extra></extra>\", \"hovertext\": [\"Myanmar\"], \"legendgroup\": \"Myanmar\", \"locations\": [\"MMR\"], \"marker\": {\"color\": \"#636efa\", \"size\": [1], \"sizemode\": \"area\", \"sizeref\": 66.51}, \"name\": \"Myanmar\", \"showlegend\": true, \"type\": \"scattergeo\"}, {\"geo\": \"geo\", \"hovertemplate\": \"<b>%{hovertext}</b><br><br>country=Kiribati<br>total_publications=%{marker.size}<br>country_code_alpha3=%{location}<extra></extra>\", \"hovertext\": [\"Kiribati\"], \"legendgroup\": \"Kiribati\", \"locations\": [\"KIR\"], \"marker\": {\"color\": \"#EF553B\", \"size\": [1], \"sizemode\": \"area\", \"sizeref\": 66.51}, \"name\": \"Kiribati\", \"showlegend\": true, \"type\": \"scattergeo\"}, {\"geo\": \"geo\", \"hovertemplate\": \"<b>%{hovertext}</b><br><br>country=Guyana<br>total_publications=%{marker.size}<br>country_code_alpha3=%{location}<extra></extra>\", \"hovertext\": [\"Guyana\"], \"legendgroup\": \"Guyana\", \"locations\": [\"GUY\"], \"marker\": {\"color\": \"#00cc96\", \"size\": [1], \"sizemode\": \"area\", \"sizeref\": 66.51}, \"name\": \"Guyana\", \"showlegend\": true, \"type\": \"scattergeo\"}, {\"geo\": \"geo\", \"hovertemplate\": \"<b>%{hovertext}</b><br><br>country=Guadeloupe<br>total_publications=%{marker.size}<br>country_code_alpha3=%{location}<extra></extra>\", \"hovertext\": [\"Guadeloupe\"], \"legendgroup\": \"Guadeloupe\", \"locations\": [\"GLP\"], \"marker\": {\"color\": \"#ab63fa\", \"size\": [1], \"sizemode\": \"area\", \"sizeref\": 66.51}, \"name\": \"Guadeloupe\", \"showlegend\": true, \"type\": \"scattergeo\"}, {\"geo\": \"geo\", \"hovertemplate\": \"<b>%{hovertext}</b><br><br>country=Central African Republic<br>total_publications=%{marker.size}<br>country_code_alpha3=%{location}<extra></extra>\", \"hovertext\": [\"Central African Republic\"], \"legendgroup\": \"Central African Republic\", \"locations\": [\"CAF\"], \"marker\": {\"color\": \"#FFA15A\", \"size\": [1], \"sizemode\": \"area\", \"sizeref\": 66.51}, \"name\": \"Central African Republic\", \"showlegend\": true, \"type\": \"scattergeo\"}, {\"geo\": \"geo\", \"hovertemplate\": \"<b>%{hovertext}</b><br><br>country=Burkina Faso<br>total_publications=%{marker.size}<br>country_code_alpha3=%{location}<extra></extra>\", \"hovertext\": [\"Burkina Faso\"], \"legendgroup\": \"Burkina Faso\", \"locations\": [\"BFA\"], \"marker\": {\"color\": \"#19d3f3\", \"size\": [1], \"sizemode\": \"area\", \"sizeref\": 66.51}, \"name\": \"Burkina Faso\", \"showlegend\": true, \"type\": \"scattergeo\"}, {\"geo\": \"geo\", \"hovertemplate\": \"<b>%{hovertext}</b><br><br>country=Bahamas<br>total_publications=%{marker.size}<br>country_code_alpha3=%{location}<extra></extra>\", \"hovertext\": [\"Bahamas\"], \"legendgroup\": \"Bahamas\", \"locations\": [\"BHS\"], \"marker\": {\"color\": \"#FF6692\", \"size\": [1], \"sizemode\": \"area\", \"sizeref\": 66.51}, \"name\": \"Bahamas\", \"showlegend\": true, \"type\": \"scattergeo\"}, {\"geo\": \"geo\", \"hovertemplate\": \"<b>%{hovertext}</b><br><br>country=Kyrgyzstan<br>total_publications=%{marker.size}<br>country_code_alpha3=%{location}<extra></extra>\", \"hovertext\": [\"Kyrgyzstan\"], \"legendgroup\": \"Kyrgyzstan\", \"locations\": [\"KGZ\"], \"marker\": {\"color\": \"#B6E880\", \"size\": [1], \"sizemode\": \"area\", \"sizeref\": 66.51}, \"name\": \"Kyrgyzstan\", \"showlegend\": true, \"type\": \"scattergeo\"}],\n",
       "                        {\"geo\": {\"center\": {}, \"domain\": {\"x\": [0.0, 1.0], \"y\": [0.0, 1.0]}, \"projection\": {\"type\": \"natural earth\"}}, \"legend\": {\"itemsizing\": \"constant\", \"title\": {\"text\": \"country\"}, \"tracegroupgap\": 0}, \"template\": {\"data\": {\"bar\": [{\"error_x\": {\"color\": \"#2a3f5f\"}, \"error_y\": {\"color\": \"#2a3f5f\"}, \"marker\": {\"line\": {\"color\": \"#E5ECF6\", \"width\": 0.5}}, \"type\": \"bar\"}], \"barpolar\": [{\"marker\": {\"line\": {\"color\": \"#E5ECF6\", \"width\": 0.5}}, \"type\": \"barpolar\"}], \"carpet\": [{\"aaxis\": {\"endlinecolor\": \"#2a3f5f\", \"gridcolor\": \"white\", \"linecolor\": \"white\", \"minorgridcolor\": \"white\", \"startlinecolor\": \"#2a3f5f\"}, \"baxis\": {\"endlinecolor\": \"#2a3f5f\", \"gridcolor\": \"white\", \"linecolor\": \"white\", \"minorgridcolor\": \"white\", \"startlinecolor\": \"#2a3f5f\"}, \"type\": \"carpet\"}], \"choropleth\": [{\"colorbar\": {\"outlinewidth\": 0, \"ticks\": \"\"}, \"type\": \"choropleth\"}], \"contour\": [{\"colorbar\": {\"outlinewidth\": 0, \"ticks\": \"\"}, \"colorscale\": [[0.0, \"#0d0887\"], [0.1111111111111111, \"#46039f\"], [0.2222222222222222, \"#7201a8\"], [0.3333333333333333, \"#9c179e\"], [0.4444444444444444, \"#bd3786\"], [0.5555555555555556, \"#d8576b\"], [0.6666666666666666, \"#ed7953\"], [0.7777777777777778, \"#fb9f3a\"], [0.8888888888888888, \"#fdca26\"], [1.0, \"#f0f921\"]], \"type\": \"contour\"}], \"contourcarpet\": [{\"colorbar\": {\"outlinewidth\": 0, \"ticks\": \"\"}, \"type\": \"contourcarpet\"}], \"heatmap\": [{\"colorbar\": {\"outlinewidth\": 0, \"ticks\": \"\"}, \"colorscale\": [[0.0, \"#0d0887\"], [0.1111111111111111, \"#46039f\"], [0.2222222222222222, \"#7201a8\"], [0.3333333333333333, \"#9c179e\"], [0.4444444444444444, \"#bd3786\"], [0.5555555555555556, \"#d8576b\"], [0.6666666666666666, \"#ed7953\"], [0.7777777777777778, \"#fb9f3a\"], [0.8888888888888888, \"#fdca26\"], [1.0, \"#f0f921\"]], \"type\": \"heatmap\"}], \"heatmapgl\": [{\"colorbar\": {\"outlinewidth\": 0, \"ticks\": \"\"}, \"colorscale\": [[0.0, \"#0d0887\"], [0.1111111111111111, \"#46039f\"], [0.2222222222222222, \"#7201a8\"], [0.3333333333333333, \"#9c179e\"], [0.4444444444444444, \"#bd3786\"], [0.5555555555555556, \"#d8576b\"], [0.6666666666666666, \"#ed7953\"], [0.7777777777777778, \"#fb9f3a\"], [0.8888888888888888, \"#fdca26\"], [1.0, \"#f0f921\"]], \"type\": \"heatmapgl\"}], \"histogram\": [{\"marker\": {\"colorbar\": {\"outlinewidth\": 0, \"ticks\": \"\"}}, \"type\": \"histogram\"}], \"histogram2d\": [{\"colorbar\": {\"outlinewidth\": 0, \"ticks\": \"\"}, \"colorscale\": [[0.0, \"#0d0887\"], [0.1111111111111111, \"#46039f\"], [0.2222222222222222, \"#7201a8\"], [0.3333333333333333, \"#9c179e\"], [0.4444444444444444, \"#bd3786\"], [0.5555555555555556, \"#d8576b\"], [0.6666666666666666, \"#ed7953\"], [0.7777777777777778, \"#fb9f3a\"], [0.8888888888888888, \"#fdca26\"], [1.0, \"#f0f921\"]], \"type\": \"histogram2d\"}], \"histogram2dcontour\": [{\"colorbar\": {\"outlinewidth\": 0, \"ticks\": \"\"}, \"colorscale\": [[0.0, \"#0d0887\"], [0.1111111111111111, \"#46039f\"], [0.2222222222222222, \"#7201a8\"], [0.3333333333333333, \"#9c179e\"], [0.4444444444444444, \"#bd3786\"], [0.5555555555555556, \"#d8576b\"], [0.6666666666666666, \"#ed7953\"], [0.7777777777777778, \"#fb9f3a\"], [0.8888888888888888, \"#fdca26\"], [1.0, \"#f0f921\"]], \"type\": \"histogram2dcontour\"}], \"mesh3d\": [{\"colorbar\": {\"outlinewidth\": 0, \"ticks\": \"\"}, \"type\": \"mesh3d\"}], \"parcoords\": [{\"line\": {\"colorbar\": {\"outlinewidth\": 0, \"ticks\": \"\"}}, \"type\": \"parcoords\"}], \"pie\": [{\"automargin\": true, \"type\": \"pie\"}], \"scatter\": [{\"marker\": {\"colorbar\": {\"outlinewidth\": 0, \"ticks\": \"\"}}, \"type\": \"scatter\"}], \"scatter3d\": [{\"line\": {\"colorbar\": {\"outlinewidth\": 0, \"ticks\": \"\"}}, \"marker\": {\"colorbar\": {\"outlinewidth\": 0, \"ticks\": \"\"}}, \"type\": \"scatter3d\"}], \"scattercarpet\": [{\"marker\": {\"colorbar\": {\"outlinewidth\": 0, \"ticks\": \"\"}}, \"type\": \"scattercarpet\"}], \"scattergeo\": [{\"marker\": {\"colorbar\": {\"outlinewidth\": 0, \"ticks\": \"\"}}, \"type\": \"scattergeo\"}], \"scattergl\": [{\"marker\": {\"colorbar\": {\"outlinewidth\": 0, \"ticks\": \"\"}}, \"type\": \"scattergl\"}], \"scattermapbox\": [{\"marker\": {\"colorbar\": {\"outlinewidth\": 0, \"ticks\": \"\"}}, \"type\": \"scattermapbox\"}], \"scatterpolar\": [{\"marker\": {\"colorbar\": {\"outlinewidth\": 0, \"ticks\": \"\"}}, \"type\": \"scatterpolar\"}], \"scatterpolargl\": [{\"marker\": {\"colorbar\": {\"outlinewidth\": 0, \"ticks\": \"\"}}, \"type\": \"scatterpolargl\"}], \"scatterternary\": [{\"marker\": {\"colorbar\": {\"outlinewidth\": 0, \"ticks\": \"\"}}, \"type\": \"scatterternary\"}], \"surface\": [{\"colorbar\": {\"outlinewidth\": 0, \"ticks\": \"\"}, \"colorscale\": [[0.0, \"#0d0887\"], [0.1111111111111111, \"#46039f\"], [0.2222222222222222, \"#7201a8\"], [0.3333333333333333, \"#9c179e\"], [0.4444444444444444, \"#bd3786\"], [0.5555555555555556, \"#d8576b\"], [0.6666666666666666, \"#ed7953\"], [0.7777777777777778, \"#fb9f3a\"], [0.8888888888888888, \"#fdca26\"], [1.0, \"#f0f921\"]], \"type\": \"surface\"}], \"table\": [{\"cells\": {\"fill\": {\"color\": \"#EBF0F8\"}, \"line\": {\"color\": \"white\"}}, \"header\": {\"fill\": {\"color\": \"#C8D4E3\"}, \"line\": {\"color\": \"white\"}}, \"type\": \"table\"}]}, \"layout\": {\"annotationdefaults\": {\"arrowcolor\": \"#2a3f5f\", \"arrowhead\": 0, \"arrowwidth\": 1}, \"coloraxis\": {\"colorbar\": {\"outlinewidth\": 0, \"ticks\": \"\"}}, \"colorscale\": {\"diverging\": [[0, \"#8e0152\"], [0.1, \"#c51b7d\"], [0.2, \"#de77ae\"], [0.3, \"#f1b6da\"], [0.4, \"#fde0ef\"], [0.5, \"#f7f7f7\"], [0.6, \"#e6f5d0\"], [0.7, \"#b8e186\"], [0.8, \"#7fbc41\"], [0.9, \"#4d9221\"], [1, \"#276419\"]], \"sequential\": [[0.0, \"#0d0887\"], [0.1111111111111111, \"#46039f\"], [0.2222222222222222, \"#7201a8\"], [0.3333333333333333, \"#9c179e\"], [0.4444444444444444, \"#bd3786\"], [0.5555555555555556, \"#d8576b\"], [0.6666666666666666, \"#ed7953\"], [0.7777777777777778, \"#fb9f3a\"], [0.8888888888888888, \"#fdca26\"], [1.0, \"#f0f921\"]], \"sequentialminus\": [[0.0, \"#0d0887\"], [0.1111111111111111, \"#46039f\"], [0.2222222222222222, \"#7201a8\"], [0.3333333333333333, \"#9c179e\"], [0.4444444444444444, \"#bd3786\"], [0.5555555555555556, \"#d8576b\"], [0.6666666666666666, \"#ed7953\"], [0.7777777777777778, \"#fb9f3a\"], [0.8888888888888888, \"#fdca26\"], [1.0, \"#f0f921\"]]}, \"colorway\": [\"#636efa\", \"#EF553B\", \"#00cc96\", \"#ab63fa\", \"#FFA15A\", \"#19d3f3\", \"#FF6692\", \"#B6E880\", \"#FF97FF\", \"#FECB52\"], \"font\": {\"color\": \"#2a3f5f\"}, \"geo\": {\"bgcolor\": \"white\", \"lakecolor\": \"white\", \"landcolor\": \"#E5ECF6\", \"showlakes\": true, \"showland\": true, \"subunitcolor\": \"white\"}, \"hoverlabel\": {\"align\": \"left\"}, \"hovermode\": \"closest\", \"mapbox\": {\"style\": \"light\"}, \"paper_bgcolor\": \"white\", \"plot_bgcolor\": \"#E5ECF6\", \"polar\": {\"angularaxis\": {\"gridcolor\": \"white\", \"linecolor\": \"white\", \"ticks\": \"\"}, \"bgcolor\": \"#E5ECF6\", \"radialaxis\": {\"gridcolor\": \"white\", \"linecolor\": \"white\", \"ticks\": \"\"}}, \"scene\": {\"xaxis\": {\"backgroundcolor\": \"#E5ECF6\", \"gridcolor\": \"white\", \"gridwidth\": 2, \"linecolor\": \"white\", \"showbackground\": true, \"ticks\": \"\", \"zerolinecolor\": \"white\"}, \"yaxis\": {\"backgroundcolor\": \"#E5ECF6\", \"gridcolor\": \"white\", \"gridwidth\": 2, \"linecolor\": \"white\", \"showbackground\": true, \"ticks\": \"\", \"zerolinecolor\": \"white\"}, \"zaxis\": {\"backgroundcolor\": \"#E5ECF6\", \"gridcolor\": \"white\", \"gridwidth\": 2, \"linecolor\": \"white\", \"showbackground\": true, \"ticks\": \"\", \"zerolinecolor\": \"white\"}}, \"shapedefaults\": {\"line\": {\"color\": \"#2a3f5f\"}}, \"ternary\": {\"aaxis\": {\"gridcolor\": \"white\", \"linecolor\": \"white\", \"ticks\": \"\"}, \"baxis\": {\"gridcolor\": \"white\", \"linecolor\": \"white\", \"ticks\": \"\"}, \"bgcolor\": \"#E5ECF6\", \"caxis\": {\"gridcolor\": \"white\", \"linecolor\": \"white\", \"ticks\": \"\"}}, \"title\": {\"x\": 0.05}, \"xaxis\": {\"automargin\": true, \"gridcolor\": \"white\", \"linecolor\": \"white\", \"ticks\": \"\", \"title\": {\"standoff\": 15}, \"zerolinecolor\": \"white\", \"zerolinewidth\": 2}, \"yaxis\": {\"automargin\": true, \"gridcolor\": \"white\", \"linecolor\": \"white\", \"ticks\": \"\", \"title\": {\"standoff\": 15}, \"zerolinecolor\": \"white\", \"zerolinewidth\": 2}}}, \"title\": {\"text\": \"Overview of total number of papers issued by country (96615 from 170814)\"}},\n",
       "                        {\"responsive\": true}\n",
       "                    ).then(function(){\n",
       "                            \n",
       "var gd = document.getElementById('48c984d0-376f-4662-a5f4-4e0b176a9a60');\n",
       "var x = new MutationObserver(function (mutations, observer) {{\n",
       "        var display = window.getComputedStyle(gd).display;\n",
       "        if (!display || display === 'none') {{\n",
       "            console.log([gd, 'removed!']);\n",
       "            Plotly.purge(gd);\n",
       "            observer.disconnect();\n",
       "        }}\n",
       "}});\n",
       "\n",
       "// Listen for the removal of the full notebook cells\n",
       "var notebookContainer = gd.closest('#notebook-container');\n",
       "if (notebookContainer) {{\n",
       "    x.observe(notebookContainer, {childList: true});\n",
       "}}\n",
       "\n",
       "// Listen for the clearing of the current output cell\n",
       "var outputEl = gd.closest('.output');\n",
       "if (outputEl) {{\n",
       "    x.observe(outputEl, {childList: true});\n",
       "}}\n",
       "\n",
       "                        })\n",
       "                };\n",
       "                });\n",
       "            </script>\n",
       "        </div>"
      ]
     },
     "metadata": {},
     "output_type": "display_data"
    }
   ],
   "source": [
    "import plotly.express as px\n",
    "fig = px.scatter_geo(bc,title=f\"Overview of total number of papers issued by country ({pubs_by_country} from {total_publications})\", \n",
    "                     locations=\"country_code_alpha3\", color=\"country\", hover_name=\"country\", size=\"total_publications\",projection=\"natural earth\")\n",
    "fig.show()"
   ]
  },
  {
   "cell_type": "markdown",
   "metadata": {},
   "source": [
    "### Now Process the whole article set"
   ]
  },
  {
   "cell_type": "code",
   "execution_count": 275,
   "metadata": {},
   "outputs": [],
   "source": [
    "articles = try_read_parquet(articles_file)"
   ]
  },
  {
   "cell_type": "code",
   "execution_count": 282,
   "metadata": {},
   "outputs": [],
   "source": [
    "articles.drop(columns=['title'],inplace=True)\n",
    "articles.drop_duplicates(['abstract', 'body'], inplace=True)\n",
    "articles.dropna(inplace=True)"
   ]
  },
  {
   "cell_type": "code",
   "execution_count": 287,
   "metadata": {},
   "outputs": [
    {
     "data": {
      "text/html": [
       "<div>\n",
       "<style scoped>\n",
       "    .dataframe tbody tr th:only-of-type {\n",
       "        vertical-align: middle;\n",
       "    }\n",
       "\n",
       "    .dataframe tbody tr th {\n",
       "        vertical-align: top;\n",
       "    }\n",
       "\n",
       "    .dataframe thead th {\n",
       "        text-align: right;\n",
       "    }\n",
       "</style>\n",
       "<table border=\"1\" class=\"dataframe\">\n",
       "  <thead>\n",
       "    <tr style=\"text-align: right;\">\n",
       "      <th></th>\n",
       "      <th>abstract</th>\n",
       "      <th>body</th>\n",
       "      <th>paper_id</th>\n",
       "    </tr>\n",
       "  </thead>\n",
       "  <tbody>\n",
       "    <tr>\n",
       "      <th>count</th>\n",
       "      <td>33030</td>\n",
       "      <td>33030</td>\n",
       "      <td>33030</td>\n",
       "    </tr>\n",
       "    <tr>\n",
       "      <th>unique</th>\n",
       "      <td>24400</td>\n",
       "      <td>33011</td>\n",
       "      <td>33030</td>\n",
       "    </tr>\n",
       "    <tr>\n",
       "      <th>top</th>\n",
       "      <td></td>\n",
       "      <td>Dipeptidyl peptidase 4 (DPP4, CD26), a type II...</td>\n",
       "      <td>e7e0c619c9f078101beffb8b3822c65e95995856</td>\n",
       "    </tr>\n",
       "    <tr>\n",
       "      <th>freq</th>\n",
       "      <td>8474</td>\n",
       "      <td>2</td>\n",
       "      <td>1</td>\n",
       "    </tr>\n",
       "  </tbody>\n",
       "</table>\n",
       "</div>"
      ],
      "text/plain": [
       "       abstract                                               body  \\\n",
       "count     33030                                              33030   \n",
       "unique    24400                                              33011   \n",
       "top              Dipeptidyl peptidase 4 (DPP4, CD26), a type II...   \n",
       "freq       8474                                                  2   \n",
       "\n",
       "                                        paper_id  \n",
       "count                                      33030  \n",
       "unique                                     33030  \n",
       "top     e7e0c619c9f078101beffb8b3822c65e95995856  \n",
       "freq                                           1  "
      ]
     },
     "execution_count": 287,
     "metadata": {},
     "output_type": "execute_result"
    }
   ],
   "source": [
    "articles.describe()"
   ]
  },
  {
   "cell_type": "markdown",
   "metadata": {},
   "source": [
    "Removing punctuation marks and setting word counts and lower case letters"
   ]
  },
  {
   "cell_type": "code",
   "execution_count": 289,
   "metadata": {},
   "outputs": [],
   "source": [
    "articles['abstract_word_count'] = articles['abstract'].apply(lambda x: len(x.strip().split()))\n",
    "articles['body_word_count'] = articles['body'].apply(lambda x: len(x.strip().split()))\n",
    "articles['body'] = articles['body'].apply(lambda x: re.sub('[^a-zA-z0-9\\s]','',x.lower()))\n",
    "articles['abstract'] = articles['abstract'].apply(lambda x: re.sub('[^a-zA-z0-9\\s]','',x.lower()))"
   ]
  },
  {
   "cell_type": "markdown",
   "metadata": {},
   "source": [
    "#### Trying clustering classification by abstract"
   ]
  },
  {
   "cell_type": "markdown",
   "metadata": {},
   "source": [
    "First will try to identify the language in which each article was written"
   ]
  },
  {
   "cell_type": "markdown",
   "metadata": {},
   "source": [
    "It was found that several articles do not contain an abstract, therefore the language translation will be based on the body contents"
   ]
  },
  {
   "cell_type": "code",
   "execution_count": 306,
   "metadata": {},
   "outputs": [],
   "source": [
    "emppty_abstracts = articles[(articles.abstract == None) | (articles.abstract == '')]"
   ]
  },
  {
   "cell_type": "code",
   "execution_count": 305,
   "metadata": {},
   "outputs": [],
   "source": [
    "import nltk\n",
    "import langdetect\n",
    "def detect_language(text):\n",
    "    try:\n",
    "        return langdetect.detect(text)\n",
    "    except:\n",
    "        return 'Unkown'\n",
    "    \n",
    "articles['language'] = articles['body'].apply(lambda x:detect_language(x))"
   ]
  },
  {
   "cell_type": "code",
   "execution_count": 302,
   "metadata": {},
   "outputs": [
    {
     "data": {
      "text/html": [
       "<div>\n",
       "<style scoped>\n",
       "    .dataframe tbody tr th:only-of-type {\n",
       "        vertical-align: middle;\n",
       "    }\n",
       "\n",
       "    .dataframe tbody tr th {\n",
       "        vertical-align: top;\n",
       "    }\n",
       "\n",
       "    .dataframe thead th {\n",
       "        text-align: right;\n",
       "    }\n",
       "</style>\n",
       "<table border=\"1\" class=\"dataframe\">\n",
       "  <thead>\n",
       "    <tr style=\"text-align: right;\">\n",
       "      <th></th>\n",
       "      <th>abstract</th>\n",
       "      <th>body</th>\n",
       "      <th>paper_id</th>\n",
       "      <th>abstract_word_count</th>\n",
       "      <th>body_word_count</th>\n",
       "      <th>language</th>\n",
       "    </tr>\n",
       "  </thead>\n",
       "  <tbody>\n",
       "    <tr>\n",
       "      <th>2</th>\n",
       "      <td></td>\n",
       "      <td>the 2019ncov epidemic has spread across china ...</td>\n",
       "      <td>004f0f8bb66cf446678dc13cf2701feec4f36d76</td>\n",
       "      <td>0</td>\n",
       "      <td>747</td>\n",
       "      <td>Unkown</td>\n",
       "    </tr>\n",
       "    <tr>\n",
       "      <th>10</th>\n",
       "      <td></td>\n",
       "      <td>estimation is complicated however by efforts t...</td>\n",
       "      <td>029c1c588047f1d612a219ee15494d2d19ff7439</td>\n",
       "      <td>0</td>\n",
       "      <td>1052</td>\n",
       "      <td>Unkown</td>\n",
       "    </tr>\n",
       "    <tr>\n",
       "      <th>17</th>\n",
       "      <td></td>\n",
       "      <td>to examine the role of the kinetochore dynein ...</td>\n",
       "      <td>05082393ba4c7ec530190dd887d99c74fd72f6d6</td>\n",
       "      <td>0</td>\n",
       "      <td>4916</td>\n",
       "      <td>Unkown</td>\n",
       "    </tr>\n",
       "    <tr>\n",
       "      <th>18</th>\n",
       "      <td></td>\n",
       "      <td>the world is currently faced with a pandemic o...</td>\n",
       "      <td>05d47dd5b46f86428de058db4ecc8bca76a9ad16</td>\n",
       "      <td>0</td>\n",
       "      <td>5385</td>\n",
       "      <td>Unkown</td>\n",
       "    </tr>\n",
       "    <tr>\n",
       "      <th>32</th>\n",
       "      <td></td>\n",
       "      <td>many viruses globally shut off host gene expre...</td>\n",
       "      <td>09ec8daa8e32168d92d05b86de1784c639685fb4</td>\n",
       "      <td>0</td>\n",
       "      <td>5630</td>\n",
       "      <td>Unkown</td>\n",
       "    </tr>\n",
       "    <tr>\n",
       "      <th>...</th>\n",
       "      <td>...</td>\n",
       "      <td>...</td>\n",
       "      <td>...</td>\n",
       "      <td>...</td>\n",
       "      <td>...</td>\n",
       "      <td>...</td>\n",
       "    </tr>\n",
       "    <tr>\n",
       "      <th>33348</th>\n",
       "      <td></td>\n",
       "      <td>we are living in a world with constant social ...</td>\n",
       "      <td>fc9566ce58963eeecb60b3dd52a9e03712045a38</td>\n",
       "      <td>0</td>\n",
       "      <td>1512</td>\n",
       "      <td>Unkown</td>\n",
       "    </tr>\n",
       "    <tr>\n",
       "      <th>33353</th>\n",
       "      <td></td>\n",
       "      <td>due to their weak immunogenicity conventional ...</td>\n",
       "      <td>fce74c6d77b50d5f596c327529665bf89087097c</td>\n",
       "      <td>0</td>\n",
       "      <td>5287</td>\n",
       "      <td>Unkown</td>\n",
       "    </tr>\n",
       "    <tr>\n",
       "      <th>33363</th>\n",
       "      <td></td>\n",
       "      <td>strengths and limitations of this study  our m...</td>\n",
       "      <td>ff2461416a15e35f6befb112accdc1301f5a7724</td>\n",
       "      <td>0</td>\n",
       "      <td>5658</td>\n",
       "      <td>Unkown</td>\n",
       "    </tr>\n",
       "    <tr>\n",
       "      <th>33365</th>\n",
       "      <td></td>\n",
       "      <td>diseasecwd human prions other than vcjd vcjd c...</td>\n",
       "      <td>ff2ac3737c6edf81ff29b8d72c3abc2b3df5b344</td>\n",
       "      <td>0</td>\n",
       "      <td>3569</td>\n",
       "      <td>Unkown</td>\n",
       "    </tr>\n",
       "    <tr>\n",
       "      <th>33366</th>\n",
       "      <td></td>\n",
       "      <td>national governments from around the world met...</td>\n",
       "      <td>ff34c772e37156609477e7f0fa4aba793171f806</td>\n",
       "      <td>0</td>\n",
       "      <td>2762</td>\n",
       "      <td>Unkown</td>\n",
       "    </tr>\n",
       "  </tbody>\n",
       "</table>\n",
       "<p>8493 rows × 6 columns</p>\n",
       "</div>"
      ],
      "text/plain": [
       "      abstract                                               body  \\\n",
       "2               the 2019ncov epidemic has spread across china ...   \n",
       "10              estimation is complicated however by efforts t...   \n",
       "17              to examine the role of the kinetochore dynein ...   \n",
       "18              the world is currently faced with a pandemic o...   \n",
       "32              many viruses globally shut off host gene expre...   \n",
       "...        ...                                                ...   \n",
       "33348           we are living in a world with constant social ...   \n",
       "33353           due to their weak immunogenicity conventional ...   \n",
       "33363           strengths and limitations of this study  our m...   \n",
       "33365           diseasecwd human prions other than vcjd vcjd c...   \n",
       "33366           national governments from around the world met...   \n",
       "\n",
       "                                       paper_id  abstract_word_count  \\\n",
       "2      004f0f8bb66cf446678dc13cf2701feec4f36d76                    0   \n",
       "10     029c1c588047f1d612a219ee15494d2d19ff7439                    0   \n",
       "17     05082393ba4c7ec530190dd887d99c74fd72f6d6                    0   \n",
       "18     05d47dd5b46f86428de058db4ecc8bca76a9ad16                    0   \n",
       "32     09ec8daa8e32168d92d05b86de1784c639685fb4                    0   \n",
       "...                                         ...                  ...   \n",
       "33348  fc9566ce58963eeecb60b3dd52a9e03712045a38                    0   \n",
       "33353  fce74c6d77b50d5f596c327529665bf89087097c                    0   \n",
       "33363  ff2461416a15e35f6befb112accdc1301f5a7724                    0   \n",
       "33365  ff2ac3737c6edf81ff29b8d72c3abc2b3df5b344                    0   \n",
       "33366  ff34c772e37156609477e7f0fa4aba793171f806                    0   \n",
       "\n",
       "       body_word_count language  \n",
       "2                  747   Unkown  \n",
       "10                1052   Unkown  \n",
       "17                4916   Unkown  \n",
       "18                5385   Unkown  \n",
       "32                5630   Unkown  \n",
       "...                ...      ...  \n",
       "33348             1512   Unkown  \n",
       "33353             5287   Unkown  \n",
       "33363             5658   Unkown  \n",
       "33365             3569   Unkown  \n",
       "33366             2762   Unkown  \n",
       "\n",
       "[8493 rows x 6 columns]"
      ]
     },
     "execution_count": 302,
     "metadata": {},
     "output_type": "execute_result"
    }
   ],
   "source": [
    "articles[articles['language']=='Unkown']"
   ]
  },
  {
   "cell_type": "code",
   "execution_count": 478,
   "metadata": {},
   "outputs": [
    {
     "ename": "IndentationError",
     "evalue": "unexpected indent (<ipython-input-478-61929d07175f>, line 10)",
     "output_type": "error",
     "traceback": [
      "\u001b[1;36m  File \u001b[1;32m\"<ipython-input-478-61929d07175f>\"\u001b[1;36m, line \u001b[1;32m10\u001b[0m\n\u001b[1;33m    input_str = input_str.lower()\u001b[0m\n\u001b[1;37m    ^\u001b[0m\n\u001b[1;31mIndentationError\u001b[0m\u001b[1;31m:\u001b[0m unexpected indent\n"
     ]
    }
   ],
   "source": [
    "df_covid.info()\n",
    "df_covid = df_covid.head(12500)\n",
    "\n",
    "import re\n",
    "\n",
    "df_covid['body_text'] = df_covid['body_text'].apply(lambda x: re.sub('[^a-zA-z0-9\\s]','',x))\n",
    "df_covid['abstract'] = df_covid['abstract'].apply(lambda x: re.sub('[^a-zA-z0-9\\s]','',x))\n",
    "\n",
    "\n",
    "    input_str = input_str.lower()\n",
    "    return input_str\n",
    "\n",
    "df_covid['body_text'] = df_covid['body_text'].apply(lambda x: lower_case(x))\n",
    "df_covid['abstract'] = df_covid['abstract'].apply(lambda x: lower_case(x))"
   ]
  },
  {
   "cell_type": "code",
   "execution_count": 304,
   "metadata": {},
   "outputs": [
    {
     "data": {
      "text/plain": [
       "{'paper_id': 'ff34c772e37156609477e7f0fa4aba793171f806',\n",
       " 'metadata': {'title': 'Climate Change and Health in Canada',\n",
       "  'authors': [{'first': 'Berrang',\n",
       "    'middle': [],\n",
       "    'last': 'Lea',\n",
       "    'suffix': '',\n",
       "    'affiliation': {'laboratory': '',\n",
       "     'institution': 'McGill University Burnside Hall Rm',\n",
       "     'location': {'addrLine': '705 805 Sherbrooke Street Ouest Montreal',\n",
       "      'postCode': 'H3A 2K6',\n",
       "      'region': 'QC'}},\n",
       "    'email': ''},\n",
       "   {'first': '',\n",
       "    'middle': [],\n",
       "    'last': 'Ford',\n",
       "    'suffix': '',\n",
       "    'affiliation': {'laboratory': '',\n",
       "     'institution': 'McGill University Burnside Hall Rm',\n",
       "     'location': {'addrLine': '705 805 Sherbrooke Street Ouest Montreal',\n",
       "      'postCode': 'H3A 2K6',\n",
       "      'region': 'QC'}},\n",
       "    'email': ''},\n",
       "   {'first': 'Lea',\n",
       "    'middle': ['Berrang'],\n",
       "    'last': 'Ford',\n",
       "    'suffix': '',\n",
       "    'affiliation': {'laboratory': '',\n",
       "     'institution': 'McGill University Burnside Hall Rm',\n",
       "     'location': {'addrLine': '705 805 Sherbrooke Street Ouest Montreal',\n",
       "      'postCode': 'H3A 2K6',\n",
       "      'region': 'QC'}},\n",
       "    'email': ''}]},\n",
       " 'abstract': [],\n",
       " 'body_text': [{'text': 'National governments from around the world met in Poznan, Poland in December 2008 at the 14th Conference of the Parties to the United Nations Framework Convention on Climate Change (1). This conference came at a time of increasing political and scientific confidence in the role of human-induced greenhouse gas emissions in changing global temperatures. The most recent (2007) report of the Intergovernmental Panel on Climate Change (2) states that climate change is now \"unequivocal\", based on increasing evidence from global average air and ocean temperatures, melting of snow and ice, and rising global average sea level\" (2) . While there remains uncertainty regarding the specific nature and rate of climatic changes and their impacts, there is negligible scientific doubt that the global climate is changing and that these changes will have significant and potentially profound impacts on a wide range of ecological and human systems across the planet (3) (4) (5) (6) .',\n",
       "   'cite_spans': [{'start': 433,\n",
       "     'end': 436,\n",
       "     'text': '(2)',\n",
       "     'ref_id': 'BIBREF1'},\n",
       "    {'start': 625, 'end': 628, 'text': '(2)', 'ref_id': 'BIBREF1'},\n",
       "    {'start': 958, 'end': 961, 'text': '(3)', 'ref_id': 'BIBREF2'},\n",
       "    {'start': 962, 'end': 965, 'text': '(4)', 'ref_id': 'BIBREF3'},\n",
       "    {'start': 966, 'end': 969, 'text': '(5)', 'ref_id': 'BIBREF4'},\n",
       "    {'start': 970, 'end': 973, 'text': '(6)', 'ref_id': 'BIBREF5'}],\n",
       "   'ref_spans': [],\n",
       "   'section': 'INTRODUCTION'},\n",
       "  {'text': 'That climate change predictions are both scientifically and politically daunting lessens neither their verity nor implied imperative (7, 8) . Climate change will involve an average increase in global temperatures of approximately 1.1-6.4°C by the end of the century (1); this range reflects both uncertainty in climate modeling, as well as a range of possible scenarios for how we will respond to climate changes, including mitigation, technology development, economic development and population growth. This temperature shift will be manifest in average global climatic changes, including higher maximum temperature, more very hot days, increased occurrence and severity of heat waves, fewer cold and frost days, fewer cold spells, more intense precipitation events, increased risk of drought in continental areas, increased cyclone intensities, and intensified ENSO events. These effects will, however, vary significantly by region and act within existing climate conditions. For example, while parts of Latin America will see minimal changes in temperature, Arctic regions are expected to experience an average temperature shift of 4-7°C by the end of the century (9) and recent research suggests that even these projections may be conservative (6, 10) .',\n",
       "   'cite_spans': [{'start': 133,\n",
       "     'end': 136,\n",
       "     'text': '(7,',\n",
       "     'ref_id': 'BIBREF6'},\n",
       "    {'start': 137, 'end': 139, 'text': '8)', 'ref_id': 'BIBREF7'},\n",
       "    {'start': 1167, 'end': 1170, 'text': '(9)', 'ref_id': 'BIBREF8'},\n",
       "    {'start': 1248, 'end': 1251, 'text': '(6,', 'ref_id': 'BIBREF5'},\n",
       "    {'start': 1252, 'end': 1255, 'text': '10)', 'ref_id': 'BIBREF9'}],\n",
       "   'ref_spans': [],\n",
       "   'section': 'INTRODUCTION'},\n",
       "  {'text': 'Changes in our global and regional climate systems will have important implications for health and health systems (11) (12) (13) (14) (15) (16) (17) (18) (19) (20) (21) (22) . The World Health Organization estimated that in the year 2000, climate change caused approximately 150,000 excess deaths worldwide, as well as 5 million disability-adjusted life years (19) . Temperature and weather have direct effects on mortality and morbidity through the occurrence of extreme weather events, including heatwaves, cold periods, storms, floods, and droughts (11, (23) (24) (25) . Such events can, in turn, affect the incidence of food-borne and water-borne disease (26, 27) . The habitat and survival of insect species capable of transmitting many vector-borne diseases are affected by temperature and water regimes (28, 29) . Many pathogen replication cycles are also determined by temperature conditions. Indirect impacts of climate change on livelihoods, such as increased economic vulnerability, reduced availability of food resources, and reduced allocation of government funding for health systems, may also have important, though unquantified, impacts on global health systems (2, 12, 14, 18, 20, 30) .',\n",
       "   'cite_spans': [{'start': 114,\n",
       "     'end': 118,\n",
       "     'text': '(11)',\n",
       "     'ref_id': 'BIBREF10'},\n",
       "    {'start': 119, 'end': 123, 'text': '(12)', 'ref_id': 'BIBREF11'},\n",
       "    {'start': 124, 'end': 128, 'text': '(13)', 'ref_id': 'BIBREF12'},\n",
       "    {'start': 129, 'end': 133, 'text': '(14)', 'ref_id': 'BIBREF13'},\n",
       "    {'start': 134, 'end': 138, 'text': '(15)', 'ref_id': 'BIBREF14'},\n",
       "    {'start': 139, 'end': 143, 'text': '(16)', 'ref_id': 'BIBREF15'},\n",
       "    {'start': 144, 'end': 148, 'text': '(17)', 'ref_id': 'BIBREF16'},\n",
       "    {'start': 149, 'end': 153, 'text': '(18)', 'ref_id': 'BIBREF17'},\n",
       "    {'start': 154, 'end': 158, 'text': '(19)', 'ref_id': 'BIBREF18'},\n",
       "    {'start': 159, 'end': 163, 'text': '(20)', 'ref_id': 'BIBREF19'},\n",
       "    {'start': 164, 'end': 168, 'text': '(21)', 'ref_id': 'BIBREF20'},\n",
       "    {'start': 169, 'end': 173, 'text': '(22)', 'ref_id': 'BIBREF21'},\n",
       "    {'start': 360, 'end': 364, 'text': '(19)', 'ref_id': 'BIBREF18'},\n",
       "    {'start': 552, 'end': 556, 'text': '(11,', 'ref_id': 'BIBREF10'},\n",
       "    {'start': 557, 'end': 561, 'text': '(23)', 'ref_id': 'BIBREF22'},\n",
       "    {'start': 562, 'end': 566, 'text': '(24)', 'ref_id': 'BIBREF23'},\n",
       "    {'start': 567, 'end': 571, 'text': '(25)', 'ref_id': 'BIBREF24'},\n",
       "    {'start': 659, 'end': 663, 'text': '(26,', 'ref_id': 'BIBREF25'},\n",
       "    {'start': 664, 'end': 667, 'text': '27)', 'ref_id': 'BIBREF26'},\n",
       "    {'start': 810, 'end': 814, 'text': '(28,', 'ref_id': 'BIBREF27'},\n",
       "    {'start': 815, 'end': 818, 'text': '29)', 'ref_id': 'BIBREF28'},\n",
       "    {'start': 1178, 'end': 1181, 'text': '(2,', 'ref_id': 'BIBREF1'},\n",
       "    {'start': 1182, 'end': 1185, 'text': '12,', 'ref_id': 'BIBREF11'},\n",
       "    {'start': 1186, 'end': 1189, 'text': '14,', 'ref_id': 'BIBREF13'},\n",
       "    {'start': 1190, 'end': 1193, 'text': '18,', 'ref_id': 'BIBREF17'},\n",
       "    {'start': 1194, 'end': 1197, 'text': '20,', 'ref_id': 'BIBREF19'},\n",
       "    {'start': 1198, 'end': 1201, 'text': '30)', 'ref_id': 'BIBREF29'}],\n",
       "   'ref_spans': [],\n",
       "   'section': 'INTRODUCTION'},\n",
       "  {'text': 'Health impacts due to climate change have already been documented, including changes in the range of some vector-borne diseases (28, 29, (31) (32) (33) and an increase in heatwave-related deaths (11, 34, 35) . Indirect effects will also include increases in regional food insecurity, migration resulting from environmental degradation, and loss of environmental-dependent livelihoods resulting from ecological shifts in weather or species distributions (16) . Table 1 summarizes the reported and projected health impacts of climate change documented by the Intergovernmental Panel on Climate Change (IPCC). The IPCC, an intergovernmental body open to all United Nations member countries, comprehensively assesses existing literature related to climate change science, potential impacts, and options for adaptation and mitigation. The published reports represent the consensus of thousands of scientists around the world contributing as authors and reviewers, as well as political consensus required by member countries for the acceptance, adoption and approval of the final document. These projections and measures of confidence are therefore believed to be conservative (3) (4) (5) .',\n",
       "   'cite_spans': [{'start': 128,\n",
       "     'end': 132,\n",
       "     'text': '(28,',\n",
       "     'ref_id': 'BIBREF27'},\n",
       "    {'start': 133, 'end': 136, 'text': '29,', 'ref_id': 'BIBREF28'},\n",
       "    {'start': 137, 'end': 141, 'text': '(31)', 'ref_id': 'BIBREF30'},\n",
       "    {'start': 142, 'end': 146, 'text': '(32)', 'ref_id': 'BIBREF31'},\n",
       "    {'start': 147, 'end': 151, 'text': '(33)', 'ref_id': 'BIBREF32'},\n",
       "    {'start': 195, 'end': 199, 'text': '(11,', 'ref_id': 'BIBREF10'},\n",
       "    {'start': 200, 'end': 203, 'text': '34,', 'ref_id': 'BIBREF33'},\n",
       "    {'start': 204, 'end': 207, 'text': '35)', 'ref_id': 'BIBREF34'},\n",
       "    {'start': 453, 'end': 457, 'text': '(16)', 'ref_id': 'BIBREF15'},\n",
       "    {'start': 1171, 'end': 1174, 'text': '(3)', 'ref_id': 'BIBREF2'},\n",
       "    {'start': 1175, 'end': 1178, 'text': '(4)', 'ref_id': 'BIBREF3'},\n",
       "    {'start': 1179, 'end': 1182, 'text': '(5)', 'ref_id': 'BIBREF4'}],\n",
       "   'ref_spans': [{'start': 460,\n",
       "     'end': 467,\n",
       "     'text': 'Table 1',\n",
       "     'ref_id': 'TABREF0'}],\n",
       "   'section': 'INTRODUCTION'},\n",
       "  {'text': 'Current climate change effects on global health are small but increasing in most countries (16) . This is due to the lag effect between greenhouse-gas emissions, climate system warming, and the weight of evidence documenting health impacts. While the burden of negative health impacts will be disproportionately high in poorer countries, even high-income countries will be vulnerable to morbidity and mortality related to increases in the number and severity of extreme weather events such as storms, heatwaves, and floods (16) . Vulnerable populations in all countries include the urban poor, the elderly and children, traditional communities, subsistence farming communities, and coastal populations (16, 21, (36) (37) (38) . Evidence does not support the potential for economic development to combat the health impacts of climate change (16) .',\n",
       "   'cite_spans': [{'start': 91,\n",
       "     'end': 95,\n",
       "     'text': '(16)',\n",
       "     'ref_id': 'BIBREF15'},\n",
       "    {'start': 523, 'end': 527, 'text': '(16)', 'ref_id': 'BIBREF15'},\n",
       "    {'start': 702, 'end': 706, 'text': '(16,', 'ref_id': 'BIBREF15'},\n",
       "    {'start': 707, 'end': 710, 'text': '21,', 'ref_id': 'BIBREF20'},\n",
       "    {'start': 711, 'end': 715, 'text': '(36)', 'ref_id': 'BIBREF35'},\n",
       "    {'start': 716, 'end': 720, 'text': '(37)', 'ref_id': 'BIBREF36'},\n",
       "    {'start': 721, 'end': 725, 'text': '(38)', 'ref_id': 'BIBREF37'},\n",
       "    {'start': 840, 'end': 844, 'text': '(16)', 'ref_id': 'BIBREF15'}],\n",
       "   'ref_spans': [],\n",
       "   'section': 'INTRODUCTION'},\n",
       "  {'text': \"Canada will not be immune to the health impacts of climatic change (39) (40) (41) (42) . Canada has observed approximately 1°C rise in temperature since the beginning of the century, and we can expect this to continue by about 0.5 degree per decade, up to 5°C over the next century (42) . This temperature change is not insignificant; the earth's temperature was, for example, only 4-5 degrees cooler during the last ice age (43) .\",\n",
       "   'cite_spans': [{'start': 67,\n",
       "     'end': 71,\n",
       "     'text': '(39)',\n",
       "     'ref_id': 'BIBREF38'},\n",
       "    {'start': 72, 'end': 76, 'text': '(40)', 'ref_id': 'BIBREF39'},\n",
       "    {'start': 77, 'end': 81, 'text': '(41)', 'ref_id': 'BIBREF40'},\n",
       "    {'start': 82, 'end': 86, 'text': '(42)', 'ref_id': 'BIBREF41'},\n",
       "    {'start': 282, 'end': 286, 'text': '(42)', 'ref_id': 'BIBREF41'},\n",
       "    {'start': 425, 'end': 429, 'text': '(43)', 'ref_id': 'BIBREF42'}],\n",
       "   'ref_spans': [],\n",
       "   'section': 'CLIMATE CHANGE AND HEALTH IN CANADA'},\n",
       "  {'text': 'The effects of climate change in Canada will differ between regions (42) . While the Prairies are expected to experience warmer, drier summers and more sever summer droughts, Ontario and Quebec can expect decreased snow, increased rainfall, and an increase in the incidence of severe summer storms (44) . The greatest changes will occur in the Canadian North, where temperature changes are projected to be among the highest in the world, and where traditional, resource-dependent communities are considered highly vulnerable (9, 42, 45, 46) . Indeed, for northern Inuit communities, climate change poses a significant threat to traditional livelihoods in the short to medium term (45, (47) (48) (49) .',\n",
       "   'cite_spans': [{'start': 68,\n",
       "     'end': 72,\n",
       "     'text': '(42)',\n",
       "     'ref_id': 'BIBREF41'},\n",
       "    {'start': 298, 'end': 302, 'text': '(44)', 'ref_id': 'BIBREF43'},\n",
       "    {'start': 525, 'end': 528, 'text': '(9,', 'ref_id': 'BIBREF8'},\n",
       "    {'start': 529, 'end': 532, 'text': '42,', 'ref_id': 'BIBREF41'},\n",
       "    {'start': 533, 'end': 536, 'text': '45,', 'ref_id': 'BIBREF44'},\n",
       "    {'start': 537, 'end': 540, 'text': '46)', 'ref_id': 'BIBREF45'},\n",
       "    {'start': 680, 'end': 684, 'text': '(45,', 'ref_id': 'BIBREF44'},\n",
       "    {'start': 685, 'end': 689, 'text': '(47)', 'ref_id': 'BIBREF46'},\n",
       "    {'start': 690, 'end': 694, 'text': '(48)', 'ref_id': 'BIBREF47'},\n",
       "    {'start': 695, 'end': 699, 'text': '(49)', 'ref_id': 'BIBREF48'}],\n",
       "   'ref_spans': [],\n",
       "   'section': 'CLIMATE CHANGE AND HEALTH IN CANADA'},\n",
       "  {'text': 'Canada will experience a number of significant direct and indirect impacts of climate change (39) (40) (41) (42) . Extreme heat events are expected to become more frequent, longer in duration, and more intense (42) . Extreme heat events can exacerbate health conditions, such as asthma, as well as lead to an increased number of deaths (11, 23, 50, 51) . Heat waves were responsible for over five hundred deaths in Chicago during a 5-day',\n",
       "   'cite_spans': [{'start': 93,\n",
       "     'end': 97,\n",
       "     'text': '(39)',\n",
       "     'ref_id': 'BIBREF38'},\n",
       "    {'start': 98, 'end': 102, 'text': '(40)', 'ref_id': 'BIBREF39'},\n",
       "    {'start': 103, 'end': 107, 'text': '(41)', 'ref_id': 'BIBREF40'},\n",
       "    {'start': 108, 'end': 112, 'text': '(42)', 'ref_id': 'BIBREF41'},\n",
       "    {'start': 210, 'end': 214, 'text': '(42)', 'ref_id': 'BIBREF41'},\n",
       "    {'start': 336, 'end': 340, 'text': '(11,', 'ref_id': 'BIBREF10'},\n",
       "    {'start': 341, 'end': 344, 'text': '23,', 'ref_id': 'BIBREF22'},\n",
       "    {'start': 345, 'end': 348, 'text': '50,', 'ref_id': 'BIBREF49'},\n",
       "    {'start': 349, 'end': 352, 'text': '51)', 'ref_id': 'BIBREF50'}],\n",
       "   'ref_spans': [],\n",
       "   'section': 'CLIMATE CHANGE AND HEALTH IN CANADA'},\n",
       "  {'text': 'Level of uncertainty * Alter the distribution of some infectious disease vectors Medium confidence',\n",
       "   'cite_spans': [],\n",
       "   'ref_spans': [],\n",
       "   'section': 'Existing impacts'},\n",
       "  {'text': 'Alter the seasonal distribution of some allergenic pollen species High confidence',\n",
       "   'cite_spans': [],\n",
       "   'ref_spans': [],\n",
       "   'section': 'Existing impacts'},\n",
       "  {'text': 'Increase heatwave-related deaths Medium confidence',\n",
       "   'cite_spans': [],\n",
       "   'ref_spans': [],\n",
       "   'section': 'Existing impacts'},\n",
       "  {'text': 'Increase in malnutrition and consequent disorders, including child growth and development High confidence Increase in morbidity and mortality related to heatwaves, floods, storms, fires, and droughts High confidence',\n",
       "   'cite_spans': [],\n",
       "   'ref_spans': [],\n",
       "   'section': 'Projected impacts'},\n",
       "  {'text': 'Continued changes in the ranges of some infectious disease vectors High confidence',\n",
       "   'cite_spans': [],\n",
       "   'ref_spans': [],\n",
       "   'section': 'Projected impacts'},\n",
       "  {'text': 'Mixed effects on malaria incidence and distribution (expansion in some areas, contraction in others) Very high confidence Increase in the burden of diarrhoeal diseases Medium confidence',\n",
       "   'cite_spans': [],\n",
       "   'ref_spans': [],\n",
       "   'section': 'Projected impacts'},\n",
       "  {'text': 'Increase in cardio-respiratory morbidity and morality associated with ground-level ozone High confidence',\n",
       "   'cite_spans': [],\n",
       "   'ref_spans': [],\n",
       "   'section': 'Projected impacts'},\n",
       "  {'text': 'Increase in the number of people at risk of dengue Low confidence',\n",
       "   'cite_spans': [],\n",
       "   'ref_spans': [],\n",
       "   'section': 'Projected impacts'},\n",
       "  {'text': \"Health benefits include fewer deaths due to cold High confidence (53) . Children and the elderly are particularly vulnerable during heat wave events (54) . The increasing number of summer days in urban areas of Quebec and Ontario declared unsafe for outdoor activity due to smog and heat can be expected to negatively impact public health through reduced outdoor and exercise activities (55) . Poor air quality, resulting from smog and air pollution, is associated with asthma, chronic respiratory disease and cardiovascular disease, and is a serious public health issue in Canada. Smog and air pollution are expected to continue to increase with climatic change (23, 56) . Toronto public health recently predicted that climate change would cause a 20% increase in air-pollution related deaths in the city by 2050 (57). Many regions are expected to see an increase in summer storms. This may affect risks associated with flooding, and will have implications for water quality and contamination (26, (58) (59) (60) . A prolonged drought followed by a high rainfall event -such as a summer storm -can pick up surface contaminants and flush them into local waterways, causing a 'pulse' in the contaminant load of local water treatment facilities (26, 40) . This scenario was determined to be one of the factors contributing to the E. coli outbreak in Walkerton, Ontario in 2000 (61) . In addition, higher than normal rainfall events may exceed expected norms for sewage treatment facilities, overwhelming treatment systems. In the Inuit community of Arctic Bay, increased rainfall has been observed to overflow the local sewage ponds, contaminating the bay and roads (62) . These scenarios are consistent with climate change predictions and can be expected to occur more frequently.\",\n",
       "   'cite_spans': [{'start': 65,\n",
       "     'end': 69,\n",
       "     'text': '(53)',\n",
       "     'ref_id': 'BIBREF52'},\n",
       "    {'start': 149, 'end': 153, 'text': '(54)', 'ref_id': 'BIBREF53'},\n",
       "    {'start': 387, 'end': 391, 'text': '(55)', 'ref_id': 'BIBREF54'},\n",
       "    {'start': 663, 'end': 667, 'text': '(23,', 'ref_id': 'BIBREF22'},\n",
       "    {'start': 668, 'end': 671, 'text': '56)', 'ref_id': 'BIBREF55'},\n",
       "    {'start': 994, 'end': 998, 'text': '(26,', 'ref_id': 'BIBREF25'},\n",
       "    {'start': 999, 'end': 1003, 'text': '(58)', 'ref_id': 'BIBREF57'},\n",
       "    {'start': 1004, 'end': 1008, 'text': '(59)', 'ref_id': 'BIBREF58'},\n",
       "    {'start': 1009, 'end': 1013, 'text': '(60)', 'ref_id': 'BIBREF59'},\n",
       "    {'start': 1243, 'end': 1247, 'text': '(26,', 'ref_id': 'BIBREF25'},\n",
       "    {'start': 1248, 'end': 1251, 'text': '40)', 'ref_id': 'BIBREF39'},\n",
       "    {'start': 1375, 'end': 1379, 'text': '(61)', 'ref_id': 'BIBREF60'},\n",
       "    {'start': 1664, 'end': 1668, 'text': '(62)', 'ref_id': 'BIBREF61'}],\n",
       "   'ref_spans': [],\n",
       "   'section': 'Projected impacts'},\n",
       "  {'text': 'The distribution of vector-borne diseases will change (40, 41, (63) (64) (65) . Warmer and wetter summers will affect the distribution and survival of pathogens and some disease vectors such as mosquitoes and ticks (39, (66) (67) (68) . Research has already documented possible shifts in the distribution of the vector of Lyme disease (29, (69) (70) (71) , and possible expansion of the potential range of West Nile virus (WNV) (40, 41, 72) . Mosquito vectors of WNV will be affected by longer summers (40, 41) . Increased incidence of the virus coincides with periods of prolonged hot weather and increased mosquito activity (73) . Recent research also indicates the potential for the re-emergence or emergence of exotic pathogens to Canada, including locally-transmitted malaria (63) . Emergent disease risks are by nature difficult to predict. Despite this, it is sensible to anticipate the spread of known diseases into new areas and the emergence of new diseases.',\n",
       "   'cite_spans': [{'start': 54,\n",
       "     'end': 58,\n",
       "     'text': '(40,',\n",
       "     'ref_id': 'BIBREF39'},\n",
       "    {'start': 59, 'end': 62, 'text': '41,', 'ref_id': 'BIBREF40'},\n",
       "    {'start': 63, 'end': 67, 'text': '(63)', 'ref_id': 'BIBREF62'},\n",
       "    {'start': 68, 'end': 72, 'text': '(64)', 'ref_id': 'BIBREF63'},\n",
       "    {'start': 73, 'end': 77, 'text': '(65)', 'ref_id': 'BIBREF64'},\n",
       "    {'start': 215, 'end': 219, 'text': '(39,', 'ref_id': 'BIBREF38'},\n",
       "    {'start': 220, 'end': 224, 'text': '(66)', 'ref_id': 'BIBREF65'},\n",
       "    {'start': 225, 'end': 229, 'text': '(67)', 'ref_id': 'BIBREF66'},\n",
       "    {'start': 230, 'end': 234, 'text': '(68)', 'ref_id': 'BIBREF67'},\n",
       "    {'start': 335, 'end': 339, 'text': '(29,', 'ref_id': 'BIBREF28'},\n",
       "    {'start': 340, 'end': 344, 'text': '(69)', 'ref_id': 'BIBREF68'},\n",
       "    {'start': 345, 'end': 349, 'text': '(70)', 'ref_id': 'BIBREF69'},\n",
       "    {'start': 350, 'end': 354, 'text': '(71)', 'ref_id': 'BIBREF70'},\n",
       "    {'start': 428, 'end': 432, 'text': '(40,', 'ref_id': 'BIBREF39'},\n",
       "    {'start': 433, 'end': 436, 'text': '41,', 'ref_id': 'BIBREF40'},\n",
       "    {'start': 437, 'end': 440, 'text': '72)', 'ref_id': 'BIBREF71'},\n",
       "    {'start': 502, 'end': 506, 'text': '(40,', 'ref_id': 'BIBREF39'},\n",
       "    {'start': 507, 'end': 510, 'text': '41)', 'ref_id': 'BIBREF40'},\n",
       "    {'start': 626, 'end': 630, 'text': '(73)', 'ref_id': 'BIBREF72'},\n",
       "    {'start': 781, 'end': 785, 'text': '(63)', 'ref_id': 'BIBREF62'}],\n",
       "   'ref_spans': [],\n",
       "   'section': 'Projected impacts'},\n",
       "  {'text': \"There will also be a number of indirect effects on Canadian health and health care. In many cases, these indirect pathways are difficult to identify, predict, and quantify, but may nonetheless be important for changing health systems in Canada. For example, changing sea temperatures are likely to impact the distribution and availability of fish and tree species through impacts on local weather, affecting the viability or focus of fisheries and forestry industries, and by extension the community health and well-being of resource-dependent communities. In this case, the concern is not the loss of traditional species per senew species are likely to emerge to fill changing niche conditions -but the rate of change in ecological systems, and the ability of industries and communities to adapt to these changes. Similarly, the dramatic spread of the pine beetle has been facilitated -and many suggest triggered -by increasingly favourable weather conditions (74) (75) (76) (77) . As in the case of the pine beetle, many of the impacts of climate change on health in Canada are likely to be the result of indirect causal processes, and in some cases unforeseen events. The implications of climate change for health are not limited to global and national impacts. They will also be manifest at the municipal level (Table 2 ) and within Canada's health sector (41, 55, 78) . For Canada's health system, this will result in changing risks. For example, the increased emergence of new, re-emergent and exotic diseases will mean that conventional expectations of likely diagnoses by family physicians and primary health care providers will be insufficient. The potential for malaria infection in patients with no history of travel is one such example (63) . The increase in extreme weather events such as heatwaves, floods and storms will increase pressure on disaster preparedness and emergency health services and programming (79) . Program planning for emergency health provision will need to consider future rather than historical experiences or trends in demand and frequency of health crises (34, (80) (81) (82) . Increased health surveillance will be required to document baseline health measures and monitor changing health outcomes. This is particularly important in Canada's northern communities where health provision and surveillance have faced significant challenges and where climate impacts will develop earlier and more rapidly than in the South (83, 84) .\",\n",
       "   'cite_spans': [{'start': 961,\n",
       "     'end': 965,\n",
       "     'text': '(74)',\n",
       "     'ref_id': 'BIBREF73'},\n",
       "    {'start': 966, 'end': 970, 'text': '(75)', 'ref_id': 'BIBREF74'},\n",
       "    {'start': 971, 'end': 975, 'text': '(76)', 'ref_id': 'BIBREF75'},\n",
       "    {'start': 976, 'end': 980, 'text': '(77)', 'ref_id': 'BIBREF76'},\n",
       "    {'start': 1360, 'end': 1364, 'text': '(41,', 'ref_id': 'BIBREF40'},\n",
       "    {'start': 1365, 'end': 1368, 'text': '55,', 'ref_id': 'BIBREF54'},\n",
       "    {'start': 1369, 'end': 1372, 'text': '78)', 'ref_id': 'BIBREF77'},\n",
       "    {'start': 1748, 'end': 1752, 'text': '(63)', 'ref_id': 'BIBREF62'},\n",
       "    {'start': 1925, 'end': 1929, 'text': '(79)', 'ref_id': 'BIBREF78'},\n",
       "    {'start': 2095, 'end': 2099, 'text': '(34,', 'ref_id': 'BIBREF33'},\n",
       "    {'start': 2100, 'end': 2104, 'text': '(80)', 'ref_id': 'BIBREF79'},\n",
       "    {'start': 2105, 'end': 2109, 'text': '(81)', 'ref_id': 'BIBREF80'},\n",
       "    {'start': 2110, 'end': 2114, 'text': '(82)', 'ref_id': 'BIBREF81'},\n",
       "    {'start': 2459, 'end': 2463, 'text': '(83,', 'ref_id': 'BIBREF82'},\n",
       "    {'start': 2464, 'end': 2467, 'text': '84)', 'ref_id': 'BIBREF83'}],\n",
       "   'ref_spans': [{'start': 1315,\n",
       "     'end': 1323,\n",
       "     'text': '(Table 2',\n",
       "     'ref_id': 'TABREF2'}],\n",
       "   'section': 'Projected impacts'},\n",
       "  {'text': \"The good news is that opportunities for avoidance of, and adaptation to, climate impacts on health are available, feasible, and in many cases of benefit to improved health in Canada more broadly (42) . Given the unpredictable nature of many impacts, adaptation, prevention, and preparedness measures that increase overall health system capacity are most sensible and cost-effective -so called 'win win' or 'no regrets' responses (18, (85) (86) (87) (88) (89) . These include: Increased surveillance, particularly of disease vectors, water quality, and air pollutants; Integration of climate projections into emergency planning and disaster preparedness (79) ; Improved access to preventive care and primary physician care to promote early detection of new disease emergence or shifting disease incidence; Integration of climate change considerations into education programming for medical students and primary health care workers; Integration of climate projection parameters into urban planning to increase protection against extreme weather events (55, (90) (91) (92) ; Increased monitoring and evaluation of food production systems and water monitoring safety given climate projections (26, 41, 63, 68) ; Development of heat wave alerts and responses, and mitigation of urban heat islands (41, 52, 53, 91) , and; Increased multi-national support for improved health capacity in low and middle income countries.\",\n",
       "   'cite_spans': [{'start': 195,\n",
       "     'end': 199,\n",
       "     'text': '(42)',\n",
       "     'ref_id': 'BIBREF41'},\n",
       "    {'start': 429, 'end': 433, 'text': '(18,', 'ref_id': 'BIBREF17'},\n",
       "    {'start': 434, 'end': 438, 'text': '(85)', 'ref_id': 'BIBREF84'},\n",
       "    {'start': 439, 'end': 443, 'text': '(86)', 'ref_id': 'BIBREF85'},\n",
       "    {'start': 444, 'end': 448, 'text': '(87)', 'ref_id': 'BIBREF86'},\n",
       "    {'start': 449, 'end': 453, 'text': '(88)', 'ref_id': 'BIBREF87'},\n",
       "    {'start': 454, 'end': 458, 'text': '(89)', 'ref_id': 'BIBREF88'},\n",
       "    {'start': 653, 'end': 657, 'text': '(79)', 'ref_id': 'BIBREF78'},\n",
       "    {'start': 1050, 'end': 1054, 'text': '(55,', 'ref_id': 'BIBREF54'},\n",
       "    {'start': 1055, 'end': 1059, 'text': '(90)', 'ref_id': 'BIBREF89'},\n",
       "    {'start': 1060, 'end': 1064, 'text': '(91)', 'ref_id': 'BIBREF90'},\n",
       "    {'start': 1065, 'end': 1069, 'text': '(92)', 'ref_id': 'BIBREF91'},\n",
       "    {'start': 1189, 'end': 1193, 'text': '(26,', 'ref_id': 'BIBREF25'},\n",
       "    {'start': 1194, 'end': 1197, 'text': '41,', 'ref_id': 'BIBREF40'},\n",
       "    {'start': 1198, 'end': 1201, 'text': '63,', 'ref_id': 'BIBREF62'},\n",
       "    {'start': 1202, 'end': 1205, 'text': '68)', 'ref_id': 'BIBREF67'},\n",
       "    {'start': 1292, 'end': 1296, 'text': '(41,', 'ref_id': 'BIBREF40'},\n",
       "    {'start': 1297, 'end': 1300, 'text': '52,', 'ref_id': 'BIBREF51'},\n",
       "    {'start': 1301, 'end': 1304, 'text': '53,', 'ref_id': 'BIBREF52'},\n",
       "    {'start': 1305, 'end': 1308, 'text': '91)', 'ref_id': 'BIBREF90'}],\n",
       "   'ref_spans': [],\n",
       "   'section': 'RESPONSES'},\n",
       "  {'text': 'The risk of health impacts resulting from climate change are not restricted to within our national borders. The impact of climate change elsewhere, particularly in low and middle income nations, will influence the potential for imported infection to Canada. For example, the introduction and outbreak of SARS in Toronto in 2002 resulted in 438 cases, 44 deaths and significant economic losses (93, 94) . International travel may have been responsible for promoting the introduction of West Nile virus in North America (95) (96) (97) . Similarly, a Canadian outbreak of imported malaria in 1995-97 may have been brought to Canada via travelers arriving from the Punjab in India, where a large epidemic had occurred (63, (98) (99) (100) . More recently, concern regarding the potential spread or proliferation of avian influenza has highlighted the interconnected nature of national health to health conditions around the world. As such, the health impacts of climate change in Canada will be influenced by the health and response capacity of other nations from or to which Canadians, visitors or trade products travel. In this context, adaptation, preparedness and response resources may in some cases be most effectively and efficiently allocated through supporting health capacity in other countries. Increased interest and prioritization of health collaborations in Asia following the SARS outbreak provides a germane example of a developing awareness of such risk priorities.',\n",
       "   'cite_spans': [{'start': 393,\n",
       "     'end': 397,\n",
       "     'text': '(93,',\n",
       "     'ref_id': 'BIBREF92'},\n",
       "    {'start': 398, 'end': 401, 'text': '94)', 'ref_id': 'BIBREF93'},\n",
       "    {'start': 518, 'end': 522, 'text': '(95)', 'ref_id': 'BIBREF94'},\n",
       "    {'start': 523, 'end': 527, 'text': '(96)', 'ref_id': 'BIBREF95'},\n",
       "    {'start': 528, 'end': 532, 'text': '(97)', 'ref_id': 'BIBREF96'},\n",
       "    {'start': 714, 'end': 718, 'text': '(63,', 'ref_id': 'BIBREF62'},\n",
       "    {'start': 719, 'end': 723, 'text': '(98)', 'ref_id': 'BIBREF97'},\n",
       "    {'start': 724, 'end': 728, 'text': '(99)', 'ref_id': 'BIBREF98'},\n",
       "    {'start': 729, 'end': 734, 'text': '(100)', 'ref_id': 'BIBREF99'}],\n",
       "   'ref_spans': [],\n",
       "   'section': 'RESPONSES'},\n",
       "  {'text': \"Despite the magnitude and scope of climate change, the recent global financial crisis has overshadowed concern for, and prioritization of, climate change science, policy, and action. While the implications of economic crisis at the international and national levels are undoubtedly of legitimate priority and concern, placing climate issues on the back-burner is misguided for two reasons. First, while the financial crisis may be acute and possibly prolonged in the short term -years, but not decades -the climate change crisis will last well into the next century and beyond. Investments in health system capacity and surveillance need to be implemented in advance of emerging impacts to avoid and/or mitigate morbidity and mortality. Additionally, observed climate impacts will begin to rapidly accelerate over the next decade. In the absence of genuine and dramatic intervention, climate change impacts have the potential to be severe and acute on a scale greatly exceeding the current financial crisis (3, 4, 6, 7) . The lack of action on climate change -including both mitigation of emissions and adaptation to current and future impacts -is generally rationalized based on the costs of interventions. The costs of a no-action approach, however, will be significant. The Stern Review, an independent assessment commissioned in the United Kingdom, estimated that a 5-6 °C warming over the next century could result in losses of up to 20% of global GDP (101); the report estimates the cost of mitigating climate emissions and severe impacts at approximately 1% of global GDP. The health sector, which makes up 10% of Canada's Gross National Product (GNP) can make a significant contribution to climate change mitigation and adaptation in Canada (102, 103) .\",\n",
       "   'cite_spans': [{'start': 1007,\n",
       "     'end': 1010,\n",
       "     'text': '(3,',\n",
       "     'ref_id': 'BIBREF2'},\n",
       "    {'start': 1011, 'end': 1013, 'text': '4,', 'ref_id': 'BIBREF3'},\n",
       "    {'start': 1014, 'end': 1016, 'text': '6,', 'ref_id': 'BIBREF5'},\n",
       "    {'start': 1017, 'end': 1019, 'text': '7)', 'ref_id': 'BIBREF6'},\n",
       "    {'start': 1749, 'end': 1754, 'text': '(102,', 'ref_id': 'BIBREF101'},\n",
       "    {'start': 1755, 'end': 1759, 'text': '103)', 'ref_id': 'BIBREF102'}],\n",
       "   'ref_spans': [],\n",
       "   'section': 'RESPONSES'},\n",
       "  {'text': 'It is no longer sufficient to use our past climate experiences to assess health risks and health system requirements. Future health systems and care will need to reflect changing risk conditions; these will differ from what physicians, primary care professionals, and public health professionals are accustomed to. Climate will emerge in the next years and decades as an increasingly important determinant of individual and public health in Canada. Reduced individual and national contributions to greenhouse gas emissions to avoid severe impacts, combined with proactive planning and programming for adaptation will be required.',\n",
       "   'cite_spans': [],\n",
       "   'ref_spans': [],\n",
       "   'section': 'RESPONSES'}],\n",
       " 'bib_entries': {'BIBREF0': {'ref_id': 'b0',\n",
       "   'title': 'The Physical Science Basis. Contribution of Working Group I to the Fourth Assessment Report of the Intergovernmental Panel on Climate Change',\n",
       "   'authors': [{'first': '', 'middle': [], 'last': 'Ipcc', 'suffix': ''},\n",
       "    {'first': '', 'middle': [], 'last': 'Climate', 'suffix': ''}],\n",
       "   'year': 2007,\n",
       "   'venue': 'Change',\n",
       "   'volume': '',\n",
       "   'issn': '',\n",
       "   'pages': '',\n",
       "   'other_ids': {}},\n",
       "  'BIBREF1': {'ref_id': 'b1',\n",
       "   'title': 'Climate change 2007: Impacts, Adaptation and Vulnerability, Summary for Policy Makers. Brussels: Intergovernmental Panel on Climate Change',\n",
       "   'authors': [{'first': '', 'middle': [], 'last': 'Ipcc', 'suffix': ''}],\n",
       "   'year': 2007,\n",
       "   'venue': '',\n",
       "   'volume': '',\n",
       "   'issn': '',\n",
       "   'pages': '',\n",
       "   'other_ids': {}},\n",
       "  'BIBREF2': {'ref_id': 'b2',\n",
       "   'title': 'Global warming: Stop worrying, start panicking? Proceedings of the National Academy of Sciences of the United States of America',\n",
       "   'authors': [{'first': 'H',\n",
       "     'middle': ['J'],\n",
       "     'last': 'Schellnhuber',\n",
       "     'suffix': ''}],\n",
       "   'year': 2008,\n",
       "   'venue': '',\n",
       "   'volume': '105',\n",
       "   'issn': '',\n",
       "   'pages': '14239--14279',\n",
       "   'other_ids': {}},\n",
       "  'BIBREF3': {'ref_id': 'b3',\n",
       "   'title': 'On avoiding dangerous anthropogenic interference with the climate system: Formidable challenges ahead',\n",
       "   'authors': [{'first': 'V',\n",
       "     'middle': [],\n",
       "     'last': 'Ramanathan',\n",
       "     'suffix': ''},\n",
       "    {'first': 'Y', 'middle': [], 'last': 'Feng', 'suffix': ''}],\n",
       "   'year': 2008,\n",
       "   'venue': 'Proceedings of the National Academy of Sciences of the United States of America',\n",
       "   'volume': '105',\n",
       "   'issn': '38',\n",
       "   'pages': '14245--50',\n",
       "   'other_ids': {}},\n",
       "  'BIBREF4': {'ref_id': 'b4',\n",
       "   'title': 'Climatic changes associated with a global \"2°C-stabilization\" scenario simulated by the ECHAM5/ MPI-OM coupled climate model',\n",
       "   'authors': [{'first': 'W', 'middle': [], 'last': 'May', 'suffix': ''}],\n",
       "   'year': 2008,\n",
       "   'venue': 'Climate Dynamics',\n",
       "   'volume': '31',\n",
       "   'issn': '2-3',\n",
       "   'pages': '283--313',\n",
       "   'other_ids': {}},\n",
       "  'BIBREF5': {'ref_id': 'b5',\n",
       "   'title': \"Inaugural Article: Tipping elements in the Earth's climate system\",\n",
       "   'authors': [{'first': 'T', 'middle': ['M'], 'last': 'Lenton', 'suffix': ''},\n",
       "    {'first': 'H', 'middle': [], 'last': 'Held', 'suffix': ''},\n",
       "    {'first': 'E', 'middle': [], 'last': 'Kriegler', 'suffix': ''},\n",
       "    {'first': 'J', 'middle': ['W'], 'last': 'Hall', 'suffix': ''},\n",
       "    {'first': 'W', 'middle': [], 'last': 'Lucht', 'suffix': ''},\n",
       "    {'first': 'S', 'middle': [], 'last': 'Rahmstorf', 'suffix': ''}],\n",
       "   'year': 2008,\n",
       "   'venue': '',\n",
       "   'volume': '',\n",
       "   'issn': '',\n",
       "   'pages': '1786--93',\n",
       "   'other_ids': {}},\n",
       "  'BIBREF6': {'ref_id': 'b6',\n",
       "   'title': 'The Economics of Climate Change: The Stern Review',\n",
       "   'authors': [{'first': 'N', 'middle': [], 'last': 'Stern', 'suffix': ''}],\n",
       "   'year': 2006,\n",
       "   'venue': '',\n",
       "   'volume': '',\n",
       "   'issn': '',\n",
       "   'pages': '',\n",
       "   'other_ids': {}},\n",
       "  'BIBREF7': {'ref_id': 'b7',\n",
       "   'title': 'Climate change: Risks, ethics, and the Stern Review',\n",
       "   'authors': [{'first': 'N', 'middle': [], 'last': 'Stern', 'suffix': ''},\n",
       "    {'first': 'C', 'middle': [], 'last': 'Taylor', 'suffix': ''}],\n",
       "   'year': 2007,\n",
       "   'venue': 'Science',\n",
       "   'volume': '317',\n",
       "   'issn': '',\n",
       "   'pages': '203--207',\n",
       "   'other_ids': {}},\n",
       "  'BIBREF8': {'ref_id': 'b8',\n",
       "   'title': 'Arctic Climate Impacts Assessment',\n",
       "   'authors': [],\n",
       "   'year': 2005,\n",
       "   'venue': '',\n",
       "   'volume': '',\n",
       "   'issn': '',\n",
       "   'pages': '',\n",
       "   'other_ids': {}},\n",
       "  'BIBREF9': {'ref_id': 'b9',\n",
       "   'title': 'Accelerated Arctic land warming and permafrost degradation during rapid sea ice loss',\n",
       "   'authors': [{'first': 'D',\n",
       "     'middle': ['M'],\n",
       "     'last': 'Lawrence',\n",
       "     'suffix': ''},\n",
       "    {'first': 'A', 'middle': ['G'], 'last': 'Slater', 'suffix': ''},\n",
       "    {'first': 'R', 'middle': ['A'], 'last': 'Tomas', 'suffix': ''},\n",
       "    {'first': 'M', 'middle': ['M'], 'last': 'Holland', 'suffix': ''},\n",
       "    {'first': 'C', 'middle': [], 'last': 'Deser', 'suffix': ''}],\n",
       "   'year': 2008,\n",
       "   'venue': 'Geophysical Research Letters',\n",
       "   'volume': '35',\n",
       "   'issn': '11',\n",
       "   'pages': '',\n",
       "   'other_ids': {}},\n",
       "  'BIBREF10': {'ref_id': 'b10',\n",
       "   'title': 'Relations between elevated ambient temperature and mortality: a review of the epidemiological evidence',\n",
       "   'authors': [{'first': 'R', 'middle': [], 'last': 'Basu', 'suffix': ''},\n",
       "    {'first': 'J', 'middle': [], 'last': 'Samet', 'suffix': ''}],\n",
       "   'year': 2002,\n",
       "   'venue': 'Epidemiologic Reviews',\n",
       "   'volume': '24',\n",
       "   'issn': '',\n",
       "   'pages': '190--202',\n",
       "   'other_ids': {}},\n",
       "  'BIBREF11': {'ref_id': 'b11',\n",
       "   'title': 'Climate change: quantifying the health impacts at national and local levels. Environmental Burden of Disease Series, World Health Organization',\n",
       "   'authors': [{'first': 'C',\n",
       "     'middle': [],\n",
       "     'last': 'Campbell-Lendrum',\n",
       "     'suffix': ''},\n",
       "    {'first': 'R', 'middle': [], 'last': 'Woodruff', 'suffix': ''}],\n",
       "   'year': 2007,\n",
       "   'venue': '',\n",
       "   'volume': '14',\n",
       "   'issn': '',\n",
       "   'pages': '',\n",
       "   'other_ids': {}},\n",
       "  'BIBREF12': {'ref_id': 'b12',\n",
       "   'title': 'Community-based adaptation to the health impacts of climate change',\n",
       "   'authors': [{'first': 'K', 'middle': [], 'last': 'Ebi', 'suffix': ''},\n",
       "    {'first': 'J', 'middle': [], 'last': 'Semenza', 'suffix': ''}],\n",
       "   'year': 2008,\n",
       "   'venue': 'American Journal of Preventive Medicine',\n",
       "   'volume': '35',\n",
       "   'issn': '5',\n",
       "   'pages': '501--508',\n",
       "   'other_ids': {}},\n",
       "  'BIBREF13': {'ref_id': 'b13',\n",
       "   'title': 'Climate change and emerging infectious diseases',\n",
       "   'authors': [{'first': 'P', 'middle': [], 'last': 'Epstein', 'suffix': ''}],\n",
       "   'year': 2001,\n",
       "   'venue': 'Microbes Infect',\n",
       "   'volume': '3',\n",
       "   'issn': '',\n",
       "   'pages': '747--54',\n",
       "   'other_ids': {}},\n",
       "  'BIBREF14': {'ref_id': 'b14',\n",
       "   'title': 'Climate change and the health of the public',\n",
       "   'authors': [{'first': 'H', 'middle': [], 'last': 'Frumkin', 'suffix': ''},\n",
       "    {'first': 'A', 'middle': [], 'last': 'Mcmichael', 'suffix': ''},\n",
       "    {'first': 'J', 'middle': [], 'last': 'Hess', 'suffix': ''}],\n",
       "   'year': 2008,\n",
       "   'venue': 'American Journal of Preventive Medicine',\n",
       "   'volume': '35',\n",
       "   'issn': '5',\n",
       "   'pages': '401--403',\n",
       "   'other_ids': {}},\n",
       "  'BIBREF15': {'ref_id': 'b15',\n",
       "   'title': 'Impacts, Adaptation and Vulnerability. Contribution of Working Group II to the Fourth Assessment Report of the Intergovernmental Panel on Climate Change: Working Group II',\n",
       "   'authors': [{'first': '', 'middle': [], 'last': 'Ipcc', 'suffix': ''},\n",
       "    {'first': '', 'middle': [], 'last': 'Climate', 'suffix': ''}],\n",
       "   'year': 2007,\n",
       "   'venue': '',\n",
       "   'volume': '',\n",
       "   'issn': '',\n",
       "   'pages': '',\n",
       "   'other_ids': {}},\n",
       "  'BIBREF16': {'ref_id': 'b16',\n",
       "   'title': 'Building human resilience: the role of public health preparedness and response as an adaptation to climate change',\n",
       "   'authors': [{'first': 'M', 'middle': [], 'last': 'Keim', 'suffix': ''}],\n",
       "   'year': 2008,\n",
       "   'venue': 'American Journal of Preventive Medicine',\n",
       "   'volume': '35',\n",
       "   'issn': '5',\n",
       "   'pages': '508--524',\n",
       "   'other_ids': {}},\n",
       "  'BIBREF17': {'ref_id': 'b17',\n",
       "   'title': 'Climate change and human health -risk and responses',\n",
       "   'authors': [{'first': 'A', 'middle': [], 'last': 'Mcmichael', 'suffix': ''},\n",
       "    {'first': 'D', 'middle': [], 'last': 'Campbell-Lendrem', 'suffix': ''},\n",
       "    {'first': 'C', 'middle': [], 'last': 'Corvalan', 'suffix': ''},\n",
       "    {'first': 'K', 'middle': [], 'last': 'Ebi', 'suffix': ''},\n",
       "    {'first': 'A', 'middle': [], 'last': 'Githeko', 'suffix': ''},\n",
       "    {'first': 'J', 'middle': [], 'last': 'Scheraga', 'suffix': ''}],\n",
       "   'year': 2003,\n",
       "   'venue': '',\n",
       "   'volume': '',\n",
       "   'issn': '',\n",
       "   'pages': '',\n",
       "   'other_ids': {}},\n",
       "  'BIBREF18': {'ref_id': 'b18',\n",
       "   'title': 'Comparative quantification of health risks: global and regional burden of disease due to selected major risk factors',\n",
       "   'authors': [{'first': 'A', 'middle': [], 'last': 'Mcmichael', 'suffix': ''},\n",
       "    {'first': 'D', 'middle': [], 'last': 'Campbell-Lendrum', 'suffix': ''},\n",
       "    {'first': 'S', 'middle': [], 'last': 'Kovats', 'suffix': ''},\n",
       "    {'first': 'S', 'middle': [], 'last': 'Edwards', 'suffix': ''},\n",
       "    {'first': 'P', 'middle': [], 'last': 'Wilkinson', 'suffix': ''},\n",
       "    {'first': 'T', 'middle': [], 'last': 'Wilson', 'suffix': ''}],\n",
       "   'year': 2004,\n",
       "   'venue': 'Geneva: World Health Organization',\n",
       "   'volume': '',\n",
       "   'issn': '',\n",
       "   'pages': '1543--649',\n",
       "   'other_ids': {}},\n",
       "  'BIBREF19': {'ref_id': 'b19',\n",
       "   'title': 'Climate change and human health: present and future risks The Lancet',\n",
       "   'authors': [{'first': 'A',\n",
       "     'middle': ['J'],\n",
       "     'last': 'Mcmichael',\n",
       "     'suffix': ''},\n",
       "    {'first': 'R', 'middle': ['E'], 'last': 'Woodruff', 'suffix': ''},\n",
       "    {'first': 'S', 'middle': [], 'last': 'Hales', 'suffix': ''}],\n",
       "   'year': 2006,\n",
       "   'venue': '',\n",
       "   'volume': '367',\n",
       "   'issn': '',\n",
       "   'pages': '859--69',\n",
       "   'other_ids': {}},\n",
       "  'BIBREF20': {'ref_id': 'b20',\n",
       "   'title': 'Impact of regional climate on human health',\n",
       "   'authors': [{'first': 'J', 'middle': [], 'last': 'Patz', 'suffix': ''},\n",
       "    {'first': 'D', 'middle': [], 'last': 'Campbell-Lendrum', 'suffix': ''},\n",
       "    {'first': 'T', 'middle': [], 'last': 'Holloway', 'suffix': ''},\n",
       "    {'first': 'J', 'middle': [], 'last': 'Foley', 'suffix': ''}],\n",
       "   'year': 2005,\n",
       "   'venue': 'Nature',\n",
       "   'volume': '438',\n",
       "   'issn': '7066',\n",
       "   'pages': '310--327',\n",
       "   'other_ids': {}},\n",
       "  'BIBREF21': {'ref_id': 'b21',\n",
       "   'title': 'Hotspots in climate change and human health',\n",
       "   'authors': [{'first': 'J', 'middle': [], 'last': 'Patz', 'suffix': ''},\n",
       "    {'first': 'F', 'middle': [], 'last': 'Kovats', 'suffix': ''}],\n",
       "   'year': 2002,\n",
       "   'venue': 'BMJ',\n",
       "   'volume': '325',\n",
       "   'issn': '',\n",
       "   'pages': '1094--98',\n",
       "   'other_ids': {}},\n",
       "  'BIBREF22': {'ref_id': 'b22',\n",
       "   'title': 'Climate change and extreme health events',\n",
       "   'authors': [{'first': 'G', 'middle': [], 'last': 'Luber', 'suffix': ''},\n",
       "    {'first': 'M', 'middle': [], 'last': 'Mcgeehin', 'suffix': ''}],\n",
       "   'year': 2008,\n",
       "   'venue': 'American Journal of Preventive Medicine',\n",
       "   'volume': '35',\n",
       "   'issn': '5',\n",
       "   'pages': '429--464',\n",
       "   'other_ids': {}},\n",
       "  'BIBREF23': {'ref_id': 'b23',\n",
       "   'title': 'The effect of weather on respiratory and cardiovascular deaths in 12 US cities',\n",
       "   'authors': [{'first': 'A', 'middle': [], 'last': 'Braga', 'suffix': ''},\n",
       "    {'first': 'A', 'middle': [], 'last': 'Zanobetti', 'suffix': ''},\n",
       "    {'first': 'J', 'middle': [], 'last': 'Schwartz', 'suffix': ''}],\n",
       "   'year': 2002,\n",
       "   'venue': 'Environmental Health Perspectives',\n",
       "   'volume': '110',\n",
       "   'issn': '',\n",
       "   'pages': '859--63',\n",
       "   'other_ids': {}},\n",
       "  'BIBREF24': {'ref_id': 'b24',\n",
       "   'title': 'Temperature and mortality in 11 cities of the Eastern United States',\n",
       "   'authors': [{'first': 'F', 'middle': [], 'last': 'Curriero', 'suffix': ''},\n",
       "    {'first': 'K', 'middle': [], 'last': 'Heiner', 'suffix': ''},\n",
       "    {'first': 'J', 'middle': [], 'last': 'Samet', 'suffix': ''},\n",
       "    {'first': 'S', 'middle': [], 'last': 'Zeger', 'suffix': ''},\n",
       "    {'first': 'L', 'middle': [], 'last': 'Strug', 'suffix': ''},\n",
       "    {'first': 'J', 'middle': [], 'last': 'Patz', 'suffix': ''}],\n",
       "   'year': 2002,\n",
       "   'venue': 'American Journal of Epidemiology',\n",
       "   'volume': '155',\n",
       "   'issn': '',\n",
       "   'pages': '80--87',\n",
       "   'other_ids': {}},\n",
       "  'BIBREF25': {'ref_id': 'b25',\n",
       "   'title': 'Vulnerability of waterborne diseases to climate change in Canada: A',\n",
       "   'authors': [{'first': 'D', 'middle': [], 'last': 'Charron', 'suffix': ''},\n",
       "    {'first': 'M', 'middle': [], 'last': 'Thomas', 'suffix': ''},\n",
       "    {'first': 'D', 'middle': [], 'last': 'Waltner-Toews', 'suffix': ''},\n",
       "    {'first': 'J', 'middle': [], 'last': 'Aramini', 'suffix': ''},\n",
       "    {'first': 'T', 'middle': [], 'last': 'Edge', 'suffix': ''},\n",
       "    {'first': 'R', 'middle': [], 'last': 'Kent', 'suffix': ''}],\n",
       "   'year': 2004,\n",
       "   'venue': 'review Journal of Toxicology and Environmental Health -Part A -Current Issues',\n",
       "   'volume': '67',\n",
       "   'issn': '',\n",
       "   'pages': '1667--77',\n",
       "   'other_ids': {}},\n",
       "  'BIBREF26': {'ref_id': 'b26',\n",
       "   'title': 'Does ambient temperature affect foodborne disease?',\n",
       "   'authors': [{'first': 'R',\n",
       "     'middle': [],\n",
       "     'last': 'D&apos;souza',\n",
       "     'suffix': ''},\n",
       "    {'first': 'N', 'middle': [], 'last': 'Beeker', 'suffix': ''},\n",
       "    {'first': 'G', 'middle': [], 'last': 'Hall', 'suffix': ''},\n",
       "    {'first': 'K', 'middle': [], 'last': 'Moodie', 'suffix': ''}],\n",
       "   'year': 2004,\n",
       "   'venue': 'Epidemiology',\n",
       "   'volume': '15',\n",
       "   'issn': '1',\n",
       "   'pages': '86--92',\n",
       "   'other_ids': {}},\n",
       "  'BIBREF27': {'ref_id': 'b27',\n",
       "   'title': 'Climate change and vector-borne disease',\n",
       "   'authors': [{'first': 'W', 'middle': [], 'last': 'Martens', 'suffix': ''},\n",
       "    {'first': 'T', 'middle': [], 'last': 'Jetten', 'suffix': ''},\n",
       "    {'first': 'J', 'middle': [], 'last': 'Rotmans', 'suffix': ''},\n",
       "    {'first': 'L', 'middle': [], 'last': 'Niessen', 'suffix': ''}],\n",
       "   'year': 1995,\n",
       "   'venue': 'Global Environmental Change',\n",
       "   'volume': '5',\n",
       "   'issn': '',\n",
       "   'pages': '',\n",
       "   'other_ids': {}},\n",
       "  'BIBREF28': {'ref_id': 'b28',\n",
       "   'title': 'Climate change and the potential for range expansion of the Lyme disease vector Ixodes scapularis in Canada',\n",
       "   'authors': [{'first': 'N', 'middle': ['H'], 'last': 'Ogden', 'suffix': ''},\n",
       "    {'first': 'A', 'middle': [], 'last': 'Maarouf', 'suffix': ''},\n",
       "    {'first': 'I', 'middle': ['K'], 'last': 'Barker', 'suffix': ''},\n",
       "    {'first': 'M', 'middle': [], 'last': 'Bigras-Poulin', 'suffix': ''},\n",
       "    {'first': 'L', 'middle': ['R'], 'last': 'Lindsay', 'suffix': ''},\n",
       "    {'first': 'M', 'middle': ['G'], 'last': 'Morshed', 'suffix': ''}],\n",
       "   'year': 2006,\n",
       "   'venue': 'International Journal for Parasitology',\n",
       "   'volume': '36',\n",
       "   'issn': '',\n",
       "   'pages': '63--70',\n",
       "   'other_ids': {}},\n",
       "  'BIBREF29': {'ref_id': 'b29',\n",
       "   'title': 'Detecting the health effects of environmental change: scientific and political challenge',\n",
       "   'authors': [{'first': 'A',\n",
       "     'middle': [],\n",
       "     'last': 'Mcmichael',\n",
       "     'suffix': ''}],\n",
       "   'year': 2005,\n",
       "   'venue': 'EcoHealth',\n",
       "   'volume': '2',\n",
       "   'issn': '',\n",
       "   'pages': '1--3',\n",
       "   'other_ids': {}},\n",
       "  'BIBREF30': {'ref_id': 'b30',\n",
       "   'title': 'Early effects of climate change: do they include changes in vector-borne disease?',\n",
       "   'authors': [{'first': 'R', 'middle': [], 'last': 'Kovats', 'suffix': ''},\n",
       "    {'first': 'D', 'middle': [], 'last': 'Campbell-Lendrum', 'suffix': ''},\n",
       "    {'first': 'A', 'middle': [], 'last': 'Mcmichel', 'suffix': ''},\n",
       "    {'first': 'A', 'middle': [], 'last': 'Woodward', 'suffix': ''},\n",
       "    {'first': 'J-H', 'middle': [], 'last': 'Cox', 'suffix': ''}],\n",
       "   'year': 2001,\n",
       "   'venue': 'Philosophical Transactions of the Royal Society of London B',\n",
       "   'volume': '356',\n",
       "   'issn': '',\n",
       "   'pages': '1057--68',\n",
       "   'other_ids': {}},\n",
       "  'BIBREF31': {'ref_id': 'b31',\n",
       "   'title': 'Tick-borne encephalitis in Sweden and climate change',\n",
       "   'authors': [{'first': 'E', 'middle': [], 'last': 'Lindgren', 'suffix': ''},\n",
       "    {'first': 'R', 'middle': [], 'last': 'Gustafson', 'suffix': ''}],\n",
       "   'year': 2001,\n",
       "   'venue': 'Lancet',\n",
       "   'volume': '358',\n",
       "   'issn': '',\n",
       "   'pages': '16--24',\n",
       "   'other_ids': {}},\n",
       "  'BIBREF32': {'ref_id': 'b32',\n",
       "   'title': 'Impact of climate change on the northern latitude limit an population densityof the diseasetransmitting European tick Ixodes ricinus',\n",
       "   'authors': [{'first': 'E', 'middle': [], 'last': 'Lindgren', 'suffix': ''},\n",
       "    {'first': 'L', 'middle': [], 'last': 'Talleklint', 'suffix': ''}],\n",
       "   'year': 2000,\n",
       "   'venue': 'Environmental Health Perspectives',\n",
       "   'volume': '108',\n",
       "   'issn': '',\n",
       "   'pages': '119--142',\n",
       "   'other_ids': {}},\n",
       "  'BIBREF33': {'ref_id': 'b33',\n",
       "   'title': 'Climate Change Impacts on and Implications for Global Health',\n",
       "   'authors': [{'first': 'Mes', 'middle': [], 'last': 'Louis', 'suffix': ''},\n",
       "    {'first': 'J', 'middle': ['J'], 'last': 'Hess', 'suffix': ''}],\n",
       "   'year': 2008,\n",
       "   'venue': 'American Journal of Preventive Medicine',\n",
       "   'volume': '35',\n",
       "   'issn': '5',\n",
       "   'pages': '527--565',\n",
       "   'other_ids': {}},\n",
       "  'BIBREF34': {'ref_id': 'b34',\n",
       "   'title': 'Global environmental change and health: impacts, inequalities, and the health sector',\n",
       "   'authors': [{'first': 'A',\n",
       "     'middle': ['J'],\n",
       "     'last': 'Mcmichael',\n",
       "     'suffix': ''},\n",
       "    {'first': 'S', 'middle': [], 'last': 'Friel', 'suffix': ''},\n",
       "    {'first': 'A', 'middle': [], 'last': 'Nyong', 'suffix': ''},\n",
       "    {'first': 'C', 'middle': [], 'last': 'Corvalan', 'suffix': ''}],\n",
       "   'year': 2008,\n",
       "   'venue': 'British Medical Journal',\n",
       "   'volume': '336',\n",
       "   'issn': '',\n",
       "   'pages': '191--195',\n",
       "   'other_ids': {}},\n",
       "  'BIBREF35': {'ref_id': 'b35',\n",
       "   'title': 'Climate change, health and community adaptive capacity: lessons from the Canadian north',\n",
       "   'authors': [{'first': 'C', 'middle': ['M'], 'last': 'Furgal', 'suffix': ''},\n",
       "    {'first': 'J', 'middle': [], 'last': 'Seguin', 'suffix': ''}],\n",
       "   'year': 2006,\n",
       "   'venue': 'Environmental Health Perspectives',\n",
       "   'volume': '',\n",
       "   'issn': '11',\n",
       "   'pages': '',\n",
       "   'other_ids': {'DOI': ['10.1289/ehp.8433:available']}},\n",
       "  'BIBREF36': {'ref_id': 'b36',\n",
       "   'title': 'Global food security under climate change',\n",
       "   'authors': [{'first': 'J',\n",
       "     'middle': [],\n",
       "     'last': 'Schmidhuber',\n",
       "     'suffix': ''},\n",
       "    {'first': 'F', 'middle': [], 'last': 'Tubiello', 'suffix': ''}],\n",
       "   'year': 2007,\n",
       "   'venue': 'Proceedings of the National Academy of Science',\n",
       "   'volume': '104',\n",
       "   'issn': '50',\n",
       "   'pages': '19703--19711',\n",
       "   'other_ids': {}},\n",
       "  'BIBREF37': {'ref_id': 'b37',\n",
       "   'title': 'Global environmental change and health: impacts, inequalities, and the health sector',\n",
       "   'authors': [{'first': 'A', 'middle': [], 'last': 'Mcmichael', 'suffix': ''},\n",
       "    {'first': 'S', 'middle': [], 'last': 'Friel', 'suffix': ''},\n",
       "    {'first': 'A', 'middle': [], 'last': 'Nyong', 'suffix': ''},\n",
       "    {'first': 'C', 'middle': [], 'last': 'Corvalan', 'suffix': ''}],\n",
       "   'year': 2008,\n",
       "   'venue': 'British Medical Journal',\n",
       "   'volume': '336',\n",
       "   'issn': '',\n",
       "   'pages': '191--94',\n",
       "   'other_ids': {}},\n",
       "  'BIBREF38': {'ref_id': 'b38',\n",
       "   'title': \"Canada's response to the potential health threats of climate change Epidemiology\",\n",
       "   'authors': [{'first': 'D', 'middle': [], 'last': 'Charron', 'suffix': ''}],\n",
       "   'year': 2003,\n",
       "   'venue': '',\n",
       "   'volume': '14',\n",
       "   'issn': '',\n",
       "   'pages': '',\n",
       "   'other_ids': {}},\n",
       "  'BIBREF39': {'ref_id': 'b39',\n",
       "   'title': 'A Synopsis of Known and Potential Diseases and Parasites Associated with Climate Change, Paper. No. 154',\n",
       "   'authors': [{'first': 'D', 'middle': [], 'last': 'Charron', 'suffix': ''},\n",
       "    {'first': 'D', 'middle': [], 'last': 'Waltner-Toews', 'suffix': ''},\n",
       "    {'first': 'A', 'middle': [], 'last': 'Maarouf', 'suffix': ''}],\n",
       "   'year': 2003,\n",
       "   'venue': 'Ontario Ministry of Natural Resources',\n",
       "   'volume': '',\n",
       "   'issn': '',\n",
       "   'pages': '',\n",
       "   'other_ids': {}},\n",
       "  'BIBREF40': {'ref_id': 'b40',\n",
       "   'title': 'Canadian Climate Change and Health Vulnerability Assessment. Ottawa: Government of Canada',\n",
       "   'authors': [],\n",
       "   'year': 2007,\n",
       "   'venue': '',\n",
       "   'volume': '',\n",
       "   'issn': '',\n",
       "   'pages': '',\n",
       "   'other_ids': {}},\n",
       "  'BIBREF41': {'ref_id': 'b41',\n",
       "   'title': 'From impacts to adaptation: Canada in a changing climate 2007. Ottawa: Government of Canada',\n",
       "   'authors': [{'first': 'D', 'middle': [], 'last': 'Lemmen', 'suffix': ''},\n",
       "    {'first': 'F', 'middle': [], 'last': 'Warren', 'suffix': ''},\n",
       "    {'first': 'J', 'middle': [], 'last': 'Lacroix', 'suffix': ''},\n",
       "    {'first': 'E', 'middle': [], 'last': 'Bush', 'suffix': ''}],\n",
       "   'year': 2008,\n",
       "   'venue': '',\n",
       "   'volume': '',\n",
       "   'issn': '',\n",
       "   'pages': '',\n",
       "   'other_ids': {}},\n",
       "  'BIBREF42': {'ref_id': 'b42',\n",
       "   'title': 'The Ice Chronicles: The Quest to Understand Global Climate Change',\n",
       "   'authors': [{'first': 'P',\n",
       "     'middle': ['A'],\n",
       "     'last': 'Mayewski',\n",
       "     'suffix': ''},\n",
       "    {'first': 'F', 'middle': [], 'last': 'White', 'suffix': ''}],\n",
       "   'year': 2002,\n",
       "   'venue': '',\n",
       "   'volume': '',\n",
       "   'issn': '',\n",
       "   'pages': '',\n",
       "   'other_ids': {}},\n",
       "  'BIBREF43': {'ref_id': 'b43',\n",
       "   'title': 'Climate Change Scenarios Network',\n",
       "   'authors': [],\n",
       "   'year': 2004,\n",
       "   'venue': '',\n",
       "   'volume': '',\n",
       "   'issn': '',\n",
       "   'pages': '',\n",
       "   'other_ids': {}},\n",
       "  'BIBREF44': {'ref_id': 'b44',\n",
       "   'title': 'Climate change in the Arctic: Current and future vulnerability in two Inuit communities in Canada',\n",
       "   'authors': [{'first': 'J', 'middle': ['D'], 'last': 'Ford', 'suffix': ''},\n",
       "    {'first': 'B', 'middle': [], 'last': 'Smit', 'suffix': ''},\n",
       "    {'first': 'J', 'middle': [], 'last': 'Wandel', 'suffix': ''},\n",
       "    {'first': 'M', 'middle': [], 'last': 'Allurut', 'suffix': ''},\n",
       "    {'first': 'K', 'middle': [], 'last': 'Shappa', 'suffix': ''},\n",
       "    {'first': 'K', 'middle': [], 'last': 'Qrunnut', 'suffix': ''}],\n",
       "   'year': 2008,\n",
       "   'venue': 'The Geographical Journal',\n",
       "   'volume': '174',\n",
       "   'issn': '1',\n",
       "   'pages': '45--62',\n",
       "   'other_ids': {}},\n",
       "  'BIBREF45': {'ref_id': 'b45',\n",
       "   'title': 'Arctic indigenous peoples as representations and representatives of climate change',\n",
       "   'authors': [{'first': 'M',\n",
       "     'middle': ['L'],\n",
       "     'last': 'Martello',\n",
       "     'suffix': ''}],\n",
       "   'year': 2008,\n",
       "   'venue': 'Social Studies of Science',\n",
       "   'volume': '38',\n",
       "   'issn': '3',\n",
       "   'pages': '351--76',\n",
       "   'other_ids': {}},\n",
       "  'BIBREF46': {'ref_id': 'b46',\n",
       "   'title': 'From Impacts to Adaptation: Canada in a Changing Climate',\n",
       "   'authors': [{'first': 'C', 'middle': [], 'last': 'Furgal', 'suffix': ''},\n",
       "    {'first': 'T', 'middle': [], 'last': 'Prowse', 'suffix': ''},\n",
       "    {'first': 'D',\n",
       "     'middle': [],\n",
       "     'last': 'Northern Canada In ; Lemmen',\n",
       "     'suffix': ''},\n",
       "    {'first': 'F', 'middle': [], 'last': 'Warren', 'suffix': ''},\n",
       "    {'first': 'E', 'middle': [], 'last': 'Bush', 'suffix': ''},\n",
       "    {'first': 'J', 'middle': [], 'last': 'Lacroix', 'suffix': ''}],\n",
       "   'year': 2007,\n",
       "   'venue': '',\n",
       "   'volume': '',\n",
       "   'issn': '',\n",
       "   'pages': '',\n",
       "   'other_ids': {}},\n",
       "  'BIBREF47': {'ref_id': 'b47',\n",
       "   'title': 'Assessing Inuit vulnerability to sea ice change in Igloolik',\n",
       "   'authors': [{'first': 'G', 'middle': [], 'last': 'Laidler', 'suffix': ''},\n",
       "    {'first': 'J', 'middle': [], 'last': 'Ford', 'suffix': ''},\n",
       "    {'first': 'W', 'middle': ['A'], 'last': 'Gough', 'suffix': ''},\n",
       "    {'first': 'T', 'middle': [], 'last': 'Ikummaq', 'suffix': ''},\n",
       "    {'first': 'A', 'middle': [], 'last': 'Gagnon', 'suffix': ''},\n",
       "    {'first': 'S', 'middle': [], 'last': 'Kowal', 'suffix': ''}],\n",
       "   'year': None,\n",
       "   'venue': '',\n",
       "   'volume': '',\n",
       "   'issn': '',\n",
       "   'pages': '',\n",
       "   'other_ids': {}},\n",
       "  'BIBREF48': {'ref_id': 'b48',\n",
       "   'title': 'Community collaboration and environmental change research in the Canadian Arctic',\n",
       "   'authors': [{'first': 'T', 'middle': [], 'last': 'Pearce', 'suffix': ''},\n",
       "    {'first': 'J', 'middle': [], 'last': 'Ford', 'suffix': ''}],\n",
       "   'year': None,\n",
       "   'venue': '',\n",
       "   'volume': '',\n",
       "   'issn': '',\n",
       "   'pages': '',\n",
       "   'other_ids': {}},\n",
       "  'BIBREF49': {'ref_id': 'b49',\n",
       "   'title': 'The potential impact of climate change on annual and seasonal mortality for three cities in Quebec',\n",
       "   'authors': [{'first': 'B', 'middle': [], 'last': 'Doyon', 'suffix': ''},\n",
       "    {'first': 'D', 'middle': [], 'last': 'Belanger', 'suffix': ''},\n",
       "    {'first': 'P', 'middle': [], 'last': 'Gosselin', 'suffix': ''}],\n",
       "   'year': 2008,\n",
       "   'venue': 'Canada. International Journal of Health Geographics',\n",
       "   'volume': '7',\n",
       "   'issn': '',\n",
       "   'pages': '',\n",
       "   'other_ids': {}},\n",
       "  'BIBREF50': {'ref_id': 'b50',\n",
       "   'title': 'Heat-waves: impacts and response. Copenhagen: World Health Organization',\n",
       "   'authors': [{'first': 'C', 'middle': [], 'last': 'Koppe', 'suffix': ''},\n",
       "    {'first': 'G', 'middle': [], 'last': 'Jendritzky', 'suffix': ''},\n",
       "    {'first': 'R', 'middle': [], 'last': 'Kovats', 'suffix': ''},\n",
       "    {'first': 'B', 'middle': [], 'last': 'Menne', 'suffix': ''}],\n",
       "   'year': 2004,\n",
       "   'venue': '',\n",
       "   'volume': '',\n",
       "   'issn': '',\n",
       "   'pages': '',\n",
       "   'other_ids': {}},\n",
       "  'BIBREF51': {'ref_id': 'b51',\n",
       "   'title': 'The July 1995 heat wave in the Midwest: a climatic perspective and critical weather factors',\n",
       "   'authors': [{'first': 'K', 'middle': [], 'last': 'Kunkel', 'suffix': ''},\n",
       "    {'first': 'S', 'middle': [], 'last': 'Changnon', 'suffix': ''},\n",
       "    {'first': 'B', 'middle': [], 'last': 'Reinke', 'suffix': ''},\n",
       "    {'first': 'R', 'middle': [], 'last': 'Arritt', 'suffix': ''}],\n",
       "   'year': 1996,\n",
       "   'venue': 'Bulletin of the American Meteorological Society',\n",
       "   'volume': '77',\n",
       "   'issn': '7',\n",
       "   'pages': '1507--1525',\n",
       "   'other_ids': {}},\n",
       "  'BIBREF52': {'ref_id': 'b52',\n",
       "   'title': 'Vulnerable populations: lessons learnt from the summer 2003 heat waves in Europe',\n",
       "   'authors': [{'first': 'G', 'middle': [], 'last': 'Bucker', 'suffix': ''}],\n",
       "   'year': 2005,\n",
       "   'venue': 'EuroSurveiallance',\n",
       "   'volume': '10',\n",
       "   'issn': '7',\n",
       "   'pages': '',\n",
       "   'other_ids': {}},\n",
       "  'BIBREF53': {'ref_id': 'b53',\n",
       "   'title': 'Effects of extremely hot days on people older than 65 years in Seville (Spain) from 1986 to1997',\n",
       "   'authors': [{'first': 'J', 'middle': [], 'last': 'Diaz', 'suffix': ''},\n",
       "    {'first': 'R', 'middle': [], 'last': 'Garcia', 'suffix': ''},\n",
       "    {'first': 'Castro', 'middle': [], 'last': 'Fd', 'suffix': ''},\n",
       "    {'first': 'E', 'middle': [], 'last': 'Hernandez', 'suffix': ''},\n",
       "    {'first': 'C', 'middle': [], 'last': 'Lopez', 'suffix': ''},\n",
       "    {'first': 'A', 'middle': [], 'last': 'Otero', 'suffix': ''}],\n",
       "   'year': 2002,\n",
       "   'venue': 'International Journal of Biometeorology',\n",
       "   'volume': '',\n",
       "   'issn': '',\n",
       "   'pages': '463145--463194',\n",
       "   'other_ids': {}},\n",
       "  'BIBREF54': {'ref_id': 'b54',\n",
       "   'title': 'Climate change and health in Canadian municipalities',\n",
       "   'authors': [{'first': 'L',\n",
       "     'middle': [],\n",
       "     'last': 'Berrang-Ford',\n",
       "     'suffix': ''},\n",
       "    {'first': 'D', 'middle': [], 'last': 'Noble', 'suffix': ''}],\n",
       "   'year': 2007,\n",
       "   'venue': 'Environmental Health Review',\n",
       "   'volume': '50',\n",
       "   'issn': '4',\n",
       "   'pages': '109--124',\n",
       "   'other_ids': {}},\n",
       "  'BIBREF55': {'ref_id': 'b55',\n",
       "   'title': 'Public health implications of climate change',\n",
       "   'authors': [{'first': 'D', 'middle': [], 'last': 'Charron', 'suffix': ''},\n",
       "    {'first': 'D', 'middle': [], 'last': 'Noble', 'suffix': ''}],\n",
       "   'year': 2006,\n",
       "   'venue': 'Municipal World',\n",
       "   'volume': '',\n",
       "   'issn': '',\n",
       "   'pages': '45--51',\n",
       "   'other_ids': {}},\n",
       "  'BIBREF56': {'ref_id': 'b56',\n",
       "   'title': 'Differential and combined impacts of winter and summer weather and air pollution due to global warming on human mortality in south-central Canada. Ottawa: Health Canada',\n",
       "   'authors': [{'first': 'M', 'middle': [], 'last': 'Campbell', 'suffix': ''},\n",
       "    {'first': 'C', 'middle': [], 'last': 'Cheng', 'suffix': ''}],\n",
       "   'year': 2005,\n",
       "   'venue': 'HPRP File',\n",
       "   'volume': '',\n",
       "   'issn': '',\n",
       "   'pages': '',\n",
       "   'other_ids': {}},\n",
       "  'BIBREF57': {'ref_id': 'b57',\n",
       "   'title': 'Flooding, vulnerability and coping strategies: local responses to a global threat',\n",
       "   'authors': [{'first': 'R', 'middle': [], 'last': 'Few', 'suffix': ''}],\n",
       "   'year': 2003,\n",
       "   'venue': 'Progress in Development Studies',\n",
       "   'volume': '3',\n",
       "   'issn': '1',\n",
       "   'pages': '43--58',\n",
       "   'other_ids': {}},\n",
       "  'BIBREF58': {'ref_id': 'b58',\n",
       "   'title': 'Climate change and waterborne and vector-borne disease',\n",
       "   'authors': [{'first': 'P', 'middle': [], 'last': 'Hunter', 'suffix': ''}],\n",
       "   'year': 2003,\n",
       "   'venue': 'Journal of Applied Microbiology',\n",
       "   'volume': '94',\n",
       "   'issn': '',\n",
       "   'pages': '37--46',\n",
       "   'other_ids': {}},\n",
       "  'BIBREF59': {'ref_id': 'b59',\n",
       "   'title': 'The role of high impact weather in waterborne disease outbreaks in Canada',\n",
       "   'authors': [{'first': 'M', 'middle': [], 'last': 'Thomas', 'suffix': ''},\n",
       "    {'first': 'D', 'middle': [], 'last': 'Charron', 'suffix': ''},\n",
       "    {'first': 'D', 'middle': [], 'last': 'Waltner-Toews', 'suffix': ''},\n",
       "    {'first': 'A', 'middle': [], 'last': 'Maarouf', 'suffix': ''},\n",
       "    {'first': 'J-I', 'middle': [], 'last': 'Holt', 'suffix': ''}],\n",
       "   'year': 2006,\n",
       "   'venue': 'Journal Environmental Health Research',\n",
       "   'volume': '6',\n",
       "   'issn': '',\n",
       "   'pages': '',\n",
       "   'other_ids': {}},\n",
       "  'BIBREF60': {'ref_id': 'b60',\n",
       "   'title': 'Waterborne outbreak of gastroenteritis associated with a contaminated municipal water supply',\n",
       "   'authors': [],\n",
       "   'year': 2000,\n",
       "   'venue': 'Canada Communicable Disease Report',\n",
       "   'volume': '26',\n",
       "   'issn': '20',\n",
       "   'pages': '',\n",
       "   'other_ids': {}},\n",
       "  'BIBREF61': {'ref_id': 'b61',\n",
       "   'title': 'Vulnerability to climate change in the Arctic: A case study from Arctic Bay',\n",
       "   'authors': [{'first': 'J', 'middle': ['D'], 'last': 'Ford', 'suffix': ''},\n",
       "    {'first': 'B', 'middle': [], 'last': 'Smit', 'suffix': ''},\n",
       "    {'first': 'J', 'middle': [], 'last': 'Wandel', 'suffix': ''}],\n",
       "   'year': 2006,\n",
       "   'venue': 'Canada. Global Environmental Change',\n",
       "   'volume': '16',\n",
       "   'issn': '2',\n",
       "   'pages': '145--60',\n",
       "   'other_ids': {}},\n",
       "  'BIBREF62': {'ref_id': 'b62',\n",
       "   'title': 'Climate change and malaria in Canada: a systems approach',\n",
       "   'authors': [{'first': 'L',\n",
       "     'middle': [],\n",
       "     'last': 'Berrang-Ford',\n",
       "     'suffix': ''},\n",
       "    {'first': 'J', 'middle': [], 'last': 'Maclean', 'suffix': ''},\n",
       "    {'first': 'T', 'middle': [], 'last': 'Gyorkos', 'suffix': ''},\n",
       "    {'first': 'J', 'middle': [], 'last': 'Ford', 'suffix': ''},\n",
       "    {'first': 'N', 'middle': [], 'last': 'Ogden', 'suffix': ''}],\n",
       "   'year': 2009,\n",
       "   'venue': 'Interdisciplinary Perspectives on Infectious Diseases',\n",
       "   'volume': '',\n",
       "   'issn': '',\n",
       "   'pages': '',\n",
       "   'other_ids': {}},\n",
       "  'BIBREF63': {'ref_id': 'b63',\n",
       "   'title': 'Climate change effects on plague and tularemia in the United States. Vector-borne and Zoonotic Diseases',\n",
       "   'authors': [{'first': 'Y', 'middle': [], 'last': 'Nakazawa', 'suffix': ''},\n",
       "    {'first': 'R', 'middle': [], 'last': 'Williams', 'suffix': ''},\n",
       "    {'first': 'A', 'middle': [], 'last': 'Peterson', 'suffix': ''},\n",
       "    {'first': 'P', 'middle': [], 'last': 'Mead', 'suffix': ''},\n",
       "    {'first': 'E', 'middle': [], 'last': 'Staples', 'suffix': ''},\n",
       "    {'first': 'K', 'middle': [], 'last': 'Gage', 'suffix': ''}],\n",
       "   'year': 2007,\n",
       "   'venue': '',\n",
       "   'volume': '7',\n",
       "   'issn': '',\n",
       "   'pages': '529--569',\n",
       "   'other_ids': {}},\n",
       "  'BIBREF64': {'ref_id': 'b64',\n",
       "   'title': 'Climate change and the potential for range expansion of the Lyme disease vector Ixodes scapularis in Canada',\n",
       "   'authors': [{'first': 'N', 'middle': ['H'], 'last': 'Ogden', 'suffix': ''},\n",
       "    {'first': 'A', 'middle': [], 'last': 'Maarouf', 'suffix': ''},\n",
       "    {'first': 'I', 'middle': ['K'], 'last': 'Barker', 'suffix': ''},\n",
       "    {'first': 'M', 'middle': [], 'last': 'Bigras-Poulin', 'suffix': ''},\n",
       "    {'first': 'L', 'middle': ['R'], 'last': 'Lindsay', 'suffix': ''},\n",
       "    {'first': 'M', 'middle': ['G'], 'last': 'Morshed', 'suffix': ''}],\n",
       "   'year': 2006,\n",
       "   'venue': 'International Journal for Parasitology',\n",
       "   'volume': '36',\n",
       "   'issn': '1',\n",
       "   'pages': '63--70',\n",
       "   'other_ids': {}},\n",
       "  'BIBREF65': {'ref_id': 'b65',\n",
       "   'title': 'Climate change and infectious diseases in North America: the road ahead',\n",
       "   'authors': [{'first': 'A', 'middle': [], 'last': 'Greer', 'suffix': ''},\n",
       "    {'first': 'V', 'middle': [], 'last': 'Ng', 'suffix': ''},\n",
       "    {'first': 'D', 'middle': [], 'last': 'Fisman', 'suffix': ''}],\n",
       "   'year': 2008,\n",
       "   'venue': 'Canadian Medical Association Journal',\n",
       "   'volume': '178',\n",
       "   'issn': '6',\n",
       "   'pages': '715--737',\n",
       "   'other_ids': {}},\n",
       "  'BIBREF66': {'ref_id': 'b66',\n",
       "   'title': 'Vector-borne diseases, models and global change',\n",
       "   'authors': [{'first': 'D', 'middle': ['J'], 'last': 'Rogers', 'suffix': ''},\n",
       "    {'first': 'M', 'middle': ['J'], 'last': 'Packer', 'suffix': ''}],\n",
       "   'year': 1993,\n",
       "   'venue': 'The Lancet',\n",
       "   'volume': '342',\n",
       "   'issn': '',\n",
       "   'pages': '1282--1286',\n",
       "   'other_ids': {}},\n",
       "  'BIBREF67': {'ref_id': 'b67',\n",
       "   'title': 'Potential impacts of global warming and climate change on the epidemiology of zoonotic diseases in Canada',\n",
       "   'authors': [{'first': 'D', 'middle': [], 'last': 'Charron', 'suffix': ''}],\n",
       "   'year': 2002,\n",
       "   'venue': 'Can J Public Health',\n",
       "   'volume': '93',\n",
       "   'issn': '5',\n",
       "   'pages': '334--369',\n",
       "   'other_ids': {}},\n",
       "  'BIBREF68': {'ref_id': 'b68',\n",
       "   'title': 'Investigation of ground level and remotesensed data for habitat classification and prediction of survival of Ixodes scapularis in habitats of southeastern Canada',\n",
       "   'authors': [{'first': 'N', 'middle': ['H'], 'last': 'Ogden', 'suffix': ''},\n",
       "    {'first': 'I', 'middle': ['K'], 'last': 'Barker', 'suffix': ''},\n",
       "    {'first': 'G', 'middle': [], 'last': 'Beauchamp', 'suffix': ''},\n",
       "    {'first': 'S', 'middle': [], 'last': 'Brazeau', 'suffix': ''},\n",
       "    {'first': 'D', 'middle': ['F'], 'last': 'Charron', 'suffix': ''},\n",
       "    {'first': 'A', 'middle': [], 'last': 'Maarouf', 'suffix': ''}],\n",
       "   'year': 2006,\n",
       "   'venue': 'J Med Entomol',\n",
       "   'volume': '43',\n",
       "   'issn': '2',\n",
       "   'pages': '403--417',\n",
       "   'other_ids': {}},\n",
       "  'BIBREF69': {'ref_id': 'b69',\n",
       "   'title': 'Vector seasonality, host infection dynamics and fitness of pathogens transmitted by the tick Ixodes scapularis',\n",
       "   'authors': [{'first': 'N', 'middle': ['H'], 'last': 'Ogden', 'suffix': ''},\n",
       "    {'first': 'M', 'middle': [], 'last': 'Bigras-Poulin', 'suffix': ''},\n",
       "    {'first': 'O', 'middle': [], 'last': '&apos;callaghan', 'suffix': ''},\n",
       "    {'first': 'C', 'middle': ['J'], 'last': 'Barker', 'suffix': ''},\n",
       "    {'first': 'I', 'middle': ['K'], 'last': 'Kurtenbach', 'suffix': ''},\n",
       "    {'first': 'K', 'middle': [], 'last': 'Lindsay', 'suffix': ''},\n",
       "    {'first': 'L', 'middle': ['R'], 'last': '', 'suffix': ''}],\n",
       "   'year': 2007,\n",
       "   'venue': 'Parasitology',\n",
       "   'volume': '134',\n",
       "   'issn': '2',\n",
       "   'pages': '209--236',\n",
       "   'other_ids': {}},\n",
       "  'BIBREF70': {'ref_id': 'b70',\n",
       "   'title': 'Ixodes scapularis ticks collected by passive surveillance in Canada: analysis of geographic distribution and infection with Lyme borreliosis agent Borrelia burgdorferi',\n",
       "   'authors': [{'first': 'N', 'middle': ['H'], 'last': 'Ogden', 'suffix': ''},\n",
       "    {'first': 'L', 'middle': [], 'last': 'Trudel', 'suffix': ''},\n",
       "    {'first': 'H', 'middle': [], 'last': 'Artsob', 'suffix': ''},\n",
       "    {'first': 'I', 'middle': ['K'], 'last': 'Barker', 'suffix': ''},\n",
       "    {'first': 'G', 'middle': [], 'last': 'Beauchamp', 'suffix': ''},\n",
       "    {'first': 'D', 'middle': ['F'], 'last': 'Charron', 'suffix': ''}],\n",
       "   'year': 2006,\n",
       "   'venue': 'J Med Entomol',\n",
       "   'volume': '43',\n",
       "   'issn': '3',\n",
       "   'pages': '600--609',\n",
       "   'other_ids': {}},\n",
       "  'BIBREF71': {'ref_id': 'b71',\n",
       "   'title': 'West Nile Virus and the Climate',\n",
       "   'authors': [{'first': 'P', 'middle': [], 'last': 'Epstein', 'suffix': ''}],\n",
       "   'year': 2001,\n",
       "   'venue': 'Journal of Urban Health',\n",
       "   'volume': '78',\n",
       "   'issn': '2',\n",
       "   'pages': '367--71',\n",
       "   'other_ids': {}},\n",
       "  'BIBREF72': {'ref_id': 'b72',\n",
       "   'title': 'Modeling the impact of variable climatic facotrs on the crossover of Culex restauns and Cluex pipens (Diptera: culicidae), vectors of West NIle virus in Illinois',\n",
       "   'authors': [{'first': 'K', 'middle': ['E'], 'last': 'Kunkel', 'suffix': ''},\n",
       "    {'first': 'R', 'middle': ['J'], 'last': 'Novak', 'suffix': ''},\n",
       "    {'first': 'R', 'middle': ['L'], 'last': 'Lampman', 'suffix': ''},\n",
       "    {'first': 'W', 'middle': [], 'last': 'Gu', 'suffix': ''}],\n",
       "   'year': 2006,\n",
       "   'venue': 'The American Journal of Tropical Medicine and Hygiene',\n",
       "   'volume': '74',\n",
       "   'issn': '1',\n",
       "   'pages': '168--73',\n",
       "   'other_ids': {}},\n",
       "  'BIBREF73': {'ref_id': 'b73',\n",
       "   'title': 'Mountain pine beetle and forest carbon feedback to climate change',\n",
       "   'authors': [{'first': 'W', 'middle': ['A'], 'last': 'Kurz', 'suffix': ''},\n",
       "    {'first': 'C', 'middle': ['C'], 'last': 'Dymond', 'suffix': ''},\n",
       "    {'first': 'G', 'middle': [], 'last': 'Stinson', 'suffix': ''},\n",
       "    {'first': 'G', 'middle': ['J'], 'last': 'Rampley', 'suffix': ''},\n",
       "    {'first': 'E', 'middle': ['T'], 'last': 'Neilson', 'suffix': ''},\n",
       "    {'first': 'A', 'middle': ['L'], 'last': 'Carroll', 'suffix': ''}],\n",
       "   'year': 2008,\n",
       "   'venue': 'Nature',\n",
       "   'volume': '452',\n",
       "   'issn': '7190',\n",
       "   'pages': '987--90',\n",
       "   'other_ids': {}},\n",
       "  'BIBREF74': {'ref_id': 'b74',\n",
       "   'title': 'Forest health conditions in North America',\n",
       "   'authors': [{'first': 'B', 'middle': [], 'last': 'Tkacz', 'suffix': ''},\n",
       "    {'first': 'B', 'middle': [], 'last': 'Moody', 'suffix': ''},\n",
       "    {'first': 'J', 'middle': ['V'], 'last': 'Castillo', 'suffix': ''},\n",
       "    {'first': 'M', 'middle': ['E'], 'last': 'Fenn', 'suffix': ''}],\n",
       "   'year': 2008,\n",
       "   'venue': 'Environmental Pollution',\n",
       "   'volume': '155',\n",
       "   'issn': '3',\n",
       "   'pages': '409--434',\n",
       "   'other_ids': {}},\n",
       "  'BIBREF75': {'ref_id': 'b75',\n",
       "   'title': 'Cross-scale drivers of natural disturbances prone to anthropogenic amplification: the dynamics of bark beetle eruptions',\n",
       "   'authors': [{'first': 'K', 'middle': [], 'last': 'Raffia', 'suffix': ''},\n",
       "    {'first': 'B', 'middle': [], 'last': 'Aukema', 'suffix': ''},\n",
       "    {'first': 'B', 'middle': [], 'last': 'Bentz', 'suffix': ''},\n",
       "    {'first': 'A', 'middle': [], 'last': 'Carroll', 'suffix': ''},\n",
       "    {'first': 'J', 'middle': [], 'last': 'Hicke', 'suffix': ''},\n",
       "    {'first': 'M', 'middle': [], 'last': 'Turner', 'suffix': ''}],\n",
       "   'year': 2008,\n",
       "   'venue': 'Bioscience',\n",
       "   'volume': '58',\n",
       "   'issn': '6',\n",
       "   'pages': '501--518',\n",
       "   'other_ids': {}},\n",
       "  'BIBREF76': {'ref_id': 'b76',\n",
       "   'title': 'Effects of climate change on range expansion by the mountain pin beetle in British Columbia',\n",
       "   'authors': [{'first': 'A', 'middle': [], 'last': 'Carroll', 'suffix': ''},\n",
       "    {'first': 'S', 'middle': [], 'last': 'Taylor', 'suffix': ''},\n",
       "    {'first': 'J', 'middle': [], 'last': 'Regniere', 'suffix': ''},\n",
       "    {'first': 'L', 'middle': [], 'last': 'Sfranyik', 'suffix': ''}],\n",
       "   'year': 2003,\n",
       "   'venue': 'Proceedings of the Mountain Pine Beetle Symposium: Challenges and Solutions',\n",
       "   'volume': '',\n",
       "   'issn': '',\n",
       "   'pages': '',\n",
       "   'other_ids': {}},\n",
       "  'BIBREF77': {'ref_id': 'b77',\n",
       "   'title': 'Climate Change Impacts and Adaptation: A Canadian Perspective',\n",
       "   'authors': [{'first': '', 'middle': [], 'last': 'Nr-Can', 'suffix': ''}],\n",
       "   'year': 2007,\n",
       "   'venue': '',\n",
       "   'volume': '',\n",
       "   'issn': '',\n",
       "   'pages': '',\n",
       "   'other_ids': {}},\n",
       "  'BIBREF78': {'ref_id': 'b78',\n",
       "   'title': 'Assessing public health risk due to extremely high temperature events: climate and social parameters',\n",
       "   'authors': [{'first': 'L', 'middle': [], 'last': 'Vescovi', 'suffix': ''},\n",
       "    {'first': 'M', 'middle': [], 'last': 'Rebetez', 'suffix': ''},\n",
       "    {'first': 'F', 'middle': [], 'last': 'Rong', 'suffix': ''}],\n",
       "   'year': 2005,\n",
       "   'venue': 'Climate Research',\n",
       "   'volume': '30',\n",
       "   'issn': '1',\n",
       "   'pages': '71--79',\n",
       "   'other_ids': {}},\n",
       "  'BIBREF79': {'ref_id': 'b79',\n",
       "   'title': 'Community-Based Adaptation to the Health Impacts of Climate Change',\n",
       "   'authors': [{'first': 'K', 'middle': ['L'], 'last': 'Ebi', 'suffix': ''},\n",
       "    {'first': 'J', 'middle': ['C'], 'last': 'Semenza', 'suffix': ''}],\n",
       "   'year': 2008,\n",
       "   'venue': 'American Journal of Preventive Medicine',\n",
       "   'volume': '35',\n",
       "   'issn': '5',\n",
       "   'pages': '501--508',\n",
       "   'other_ids': {}},\n",
       "  'BIBREF80': {'ref_id': 'b80',\n",
       "   'title': 'Building Human Resilience The Role of Public Health Preparedness and Response As an Adaptation to Climate Change',\n",
       "   'authors': [{'first': 'M', 'middle': ['E'], 'last': 'Keim', 'suffix': ''}],\n",
       "   'year': 2008,\n",
       "   'venue': 'American Journal of Preventive Medicine',\n",
       "   'volume': '35',\n",
       "   'issn': '5',\n",
       "   'pages': '508--524',\n",
       "   'other_ids': {}},\n",
       "  'BIBREF81': {'ref_id': 'b81',\n",
       "   'title': 'Climate Change and the Health of the Public',\n",
       "   'authors': [{'first': 'H', 'middle': [], 'last': 'Frumkin', 'suffix': ''},\n",
       "    {'first': 'A', 'middle': ['J'], 'last': 'Mcmichael', 'suffix': ''},\n",
       "    {'first': 'J', 'middle': ['J'], 'last': 'Hess', 'suffix': ''}],\n",
       "   'year': 2008,\n",
       "   'venue': 'American Journal of Preventive Medicine',\n",
       "   'volume': '35',\n",
       "   'issn': '5',\n",
       "   'pages': '401--403',\n",
       "   'other_ids': {}},\n",
       "  'BIBREF82': {'ref_id': 'b82',\n",
       "   'title': 'Climate change, health, and vulnerability in Canadian Northern Aboriginal communities',\n",
       "   'authors': [{'first': 'C', 'middle': [], 'last': 'Furgal', 'suffix': ''},\n",
       "    {'first': 'J', 'middle': [], 'last': 'Seguin', 'suffix': ''}],\n",
       "   'year': 2006,\n",
       "   'venue': 'Environmental Health Perspectives',\n",
       "   'volume': '114',\n",
       "   'issn': '',\n",
       "   'pages': '1964--70',\n",
       "   'other_ids': {}},\n",
       "  'BIBREF83': {'ref_id': 'b83',\n",
       "   'title': 'Drinking water and potential threats to human health in Nunavik: Adaptation strategies under climate change conditions',\n",
       "   'authors': [{'first': 'D', 'middle': [], 'last': 'Martin', 'suffix': ''},\n",
       "    {'first': 'D', 'middle': [], 'last': 'Belanger', 'suffix': ''},\n",
       "    {'first': 'P', 'middle': [], 'last': 'Gosselin', 'suffix': ''},\n",
       "    {'first': 'J', 'middle': [], 'last': 'Brazeau', 'suffix': ''},\n",
       "    {'first': 'C', 'middle': [], 'last': 'Furgal', 'suffix': ''},\n",
       "    {'first': 'S', 'middle': [], 'last': 'Dery', 'suffix': ''}],\n",
       "   'year': 2007,\n",
       "   'venue': 'Arctic',\n",
       "   'volume': '60',\n",
       "   'issn': '2',\n",
       "   'pages': '195--202',\n",
       "   'other_ids': {}},\n",
       "  'BIBREF84': {'ref_id': 'b84',\n",
       "   'title': 'Global climate change: time to mainstream health risk and their prevention on the medical research and policy agenda',\n",
       "   'authors': [{'first': 'S', 'middle': [], 'last': 'Tong', 'suffix': ''},\n",
       "    {'first': 'J', 'middle': [], 'last': 'Mackenzie', 'suffix': ''},\n",
       "    {'first': 'A', 'middle': [], 'last': 'Pitman', 'suffix': ''},\n",
       "    {'first': 'G', 'middle': [], 'last': 'Fitzgerald', 'suffix': ''},\n",
       "    {'first': 'N', 'middle': [], 'last': 'Nicholls', 'suffix': ''},\n",
       "    {'first': 'L', 'middle': [], 'last': 'Selvey', 'suffix': ''}],\n",
       "   'year': 2008,\n",
       "   'venue': 'Internal Medicine Journal',\n",
       "   'volume': '386',\n",
       "   'issn': '',\n",
       "   'pages': '445--492',\n",
       "   'other_ids': {}},\n",
       "  'BIBREF85': {'ref_id': 'b85',\n",
       "   'title': 'Global cliamte change: implications for international public health policy',\n",
       "   'authors': [{'first': 'D',\n",
       "     'middle': [],\n",
       "     'last': 'Campbell-Lendrum',\n",
       "     'suffix': ''},\n",
       "    {'first': 'C', 'middle': [], 'last': 'Corvalan', 'suffix': ''},\n",
       "    {'first': 'M', 'middle': [], 'last': 'Neira', 'suffix': ''}],\n",
       "   'year': 2007,\n",
       "   'venue': 'Bull World Health Organ',\n",
       "   'volume': '85',\n",
       "   'issn': '3',\n",
       "   'pages': '161--244',\n",
       "   'other_ids': {}},\n",
       "  'BIBREF86': {'ref_id': 'b86',\n",
       "   'title': 'Reducing vulnerability to climate change in the Arctic: the case of Nunavut',\n",
       "   'authors': [{'first': 'J', 'middle': ['D'], 'last': 'Ford', 'suffix': ''},\n",
       "    {'first': 'T', 'middle': [], 'last': 'Pearce', 'suffix': ''},\n",
       "    {'first': 'B', 'middle': [], 'last': 'Smit', 'suffix': ''},\n",
       "    {'first': 'J', 'middle': [], 'last': 'Wandel', 'suffix': ''},\n",
       "    {'first': 'M', 'middle': [], 'last': 'Allurut', 'suffix': ''},\n",
       "    {'first': 'K', 'middle': [], 'last': 'Shappa', 'suffix': ''}],\n",
       "   'year': 2007,\n",
       "   'venue': 'Canada. Arctic',\n",
       "   'volume': '60',\n",
       "   'issn': '2',\n",
       "   'pages': '150--66',\n",
       "   'other_ids': {}},\n",
       "  'BIBREF87': {'ref_id': 'b87',\n",
       "   'title': 'Climate change 2007: Lifting the taboo on adaptation',\n",
       "   'authors': [{'first': 'R', 'middle': ['A'], 'last': 'Pielke', 'suffix': ''},\n",
       "    {'first': 'G', 'middle': [], 'last': 'Prins', 'suffix': ''},\n",
       "    {'first': 'S', 'middle': [], 'last': 'Rayner', 'suffix': ''},\n",
       "    {'first': 'D', 'middle': [], 'last': 'Sarewitz', 'suffix': ''}],\n",
       "   'year': 2007,\n",
       "   'venue': 'Nature',\n",
       "   'volume': '445',\n",
       "   'issn': '',\n",
       "   'pages': '597--605',\n",
       "   'other_ids': {}},\n",
       "  'BIBREF88': {'ref_id': 'b88',\n",
       "   'title': 'Adaptation, adaptive capacity, and vulnerability',\n",
       "   'authors': [{'first': 'B', 'middle': [], 'last': 'Smit', 'suffix': ''},\n",
       "    {'first': 'J', 'middle': [], 'last': 'Wandel', 'suffix': ''}],\n",
       "   'year': 2006,\n",
       "   'venue': 'Global Environmental Change',\n",
       "   'volume': '16',\n",
       "   'issn': '',\n",
       "   'pages': '282--92',\n",
       "   'other_ids': {}},\n",
       "  'BIBREF89': {'ref_id': 'b89',\n",
       "   'title': \"Adapting infrastructure to climate change in Canada's cities and communities: a literature review\",\n",
       "   'authors': [],\n",
       "   'year': 2006,\n",
       "   'venue': '',\n",
       "   'volume': '',\n",
       "   'issn': '',\n",
       "   'pages': '',\n",
       "   'other_ids': {}},\n",
       "  'BIBREF90': {'ref_id': 'b90',\n",
       "   'title': 'Natural Resources Canada Climate Change Impacts and Adaptation Directorate',\n",
       "   'authors': [],\n",
       "   'year': 2006,\n",
       "   'venue': '',\n",
       "   'volume': '',\n",
       "   'issn': '',\n",
       "   'pages': '',\n",
       "   'other_ids': {}},\n",
       "  'BIBREF91': {'ref_id': 'b91',\n",
       "   'title': 'From adaptation to adaptive capacity and vulnerability reduction',\n",
       "   'authors': [{'first': 'B', 'middle': [], 'last': 'Smit', 'suffix': ''},\n",
       "    {'first': 'O', 'middle': [], 'last': 'Pilifosova', 'suffix': ''}],\n",
       "   'year': 2003,\n",
       "   'venue': 'Climate change, adaptive capacity, and development',\n",
       "   'volume': '',\n",
       "   'issn': '',\n",
       "   'pages': '',\n",
       "   'other_ids': {}},\n",
       "  'BIBREF92': {'ref_id': 'b92',\n",
       "   'title': 'The economic impact of quarantine: SARS in Toronto as a case study',\n",
       "   'authors': [{'first': 'A', 'middle': [], 'last': 'Gupta', 'suffix': ''},\n",
       "    {'first': 'C', 'middle': [], 'last': 'Moyer', 'suffix': ''},\n",
       "    {'first': 'D', 'middle': [], 'last': 'Sterm', 'suffix': ''}],\n",
       "   'year': 2004,\n",
       "   'venue': 'Journal of Infection',\n",
       "   'volume': '50',\n",
       "   'issn': '5',\n",
       "   'pages': '386--93',\n",
       "   'other_ids': {}},\n",
       "  'BIBREF93': {'ref_id': 'b93',\n",
       "   'title': 'Investigation of a nosocomial outbreak of severe acute respiratory syndrome (SARS) in Toronoto, Canada',\n",
       "   'authors': [{'first': 'M', 'middle': [], 'last': 'Varia', 'suffix': ''},\n",
       "    {'first': 'S', 'middle': [], 'last': 'Wilson', 'suffix': ''},\n",
       "    {'first': 'S', 'middle': [], 'last': 'Sarwal', 'suffix': ''},\n",
       "    {'first': 'A', 'middle': [], 'last': 'Mcgeer', 'suffix': ''},\n",
       "    {'first': 'E', 'middle': [], 'last': 'Gournis', 'suffix': ''},\n",
       "    {'first': 'E', 'middle': [], 'last': 'Galanis', 'suffix': ''}],\n",
       "   'year': 2003,\n",
       "   'venue': 'Canadian Medical Association Journal',\n",
       "   'volume': '169',\n",
       "   'issn': '4',\n",
       "   'pages': '285--92',\n",
       "   'other_ids': {}},\n",
       "  'BIBREF94': {'ref_id': 'b94',\n",
       "   'title': 'Malaria Surveillance --United States',\n",
       "   'authors': [{'first': 'R', 'middle': [], 'last': 'Newman', 'suffix': ''},\n",
       "    {'first': 'A', 'middle': [], 'last': 'Barber', 'suffix': ''},\n",
       "    {'first': 'J', 'middle': [], 'last': 'Roberts', 'suffix': ''},\n",
       "    {'first': 'T', 'middle': [], 'last': 'Holtz', 'suffix': ''},\n",
       "    {'first': 'R', 'middle': [], 'last': 'Steketee', 'suffix': ''},\n",
       "    {'first': 'M', 'middle': [], 'last': 'Parise', 'suffix': ''}],\n",
       "   'year': 1999,\n",
       "   'venue': 'MMWR',\n",
       "   'volume': '51',\n",
       "   'issn': 'SS01',\n",
       "   'pages': '15--28',\n",
       "   'other_ids': {}},\n",
       "  'BIBREF95': {'ref_id': 'b95',\n",
       "   'title': 'West Nile virus -where did it come from and where might it go?',\n",
       "   'authors': [{'first': 'B', 'middle': [], 'last': 'Johnston', 'suffix': ''},\n",
       "    {'first': 'J', 'middle': [], 'last': 'Conly', 'suffix': ''}],\n",
       "   'year': 2000,\n",
       "   'venue': 'Canadian Journal of Infectious Diseases',\n",
       "   'volume': '11',\n",
       "   'issn': '4',\n",
       "   'pages': '175--78',\n",
       "   'other_ids': {}},\n",
       "  'BIBREF96': {'ref_id': 'b96',\n",
       "   'title': 'Emerging and re-emerging infectious diseases',\n",
       "   'authors': [{'first': 'H', 'middle': [], 'last': 'Feldmann', 'suffix': ''},\n",
       "    {'first': 'M', 'middle': [], 'last': 'Czub', 'suffix': ''},\n",
       "    {'first': 'S', 'middle': [], 'last': 'Jones', 'suffix': ''},\n",
       "    {'first': 'D', 'middle': [], 'last': 'Dick', 'suffix': ''},\n",
       "    {'first': 'M', 'middle': [], 'last': 'Garbutt', 'suffix': ''},\n",
       "    {'first': 'A', 'middle': [], 'last': 'Grolla', 'suffix': ''}],\n",
       "   'year': 2002,\n",
       "   'venue': 'Mecial Microbiology and Immunology',\n",
       "   'volume': '191',\n",
       "   'issn': '',\n",
       "   'pages': '63--74',\n",
       "   'other_ids': {}},\n",
       "  'BIBREF97': {'ref_id': 'b97',\n",
       "   'title': 'Malaria epidemics and surveillance in Canada',\n",
       "   'authors': [{'first': 'J',\n",
       "     'middle': ['D'],\n",
       "     'last': 'Maclean',\n",
       "     'suffix': ''},\n",
       "    {'first': 'A', 'middle': ['M'], 'last': 'Demers', 'suffix': ''},\n",
       "    {'first': 'M', 'middle': [], 'last': 'Ndao', 'suffix': ''},\n",
       "    {'first': 'E', 'middle': [], 'last': 'Kokoskin', 'suffix': ''},\n",
       "    {'first': 'B', 'middle': ['J'], 'last': 'Ward', 'suffix': ''},\n",
       "    {'first': 'T', 'middle': ['W'], 'last': 'Gyorkos', 'suffix': ''}],\n",
       "   'year': 2004,\n",
       "   'venue': 'Emerging Infect Dis',\n",
       "   'volume': '10',\n",
       "   'issn': '7',\n",
       "   'pages': '1195--201',\n",
       "   'other_ids': {}},\n",
       "  'BIBREF98': {'ref_id': 'b98',\n",
       "   'title': 'The El Niño Southern Oscillation and the historic malaria epidemics on the Indian subcontinent and Sri Lanka: an early warning system for future epidemics? Tropical Medicine and International Health',\n",
       "   'authors': [{'first': 'M', 'middle': [], 'last': 'Bouma', 'suffix': ''},\n",
       "    {'first': 'Kaay', 'middle': [], 'last': 'Hvd', 'suffix': ''}],\n",
       "   'year': 1996,\n",
       "   'venue': '',\n",
       "   'volume': '',\n",
       "   'issn': '',\n",
       "   'pages': '86--96',\n",
       "   'other_ids': {}},\n",
       "  'BIBREF99': {'ref_id': 'b99',\n",
       "   'title': 'Falciparum malaria and climate change in the northwest frontier province of Pakistan',\n",
       "   'authors': [{'first': 'M', 'middle': [], 'last': 'Bouma', 'suffix': ''},\n",
       "    {'first': 'C', 'middle': [], 'last': 'Dye', 'suffix': ''},\n",
       "    {'first': 'Kaay', 'middle': [], 'last': 'Hvd', 'suffix': ''}],\n",
       "   'year': 1996,\n",
       "   'venue': 'Am J Trop Med Hyg',\n",
       "   'volume': '55',\n",
       "   'issn': '2',\n",
       "   'pages': '131--138',\n",
       "   'other_ids': {}},\n",
       "  'BIBREF100': {'ref_id': 'b100',\n",
       "   'title': 'Stern Review on the Economics of Climate Change',\n",
       "   'authors': [{'first': 'N', 'middle': [], 'last': 'Stern', 'suffix': ''}],\n",
       "   'year': 2006,\n",
       "   'venue': 'HM Treasury. Available at',\n",
       "   'volume': '',\n",
       "   'issn': '',\n",
       "   'pages': '',\n",
       "   'other_ids': {}},\n",
       "  'BIBREF101': {'ref_id': 'b101',\n",
       "   'title': 'Joint CNA/CMA Position Statement on Environmentally Responsible Activity in the Health Sector.: Canadian Nurses Association (CNA) and the Canadian Medical Association (CMA)',\n",
       "   'authors': [{'first': '', 'middle': [], 'last': 'Cna/Cma', 'suffix': ''}],\n",
       "   'year': 2005,\n",
       "   'venue': '',\n",
       "   'volume': '',\n",
       "   'issn': '',\n",
       "   'pages': '',\n",
       "   'other_ids': {}},\n",
       "  'BIBREF102': {'ref_id': 'b102',\n",
       "   'title': 'World Bank. Health, Nutrition and Population (HNP) Stats',\n",
       "   'authors': [],\n",
       "   'year': 2005,\n",
       "   'venue': '',\n",
       "   'volume': '',\n",
       "   'issn': '',\n",
       "   'pages': '',\n",
       "   'other_ids': {}}},\n",
       " 'ref_entries': {'TABREF0': {'text': 'Summary of the health impacts of climate change, based on the Intergovernmental Panel on Climate Change Assessment Report Four',\n",
       "   'latex': None,\n",
       "   'type': 'table'},\n",
       "  'TABREF2': {'text': 'Health determinants affected by climate change',\n",
       "   'latex': None,\n",
       "   'type': 'table'}},\n",
       " 'back_matter': []}"
      ]
     },
     "execution_count": 304,
     "metadata": {},
     "output_type": "execute_result"
    }
   ],
   "source": [
    "articles_set['ff34c772e37156609477e7f0fa4aba793171f806']"
   ]
  },
  {
   "cell_type": "markdown",
   "metadata": {},
   "source": [
    "AIM: Trying to get the url of the missing abstracts, then get its source code, then from the source code get the url to the pdf. "
   ]
  }
 ],
 "metadata": {
  "kernelspec": {
   "display_name": "Python 3",
   "language": "python",
   "name": "python3"
  },
  "language_info": {
   "codemirror_mode": {
    "name": "ipython",
    "version": 3
   },
   "file_extension": ".py",
   "mimetype": "text/x-python",
   "name": "python",
   "nbconvert_exporter": "python",
   "pygments_lexer": "ipython3",
   "version": "3.8.2"
  }
 },
 "nbformat": 4,
 "nbformat_minor": 2
}
